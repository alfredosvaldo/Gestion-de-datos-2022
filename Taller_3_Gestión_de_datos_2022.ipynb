{
  "nbformat": 4,
  "nbformat_minor": 0,
  "metadata": {
    "colab": {
      "name": "Taller 3 Gestión de datos 2022",
      "provenance": [],
      "collapsed_sections": [],
      "include_colab_link": true
    },
    "kernelspec": {
      "name": "ir",
      "display_name": "R"
    },
    "language_info": {
      "name": "R"
    }
  },
  "cells": [
    {
      "cell_type": "markdown",
      "metadata": {
        "id": "view-in-github",
        "colab_type": "text"
      },
      "source": [
        "<a href=\"https://colab.research.google.com/github/maxigaarp/Gestion-de-datos-2022/blob/main/Taller_3_Gesti%C3%B3n_de_datos_2022.ipynb\" target=\"_parent\"><img src=\"https://colab.research.google.com/assets/colab-badge.svg\" alt=\"Open In Colab\"/></a>"
      ]
    },
    {
      "cell_type": "markdown",
      "metadata": {
        "id": "Dc46RIDrdOSd"
      },
      "source": [
        "# **Modelo relacional**\n",
        "\n",
        "\n"
      ]
    },
    {
      "cell_type": "markdown",
      "source": [
        "En la primera parte de este taller, elaboraremos un modelo entidad-relación de una base de datos para estudiantes de educación superior de Chile.\n",
        "\n",
        "Para ello considere que uno tiene la información para cada año, contando con el rut (codificado), el género, y la edad del estudiante. Al mismo tiempo, se cuenta con el año de ingreso a la carrera y el año de ingreso a la carrera de origen (Bachillerato, por ej. si existiese continuidad de estudios), el semestre de ingreso a la carrera, el semestre de ingreso a la carrera de orígen, el tipo de admisión que siguió para llegar a la carrera, el país donde realizó sus estudios previos, una variable binaria que indica si el estudiante está en proceso de titulación y el código único de la carrera que escogió.  \n",
        "\n",
        "Además de este código, contamos con los siguientes datos de la carrera: la institución y sede en que se imparte la carrera, su nombre, su modalidad (presencial, semi o no presencial), su jornada, la versión (que refleja diferencia de carreras con igual nombre), el tipo de plan de la carrera, la duración teórica de la carrera, la duración teórica de la titulación, el nivel global de la carrera (Pregrado, postgrado o postitulo), dos categorías más para detallar el nivel de la carrera, sus requisitos de ingreso, el estado de vigencia de la carrera, su estado de acreditación, agencia acreditadora, fecha de acreditación, años de acreditación y los valores de la matricula, arancel, titulación y diploma. \n",
        "\n",
        "A su vez, todas las instituciones tienen un código, nombre y tipo, pueden estar acreditadas o no, y si están acreditadas es por una cantidad de años y por un periodo determinado. Por su parte, cada sede pertenece a una única institución y tiene los datos de su comuna, provincia y región.\n"
      ],
      "metadata": {
        "id": "p28OMRiDVegQ"
      }
    },
    {
      "cell_type": "markdown",
      "metadata": {
        "id": "UZg-VH9IsCSv"
      },
      "source": [
        "Lo primero que haremos con este trabajo, será elaborar un modelo entidad-relación. Para ello, debemos investigar el esquema de registro y responder una serie de preguntas:\n",
        "\n",
        "\n",
        "\n",
        "1.   ¿Qué entidades existen?\n",
        "2.   ¿Cómo se relacionan estas entidades?\n",
        "3.   ¿Cuáles son los atributos de cada entidad?\n",
        "4.   ¿Cuál es la llave de cada entidad?\n",
        "\n"
      ]
    },
    {
      "cell_type": "markdown",
      "source": [
        "En https://app.creately.com/ podemos hacer el modelo mismo, gratis, sin grandes complicaciones. "
      ],
      "metadata": {
        "id": "nG7zWgsAbh9w"
      }
    },
    {
      "cell_type": "code",
      "source": [
        ""
      ],
      "metadata": {
        "id": "1m7NYXkmbhsh"
      },
      "execution_count": null,
      "outputs": []
    },
    {
      "cell_type": "markdown",
      "source": [
        "# **SQL en R**"
      ],
      "metadata": {
        "id": "8BJHcZfscBUh"
      }
    },
    {
      "cell_type": "markdown",
      "metadata": {
        "id": "X81Z5MTiNUjb"
      },
      "source": [
        "Para esta parte del taller vamos a trabajar con la base de datos de la matricula de estudiantes de Educación superior del año 2020\n",
        "\n",
        "Para ello, vamos a descargar la base de datos y, al mismo tiempo, vamos a descargar el esquema de registro de la tabla, que uno puede encontrar en los siguientes link\n",
        "\n",
        "https://datosabiertos.mineduc.cl/matricula-en-educacion-superior/\n",
        "\n",
        "https://datosabiertos.mineduc.cl/wp-content/uploads/2021/12/Matricula-Educacion-Superior-2020.rar"
      ]
    },
    {
      "cell_type": "code",
      "metadata": {
        "colab": {
          "base_uri": "https://localhost:8080/"
        },
        "id": "vp4HPzDxK3Oy",
        "outputId": "92b965c7-89da-41a9-a181-e0eb10b8ff5d"
      },
      "source": [
        "install.packages(\"tictoc\")\n",
        "install.packages(\"data.table\")\n",
        "library(\"tictoc\")\n",
        "library(tidyverse)\n",
        "library(data.table)\n",
        "library(dplyr)\n",
        "library(ggplot2)"
      ],
      "execution_count": null,
      "outputs": [
        {
          "output_type": "stream",
          "name": "stderr",
          "text": [
            "Installing package into ‘/usr/local/lib/R/site-library’\n",
            "(as ‘lib’ is unspecified)\n",
            "\n",
            "Installing package into ‘/usr/local/lib/R/site-library’\n",
            "(as ‘lib’ is unspecified)\n",
            "\n",
            "Warning message in system(\"timedatectl\", intern = TRUE):\n",
            "“running command 'timedatectl' had status 1”\n",
            "── \u001b[1mAttaching packages\u001b[22m ─────────────────────────────────────── tidyverse 1.3.1 ──\n",
            "\n",
            "\u001b[32m✔\u001b[39m \u001b[34mggplot2\u001b[39m 3.3.6     \u001b[32m✔\u001b[39m \u001b[34mpurrr  \u001b[39m 0.3.4\n",
            "\u001b[32m✔\u001b[39m \u001b[34mtibble \u001b[39m 3.1.7     \u001b[32m✔\u001b[39m \u001b[34mdplyr  \u001b[39m 1.0.9\n",
            "\u001b[32m✔\u001b[39m \u001b[34mtidyr  \u001b[39m 1.2.0     \u001b[32m✔\u001b[39m \u001b[34mstringr\u001b[39m 1.4.0\n",
            "\u001b[32m✔\u001b[39m \u001b[34mreadr  \u001b[39m 2.1.2     \u001b[32m✔\u001b[39m \u001b[34mforcats\u001b[39m 0.5.1\n",
            "\n",
            "── \u001b[1mConflicts\u001b[22m ────────────────────────────────────────── tidyverse_conflicts() ──\n",
            "\u001b[31m✖\u001b[39m \u001b[34mdplyr\u001b[39m::\u001b[32mfilter()\u001b[39m masks \u001b[34mstats\u001b[39m::filter()\n",
            "\u001b[31m✖\u001b[39m \u001b[34mdplyr\u001b[39m::\u001b[32mlag()\u001b[39m    masks \u001b[34mstats\u001b[39m::lag()\n",
            "\n",
            "\n",
            "Attaching package: ‘data.table’\n",
            "\n",
            "\n",
            "The following objects are masked from ‘package:dplyr’:\n",
            "\n",
            "    between, first, last\n",
            "\n",
            "\n",
            "The following object is masked from ‘package:purrr’:\n",
            "\n",
            "    transpose\n",
            "\n",
            "\n"
          ]
        }
      ]
    },
    {
      "cell_type": "code",
      "source": [
        "install.packages(\"RSQLite\")\n",
        "library(RSQLite)"
      ],
      "metadata": {
        "id": "MjRFock-ewIh"
      },
      "execution_count": null,
      "outputs": []
    },
    {
      "cell_type": "code",
      "source": [
        "system(\"gdown --id 1jDBPog5TrYaYgcnXTvyWecI90uccuWU2\")"
      ],
      "metadata": {
        "id": "2bAS3KobCWIB"
      },
      "execution_count": null,
      "outputs": []
    },
    {
      "cell_type": "code",
      "source": [
        "unzip(\"/content/20200706_Matrcula_Ed_Superior_2020_PUBL_MRUN.zip\")"
      ],
      "metadata": {
        "id": "6jGub4UECb6C"
      },
      "execution_count": null,
      "outputs": []
    },
    {
      "cell_type": "code",
      "source": [
        "matricula <- fread(\"/content/20200706_Matrcula_Ed_Superior_2020_PUBL_MRUN.csv\", \"encoding\" =\"UTF-8\")"
      ],
      "metadata": {
        "id": "ib4gDVu-CmwU"
      },
      "execution_count": null,
      "outputs": []
    },
    {
      "cell_type": "code",
      "source": [
        "names(matricula)"
      ],
      "metadata": {
        "id": "pZ9ZPDlacWnq"
      },
      "execution_count": null,
      "outputs": []
    },
    {
      "cell_type": "code",
      "source": [
        "alumnos <- matricula[, c(\"MRUN\", \"GEN_ALU\", \"FEC_NAC_ALU\")]\n",
        "cursa <- matricula[,c(\"MRUN\",\"codigo_unico\", \"cat_periodo\", \"rango_edad\", \"anio_ing_carr_ori\", \"sem_ing_carr_ori\", \"anio_ing_carr_act\", \"sem_ing_carr_act\", \"forma_ingreso\")] \n",
        "carrera <- matricula[, c(\"codigo_unico\",  \"cod_carrera\", \"nomb_carrera\", \"modalidad\", \"jornada\", \"version\", \"tipo_plan_carr\", \"dur_estudio_carr\", \"dur_proceso_tit\", \"dur_total_carr\", \"nivel_global\", \"nivel_carrera_1\", \"nivel_carrera_2\", \"requisito_ingreso\",  \"vigencia_carrera\", \"valor_matricula\", \"valor_arancel\", \"codigo_demre\", \"area_conocimiento\", \"oecd_area\",  \"oecd_subarea\", \"area_carrera_generica\", \"acreditada_carr\", \"costo_proceso_titulacion\",  \"costo_obtencion_titulo_diploma\" )]\n",
        "se_imparte <-matricula[,c(\"codigo_unico\", \"cod_sede\")]\n",
        "sede <- matricula[,c( \"cod_sede\",  \"nomb_sede\", \"region_sede\", \"provincia_sede\", \"comuna_sede\")]\n",
        "IES <- matricula[, c(\"cod_inst\",\"tipo_inst_1\", \"tipo_inst_2\", \"tipo_inst_3\", \"nomb_inst\", \"acreditada_inst\", \"acre_inst_desde_hasta\", \"acre_inst_anio\")]\n",
        "pertenece_a <- matricula[,c( \"cod_sede\",\"cod_inst\")]"
      ],
      "metadata": {
        "id": "IJ-vnHBNcU8i"
      },
      "execution_count": null,
      "outputs": []
    },
    {
      "cell_type": "code",
      "metadata": {
        "id": "WdbeNb_aN46d"
      },
      "source": [
        ""
      ],
      "execution_count": null,
      "outputs": []
    },
    {
      "cell_type": "code",
      "metadata": {
        "id": "FnfJxtJFEMtK"
      },
      "source": [
        "# Limpiar eliminando llaves vacíos\n",
        "\n",
        "\n",
        "alumnos <- alumnos[!is.na(alumnos$MRUN), ]\n",
        "cursa <- cursa[!is.na(cursa$MRUN), ]"
      ],
      "execution_count": null,
      "outputs": []
    },
    {
      "cell_type": "code",
      "metadata": {
        "id": "4lI-BUvA2RVy"
      },
      "source": [
        "#Eliminamos información repetida\n",
        "alumnos <- unique(alumnos)\n",
        "carrera <- unique(carrera)\n",
        "IES <- unique(IES)\n",
        "sede <- unique(sede)\n"
      ],
      "execution_count": null,
      "outputs": []
    },
    {
      "cell_type": "code",
      "metadata": {
        "id": "BYOr63U2E4Sk"
      },
      "source": [
        "cursa <- unique(cursa)\n",
        "se_imparte <- unique(se_imparte)\n",
        "pertenece_a <- unique(pertenece_a)"
      ],
      "execution_count": null,
      "outputs": []
    },
    {
      "cell_type": "code",
      "source": [
        ""
      ],
      "metadata": {
        "id": "pQiF3a_PcVoq"
      },
      "execution_count": null,
      "outputs": []
    },
    {
      "cell_type": "markdown",
      "metadata": {
        "id": "0Camq_RpCItr"
      },
      "source": [
        "En primer lugar, generaremos una serie de consultas, para tratar de entender la tabla que tenemos"
      ]
    },
    {
      "cell_type": "code",
      "metadata": {
        "id": "4E-xFNJC2Ryy"
      },
      "source": [
        "conn <- dbConnect(RSQLite::SQLite(), \"mineduc.db\")"
      ],
      "execution_count": null,
      "outputs": []
    },
    {
      "cell_type": "code",
      "metadata": {
        "id": "PR4xvrj1Q3jW"
      },
      "source": [
        "dbWriteTable(conn , name = \"IES\", \n",
        "                  value = IES,\n",
        "                  row.names = FALSE, overwrite = TRUE )\n",
        "dbWriteTable(conn , name = \"alumnos\", \n",
        "                  value = alumnos,\n",
        "                  row.names = FALSE, overwrite = TRUE )\n",
        "dbWriteTable(conn , name = \"carrera\", \n",
        "                  value = carrera,\n",
        "                  row.names = FALSE, overwrite = TRUE)\n",
        "dbWriteTable(conn , name = \"sede\", \n",
        "                  value = sede,\n",
        "                  row.names = FALSE, overwrite = TRUE)\n",
        "\n",
        "dbWriteTable(conn , name = \"pertenece_a\", \n",
        "                  value = pertenece_a,\n",
        "                  row.names = FALSE, overwrite = TRUE)\n",
        "dbWriteTable(conn , name = \"cursa\", \n",
        "                  value = cursa,\n",
        "                  row.names = FALSE, overwrite = TRUE)\n",
        "dbWriteTable(conn , name = \"se_imparte\", \n",
        "                  value = se_imparte,\n",
        "                  row.names = FALSE, overwrite = TRUE)\n"
      ],
      "execution_count": null,
      "outputs": []
    },
    {
      "cell_type": "code",
      "metadata": {
        "id": "ri6TBfg7CrAB",
        "colab": {
          "base_uri": "https://localhost:8080/",
          "height": 128
        },
        "outputId": "6db3c1c5-cf18-4417-dcb0-7f4738e2492d"
      },
      "source": [
        "# Encuentre el código de institución de la Pontificia Universidad Católica de Chile\n",
        "\n",
        "\n",
        "dbGetQuery(conn, '\n",
        "select \n",
        "cod_inst , nomb_inst\n",
        "from IES \n",
        "where nomb_inst == \"PONTIFICIA UNIVERSIDAD CATOLICA DE CHILE\";')\n"
      ],
      "execution_count": null,
      "outputs": [
        {
          "output_type": "display_data",
          "data": {
            "text/plain": [
              "  cod_inst nomb_inst                               \n",
              "1 86       PONTIFICIA UNIVERSIDAD CATOLICA DE CHILE"
            ],
            "text/latex": "A data.frame: 1 × 2\n\\begin{tabular}{ll}\n cod\\_inst & nomb\\_inst\\\\\n <int> & <chr>\\\\\n\\hline\n\t 86 & PONTIFICIA UNIVERSIDAD CATOLICA DE CHILE\\\\\n\\end{tabular}\n",
            "text/markdown": "\nA data.frame: 1 × 2\n\n| cod_inst &lt;int&gt; | nomb_inst &lt;chr&gt; |\n|---|---|\n| 86 | PONTIFICIA UNIVERSIDAD CATOLICA DE CHILE |\n\n",
            "text/html": [
              "<table class=\"dataframe\">\n",
              "<caption>A data.frame: 1 × 2</caption>\n",
              "<thead>\n",
              "\t<tr><th scope=col>cod_inst</th><th scope=col>nomb_inst</th></tr>\n",
              "\t<tr><th scope=col>&lt;int&gt;</th><th scope=col>&lt;chr&gt;</th></tr>\n",
              "</thead>\n",
              "<tbody>\n",
              "\t<tr><td>86</td><td>PONTIFICIA UNIVERSIDAD CATOLICA DE CHILE</td></tr>\n",
              "</tbody>\n",
              "</table>\n"
            ]
          },
          "metadata": {
            "tags": []
          }
        }
      ]
    },
    {
      "cell_type": "code",
      "metadata": {
        "colab": {
          "base_uri": "https://localhost:8080/",
          "height": 1000
        },
        "id": "3lyMHestHL5E",
        "outputId": "59f7579d-9022-4008-d51a-1c9e54aa3e9d"
      },
      "source": [
        "# Genere una lista con todas las carreras diferentes, y sus nombres, que pertenecen al área OCDE Educación\n",
        "dbGetQuery(conn, '\n",
        "select \n",
        "codigo_unico, nomb_carrera\n",
        "from carrera \n",
        "where oecd_area == \"Educación\";')\n"
      ],
      "execution_count": null,
      "outputs": [
        {
          "output_type": "display_data",
          "data": {
            "text/plain": [
              "     codigo_unico   \n",
              "1    I143S2C469J2V2 \n",
              "2    I155S2C65J1V1  \n",
              "3    I71S1C149J1V1  \n",
              "4    I80S1C18J1V2   \n",
              "5    I143S2C469J1V1 \n",
              "6    I155S2C7J2V1   \n",
              "7    I71S1C44J1V1   \n",
              "8    I70S1C442J1V1  \n",
              "9    I69S1C261J1V1  \n",
              "10   I116S39C196J1V1\n",
              "11   I155S2C65J2V1  \n",
              "12   I260S43C127J1V1\n",
              "13   I260S37C79J1V1 \n",
              "14   I69S1C337J1V1  \n",
              "15   I17S2C166J3V1  \n",
              "16   I20S1C47J4V1   \n",
              "17   I20S1C206J4V1  \n",
              "18   I70S1C756J2V1  \n",
              "19   I20S1C492J1V1  \n",
              "20   I81S7C468J4V1  \n",
              "21   I20S1C391J4V1  \n",
              "22   I17S2C164J3V1  \n",
              "23   I2S1C215J2V2   \n",
              "24   I70S1C620J1V1  \n",
              "25   I89S1C285J1V1  \n",
              "26   I86S5C469J2V1  \n",
              "27   I31S1C203J2V1  \n",
              "28   I86S5C472J2V1  \n",
              "29   I2S1C322J3V1   \n",
              "30   I4S1C611J2V2   \n",
              "⋮    ⋮              \n",
              "1742 I84S6C67J1V1   \n",
              "1743 I4S1C960J2V1   \n",
              "1744 I16S6C197J2V1  \n",
              "1745 I54S6C113J1V1  \n",
              "1746 I77S1C230J1V1  \n",
              "1747 I83S2C55J1V3   \n",
              "1748 I16S9C199J2V1  \n",
              "1749 I214S20C19J1V1 \n",
              "1750 I165S14C34J5V1 \n",
              "1751 I83S1C209J4V1  \n",
              "1752 I77S1C5J2V1    \n",
              "1753 I7S2C649J3V1   \n",
              "1754 I42S1C241J2V1  \n",
              "1755 I77S1C194J2V2  \n",
              "1756 I80S1C118J1V1  \n",
              "1757 I20S3C27J1V1   \n",
              "1758 I77S1C71J1V1   \n",
              "1759 I3S1C115J2V2   \n",
              "1760 I19S3C38J1V2   \n",
              "1761 I39S2C263J5V1  \n",
              "1762 I45S4C906J1V1  \n",
              "1763 I54S21C113J1V1 \n",
              "1764 I152S9C281J1V4 \n",
              "1765 I22S1C66J1V3   \n",
              "1766 I4S1C109J2V1   \n",
              "1767 I16S6C270J2V1  \n",
              "1768 I54S5C113J1V1  \n",
              "1769 I176S10C41J3V1 \n",
              "1770 I48S4C24J1V1   \n",
              "1771 I176S3C41J1V1  \n",
              "     nomb_carrera                                                                                                                      \n",
              "1    TECNICO ASISTENTE EN EDUCACION ESPECIAL                                                                                           \n",
              "2    TECNICO EN EDUCACION PARVULARIA                                                                                                   \n",
              "3    PEDAGOGIA EN HISTORIA Y CIENCIAS SOCIALES / LICENCIATURA EN EDUCACION EN HISTORIA Y CIENCIAS SOCIALES                             \n",
              "4    PROFESOR DE EDUCACION FISICA                                                                                                      \n",
              "5    TECNICO ASISTENTE EN EDUCACION ESPECIAL                                                                                           \n",
              "6    PSICOPEDAGOGIA                                                                                                                    \n",
              "7    PEDAGOGIA EN MATEMATICA Y COMPUTACION / LICENCIATURA EN EDUCACION EN MATEMATICA Y COMPUTACION                                     \n",
              "8    PEDAGOGIA EN EDUCACION MEDIA EN MATEMATICAS Y FISICA                                                                              \n",
              "9    PEDAGOGIA EN MATEMATICA                                                                                                           \n",
              "10   PSICOPEDAGOGIA                                                                                                                    \n",
              "11   TECNICO EN EDUCACION PARVULARIA                                                                                                   \n",
              "12   TECNICO EN EDUCACION PARVULARIA                                                                                                   \n",
              "13   TECNICO EN EDUCACION ESPECIAL                                                                                                     \n",
              "14   DOCTORADO EN EDUCACION                                                                                                            \n",
              "15   MAGISTER EN EDUCACION                                                                                                             \n",
              "16   MAGISTER EN DOCENCIA PARA LA EDUCACION SUPERIOR                                                                                   \n",
              "17   MAGISTER EN EDUCACION INICIAL MENCION EN DIDACTICA DE LAS MATEMATICAS Y EL LENGUAJE                                               \n",
              "18   MAGISTER EN EDUCACION CON MENCION EN INFORMATICA EDUCATIVA                                                                        \n",
              "19   DOCTORADO EN EDUCACION Y SOCIEDAD                                                                                                 \n",
              "20   MAGISTER EN EDUCACION SUPERIOR MENCION DOCENCIA UNIVERSITARIA VERSION INTERNACIONAL COLOMBIA                                      \n",
              "21   MAGISTER EN DESARROLLO CURRICULAR Y PROYECTOS EDUCATIVOS                                                                          \n",
              "22   DOCTORADO EN EDUCACION                                                                                                            \n",
              "23   MAGISTER EN NEUROCIENCIAS APLICADAS A LA EDUCACION                                                                                \n",
              "24   MAGISTER EN EDUCACION EN CIENCIAS DE LA SALUD                                                                                     \n",
              "25   DOCTORADO EN DIDACTICA DE LA MATEMATICA                                                                                           \n",
              "26   MAGISTER EN EDUCACION CON MENCION EN DIRECCION Y LIDERAZGO EDUCACIONAL                                                            \n",
              "27   MAGISTER EN ACTIVIDAD FISICA, SALUD Y CALIDAD DE VIDA                                                                             \n",
              "28   MAGISTER EN EDUCACION CON MENCION EN EVALUACION DE APRENDIZAJES                                                                   \n",
              "29   MAGISTER EN CREATIVIDAD E INNOVACION PEDAGOGICA                                                                                   \n",
              "30   MAGISTER EN EDUCACION INCLUSIVA                                                                                                   \n",
              "⋮    ⋮                                                                                                                                 \n",
              "1742 TECNICO UNIVERSITARIO EN EDUCACION PARVULARIA                                                                                     \n",
              "1743 TECNICO DE NIVEL SUPERIOR EN EDUCACION DIFERENCIAL                                                                                \n",
              "1744 PEDAGOGIA EN EDUCACION DIFERENCIAL MENCION TRASTORNOS DE AUDICION Y LENGUAJE - SEGUNDO TITULO                                     \n",
              "1745 PSICOPEDAGOGIA                                                                                                                    \n",
              "1746 PEDAGOGIA EN BIOLOGIA Y QUIMICA PARA ENSEÑANZA MEDIA                                                                              \n",
              "1747 PEDAGOGIA EN HISTORIA Y GEOGRAFIA                                                                                                 \n",
              "1748 PEDAGOGIA EN EDUCACION GENERAL BASICA MENCION TRASTORNOS DEL APRENDIZAJE                                                          \n",
              "1749 TECNICO EN EDUCACION DE PARVULOS                                                                                                  \n",
              "1750 PSICOPEDAGOGIA                                                                                                                    \n",
              "1751 MAGISTER EN EDUCACION AMBIENTAL (A/D)                                                                                             \n",
              "1752 PEDAGOGIA EN EDUCACION PARVULARIA                                                                                                 \n",
              "1753 TECNICO DE NIVEL SUPERIOR EN EDUCACION DIFERENCIAL                                                                                \n",
              "1754 POSTITULO EN PSICOPEDAGOGIA E INCLUSION                                                                                           \n",
              "1755 TECNICO DE NIVEL SUPERIOR EN EDUCACION PARVULARIA                                                                                 \n",
              "1756 PEDAGOGIA EN EDUCACION BASICA                                                                                                     \n",
              "1757 EDUCACION PARVULARIA                                                                                                              \n",
              "1758 PEDAGOGIA EN BIOLOGIA Y CIENCIAS NATURALES PARA ENSEÑANZA MEDIA                                                                   \n",
              "1759 POSTITULO EN EDUCACION MENCION HISTORIA, GEOGRAFIA Y CIENCIAS SOCIALES                                                            \n",
              "1760 PEDAGOGIA EN EDUCACION FISICA                                                                                                     \n",
              "1761 POSTITULO DE ESPECIALIZACION EN FISICA PARA EDUCACION MEDIA                                                                       \n",
              "1762 DIPLOMADO EN DESARROLLO DEL PENSAMIENTO E INTERACCIONES DE CALIDAD A TRAVES DE LAS BASES CURRICULARES PARA LA EDUCACION PARVULARIA\n",
              "1763 PSICOPEDAGOGIA                                                                                                                    \n",
              "1764 TECNICO EN EDUCACION PARVULARIA                                                                                                   \n",
              "1765 PEDAGOGIA EN ARTES VISUALES                                                                                                       \n",
              "1766 POSTITULO EN DOCENCIA, CALIDAD EDUCATIVA E INVESTIGACION UNIVERSITARIA                                                            \n",
              "1767 PEDAGOGIA EN EDUCACION PARVULARIA - CONTINUIDAD TNS                                                                               \n",
              "1768 PSICOPEDAGOGIA                                                                                                                    \n",
              "1769 TECNICO DE NIVEL SUPERIOR EN EDUCACION PARVULARIA                                                                                 \n",
              "1770 PEDAGOGIA EN EDUCACION DIFERENCIAL                                                                                                \n",
              "1771 TECNICO DE NIVEL SUPERIOR EN EDUCACION PARVULARIA                                                                                 "
            ],
            "text/latex": "A data.frame: 1771 × 2\n\\begin{tabular}{ll}\n codigo\\_unico & nomb\\_carrera\\\\\n <chr> & <chr>\\\\\n\\hline\n\t I143S2C469J2V2  & TECNICO ASISTENTE EN EDUCACION ESPECIAL                                                              \\\\\n\t I155S2C65J1V1   & TECNICO EN EDUCACION PARVULARIA                                                                      \\\\\n\t I71S1C149J1V1   & PEDAGOGIA EN HISTORIA Y CIENCIAS SOCIALES / LICENCIATURA EN EDUCACION EN HISTORIA Y CIENCIAS SOCIALES\\\\\n\t I80S1C18J1V2    & PROFESOR DE EDUCACION FISICA                                                                         \\\\\n\t I143S2C469J1V1  & TECNICO ASISTENTE EN EDUCACION ESPECIAL                                                              \\\\\n\t I155S2C7J2V1    & PSICOPEDAGOGIA                                                                                       \\\\\n\t I71S1C44J1V1    & PEDAGOGIA EN MATEMATICA Y COMPUTACION / LICENCIATURA EN EDUCACION EN MATEMATICA Y COMPUTACION        \\\\\n\t I70S1C442J1V1   & PEDAGOGIA EN EDUCACION MEDIA EN MATEMATICAS Y FISICA                                                 \\\\\n\t I69S1C261J1V1   & PEDAGOGIA EN MATEMATICA                                                                              \\\\\n\t I116S39C196J1V1 & PSICOPEDAGOGIA                                                                                       \\\\\n\t I155S2C65J2V1   & TECNICO EN EDUCACION PARVULARIA                                                                      \\\\\n\t I260S43C127J1V1 & TECNICO EN EDUCACION PARVULARIA                                                                      \\\\\n\t I260S37C79J1V1  & TECNICO EN EDUCACION ESPECIAL                                                                        \\\\\n\t I69S1C337J1V1   & DOCTORADO EN EDUCACION                                                                               \\\\\n\t I17S2C166J3V1   & MAGISTER EN EDUCACION                                                                                \\\\\n\t I20S1C47J4V1    & MAGISTER EN DOCENCIA PARA LA EDUCACION SUPERIOR                                                      \\\\\n\t I20S1C206J4V1   & MAGISTER EN EDUCACION INICIAL MENCION EN DIDACTICA DE LAS MATEMATICAS Y EL LENGUAJE                  \\\\\n\t I70S1C756J2V1   & MAGISTER EN EDUCACION CON MENCION EN INFORMATICA EDUCATIVA                                           \\\\\n\t I20S1C492J1V1   & DOCTORADO EN EDUCACION Y SOCIEDAD                                                                    \\\\\n\t I81S7C468J4V1   & MAGISTER EN EDUCACION SUPERIOR MENCION DOCENCIA UNIVERSITARIA VERSION INTERNACIONAL COLOMBIA         \\\\\n\t I20S1C391J4V1   & MAGISTER EN DESARROLLO CURRICULAR Y PROYECTOS EDUCATIVOS                                             \\\\\n\t I17S2C164J3V1   & DOCTORADO EN EDUCACION                                                                               \\\\\n\t I2S1C215J2V2    & MAGISTER EN NEUROCIENCIAS APLICADAS A LA EDUCACION                                                   \\\\\n\t I70S1C620J1V1   & MAGISTER EN EDUCACION EN CIENCIAS DE LA SALUD                                                        \\\\\n\t I89S1C285J1V1   & DOCTORADO EN DIDACTICA DE LA MATEMATICA                                                              \\\\\n\t I86S5C469J2V1   & MAGISTER EN EDUCACION CON MENCION EN DIRECCION Y LIDERAZGO EDUCACIONAL                               \\\\\n\t I31S1C203J2V1   & MAGISTER EN ACTIVIDAD FISICA, SALUD Y CALIDAD DE VIDA                                                \\\\\n\t I86S5C472J2V1   & MAGISTER EN EDUCACION CON MENCION EN EVALUACION DE APRENDIZAJES                                      \\\\\n\t I2S1C322J3V1    & MAGISTER EN CREATIVIDAD E INNOVACION PEDAGOGICA                                                      \\\\\n\t I4S1C611J2V2    & MAGISTER EN EDUCACION INCLUSIVA                                                                      \\\\\n\t ⋮ & ⋮\\\\\n\t I84S6C67J1V1   & TECNICO UNIVERSITARIO EN EDUCACION PARVULARIA                                                                                     \\\\\n\t I4S1C960J2V1   & TECNICO DE NIVEL SUPERIOR EN EDUCACION DIFERENCIAL                                                                                \\\\\n\t I16S6C197J2V1  & PEDAGOGIA EN EDUCACION DIFERENCIAL MENCION TRASTORNOS DE AUDICION Y LENGUAJE - SEGUNDO TITULO                                     \\\\\n\t I54S6C113J1V1  & PSICOPEDAGOGIA                                                                                                                    \\\\\n\t I77S1C230J1V1  & PEDAGOGIA EN BIOLOGIA Y QUIMICA PARA ENSEÑANZA MEDIA                                                                              \\\\\n\t I83S2C55J1V3   & PEDAGOGIA EN HISTORIA Y GEOGRAFIA                                                                                                 \\\\\n\t I16S9C199J2V1  & PEDAGOGIA EN EDUCACION GENERAL BASICA MENCION TRASTORNOS DEL APRENDIZAJE                                                          \\\\\n\t I214S20C19J1V1 & TECNICO EN EDUCACION DE PARVULOS                                                                                                  \\\\\n\t I165S14C34J5V1 & PSICOPEDAGOGIA                                                                                                                    \\\\\n\t I83S1C209J4V1  & MAGISTER EN EDUCACION AMBIENTAL (A/D)                                                                                             \\\\\n\t I77S1C5J2V1    & PEDAGOGIA EN EDUCACION PARVULARIA                                                                                                 \\\\\n\t I7S2C649J3V1   & TECNICO DE NIVEL SUPERIOR EN EDUCACION DIFERENCIAL                                                                                \\\\\n\t I42S1C241J2V1  & POSTITULO EN PSICOPEDAGOGIA E INCLUSION                                                                                           \\\\\n\t I77S1C194J2V2  & TECNICO DE NIVEL SUPERIOR EN EDUCACION PARVULARIA                                                                                 \\\\\n\t I80S1C118J1V1  & PEDAGOGIA EN EDUCACION BASICA                                                                                                     \\\\\n\t I20S3C27J1V1   & EDUCACION PARVULARIA                                                                                                              \\\\\n\t I77S1C71J1V1   & PEDAGOGIA EN BIOLOGIA Y CIENCIAS NATURALES PARA ENSEÑANZA MEDIA                                                                   \\\\\n\t I3S1C115J2V2   & POSTITULO EN EDUCACION MENCION HISTORIA, GEOGRAFIA Y CIENCIAS SOCIALES                                                            \\\\\n\t I19S3C38J1V2   & PEDAGOGIA EN EDUCACION FISICA                                                                                                     \\\\\n\t I39S2C263J5V1  & POSTITULO DE ESPECIALIZACION EN FISICA PARA EDUCACION MEDIA                                                                       \\\\\n\t I45S4C906J1V1  & DIPLOMADO EN DESARROLLO DEL PENSAMIENTO E INTERACCIONES DE CALIDAD A TRAVES DE LAS BASES CURRICULARES PARA LA EDUCACION PARVULARIA\\\\\n\t I54S21C113J1V1 & PSICOPEDAGOGIA                                                                                                                    \\\\\n\t I152S9C281J1V4 & TECNICO EN EDUCACION PARVULARIA                                                                                                   \\\\\n\t I22S1C66J1V3   & PEDAGOGIA EN ARTES VISUALES                                                                                                       \\\\\n\t I4S1C109J2V1   & POSTITULO EN DOCENCIA, CALIDAD EDUCATIVA E INVESTIGACION UNIVERSITARIA                                                            \\\\\n\t I16S6C270J2V1  & PEDAGOGIA EN EDUCACION PARVULARIA - CONTINUIDAD TNS                                                                               \\\\\n\t I54S5C113J1V1  & PSICOPEDAGOGIA                                                                                                                    \\\\\n\t I176S10C41J3V1 & TECNICO DE NIVEL SUPERIOR EN EDUCACION PARVULARIA                                                                                 \\\\\n\t I48S4C24J1V1   & PEDAGOGIA EN EDUCACION DIFERENCIAL                                                                                                \\\\\n\t I176S3C41J1V1  & TECNICO DE NIVEL SUPERIOR EN EDUCACION PARVULARIA                                                                                 \\\\\n\\end{tabular}\n",
            "text/markdown": "\nA data.frame: 1771 × 2\n\n| codigo_unico &lt;chr&gt; | nomb_carrera &lt;chr&gt; |\n|---|---|\n| I143S2C469J2V2  | TECNICO ASISTENTE EN EDUCACION ESPECIAL                                                               |\n| I155S2C65J1V1   | TECNICO EN EDUCACION PARVULARIA                                                                       |\n| I71S1C149J1V1   | PEDAGOGIA EN HISTORIA Y CIENCIAS SOCIALES / LICENCIATURA EN EDUCACION EN HISTORIA Y CIENCIAS SOCIALES |\n| I80S1C18J1V2    | PROFESOR DE EDUCACION FISICA                                                                          |\n| I143S2C469J1V1  | TECNICO ASISTENTE EN EDUCACION ESPECIAL                                                               |\n| I155S2C7J2V1    | PSICOPEDAGOGIA                                                                                        |\n| I71S1C44J1V1    | PEDAGOGIA EN MATEMATICA Y COMPUTACION / LICENCIATURA EN EDUCACION EN MATEMATICA Y COMPUTACION         |\n| I70S1C442J1V1   | PEDAGOGIA EN EDUCACION MEDIA EN MATEMATICAS Y FISICA                                                  |\n| I69S1C261J1V1   | PEDAGOGIA EN MATEMATICA                                                                               |\n| I116S39C196J1V1 | PSICOPEDAGOGIA                                                                                        |\n| I155S2C65J2V1   | TECNICO EN EDUCACION PARVULARIA                                                                       |\n| I260S43C127J1V1 | TECNICO EN EDUCACION PARVULARIA                                                                       |\n| I260S37C79J1V1  | TECNICO EN EDUCACION ESPECIAL                                                                         |\n| I69S1C337J1V1   | DOCTORADO EN EDUCACION                                                                                |\n| I17S2C166J3V1   | MAGISTER EN EDUCACION                                                                                 |\n| I20S1C47J4V1    | MAGISTER EN DOCENCIA PARA LA EDUCACION SUPERIOR                                                       |\n| I20S1C206J4V1   | MAGISTER EN EDUCACION INICIAL MENCION EN DIDACTICA DE LAS MATEMATICAS Y EL LENGUAJE                   |\n| I70S1C756J2V1   | MAGISTER EN EDUCACION CON MENCION EN INFORMATICA EDUCATIVA                                            |\n| I20S1C492J1V1   | DOCTORADO EN EDUCACION Y SOCIEDAD                                                                     |\n| I81S7C468J4V1   | MAGISTER EN EDUCACION SUPERIOR MENCION DOCENCIA UNIVERSITARIA VERSION INTERNACIONAL COLOMBIA          |\n| I20S1C391J4V1   | MAGISTER EN DESARROLLO CURRICULAR Y PROYECTOS EDUCATIVOS                                              |\n| I17S2C164J3V1   | DOCTORADO EN EDUCACION                                                                                |\n| I2S1C215J2V2    | MAGISTER EN NEUROCIENCIAS APLICADAS A LA EDUCACION                                                    |\n| I70S1C620J1V1   | MAGISTER EN EDUCACION EN CIENCIAS DE LA SALUD                                                         |\n| I89S1C285J1V1   | DOCTORADO EN DIDACTICA DE LA MATEMATICA                                                               |\n| I86S5C469J2V1   | MAGISTER EN EDUCACION CON MENCION EN DIRECCION Y LIDERAZGO EDUCACIONAL                                |\n| I31S1C203J2V1   | MAGISTER EN ACTIVIDAD FISICA, SALUD Y CALIDAD DE VIDA                                                 |\n| I86S5C472J2V1   | MAGISTER EN EDUCACION CON MENCION EN EVALUACION DE APRENDIZAJES                                       |\n| I2S1C322J3V1    | MAGISTER EN CREATIVIDAD E INNOVACION PEDAGOGICA                                                       |\n| I4S1C611J2V2    | MAGISTER EN EDUCACION INCLUSIVA                                                                       |\n| ⋮ | ⋮ |\n| I84S6C67J1V1   | TECNICO UNIVERSITARIO EN EDUCACION PARVULARIA                                                                                      |\n| I4S1C960J2V1   | TECNICO DE NIVEL SUPERIOR EN EDUCACION DIFERENCIAL                                                                                 |\n| I16S6C197J2V1  | PEDAGOGIA EN EDUCACION DIFERENCIAL MENCION TRASTORNOS DE AUDICION Y LENGUAJE - SEGUNDO TITULO                                      |\n| I54S6C113J1V1  | PSICOPEDAGOGIA                                                                                                                     |\n| I77S1C230J1V1  | PEDAGOGIA EN BIOLOGIA Y QUIMICA PARA ENSEÑANZA MEDIA                                                                               |\n| I83S2C55J1V3   | PEDAGOGIA EN HISTORIA Y GEOGRAFIA                                                                                                  |\n| I16S9C199J2V1  | PEDAGOGIA EN EDUCACION GENERAL BASICA MENCION TRASTORNOS DEL APRENDIZAJE                                                           |\n| I214S20C19J1V1 | TECNICO EN EDUCACION DE PARVULOS                                                                                                   |\n| I165S14C34J5V1 | PSICOPEDAGOGIA                                                                                                                     |\n| I83S1C209J4V1  | MAGISTER EN EDUCACION AMBIENTAL (A/D)                                                                                              |\n| I77S1C5J2V1    | PEDAGOGIA EN EDUCACION PARVULARIA                                                                                                  |\n| I7S2C649J3V1   | TECNICO DE NIVEL SUPERIOR EN EDUCACION DIFERENCIAL                                                                                 |\n| I42S1C241J2V1  | POSTITULO EN PSICOPEDAGOGIA E INCLUSION                                                                                            |\n| I77S1C194J2V2  | TECNICO DE NIVEL SUPERIOR EN EDUCACION PARVULARIA                                                                                  |\n| I80S1C118J1V1  | PEDAGOGIA EN EDUCACION BASICA                                                                                                      |\n| I20S3C27J1V1   | EDUCACION PARVULARIA                                                                                                               |\n| I77S1C71J1V1   | PEDAGOGIA EN BIOLOGIA Y CIENCIAS NATURALES PARA ENSEÑANZA MEDIA                                                                    |\n| I3S1C115J2V2   | POSTITULO EN EDUCACION MENCION HISTORIA, GEOGRAFIA Y CIENCIAS SOCIALES                                                             |\n| I19S3C38J1V2   | PEDAGOGIA EN EDUCACION FISICA                                                                                                      |\n| I39S2C263J5V1  | POSTITULO DE ESPECIALIZACION EN FISICA PARA EDUCACION MEDIA                                                                        |\n| I45S4C906J1V1  | DIPLOMADO EN DESARROLLO DEL PENSAMIENTO E INTERACCIONES DE CALIDAD A TRAVES DE LAS BASES CURRICULARES PARA LA EDUCACION PARVULARIA |\n| I54S21C113J1V1 | PSICOPEDAGOGIA                                                                                                                     |\n| I152S9C281J1V4 | TECNICO EN EDUCACION PARVULARIA                                                                                                    |\n| I22S1C66J1V3   | PEDAGOGIA EN ARTES VISUALES                                                                                                        |\n| I4S1C109J2V1   | POSTITULO EN DOCENCIA, CALIDAD EDUCATIVA E INVESTIGACION UNIVERSITARIA                                                             |\n| I16S6C270J2V1  | PEDAGOGIA EN EDUCACION PARVULARIA - CONTINUIDAD TNS                                                                                |\n| I54S5C113J1V1  | PSICOPEDAGOGIA                                                                                                                     |\n| I176S10C41J3V1 | TECNICO DE NIVEL SUPERIOR EN EDUCACION PARVULARIA                                                                                  |\n| I48S4C24J1V1   | PEDAGOGIA EN EDUCACION DIFERENCIAL                                                                                                 |\n| I176S3C41J1V1  | TECNICO DE NIVEL SUPERIOR EN EDUCACION PARVULARIA                                                                                  |\n\n",
            "text/html": [
              "<table class=\"dataframe\">\n",
              "<caption>A data.frame: 1771 × 2</caption>\n",
              "<thead>\n",
              "\t<tr><th scope=col>codigo_unico</th><th scope=col>nomb_carrera</th></tr>\n",
              "\t<tr><th scope=col>&lt;chr&gt;</th><th scope=col>&lt;chr&gt;</th></tr>\n",
              "</thead>\n",
              "<tbody>\n",
              "\t<tr><td>I143S2C469J2V2 </td><td>TECNICO ASISTENTE EN EDUCACION ESPECIAL                                                              </td></tr>\n",
              "\t<tr><td>I155S2C65J1V1  </td><td>TECNICO EN EDUCACION PARVULARIA                                                                      </td></tr>\n",
              "\t<tr><td>I71S1C149J1V1  </td><td>PEDAGOGIA EN HISTORIA Y CIENCIAS SOCIALES / LICENCIATURA EN EDUCACION EN HISTORIA Y CIENCIAS SOCIALES</td></tr>\n",
              "\t<tr><td>I80S1C18J1V2   </td><td>PROFESOR DE EDUCACION FISICA                                                                         </td></tr>\n",
              "\t<tr><td>I143S2C469J1V1 </td><td>TECNICO ASISTENTE EN EDUCACION ESPECIAL                                                              </td></tr>\n",
              "\t<tr><td>I155S2C7J2V1   </td><td>PSICOPEDAGOGIA                                                                                       </td></tr>\n",
              "\t<tr><td>I71S1C44J1V1   </td><td>PEDAGOGIA EN MATEMATICA Y COMPUTACION / LICENCIATURA EN EDUCACION EN MATEMATICA Y COMPUTACION        </td></tr>\n",
              "\t<tr><td>I70S1C442J1V1  </td><td>PEDAGOGIA EN EDUCACION MEDIA EN MATEMATICAS Y FISICA                                                 </td></tr>\n",
              "\t<tr><td>I69S1C261J1V1  </td><td>PEDAGOGIA EN MATEMATICA                                                                              </td></tr>\n",
              "\t<tr><td>I116S39C196J1V1</td><td>PSICOPEDAGOGIA                                                                                       </td></tr>\n",
              "\t<tr><td>I155S2C65J2V1  </td><td>TECNICO EN EDUCACION PARVULARIA                                                                      </td></tr>\n",
              "\t<tr><td>I260S43C127J1V1</td><td>TECNICO EN EDUCACION PARVULARIA                                                                      </td></tr>\n",
              "\t<tr><td>I260S37C79J1V1 </td><td>TECNICO EN EDUCACION ESPECIAL                                                                        </td></tr>\n",
              "\t<tr><td>I69S1C337J1V1  </td><td>DOCTORADO EN EDUCACION                                                                               </td></tr>\n",
              "\t<tr><td>I17S2C166J3V1  </td><td>MAGISTER EN EDUCACION                                                                                </td></tr>\n",
              "\t<tr><td>I20S1C47J4V1   </td><td>MAGISTER EN DOCENCIA PARA LA EDUCACION SUPERIOR                                                      </td></tr>\n",
              "\t<tr><td>I20S1C206J4V1  </td><td>MAGISTER EN EDUCACION INICIAL MENCION EN DIDACTICA DE LAS MATEMATICAS Y EL LENGUAJE                  </td></tr>\n",
              "\t<tr><td>I70S1C756J2V1  </td><td>MAGISTER EN EDUCACION CON MENCION EN INFORMATICA EDUCATIVA                                           </td></tr>\n",
              "\t<tr><td>I20S1C492J1V1  </td><td>DOCTORADO EN EDUCACION Y SOCIEDAD                                                                    </td></tr>\n",
              "\t<tr><td>I81S7C468J4V1  </td><td>MAGISTER EN EDUCACION SUPERIOR MENCION DOCENCIA UNIVERSITARIA VERSION INTERNACIONAL COLOMBIA         </td></tr>\n",
              "\t<tr><td>I20S1C391J4V1  </td><td>MAGISTER EN DESARROLLO CURRICULAR Y PROYECTOS EDUCATIVOS                                             </td></tr>\n",
              "\t<tr><td>I17S2C164J3V1  </td><td>DOCTORADO EN EDUCACION                                                                               </td></tr>\n",
              "\t<tr><td>I2S1C215J2V2   </td><td>MAGISTER EN NEUROCIENCIAS APLICADAS A LA EDUCACION                                                   </td></tr>\n",
              "\t<tr><td>I70S1C620J1V1  </td><td>MAGISTER EN EDUCACION EN CIENCIAS DE LA SALUD                                                        </td></tr>\n",
              "\t<tr><td>I89S1C285J1V1  </td><td>DOCTORADO EN DIDACTICA DE LA MATEMATICA                                                              </td></tr>\n",
              "\t<tr><td>I86S5C469J2V1  </td><td>MAGISTER EN EDUCACION CON MENCION EN DIRECCION Y LIDERAZGO EDUCACIONAL                               </td></tr>\n",
              "\t<tr><td>I31S1C203J2V1  </td><td>MAGISTER EN ACTIVIDAD FISICA, SALUD Y CALIDAD DE VIDA                                                </td></tr>\n",
              "\t<tr><td>I86S5C472J2V1  </td><td>MAGISTER EN EDUCACION CON MENCION EN EVALUACION DE APRENDIZAJES                                      </td></tr>\n",
              "\t<tr><td>I2S1C322J3V1   </td><td>MAGISTER EN CREATIVIDAD E INNOVACION PEDAGOGICA                                                      </td></tr>\n",
              "\t<tr><td>I4S1C611J2V2   </td><td>MAGISTER EN EDUCACION INCLUSIVA                                                                      </td></tr>\n",
              "\t<tr><td>⋮</td><td>⋮</td></tr>\n",
              "\t<tr><td>I84S6C67J1V1  </td><td>TECNICO UNIVERSITARIO EN EDUCACION PARVULARIA                                                                                     </td></tr>\n",
              "\t<tr><td>I4S1C960J2V1  </td><td>TECNICO DE NIVEL SUPERIOR EN EDUCACION DIFERENCIAL                                                                                </td></tr>\n",
              "\t<tr><td>I16S6C197J2V1 </td><td>PEDAGOGIA EN EDUCACION DIFERENCIAL MENCION TRASTORNOS DE AUDICION Y LENGUAJE - SEGUNDO TITULO                                     </td></tr>\n",
              "\t<tr><td>I54S6C113J1V1 </td><td>PSICOPEDAGOGIA                                                                                                                    </td></tr>\n",
              "\t<tr><td>I77S1C230J1V1 </td><td>PEDAGOGIA EN BIOLOGIA Y QUIMICA PARA ENSEÑANZA MEDIA                                                                              </td></tr>\n",
              "\t<tr><td>I83S2C55J1V3  </td><td>PEDAGOGIA EN HISTORIA Y GEOGRAFIA                                                                                                 </td></tr>\n",
              "\t<tr><td>I16S9C199J2V1 </td><td>PEDAGOGIA EN EDUCACION GENERAL BASICA MENCION TRASTORNOS DEL APRENDIZAJE                                                          </td></tr>\n",
              "\t<tr><td>I214S20C19J1V1</td><td>TECNICO EN EDUCACION DE PARVULOS                                                                                                  </td></tr>\n",
              "\t<tr><td>I165S14C34J5V1</td><td>PSICOPEDAGOGIA                                                                                                                    </td></tr>\n",
              "\t<tr><td>I83S1C209J4V1 </td><td>MAGISTER EN EDUCACION AMBIENTAL (A/D)                                                                                             </td></tr>\n",
              "\t<tr><td>I77S1C5J2V1   </td><td>PEDAGOGIA EN EDUCACION PARVULARIA                                                                                                 </td></tr>\n",
              "\t<tr><td>I7S2C649J3V1  </td><td>TECNICO DE NIVEL SUPERIOR EN EDUCACION DIFERENCIAL                                                                                </td></tr>\n",
              "\t<tr><td>I42S1C241J2V1 </td><td>POSTITULO EN PSICOPEDAGOGIA E INCLUSION                                                                                           </td></tr>\n",
              "\t<tr><td>I77S1C194J2V2 </td><td>TECNICO DE NIVEL SUPERIOR EN EDUCACION PARVULARIA                                                                                 </td></tr>\n",
              "\t<tr><td>I80S1C118J1V1 </td><td>PEDAGOGIA EN EDUCACION BASICA                                                                                                     </td></tr>\n",
              "\t<tr><td>I20S3C27J1V1  </td><td>EDUCACION PARVULARIA                                                                                                              </td></tr>\n",
              "\t<tr><td>I77S1C71J1V1  </td><td>PEDAGOGIA EN BIOLOGIA Y CIENCIAS NATURALES PARA ENSEÑANZA MEDIA                                                                   </td></tr>\n",
              "\t<tr><td>I3S1C115J2V2  </td><td>POSTITULO EN EDUCACION MENCION HISTORIA, GEOGRAFIA Y CIENCIAS SOCIALES                                                            </td></tr>\n",
              "\t<tr><td>I19S3C38J1V2  </td><td>PEDAGOGIA EN EDUCACION FISICA                                                                                                     </td></tr>\n",
              "\t<tr><td>I39S2C263J5V1 </td><td>POSTITULO DE ESPECIALIZACION EN FISICA PARA EDUCACION MEDIA                                                                       </td></tr>\n",
              "\t<tr><td>I45S4C906J1V1 </td><td>DIPLOMADO EN DESARROLLO DEL PENSAMIENTO E INTERACCIONES DE CALIDAD A TRAVES DE LAS BASES CURRICULARES PARA LA EDUCACION PARVULARIA</td></tr>\n",
              "\t<tr><td>I54S21C113J1V1</td><td>PSICOPEDAGOGIA                                                                                                                    </td></tr>\n",
              "\t<tr><td>I152S9C281J1V4</td><td>TECNICO EN EDUCACION PARVULARIA                                                                                                   </td></tr>\n",
              "\t<tr><td>I22S1C66J1V3  </td><td>PEDAGOGIA EN ARTES VISUALES                                                                                                       </td></tr>\n",
              "\t<tr><td>I4S1C109J2V1  </td><td>POSTITULO EN DOCENCIA, CALIDAD EDUCATIVA E INVESTIGACION UNIVERSITARIA                                                            </td></tr>\n",
              "\t<tr><td>I16S6C270J2V1 </td><td>PEDAGOGIA EN EDUCACION PARVULARIA - CONTINUIDAD TNS                                                                               </td></tr>\n",
              "\t<tr><td>I54S5C113J1V1 </td><td>PSICOPEDAGOGIA                                                                                                                    </td></tr>\n",
              "\t<tr><td>I176S10C41J3V1</td><td>TECNICO DE NIVEL SUPERIOR EN EDUCACION PARVULARIA                                                                                 </td></tr>\n",
              "\t<tr><td>I48S4C24J1V1  </td><td>PEDAGOGIA EN EDUCACION DIFERENCIAL                                                                                                </td></tr>\n",
              "\t<tr><td>I176S3C41J1V1 </td><td>TECNICO DE NIVEL SUPERIOR EN EDUCACION PARVULARIA                                                                                 </td></tr>\n",
              "</tbody>\n",
              "</table>\n"
            ]
          },
          "metadata": {
            "tags": []
          }
        }
      ]
    },
    {
      "cell_type": "code",
      "metadata": {
        "colab": {
          "base_uri": "https://localhost:8080/",
          "height": 252
        },
        "id": "Bf4MERidHMNP",
        "outputId": "d71bf05a-37df-4aed-e1ee-771231a272b7"
      },
      "source": [
        "# Entregue el nombre de todas las sedes que tiene la Universidad Católica\n",
        "dbGetQuery(conn, '\n",
        "select \n",
        "distinct nomb_sede\n",
        "from sede, pertenece_a, \n",
        "where sede.cod_sede = pertenece_a.cod_sede\n",
        "AND pertenece_a.cod_inst = 86;')\n"
      ],
      "execution_count": null,
      "outputs": [
        {
          "output_type": "display_data",
          "data": {
            "text/plain": [
              "  nomb_sede         \n",
              "1 CAMPUS SAN JOAQUIN\n",
              "2 SEDE LO CONTADOR  \n",
              "3 CASA CENTRAL      \n",
              "4 CAMPUS ORIENTE    \n",
              "5 SEDE VILLARRICA   "
            ],
            "text/latex": "A data.frame: 5 × 1\n\\begin{tabular}{l}\n nomb\\_sede\\\\\n <chr>\\\\\n\\hline\n\t CAMPUS SAN JOAQUIN\\\\\n\t SEDE LO CONTADOR  \\\\\n\t CASA CENTRAL      \\\\\n\t CAMPUS ORIENTE    \\\\\n\t SEDE VILLARRICA   \\\\\n\\end{tabular}\n",
            "text/markdown": "\nA data.frame: 5 × 1\n\n| nomb_sede &lt;chr&gt; |\n|---|\n| CAMPUS SAN JOAQUIN |\n| SEDE LO CONTADOR   |\n| CASA CENTRAL       |\n| CAMPUS ORIENTE     |\n| SEDE VILLARRICA    |\n\n",
            "text/html": [
              "<table class=\"dataframe\">\n",
              "<caption>A data.frame: 5 × 1</caption>\n",
              "<thead>\n",
              "\t<tr><th scope=col>nomb_sede</th></tr>\n",
              "\t<tr><th scope=col>&lt;chr&gt;</th></tr>\n",
              "</thead>\n",
              "<tbody>\n",
              "\t<tr><td>CAMPUS SAN JOAQUIN</td></tr>\n",
              "\t<tr><td>SEDE LO CONTADOR  </td></tr>\n",
              "\t<tr><td>CASA CENTRAL      </td></tr>\n",
              "\t<tr><td>CAMPUS ORIENTE    </td></tr>\n",
              "\t<tr><td>SEDE VILLARRICA   </td></tr>\n",
              "</tbody>\n",
              "</table>\n"
            ]
          },
          "metadata": {
            "tags": []
          }
        }
      ]
    },
    {
      "cell_type": "code",
      "metadata": {
        "colab": {
          "base_uri": "https://localhost:8080/",
          "height": 252
        },
        "id": "UpDsCiLwHMtB",
        "outputId": "01d3b3db-39b4-4a09-92da-4b7531c6872b"
      },
      "source": [
        "# Genere una tabla con la cantidad personas pertenecen a cada sede de la Universidad Católica\n",
        "dbGetQuery(conn, '\n",
        "select \n",
        "nomb_sede, count(cursa.MRUN) as \"Alumnos\"\n",
        "from sede, cursa, pertenece_a, se_imparte, carrera \n",
        "where  cursa.codigo_unico = carrera.codigo_unico\n",
        "and carrera.codigo_unico = se_imparte.codigo_unico\n",
        "and se_imparte.cod_sede = sede.cod_sede\n",
        "and sede.cod_sede = pertenece_a.cod_sede\n",
        "and pertenece_a.cod_inst = 86\n",
        "group by nomb_sede;')\n"
      ],
      "execution_count": null,
      "outputs": [
        {
          "output_type": "display_data",
          "data": {
            "text/plain": [
              "  nomb_sede          Alumnos\n",
              "1 CAMPUS ORIENTE       998  \n",
              "2 CAMPUS SAN JOAQUIN 25218  \n",
              "3 CASA CENTRAL        8755  \n",
              "4 SEDE LO CONTADOR    2294  \n",
              "5 SEDE VILLARRICA      251  "
            ],
            "text/latex": "A data.frame: 5 × 2\n\\begin{tabular}{ll}\n nomb\\_sede & Alumnos\\\\\n <chr> & <int>\\\\\n\\hline\n\t CAMPUS ORIENTE     &   998\\\\\n\t CAMPUS SAN JOAQUIN & 25218\\\\\n\t CASA CENTRAL       &  8755\\\\\n\t SEDE LO CONTADOR   &  2294\\\\\n\t SEDE VILLARRICA    &   251\\\\\n\\end{tabular}\n",
            "text/markdown": "\nA data.frame: 5 × 2\n\n| nomb_sede &lt;chr&gt; | Alumnos &lt;int&gt; |\n|---|---|\n| CAMPUS ORIENTE     |   998 |\n| CAMPUS SAN JOAQUIN | 25218 |\n| CASA CENTRAL       |  8755 |\n| SEDE LO CONTADOR   |  2294 |\n| SEDE VILLARRICA    |   251 |\n\n",
            "text/html": [
              "<table class=\"dataframe\">\n",
              "<caption>A data.frame: 5 × 2</caption>\n",
              "<thead>\n",
              "\t<tr><th scope=col>nomb_sede</th><th scope=col>Alumnos</th></tr>\n",
              "\t<tr><th scope=col>&lt;chr&gt;</th><th scope=col>&lt;int&gt;</th></tr>\n",
              "</thead>\n",
              "<tbody>\n",
              "\t<tr><td>CAMPUS ORIENTE    </td><td>  998</td></tr>\n",
              "\t<tr><td>CAMPUS SAN JOAQUIN</td><td>25218</td></tr>\n",
              "\t<tr><td>CASA CENTRAL      </td><td> 8755</td></tr>\n",
              "\t<tr><td>SEDE LO CONTADOR  </td><td> 2294</td></tr>\n",
              "\t<tr><td>SEDE VILLARRICA   </td><td>  251</td></tr>\n",
              "</tbody>\n",
              "</table>\n"
            ]
          },
          "metadata": {
            "tags": []
          }
        }
      ]
    },
    {
      "cell_type": "code",
      "metadata": {
        "id": "vQHtlmuhFRCt",
        "colab": {
          "base_uri": "https://localhost:8080/",
          "height": 1000
        },
        "outputId": "2f11ee21-928b-4afc-d619-739e8340ae67"
      },
      "source": [
        "# Genere una tabla de la cantidad de sedes por institución y grafiquela\n",
        "sedes <- dbGetQuery(conn, '\n",
        "select \n",
        "nomb_inst, count(distinct(pertence_a.cod_sede)) as \"Cantidad_Sedes\"\n",
        "from  IES, pertenece_a \n",
        "where  and pertenece_a.cod_inst = IES.cod_inst \n",
        "group by pertenece_a.cod_inst;')\n",
        "sedes\n"
      ],
      "execution_count": null,
      "outputs": [
        {
          "output_type": "display_data",
          "data": {
            "text/plain": [
              "    nomb_inst                                                  Cantidad_Sedes\n",
              "1   UNIVERSIDAD GABRIELA MISTRAL                                1            \n",
              "2   UNIVERSIDAD FINIS TERRAE                                    1            \n",
              "3   UNIVERSIDAD DIEGO PORTALES                                  1            \n",
              "4   UNIVERSIDAD CENTRAL DE CHILE                                4            \n",
              "5   UNIVERSIDAD BOLIVARIANA                                     9            \n",
              "6   UNIVERSIDAD PEDRO DE VALDIVIA                               5            \n",
              "7   UNIVERSIDAD MAYOR                                          10            \n",
              "8   UNIVERSIDAD ACADEMIA DE HUMANISMO CRISTIANO                 2            \n",
              "9   UNIVERSIDAD SANTO TOMAS                                    14            \n",
              "10  UNIVERSIDAD LA REPUBLICA                                   11            \n",
              "11  UNIVERSIDAD SEK                                             3            \n",
              "12  UNIVERSIDAD DE LAS AMERICAS                                 6            \n",
              "13  UNIVERSIDAD ANDRES BELLO                                    4            \n",
              "14  UNIVERSIDAD DE VIÑA DEL MAR                                 1            \n",
              "15  UNIVERSIDAD ADOLFO IBAÑEZ                                   3            \n",
              "16  UNIVERSIDAD DE ARTES, CIENCIAS Y COMUNICACION - UNIACC      1            \n",
              "17  UNIVERSIDAD AUTONOMA DE CHILE                               4            \n",
              "18  UNIVERSIDAD DE LOS ANDES                                    1            \n",
              "19  UNIVERSIDAD ADVENTISTA DE CHILE                             1            \n",
              "20  UNIVERSIDAD SAN SEBASTIAN                                   5            \n",
              "21  UNIVERSIDAD CATOLICA CARDENAL RAUL SILVA HENRIQUEZ          1            \n",
              "22  UNIVERSIDAD DEL DESARROLLO                                  3            \n",
              "23  UNIVERSIDAD DE ACONCAGUA                                   11            \n",
              "24  UNIVERSIDAD LOS LEONES                                      1            \n",
              "25  UNIVERSIDAD BERNARDO O'HIGGINS                              2            \n",
              "26  UNIVERSIDAD TECNOLOGICA DE CHILE INACAP                    27            \n",
              "27  UNIVERSIDAD MIGUEL DE CERVANTES                             1            \n",
              "28  UNIVERSIDAD ALBERTO HURTADO                                 1            \n",
              "29  UNIVERSIDAD DE CHILE                                        1            \n",
              "30  UNIVERSIDAD DE SANTIAGO DE CHILE                            1            \n",
              "⋮   ⋮                                                          ⋮             \n",
              "111 CFT CEDUC - UCN                                            5             \n",
              "112 CFT PROANDES                                               2             \n",
              "113 CFT ACCIOMA                                                1             \n",
              "114 CFT DE TARAPACA                                            1             \n",
              "115 CFT UV                                                     1             \n",
              "116 CFT DE LA INDUSTRIA GRAFICA                                1             \n",
              "117 CFT PUCV                                                   6             \n",
              "118 CFT TEODORO WICKEL KLUWEN                                  2             \n",
              "119 UNIVERSIDAD CHILENO BRITANICA DE CULTURA                   1             \n",
              "120 IP INSTITUTO INTERNACIONAL DE ARTES CULINARIAS Y SERVICIOS 2             \n",
              "121 CFT PROFASOC                                               1             \n",
              "122 IP PROJAZZ                                                 1             \n",
              "123 CFT MANPOWER                                               1             \n",
              "124 IP ESCUELA DE CINE DE CHILE                                1             \n",
              "125 CFT ESCUELA CULINARIA FRANCESA                             1             \n",
              "126 IP DE ARTES ESCENICAS KAREN CONNOLLY                       1             \n",
              "127 IP ESCUELA DE MARINA MERCANTE PILOTO PARDO                 1             \n",
              "128 IP VERTICAL                                                1             \n",
              "129 UNIVERSIDAD DE O'HIGGINS                                   2             \n",
              "130 UNIVERSIDAD DE AYSEN                                       1             \n",
              "131 CFT DE LA REGION DE TARAPACA                               1             \n",
              "132 CFT DE LA REGION DE ANTOFAGASTA                            1             \n",
              "133 CFT DE LA REGION DE COQUIMBO                               1             \n",
              "134 CFT DE LA REGION DE VALPARAISO                             2             \n",
              "135 CFT DE LA REGION METROPOLITANA DE SANTIAGO                 1             \n",
              "136 CFT DE LA REGION DEL MAULE                                 1             \n",
              "137 CFT DE LA REGION DE LA ARAUCANIA                           1             \n",
              "138 CFT DE LA REGION DE LOS RIOS                               2             \n",
              "139 CFT DE LA REGION DE LOS LAGOS                              1             \n",
              "140 CFT DE LA REGION DE MAGALLANES Y ANTARTICA CHILENA         1             "
            ],
            "text/latex": "A data.frame: 140 × 2\n\\begin{tabular}{ll}\n nomb\\_inst & Cantidad\\_Sedes\\\\\n <chr> & <int>\\\\\n\\hline\n\t UNIVERSIDAD GABRIELA MISTRAL                           &  1\\\\\n\t UNIVERSIDAD FINIS TERRAE                               &  1\\\\\n\t UNIVERSIDAD DIEGO PORTALES                             &  1\\\\\n\t UNIVERSIDAD CENTRAL DE CHILE                           &  4\\\\\n\t UNIVERSIDAD BOLIVARIANA                                &  9\\\\\n\t UNIVERSIDAD PEDRO DE VALDIVIA                          &  5\\\\\n\t UNIVERSIDAD MAYOR                                      & 10\\\\\n\t UNIVERSIDAD ACADEMIA DE HUMANISMO CRISTIANO            &  2\\\\\n\t UNIVERSIDAD SANTO TOMAS                                & 14\\\\\n\t UNIVERSIDAD LA REPUBLICA                               & 11\\\\\n\t UNIVERSIDAD SEK                                        &  3\\\\\n\t UNIVERSIDAD DE LAS AMERICAS                            &  6\\\\\n\t UNIVERSIDAD ANDRES BELLO                               &  4\\\\\n\t UNIVERSIDAD DE VIÑA DEL MAR                            &  1\\\\\n\t UNIVERSIDAD ADOLFO IBAÑEZ                              &  3\\\\\n\t UNIVERSIDAD DE ARTES, CIENCIAS Y COMUNICACION - UNIACC &  1\\\\\n\t UNIVERSIDAD AUTONOMA DE CHILE                          &  4\\\\\n\t UNIVERSIDAD DE LOS ANDES                               &  1\\\\\n\t UNIVERSIDAD ADVENTISTA DE CHILE                        &  1\\\\\n\t UNIVERSIDAD SAN SEBASTIAN                              &  5\\\\\n\t UNIVERSIDAD CATOLICA CARDENAL RAUL SILVA HENRIQUEZ     &  1\\\\\n\t UNIVERSIDAD DEL DESARROLLO                             &  3\\\\\n\t UNIVERSIDAD DE ACONCAGUA                               & 11\\\\\n\t UNIVERSIDAD LOS LEONES                                 &  1\\\\\n\t UNIVERSIDAD BERNARDO O'HIGGINS                         &  2\\\\\n\t UNIVERSIDAD TECNOLOGICA DE CHILE INACAP                & 27\\\\\n\t UNIVERSIDAD MIGUEL DE CERVANTES                        &  1\\\\\n\t UNIVERSIDAD ALBERTO HURTADO                            &  1\\\\\n\t UNIVERSIDAD DE CHILE                                   &  1\\\\\n\t UNIVERSIDAD DE SANTIAGO DE CHILE                       &  1\\\\\n\t ⋮ & ⋮\\\\\n\t CFT CEDUC - UCN                                            & 5\\\\\n\t CFT PROANDES                                               & 2\\\\\n\t CFT ACCIOMA                                                & 1\\\\\n\t CFT DE TARAPACA                                            & 1\\\\\n\t CFT UV                                                     & 1\\\\\n\t CFT DE LA INDUSTRIA GRAFICA                                & 1\\\\\n\t CFT PUCV                                                   & 6\\\\\n\t CFT TEODORO WICKEL KLUWEN                                  & 2\\\\\n\t UNIVERSIDAD CHILENO BRITANICA DE CULTURA                   & 1\\\\\n\t IP INSTITUTO INTERNACIONAL DE ARTES CULINARIAS Y SERVICIOS & 2\\\\\n\t CFT PROFASOC                                               & 1\\\\\n\t IP PROJAZZ                                                 & 1\\\\\n\t CFT MANPOWER                                               & 1\\\\\n\t IP ESCUELA DE CINE DE CHILE                                & 1\\\\\n\t CFT ESCUELA CULINARIA FRANCESA                             & 1\\\\\n\t IP DE ARTES ESCENICAS KAREN CONNOLLY                       & 1\\\\\n\t IP ESCUELA DE MARINA MERCANTE PILOTO PARDO                 & 1\\\\\n\t IP VERTICAL                                                & 1\\\\\n\t UNIVERSIDAD DE O'HIGGINS                                   & 2\\\\\n\t UNIVERSIDAD DE AYSEN                                       & 1\\\\\n\t CFT DE LA REGION DE TARAPACA                               & 1\\\\\n\t CFT DE LA REGION DE ANTOFAGASTA                            & 1\\\\\n\t CFT DE LA REGION DE COQUIMBO                               & 1\\\\\n\t CFT DE LA REGION DE VALPARAISO                             & 2\\\\\n\t CFT DE LA REGION METROPOLITANA DE SANTIAGO                 & 1\\\\\n\t CFT DE LA REGION DEL MAULE                                 & 1\\\\\n\t CFT DE LA REGION DE LA ARAUCANIA                           & 1\\\\\n\t CFT DE LA REGION DE LOS RIOS                               & 2\\\\\n\t CFT DE LA REGION DE LOS LAGOS                              & 1\\\\\n\t CFT DE LA REGION DE MAGALLANES Y ANTARTICA CHILENA         & 1\\\\\n\\end{tabular}\n",
            "text/markdown": "\nA data.frame: 140 × 2\n\n| nomb_inst &lt;chr&gt; | Cantidad_Sedes &lt;int&gt; |\n|---|---|\n| UNIVERSIDAD GABRIELA MISTRAL                           |  1 |\n| UNIVERSIDAD FINIS TERRAE                               |  1 |\n| UNIVERSIDAD DIEGO PORTALES                             |  1 |\n| UNIVERSIDAD CENTRAL DE CHILE                           |  4 |\n| UNIVERSIDAD BOLIVARIANA                                |  9 |\n| UNIVERSIDAD PEDRO DE VALDIVIA                          |  5 |\n| UNIVERSIDAD MAYOR                                      | 10 |\n| UNIVERSIDAD ACADEMIA DE HUMANISMO CRISTIANO            |  2 |\n| UNIVERSIDAD SANTO TOMAS                                | 14 |\n| UNIVERSIDAD LA REPUBLICA                               | 11 |\n| UNIVERSIDAD SEK                                        |  3 |\n| UNIVERSIDAD DE LAS AMERICAS                            |  6 |\n| UNIVERSIDAD ANDRES BELLO                               |  4 |\n| UNIVERSIDAD DE VIÑA DEL MAR                            |  1 |\n| UNIVERSIDAD ADOLFO IBAÑEZ                              |  3 |\n| UNIVERSIDAD DE ARTES, CIENCIAS Y COMUNICACION - UNIACC |  1 |\n| UNIVERSIDAD AUTONOMA DE CHILE                          |  4 |\n| UNIVERSIDAD DE LOS ANDES                               |  1 |\n| UNIVERSIDAD ADVENTISTA DE CHILE                        |  1 |\n| UNIVERSIDAD SAN SEBASTIAN                              |  5 |\n| UNIVERSIDAD CATOLICA CARDENAL RAUL SILVA HENRIQUEZ     |  1 |\n| UNIVERSIDAD DEL DESARROLLO                             |  3 |\n| UNIVERSIDAD DE ACONCAGUA                               | 11 |\n| UNIVERSIDAD LOS LEONES                                 |  1 |\n| UNIVERSIDAD BERNARDO O'HIGGINS                         |  2 |\n| UNIVERSIDAD TECNOLOGICA DE CHILE INACAP                | 27 |\n| UNIVERSIDAD MIGUEL DE CERVANTES                        |  1 |\n| UNIVERSIDAD ALBERTO HURTADO                            |  1 |\n| UNIVERSIDAD DE CHILE                                   |  1 |\n| UNIVERSIDAD DE SANTIAGO DE CHILE                       |  1 |\n| ⋮ | ⋮ |\n| CFT CEDUC - UCN                                            | 5 |\n| CFT PROANDES                                               | 2 |\n| CFT ACCIOMA                                                | 1 |\n| CFT DE TARAPACA                                            | 1 |\n| CFT UV                                                     | 1 |\n| CFT DE LA INDUSTRIA GRAFICA                                | 1 |\n| CFT PUCV                                                   | 6 |\n| CFT TEODORO WICKEL KLUWEN                                  | 2 |\n| UNIVERSIDAD CHILENO BRITANICA DE CULTURA                   | 1 |\n| IP INSTITUTO INTERNACIONAL DE ARTES CULINARIAS Y SERVICIOS | 2 |\n| CFT PROFASOC                                               | 1 |\n| IP PROJAZZ                                                 | 1 |\n| CFT MANPOWER                                               | 1 |\n| IP ESCUELA DE CINE DE CHILE                                | 1 |\n| CFT ESCUELA CULINARIA FRANCESA                             | 1 |\n| IP DE ARTES ESCENICAS KAREN CONNOLLY                       | 1 |\n| IP ESCUELA DE MARINA MERCANTE PILOTO PARDO                 | 1 |\n| IP VERTICAL                                                | 1 |\n| UNIVERSIDAD DE O'HIGGINS                                   | 2 |\n| UNIVERSIDAD DE AYSEN                                       | 1 |\n| CFT DE LA REGION DE TARAPACA                               | 1 |\n| CFT DE LA REGION DE ANTOFAGASTA                            | 1 |\n| CFT DE LA REGION DE COQUIMBO                               | 1 |\n| CFT DE LA REGION DE VALPARAISO                             | 2 |\n| CFT DE LA REGION METROPOLITANA DE SANTIAGO                 | 1 |\n| CFT DE LA REGION DEL MAULE                                 | 1 |\n| CFT DE LA REGION DE LA ARAUCANIA                           | 1 |\n| CFT DE LA REGION DE LOS RIOS                               | 2 |\n| CFT DE LA REGION DE LOS LAGOS                              | 1 |\n| CFT DE LA REGION DE MAGALLANES Y ANTARTICA CHILENA         | 1 |\n\n",
            "text/html": [
              "<table class=\"dataframe\">\n",
              "<caption>A data.frame: 140 × 2</caption>\n",
              "<thead>\n",
              "\t<tr><th scope=col>nomb_inst</th><th scope=col>Cantidad_Sedes</th></tr>\n",
              "\t<tr><th scope=col>&lt;chr&gt;</th><th scope=col>&lt;int&gt;</th></tr>\n",
              "</thead>\n",
              "<tbody>\n",
              "\t<tr><td>UNIVERSIDAD GABRIELA MISTRAL                          </td><td> 1</td></tr>\n",
              "\t<tr><td>UNIVERSIDAD FINIS TERRAE                              </td><td> 1</td></tr>\n",
              "\t<tr><td>UNIVERSIDAD DIEGO PORTALES                            </td><td> 1</td></tr>\n",
              "\t<tr><td>UNIVERSIDAD CENTRAL DE CHILE                          </td><td> 4</td></tr>\n",
              "\t<tr><td>UNIVERSIDAD BOLIVARIANA                               </td><td> 9</td></tr>\n",
              "\t<tr><td>UNIVERSIDAD PEDRO DE VALDIVIA                         </td><td> 5</td></tr>\n",
              "\t<tr><td>UNIVERSIDAD MAYOR                                     </td><td>10</td></tr>\n",
              "\t<tr><td>UNIVERSIDAD ACADEMIA DE HUMANISMO CRISTIANO           </td><td> 2</td></tr>\n",
              "\t<tr><td>UNIVERSIDAD SANTO TOMAS                               </td><td>14</td></tr>\n",
              "\t<tr><td>UNIVERSIDAD LA REPUBLICA                              </td><td>11</td></tr>\n",
              "\t<tr><td>UNIVERSIDAD SEK                                       </td><td> 3</td></tr>\n",
              "\t<tr><td>UNIVERSIDAD DE LAS AMERICAS                           </td><td> 6</td></tr>\n",
              "\t<tr><td>UNIVERSIDAD ANDRES BELLO                              </td><td> 4</td></tr>\n",
              "\t<tr><td>UNIVERSIDAD DE VIÑA DEL MAR                           </td><td> 1</td></tr>\n",
              "\t<tr><td>UNIVERSIDAD ADOLFO IBAÑEZ                             </td><td> 3</td></tr>\n",
              "\t<tr><td>UNIVERSIDAD DE ARTES, CIENCIAS Y COMUNICACION - UNIACC</td><td> 1</td></tr>\n",
              "\t<tr><td>UNIVERSIDAD AUTONOMA DE CHILE                         </td><td> 4</td></tr>\n",
              "\t<tr><td>UNIVERSIDAD DE LOS ANDES                              </td><td> 1</td></tr>\n",
              "\t<tr><td>UNIVERSIDAD ADVENTISTA DE CHILE                       </td><td> 1</td></tr>\n",
              "\t<tr><td>UNIVERSIDAD SAN SEBASTIAN                             </td><td> 5</td></tr>\n",
              "\t<tr><td>UNIVERSIDAD CATOLICA CARDENAL RAUL SILVA HENRIQUEZ    </td><td> 1</td></tr>\n",
              "\t<tr><td>UNIVERSIDAD DEL DESARROLLO                            </td><td> 3</td></tr>\n",
              "\t<tr><td>UNIVERSIDAD DE ACONCAGUA                              </td><td>11</td></tr>\n",
              "\t<tr><td>UNIVERSIDAD LOS LEONES                                </td><td> 1</td></tr>\n",
              "\t<tr><td>UNIVERSIDAD BERNARDO O'HIGGINS                        </td><td> 2</td></tr>\n",
              "\t<tr><td>UNIVERSIDAD TECNOLOGICA DE CHILE INACAP               </td><td>27</td></tr>\n",
              "\t<tr><td>UNIVERSIDAD MIGUEL DE CERVANTES                       </td><td> 1</td></tr>\n",
              "\t<tr><td>UNIVERSIDAD ALBERTO HURTADO                           </td><td> 1</td></tr>\n",
              "\t<tr><td>UNIVERSIDAD DE CHILE                                  </td><td> 1</td></tr>\n",
              "\t<tr><td>UNIVERSIDAD DE SANTIAGO DE CHILE                      </td><td> 1</td></tr>\n",
              "\t<tr><td>⋮</td><td>⋮</td></tr>\n",
              "\t<tr><td>CFT CEDUC - UCN                                           </td><td>5</td></tr>\n",
              "\t<tr><td>CFT PROANDES                                              </td><td>2</td></tr>\n",
              "\t<tr><td>CFT ACCIOMA                                               </td><td>1</td></tr>\n",
              "\t<tr><td>CFT DE TARAPACA                                           </td><td>1</td></tr>\n",
              "\t<tr><td>CFT UV                                                    </td><td>1</td></tr>\n",
              "\t<tr><td>CFT DE LA INDUSTRIA GRAFICA                               </td><td>1</td></tr>\n",
              "\t<tr><td>CFT PUCV                                                  </td><td>6</td></tr>\n",
              "\t<tr><td>CFT TEODORO WICKEL KLUWEN                                 </td><td>2</td></tr>\n",
              "\t<tr><td>UNIVERSIDAD CHILENO BRITANICA DE CULTURA                  </td><td>1</td></tr>\n",
              "\t<tr><td>IP INSTITUTO INTERNACIONAL DE ARTES CULINARIAS Y SERVICIOS</td><td>2</td></tr>\n",
              "\t<tr><td>CFT PROFASOC                                              </td><td>1</td></tr>\n",
              "\t<tr><td>IP PROJAZZ                                                </td><td>1</td></tr>\n",
              "\t<tr><td>CFT MANPOWER                                              </td><td>1</td></tr>\n",
              "\t<tr><td>IP ESCUELA DE CINE DE CHILE                               </td><td>1</td></tr>\n",
              "\t<tr><td>CFT ESCUELA CULINARIA FRANCESA                            </td><td>1</td></tr>\n",
              "\t<tr><td>IP DE ARTES ESCENICAS KAREN CONNOLLY                      </td><td>1</td></tr>\n",
              "\t<tr><td>IP ESCUELA DE MARINA MERCANTE PILOTO PARDO                </td><td>1</td></tr>\n",
              "\t<tr><td>IP VERTICAL                                               </td><td>1</td></tr>\n",
              "\t<tr><td>UNIVERSIDAD DE O'HIGGINS                                  </td><td>2</td></tr>\n",
              "\t<tr><td>UNIVERSIDAD DE AYSEN                                      </td><td>1</td></tr>\n",
              "\t<tr><td>CFT DE LA REGION DE TARAPACA                              </td><td>1</td></tr>\n",
              "\t<tr><td>CFT DE LA REGION DE ANTOFAGASTA                           </td><td>1</td></tr>\n",
              "\t<tr><td>CFT DE LA REGION DE COQUIMBO                              </td><td>1</td></tr>\n",
              "\t<tr><td>CFT DE LA REGION DE VALPARAISO                            </td><td>2</td></tr>\n",
              "\t<tr><td>CFT DE LA REGION METROPOLITANA DE SANTIAGO                </td><td>1</td></tr>\n",
              "\t<tr><td>CFT DE LA REGION DEL MAULE                                </td><td>1</td></tr>\n",
              "\t<tr><td>CFT DE LA REGION DE LA ARAUCANIA                          </td><td>1</td></tr>\n",
              "\t<tr><td>CFT DE LA REGION DE LOS RIOS                              </td><td>2</td></tr>\n",
              "\t<tr><td>CFT DE LA REGION DE LOS LAGOS                             </td><td>1</td></tr>\n",
              "\t<tr><td>CFT DE LA REGION DE MAGALLANES Y ANTARTICA CHILENA        </td><td>1</td></tr>\n",
              "</tbody>\n",
              "</table>\n"
            ]
          },
          "metadata": {
            "tags": []
          }
        }
      ]
    },
    {
      "cell_type": "code",
      "metadata": {
        "colab": {
          "base_uri": "https://localhost:8080/",
          "height": 437
        },
        "id": "eE33XH74Pdqg",
        "outputId": "ad664e62-7047-4cfb-fb79-7a6a8bd22f7f"
      },
      "source": [
        "sedes %>%  ggplot(aes(x=nomb_inst,y=Cantidad_Sedes)) + \n",
        "            geom_bar(stat=\"identity\", position=\"stack\")\n"
      ],
      "execution_count": null,
      "outputs": [
        {
          "output_type": "display_data",
          "data": {
            "image/png": "[encoded data removed]",
            "text/plain": [
              "plot without title"
            ]
          },
          "metadata": {
            "tags": [],
            "image/png": {
              "width": 420,
              "height": 420
            }
          }
        }
      ]
    },
    {
      "cell_type": "code",
      "metadata": {
        "id": "kYfAY2soFckY",
        "colab": {
          "base_uri": "https://localhost:8080/",
          "height": 593
        },
        "outputId": "b84f832b-1e58-409c-ed33-51dfdbecda0e"
      },
      "source": [
        "# Grafique que regiones tienen mayor cantidad de alumnos\n",
        "sedes <- dbGetQuery(conn, '\n",
        "select \n",
        "region_sede, count(cursa.MRUN) as \"Alumnos_Region\"\n",
        "from sede, se_imparte, carrera, cursa\n",
        "where  cursa.codigo_unico = carrera.codigo_unico\n",
        "and carrera.codigo_unico = se_imparte.codigo_unico\n",
        "and se_imparte.cod_sede = sede.cod_sede\n",
        "group by sede.region_sede;')\n",
        "sedes"
      ],
      "execution_count": null,
      "outputs": [
        {
          "output_type": "display_data",
          "data": {
            "text/plain": [
              "   region_sede            Alumnos_Region\n",
              "1  Antofagasta             39008        \n",
              "2  Arica y Parinacota      16757        \n",
              "3  Atacama                 12087        \n",
              "4  Aysén                    2888        \n",
              "5  Biobío                 127683        \n",
              "6  Coquimbo                42641        \n",
              "7  La Araucanía            58653        \n",
              "8  Lib. Gral B. O'Higgins  27265        \n",
              "9  Los Lagos               42119        \n",
              "10 Los Ríos                26702        \n",
              "11 Magallanes               7033        \n",
              "12 Maule                   58218        \n",
              "13 Metropolitana          587047        \n",
              "14 Tarapacá                18690        \n",
              "15 Valparaíso             129964        \n",
              "16 Ñuble                   22900        "
            ],
            "text/latex": "A data.frame: 16 × 2\n\\begin{tabular}{ll}\n region\\_sede & Alumnos\\_Region\\\\\n <chr> & <int>\\\\\n\\hline\n\t Antofagasta            &  39008\\\\\n\t Arica y Parinacota     &  16757\\\\\n\t Atacama                &  12087\\\\\n\t Aysén                  &   2888\\\\\n\t Biobío                 & 127683\\\\\n\t Coquimbo               &  42641\\\\\n\t La Araucanía           &  58653\\\\\n\t Lib. Gral B. O'Higgins &  27265\\\\\n\t Los Lagos              &  42119\\\\\n\t Los Ríos               &  26702\\\\\n\t Magallanes             &   7033\\\\\n\t Maule                  &  58218\\\\\n\t Metropolitana          & 587047\\\\\n\t Tarapacá               &  18690\\\\\n\t Valparaíso             & 129964\\\\\n\t Ñuble                  &  22900\\\\\n\\end{tabular}\n",
            "text/markdown": "\nA data.frame: 16 × 2\n\n| region_sede &lt;chr&gt; | Alumnos_Region &lt;int&gt; |\n|---|---|\n| Antofagasta            |  39008 |\n| Arica y Parinacota     |  16757 |\n| Atacama                |  12087 |\n| Aysén                  |   2888 |\n| Biobío                 | 127683 |\n| Coquimbo               |  42641 |\n| La Araucanía           |  58653 |\n| Lib. Gral B. O'Higgins |  27265 |\n| Los Lagos              |  42119 |\n| Los Ríos               |  26702 |\n| Magallanes             |   7033 |\n| Maule                  |  58218 |\n| Metropolitana          | 587047 |\n| Tarapacá               |  18690 |\n| Valparaíso             | 129964 |\n| Ñuble                  |  22900 |\n\n",
            "text/html": [
              "<table class=\"dataframe\">\n",
              "<caption>A data.frame: 16 × 2</caption>\n",
              "<thead>\n",
              "\t<tr><th scope=col>region_sede</th><th scope=col>Alumnos_Region</th></tr>\n",
              "\t<tr><th scope=col>&lt;chr&gt;</th><th scope=col>&lt;int&gt;</th></tr>\n",
              "</thead>\n",
              "<tbody>\n",
              "\t<tr><td>Antofagasta           </td><td> 39008</td></tr>\n",
              "\t<tr><td>Arica y Parinacota    </td><td> 16757</td></tr>\n",
              "\t<tr><td>Atacama               </td><td> 12087</td></tr>\n",
              "\t<tr><td>Aysén                 </td><td>  2888</td></tr>\n",
              "\t<tr><td>Biobío                </td><td>127683</td></tr>\n",
              "\t<tr><td>Coquimbo              </td><td> 42641</td></tr>\n",
              "\t<tr><td>La Araucanía          </td><td> 58653</td></tr>\n",
              "\t<tr><td>Lib. Gral B. O'Higgins</td><td> 27265</td></tr>\n",
              "\t<tr><td>Los Lagos             </td><td> 42119</td></tr>\n",
              "\t<tr><td>Los Ríos              </td><td> 26702</td></tr>\n",
              "\t<tr><td>Magallanes            </td><td>  7033</td></tr>\n",
              "\t<tr><td>Maule                 </td><td> 58218</td></tr>\n",
              "\t<tr><td>Metropolitana         </td><td>587047</td></tr>\n",
              "\t<tr><td>Tarapacá              </td><td> 18690</td></tr>\n",
              "\t<tr><td>Valparaíso            </td><td>129964</td></tr>\n",
              "\t<tr><td>Ñuble                 </td><td> 22900</td></tr>\n",
              "</tbody>\n",
              "</table>\n"
            ]
          },
          "metadata": {
            "tags": []
          }
        }
      ]
    },
    {
      "cell_type": "code",
      "metadata": {
        "colab": {
          "base_uri": "https://localhost:8080/",
          "height": 437
        },
        "id": "u8_ysti7Rn6U",
        "outputId": "2d0e3fe8-dc6e-4507-e4fe-47c60bce0a4e"
      },
      "source": [
        "\n",
        "sedes %>%  ggplot(aes(x=region_sede,y=Alumnos_Region)) + \n",
        "            geom_bar(stat=\"identity\", position=\"stack\")"
      ],
      "execution_count": null,
      "outputs": [
        {
          "output_type": "display_data",
          "data": {
            "image/png": "[encoded data removed]",
            "text/plain": [
              "plot without title"
            ]
          },
          "metadata": {
            "tags": [],
            "image/png": {
              "width": 420,
              "height": 420
            }
          }
        }
      ]
    },
    {
      "cell_type": "markdown",
      "source": [
        "**Actividad**\n",
        "\n",
        "Ralice las siguientes consultas, graficando cuando sea necesario\n",
        "\n",
        "\n",
        "1.   Identifique la cantidad de alumnos que estudian en el sector OCDE \"Educación\" por cada región, y grafíquelo\n",
        "2.   Determine la cantidad de estudiantes de postgrado pertenecen a cada tipo de institución\n",
        "3.   Determine las comunas en que se encuentren las carreras de mayor duración, considerando solo instituciones acreditadas\n",
        "\n"
      ],
      "metadata": {
        "id": "_bYrnbH3eSrC"
      }
    },
    {
      "cell_type": "code",
      "source": [
        ""
      ],
      "metadata": {
        "id": "UydM5azXeR96"
      },
      "execution_count": null,
      "outputs": []
    }
  ]
}