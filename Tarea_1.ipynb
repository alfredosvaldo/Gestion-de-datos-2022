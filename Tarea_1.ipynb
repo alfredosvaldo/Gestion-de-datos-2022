{
  "nbformat": 4,
  "nbformat_minor": 0,
  "metadata": {
    "colab": {
      "name": "Tarea_1.ipynb",
      "provenance": [],
      "collapsed_sections": [],
      "include_colab_link": true
    },
    "kernelspec": {
      "name": "ir",
      "display_name": "R"
    },
    "language_info": {
      "name": "R"
    }
  },
  "cells": [
    {
      "cell_type": "markdown",
      "metadata": {
        "id": "view-in-github",
        "colab_type": "text"
      },
      "source": [
        "<a href=\"https://colab.research.google.com/github/maxigaarp/Gestion-de-datos-2022/blob/main/Tarea_1.ipynb\" target=\"_parent\"><img src=\"https://colab.research.google.com/assets/colab-badge.svg\" alt=\"Open In Colab\"/></a>"
      ]
    },
    {
      "cell_type": "markdown",
      "metadata": {
        "id": "O2vZlgQIqkLL"
      },
      "source": [
        "# **Tarea 1** (fecha de entrega: 18 de Junio 2021)\n"
      ]
    },
    {
      "cell_type": "markdown",
      "metadata": {
        "id": "sKzfHzvtb_rG"
      },
      "source": [
        "Esta tarea consiste en 7 preguntas, de las cuales solo se considerarán las 6 mejores para el cálculo de la nota. **Se espera el codigo asociado a la respuesta y comentarios que hagan comprensible la lectura de la solución**. Puede entregar la tarea en el formato que estime conveniente (doc, pdf, script de R, url de Colab) pero tenga en cuenta que debe adjuntar el código utilizado. Se recomienda el uso de Colab R (recordar dejar el notebook compartido con el ayudante para que este pueda abrirlo).\n",
        "\n"
      ]
    },
    {
      "cell_type": "markdown",
      "source": [
        "#Enunciado"
      ],
      "metadata": {
        "id": "B4hwoL79fqcO"
      }
    },
    {
      "cell_type": "markdown",
      "source": [
        "Tu empresa fue contratada por la Asociación de Navegación Marítima de Chile para manejar la información de buques, navieras, y distintas rutas que bueques realizan para las navieras. Similarmente, se guardará la información de personal marino, y en cuales buques estos trabajan. Por ahora, tu desarrollo te ha llevado definir el siguiente esquema:\n",
        "\n",
        "* $\\color{green}{\\textbf{Buques}}(\\color{red}{\\underline{\\text{buqueId}}}, \\color{red}{\\text{nombre}}, \\color{red}{\\text{capacidad}}, \\color{red}{\\text{capitanId}})$ \n",
        "* $\\color{green}{\\textbf{Navieras}}(\\color{red}{\\underline{\\text{navieraId}}}, \\color{red}{\\text{nombre}}, \\color{red}{\\text{pais}})$\n",
        "* $\\color{green}{\\textbf{Navegaciones}}(\\color{red}{\\underline{\\text{buqueId}}}, \\color{red}{\\underline{\\text{navieraId}}},  \\color{red}{{\\text{ruta}}})$\n",
        "* $\\color{green}{\\textbf{Personal}}(\\color{red}{\\underline{\\text{peronalId}}}, \n",
        "\\color{red}{{\\text{nombre}}}, \\color{red}{{\\text{edad}}},  \\color{red}{\\text{nacionalidad}})$\n",
        "* $\\color{green}{\\textbf{TrabajaEn}}(\\color{red}{\\underline{\\text{personalId}}}, \n",
        "\\color{red}{\\underline{\\text{buqueId}}})$\n",
        "\n",
        "Cómo un ejemplo, más abajo se muestra una instancia válida de tu esquema (puede ser que se revise la tarea con otra instancia). Es importante entender que un mismo buque puede ser contratado por varias naveras para realizar distintas rutas de trasbordo. Similarmente, una persona puede trabajar en más de un buque.\n"
      ],
      "metadata": {
        "id": "FwitH8cjO9TY"
      }
    },
    {
      "cell_type": "markdown",
      "source": [
        "#Reglas: \n",
        " - Las tablas que se entreguen como respuestas **no deben contener tuplas ni atributos adicionales a lo que se pregunta**.\n",
        " - No deben permitir que R modifique el nombre de un atributo por su cuenta (al hacer un inner_join de una tabla con ella misma por ejemplo), para evitar esto usen el comando rename.\n",
        " - Solo se debe responder usando los operadores vistos durante la segunda parte de la clase 2:\n",
        "  - select\n",
        "  - filter\n",
        "  - union\n",
        "  - rename\n",
        "  - crossing\n",
        "  - join\n",
        "  - setdiff\n",
        "  - anti_join"
      ],
      "metadata": {
        "id": "ISXM4xT1TMP8"
      }
    },
    {
      "cell_type": "markdown",
      "source": [
        "#Bases de datos"
      ],
      "metadata": {
        "id": "VS7BKzPjfuc9"
      }
    },
    {
      "cell_type": "code",
      "execution_count": null,
      "metadata": {
        "id": "88UivwhCOPje",
        "colab": {
          "base_uri": "https://localhost:8080/"
        },
        "outputId": "df934e8f-fb2a-466f-d49e-690257466d6f"
      },
      "outputs": [
        {
          "output_type": "stream",
          "name": "stderr",
          "text": [
            "Warning message in system(\"timedatectl\", intern = TRUE):\n",
            "“running command 'timedatectl' had status 1”\n",
            "── \u001b[1mAttaching packages\u001b[22m ─────────────────────────────────────── tidyverse 1.3.1 ──\n",
            "\n",
            "\u001b[32m✔\u001b[39m \u001b[34mggplot2\u001b[39m 3.3.6     \u001b[32m✔\u001b[39m \u001b[34mpurrr  \u001b[39m 0.3.4\n",
            "\u001b[32m✔\u001b[39m \u001b[34mtibble \u001b[39m 3.1.7     \u001b[32m✔\u001b[39m \u001b[34mdplyr  \u001b[39m 1.0.9\n",
            "\u001b[32m✔\u001b[39m \u001b[34mtidyr  \u001b[39m 1.2.0     \u001b[32m✔\u001b[39m \u001b[34mstringr\u001b[39m 1.4.0\n",
            "\u001b[32m✔\u001b[39m \u001b[34mreadr  \u001b[39m 2.1.2     \u001b[32m✔\u001b[39m \u001b[34mforcats\u001b[39m 0.5.1\n",
            "\n",
            "── \u001b[1mConflicts\u001b[22m ────────────────────────────────────────── tidyverse_conflicts() ──\n",
            "\u001b[31m✖\u001b[39m \u001b[34mdplyr\u001b[39m::\u001b[32mfilter()\u001b[39m masks \u001b[34mstats\u001b[39m::filter()\n",
            "\u001b[31m✖\u001b[39m \u001b[34mdplyr\u001b[39m::\u001b[32mlag()\u001b[39m    masks \u001b[34mstats\u001b[39m::lag()\n",
            "\n"
          ]
        }
      ],
      "source": [
        "library(tidyverse)"
      ]
    },
    {
      "cell_type": "code",
      "source": [
        "buques <- tribble(\n",
        "  ~buqueId, ~nombre, ~capacidad, ~capitanId,\n",
        "  #-------/---------/----------/-----------\n",
        "  \"b1\", \"El Inundado\", 4000, \"p22\",\n",
        "  \"b2\", \"Gotas Saladas\", 2010, \"p1\",\n",
        "  \"b3\", \"Falucho\", 4085, \"p21\",\n",
        "  \"b4\", \"Lento\", 2989, \"p33\"\n",
        ")\n",
        "\n",
        "navieras <- tribble(\n",
        "  ~navieraId, ~nombre, ~pais,\n",
        "  #-------/---------/----------\n",
        "  \"n1\", \"Lagos del Sur\", \"Chile\",\n",
        "  \"n2\", \"Somarco\", \"Chile\",\n",
        "  \"n3\", \"Ultramar\", \"Argentina\",\n",
        "  \"n4\", \"Broom\", \"Chile\"\n",
        ")\n",
        "\n",
        "navegaciones <- tribble(\n",
        "  ~buqueId, ~navieraId, ~ruta,\n",
        "  #-------/---------/----------\n",
        "  \"b1\", \"n1\", \"Chiloe Norte\",\n",
        "  \"b2\", \"n1\", \"Cruce Lago General Carrera\",\n",
        "  \"b1\", \"n2\", \"Puerto Murta - Chile Chico\",\n",
        "  \"b3\", \"n3\", \"Chaiten - Hornopiren\"\n",
        ")\n",
        "\n",
        "personal <- tribble(\n",
        "  ~personalId, ~nombre, ~edad, ~nacionalidad,\n",
        "  #-------/---------/----------/-----------\n",
        "  \"p1\", \"Ian McIntosh\", 32, \"Escocia\",\n",
        "  \"p2\", \"Christian Rutter\", 24, \"Alemania\",\n",
        "  \"p3\", \"Mark Boyle\", 33, \"EE.UU.\",\n",
        "  \"p4\", \"Victoria Kostylev\", 48, \"Chile\",\n",
        "  \"p5\", \"Ian Stolberg\", 44, \"Suecia\"\n",
        ")\n",
        "\n",
        "trabajaEn <- tribble(\n",
        "  ~personalId, ~buqueId,\n",
        "  #-------/---------\n",
        "  \"p1\", \"b2\",\n",
        "  \"p1\", \"b4\",\n",
        "  \"p3\", \"b4\",\n",
        "  \"p4\", \"b4\",\n",
        "  \"p2\", \"b3\",\n",
        "  \"p2\", \"b2\",\n",
        "  \"p3\", \"b3\"\n",
        ")"
      ],
      "metadata": {
        "id": "ruWROIxuRTmR"
      },
      "execution_count": null,
      "outputs": []
    },
    {
      "cell_type": "code",
      "source": [
        "buques"
      ],
      "metadata": {
        "colab": {
          "base_uri": "https://localhost:8080/",
          "height": 224
        },
        "id": "ZDRG_W1uLzT2",
        "outputId": "e9eb0ef6-038a-41c5-f83c-26b0f881ff7f"
      },
      "execution_count": null,
      "outputs": [
        {
          "output_type": "display_data",
          "data": {
            "text/html": [
              "<table class=\"dataframe\">\n",
              "<caption>A tibble: 4 × 4</caption>\n",
              "<thead>\n",
              "\t<tr><th scope=col>buqueId</th><th scope=col>nombre</th><th scope=col>capacidad</th><th scope=col>capitanId</th></tr>\n",
              "\t<tr><th scope=col>&lt;chr&gt;</th><th scope=col>&lt;chr&gt;</th><th scope=col>&lt;dbl&gt;</th><th scope=col>&lt;chr&gt;</th></tr>\n",
              "</thead>\n",
              "<tbody>\n",
              "\t<tr><td>b1</td><td>El Inundado  </td><td>4000</td><td>p22</td></tr>\n",
              "\t<tr><td>b2</td><td>Gotas Saladas</td><td>2010</td><td>p1 </td></tr>\n",
              "\t<tr><td>b3</td><td>Falucho      </td><td>4085</td><td>p21</td></tr>\n",
              "\t<tr><td>b4</td><td>Lento        </td><td>2989</td><td>p33</td></tr>\n",
              "</tbody>\n",
              "</table>\n"
            ],
            "text/markdown": "\nA tibble: 4 × 4\n\n| buqueId &lt;chr&gt; | nombre &lt;chr&gt; | capacidad &lt;dbl&gt; | capitanId &lt;chr&gt; |\n|---|---|---|---|\n| b1 | El Inundado   | 4000 | p22 |\n| b2 | Gotas Saladas | 2010 | p1  |\n| b3 | Falucho       | 4085 | p21 |\n| b4 | Lento         | 2989 | p33 |\n\n",
            "text/latex": "A tibble: 4 × 4\n\\begin{tabular}{llll}\n buqueId & nombre & capacidad & capitanId\\\\\n <chr> & <chr> & <dbl> & <chr>\\\\\n\\hline\n\t b1 & El Inundado   & 4000 & p22\\\\\n\t b2 & Gotas Saladas & 2010 & p1 \\\\\n\t b3 & Falucho       & 4085 & p21\\\\\n\t b4 & Lento         & 2989 & p33\\\\\n\\end{tabular}\n",
            "text/plain": [
              "  buqueId nombre        capacidad capitanId\n",
              "1 b1      El Inundado   4000      p22      \n",
              "2 b2      Gotas Saladas 2010      p1       \n",
              "3 b3      Falucho       4085      p21      \n",
              "4 b4      Lento         2989      p33      "
            ]
          },
          "metadata": {}
        }
      ]
    },
    {
      "cell_type": "code",
      "source": [
        "navieras"
      ],
      "metadata": {
        "colab": {
          "base_uri": "https://localhost:8080/",
          "height": 224
        },
        "id": "nH6WHZc4L1Ny",
        "outputId": "657e641d-05f9-46a3-cabe-1c9b7ea479c1"
      },
      "execution_count": null,
      "outputs": [
        {
          "output_type": "display_data",
          "data": {
            "text/html": [
              "<table class=\"dataframe\">\n",
              "<caption>A tibble: 4 × 3</caption>\n",
              "<thead>\n",
              "\t<tr><th scope=col>navieraId</th><th scope=col>nombre</th><th scope=col>pais</th></tr>\n",
              "\t<tr><th scope=col>&lt;chr&gt;</th><th scope=col>&lt;chr&gt;</th><th scope=col>&lt;chr&gt;</th></tr>\n",
              "</thead>\n",
              "<tbody>\n",
              "\t<tr><td>n1</td><td>Lagos del Sur</td><td>Chile    </td></tr>\n",
              "\t<tr><td>n2</td><td>Somarco      </td><td>Chile    </td></tr>\n",
              "\t<tr><td>n3</td><td>Ultramar     </td><td>Argentina</td></tr>\n",
              "\t<tr><td>n4</td><td>Broom        </td><td>Chile    </td></tr>\n",
              "</tbody>\n",
              "</table>\n"
            ],
            "text/markdown": "\nA tibble: 4 × 3\n\n| navieraId &lt;chr&gt; | nombre &lt;chr&gt; | pais &lt;chr&gt; |\n|---|---|---|\n| n1 | Lagos del Sur | Chile     |\n| n2 | Somarco       | Chile     |\n| n3 | Ultramar      | Argentina |\n| n4 | Broom         | Chile     |\n\n",
            "text/latex": "A tibble: 4 × 3\n\\begin{tabular}{lll}\n navieraId & nombre & pais\\\\\n <chr> & <chr> & <chr>\\\\\n\\hline\n\t n1 & Lagos del Sur & Chile    \\\\\n\t n2 & Somarco       & Chile    \\\\\n\t n3 & Ultramar      & Argentina\\\\\n\t n4 & Broom         & Chile    \\\\\n\\end{tabular}\n",
            "text/plain": [
              "  navieraId nombre        pais     \n",
              "1 n1        Lagos del Sur Chile    \n",
              "2 n2        Somarco       Chile    \n",
              "3 n3        Ultramar      Argentina\n",
              "4 n4        Broom         Chile    "
            ]
          },
          "metadata": {}
        }
      ]
    },
    {
      "cell_type": "code",
      "source": [
        "navegaciones"
      ],
      "metadata": {
        "colab": {
          "base_uri": "https://localhost:8080/",
          "height": 224
        },
        "id": "MWj2-dJVL1uZ",
        "outputId": "5160a959-d9c5-48c6-b946-653c7dfd3cf9"
      },
      "execution_count": null,
      "outputs": [
        {
          "output_type": "display_data",
          "data": {
            "text/html": [
              "<table class=\"dataframe\">\n",
              "<caption>A tibble: 4 × 3</caption>\n",
              "<thead>\n",
              "\t<tr><th scope=col>buqueId</th><th scope=col>navieraId</th><th scope=col>ruta</th></tr>\n",
              "\t<tr><th scope=col>&lt;chr&gt;</th><th scope=col>&lt;chr&gt;</th><th scope=col>&lt;chr&gt;</th></tr>\n",
              "</thead>\n",
              "<tbody>\n",
              "\t<tr><td>b1</td><td>n1</td><td>Chiloe Norte              </td></tr>\n",
              "\t<tr><td>b2</td><td>n1</td><td>Cruce Lago General Carrera</td></tr>\n",
              "\t<tr><td>b1</td><td>n2</td><td>Puerto Murta - Chile Chico</td></tr>\n",
              "\t<tr><td>b3</td><td>n3</td><td>Chaiten - Hornopiren      </td></tr>\n",
              "</tbody>\n",
              "</table>\n"
            ],
            "text/markdown": "\nA tibble: 4 × 3\n\n| buqueId &lt;chr&gt; | navieraId &lt;chr&gt; | ruta &lt;chr&gt; |\n|---|---|---|\n| b1 | n1 | Chiloe Norte               |\n| b2 | n1 | Cruce Lago General Carrera |\n| b1 | n2 | Puerto Murta - Chile Chico |\n| b3 | n3 | Chaiten - Hornopiren       |\n\n",
            "text/latex": "A tibble: 4 × 3\n\\begin{tabular}{lll}\n buqueId & navieraId & ruta\\\\\n <chr> & <chr> & <chr>\\\\\n\\hline\n\t b1 & n1 & Chiloe Norte              \\\\\n\t b2 & n1 & Cruce Lago General Carrera\\\\\n\t b1 & n2 & Puerto Murta - Chile Chico\\\\\n\t b3 & n3 & Chaiten - Hornopiren      \\\\\n\\end{tabular}\n",
            "text/plain": [
              "  buqueId navieraId ruta                      \n",
              "1 b1      n1        Chiloe Norte              \n",
              "2 b2      n1        Cruce Lago General Carrera\n",
              "3 b1      n2        Puerto Murta - Chile Chico\n",
              "4 b3      n3        Chaiten - Hornopiren      "
            ]
          },
          "metadata": {}
        }
      ]
    },
    {
      "cell_type": "code",
      "source": [
        "personal"
      ],
      "metadata": {
        "colab": {
          "base_uri": "https://localhost:8080/",
          "height": 255
        },
        "id": "PixQePtYL2F1",
        "outputId": "5233e35a-ac24-4533-b1cf-c4eacc5bd893"
      },
      "execution_count": null,
      "outputs": [
        {
          "output_type": "display_data",
          "data": {
            "text/html": [
              "<table class=\"dataframe\">\n",
              "<caption>A tibble: 5 × 4</caption>\n",
              "<thead>\n",
              "\t<tr><th scope=col>personalId</th><th scope=col>nombre</th><th scope=col>edad</th><th scope=col>nacionalidad</th></tr>\n",
              "\t<tr><th scope=col>&lt;chr&gt;</th><th scope=col>&lt;chr&gt;</th><th scope=col>&lt;dbl&gt;</th><th scope=col>&lt;chr&gt;</th></tr>\n",
              "</thead>\n",
              "<tbody>\n",
              "\t<tr><td>p1</td><td>Ian McIntosh     </td><td>32</td><td>Escocia </td></tr>\n",
              "\t<tr><td>p2</td><td>Christian Rutter </td><td>24</td><td>Alemania</td></tr>\n",
              "\t<tr><td>p3</td><td>Mark Boyle       </td><td>33</td><td>EE.UU.  </td></tr>\n",
              "\t<tr><td>p4</td><td>Victoria Kostylev</td><td>48</td><td>Chile   </td></tr>\n",
              "\t<tr><td>p5</td><td>Ian Stolberg     </td><td>44</td><td>Suecia  </td></tr>\n",
              "</tbody>\n",
              "</table>\n"
            ],
            "text/markdown": "\nA tibble: 5 × 4\n\n| personalId &lt;chr&gt; | nombre &lt;chr&gt; | edad &lt;dbl&gt; | nacionalidad &lt;chr&gt; |\n|---|---|---|---|\n| p1 | Ian McIntosh      | 32 | Escocia  |\n| p2 | Christian Rutter  | 24 | Alemania |\n| p3 | Mark Boyle        | 33 | EE.UU.   |\n| p4 | Victoria Kostylev | 48 | Chile    |\n| p5 | Ian Stolberg      | 44 | Suecia   |\n\n",
            "text/latex": "A tibble: 5 × 4\n\\begin{tabular}{llll}\n personalId & nombre & edad & nacionalidad\\\\\n <chr> & <chr> & <dbl> & <chr>\\\\\n\\hline\n\t p1 & Ian McIntosh      & 32 & Escocia \\\\\n\t p2 & Christian Rutter  & 24 & Alemania\\\\\n\t p3 & Mark Boyle        & 33 & EE.UU.  \\\\\n\t p4 & Victoria Kostylev & 48 & Chile   \\\\\n\t p5 & Ian Stolberg      & 44 & Suecia  \\\\\n\\end{tabular}\n",
            "text/plain": [
              "  personalId nombre            edad nacionalidad\n",
              "1 p1         Ian McIntosh      32   Escocia     \n",
              "2 p2         Christian Rutter  24   Alemania    \n",
              "3 p3         Mark Boyle        33   EE.UU.      \n",
              "4 p4         Victoria Kostylev 48   Chile       \n",
              "5 p5         Ian Stolberg      44   Suecia      "
            ]
          },
          "metadata": {}
        }
      ]
    },
    {
      "cell_type": "code",
      "source": [
        "trabajaEn"
      ],
      "metadata": {
        "colab": {
          "base_uri": "https://localhost:8080/",
          "height": 318
        },
        "id": "kS7eCh0vLXnu",
        "outputId": "81986012-1b95-4459-9352-a43cea05ffad"
      },
      "execution_count": null,
      "outputs": [
        {
          "output_type": "display_data",
          "data": {
            "text/html": [
              "<table class=\"dataframe\">\n",
              "<caption>A tibble: 7 × 2</caption>\n",
              "<thead>\n",
              "\t<tr><th scope=col>personalId</th><th scope=col>buqueId</th></tr>\n",
              "\t<tr><th scope=col>&lt;chr&gt;</th><th scope=col>&lt;chr&gt;</th></tr>\n",
              "</thead>\n",
              "<tbody>\n",
              "\t<tr><td>p1</td><td>b2</td></tr>\n",
              "\t<tr><td>p1</td><td>b4</td></tr>\n",
              "\t<tr><td>p3</td><td>b4</td></tr>\n",
              "\t<tr><td>p4</td><td>b4</td></tr>\n",
              "\t<tr><td>p2</td><td>b3</td></tr>\n",
              "\t<tr><td>p2</td><td>b2</td></tr>\n",
              "\t<tr><td>p3</td><td>b3</td></tr>\n",
              "</tbody>\n",
              "</table>\n"
            ],
            "text/markdown": "\nA tibble: 7 × 2\n\n| personalId &lt;chr&gt; | buqueId &lt;chr&gt; |\n|---|---|\n| p1 | b2 |\n| p1 | b4 |\n| p3 | b4 |\n| p4 | b4 |\n| p2 | b3 |\n| p2 | b2 |\n| p3 | b3 |\n\n",
            "text/latex": "A tibble: 7 × 2\n\\begin{tabular}{ll}\n personalId & buqueId\\\\\n <chr> & <chr>\\\\\n\\hline\n\t p1 & b2\\\\\n\t p1 & b4\\\\\n\t p3 & b4\\\\\n\t p4 & b4\\\\\n\t p2 & b3\\\\\n\t p2 & b2\\\\\n\t p3 & b3\\\\\n\\end{tabular}\n",
            "text/plain": [
              "  personalId buqueId\n",
              "1 p1         b2     \n",
              "2 p1         b4     \n",
              "3 p3         b4     \n",
              "4 p4         b4     \n",
              "5 p2         b3     \n",
              "6 p2         b2     \n",
              "7 p3         b3     "
            ]
          },
          "metadata": {}
        }
      ]
    },
    {
      "cell_type": "markdown",
      "source": [
        "#Pregunta 1\n",
        "Encuentre los nombres de todo el personal con edad menor a 25, o que son de nacionalidad Chilena."
      ],
      "metadata": {
        "id": "F3gv4wEpU2FD"
      }
    },
    {
      "cell_type": "code",
      "source": [
        ""
      ],
      "metadata": {
        "id": "oeWG2sc6UNa5"
      },
      "execution_count": null,
      "outputs": []
    },
    {
      "cell_type": "markdown",
      "source": [
        "#Pregunta 2\n",
        "Encuentre los identificadores (personalId) de todo el personal que trabaja en algun buque de la naviera \"Lagos del Sur\"."
      ],
      "metadata": {
        "id": "LfBQlYdWURwf"
      }
    },
    {
      "cell_type": "code",
      "source": [
        ""
      ],
      "metadata": {
        "id": "-1mVAyJHUaVB"
      },
      "execution_count": null,
      "outputs": []
    },
    {
      "cell_type": "markdown",
      "source": [
        "#Pregunta 3\n",
        "Para validar si sus datos son consistente, asegure que cada capitan de un bote también está registrado en la tabla $\\texttt{Personal}$. Para esto, escriba la operación que encuentre todos los id de los capitanes que no aparecen en la tabla de personal."
      ],
      "metadata": {
        "id": "6DZxb3CZUals"
      }
    },
    {
      "cell_type": "code",
      "source": [
        ""
      ],
      "metadata": {
        "id": "6nr4T9B6G_C6"
      },
      "execution_count": null,
      "outputs": []
    },
    {
      "cell_type": "markdown",
      "source": [
        "#Pregunta 4\n",
        "Encuentre los **nombres** de buques con el nombre de su naviera que han operado en la ruta \"Chiloe Norte\" o \"Puerto Murta - Chile Chico\"."
      ],
      "metadata": {
        "id": "vTIsD6wU39j7"
      }
    },
    {
      "cell_type": "code",
      "source": [
        ""
      ],
      "metadata": {
        "id": "mgbK-Gl94fKB"
      },
      "execution_count": null,
      "outputs": []
    },
    {
      "cell_type": "markdown",
      "source": [
        "#Pregunta 5\n",
        "Encuentre los nombres de los buques operando para más de una naviera.\n",
        "\n",
        "Hint: Puede hacer un join de una tabla consigo misma por algún atributo en común, y luego filtrar los resultados con el operador \"<\" otros dos atributosque se desea que sean distintos.\n"
      ],
      "metadata": {
        "id": "qtV-e3OiUo1T"
      }
    },
    {
      "cell_type": "code",
      "source": [
        ""
      ],
      "metadata": {
        "id": "rItXG17vUrNP"
      },
      "execution_count": null,
      "outputs": []
    },
    {
      "cell_type": "markdown",
      "source": [
        "#Pregunta 6\n",
        "Encuentre el nombre del buque con la capacidad más grande.\n",
        "\n",
        "Hint: Primero encuentre todos los buques que son menores a alguien. Luego use ese resultado para calcular los que **siempre** son mayores. "
      ],
      "metadata": {
        "id": "fWeNx_TxUrY9"
      }
    },
    {
      "cell_type": "code",
      "source": [
        ""
      ],
      "metadata": {
        "id": "x-WkZpsPUwBA"
      },
      "execution_count": null,
      "outputs": []
    },
    {
      "cell_type": "markdown",
      "source": [
        "#Pregunta 7\n",
        "Encuentre los nombres de todo el personal que trabaja para dos o más buques distintos."
      ],
      "metadata": {
        "id": "G5bRkUl3Uwja"
      }
    },
    {
      "cell_type": "code",
      "source": [
        ""
      ],
      "metadata": {
        "id": "52jjtxLuUylt"
      },
      "execution_count": null,
      "outputs": []
    }
  ]
}