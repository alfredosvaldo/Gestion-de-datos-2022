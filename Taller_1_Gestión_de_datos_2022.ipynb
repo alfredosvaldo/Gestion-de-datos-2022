{
  "nbformat": 4,
  "nbformat_minor": 0,
  "metadata": {
    "colab": {
      "name": "Taller 1 - Gestión de datos 2022",
      "provenance": [],
      "collapsed_sections": [],
      "include_colab_link": true
    },
    "kernelspec": {
      "name": "ir",
      "display_name": "R"
    },
    "language_info": {
      "name": "R"
    }
  },
  "cells": [
    {
      "cell_type": "markdown",
      "metadata": {
        "id": "view-in-github",
        "colab_type": "text"
      },
      "source": [
        "<a href=\"https://colab.research.google.com/github/maxigaarp/Gestion-de-datos-2022/blob/main/Taller_1_Gesti%C3%B3n_de_datos_2022.ipynb\" target=\"_parent\"><img src=\"https://colab.research.google.com/assets/colab-badge.svg\" alt=\"Open In Colab\"/></a>"
      ]
    },
    {
      "cell_type": "markdown",
      "metadata": {
        "id": "81ftIadHMr2y"
      },
      "source": [
        "#Instrucciones\n",
        "\n",
        "El taller lo dividiremos así:\n",
        "\n",
        "*   Trabajando con base de datos\n",
        "*   Graficar\n",
        "\n",
        "\n"
      ]
    },
    {
      "cell_type": "markdown",
      "metadata": {
        "id": "Dc46RIDrdOSd"
      },
      "source": [
        "# **Trabajando con bases de datos**"
      ]
    },
    {
      "cell_type": "markdown",
      "metadata": {
        "id": "X81Z5MTiNUjb"
      },
      "source": [
        "## Importando bases de datos a R\n",
        "\n",
        "Partiremos descargando las bases de datos con las que trabajaremos. Esto se puede hacer de manera directa mediante la consola de R o descargarlo y subirlo a **Colab** (¿qué es más rápido? ¿por qué?)"
      ]
    },
    {
      "cell_type": "code",
      "metadata": {
        "id": "yjs-wTwao6Tr"
      },
      "source": [
        "system(\"gdown https://drive.google.com/uc?id=1q089qSqKr7Ak29lUkzKSWjm2pcb_jzX0\")\n",
        "system(\"gdown https://drive.google.com/uc?id=17zq3NBv39yNEIY2WvCp-eE2KWz81aelj\")\n",
        "#system(\"gdown https://drive.google.com/uc?id=1XONI69-nB5JSVENgg63GQCO_Hup3_-0T\")\n"
      ],
      "execution_count": null,
      "outputs": []
    },
    {
      "cell_type": "code",
      "metadata": {
        "id": "koJhCNceq_6_"
      },
      "source": [
        "unzip(\"/content/notas_egresados.zip\")\n",
        "unzip(\"/content/matriculas_y_notas_anual.zip\")\n",
        "#unzip(\"/content/alumnos_prioritarios.zip\")\n"
      ],
      "execution_count": null,
      "outputs": []
    },
    {
      "cell_type": "markdown",
      "metadata": {
        "id": "0nMwb7CZNNkW"
      },
      "source": [
        "Usaremos primero una libreria para poder medir el tiempo entre las ejecuciones de los codigos y hacer un rápido benchmark"
      ]
    },
    {
      "cell_type": "code",
      "metadata": {
        "colab": {
          "base_uri": "https://localhost:8080/"
        },
        "id": "vp4HPzDxK3Oy",
        "outputId": "5f23aeef-2a83-4521-d204-3ca55d0eba2d"
      },
      "source": [
        "install.packages(\"tictoc\")\n",
        "library(\"tictoc\")"
      ],
      "execution_count": null,
      "outputs": [
        {
          "output_type": "stream",
          "name": "stderr",
          "text": [
            "Installing package into ‘/usr/local/lib/R/site-library’\n",
            "(as ‘lib’ is unspecified)\n",
            "\n"
          ]
        }
      ]
    },
    {
      "cell_type": "markdown",
      "metadata": {
        "id": "s_NO2sAENSqE"
      },
      "source": [
        "Ahora vamos a importar las bases de datos con dos comandos distintos.\n",
        "\n",
        "\n",
        "\n",
        "*   **read.csv**: comando de r-base (se incluye dentro de las funciones basicas de R)\n",
        "*   **fread**: comando de data.table, es necesario descargar e importar la libreria\n",
        "\n"
      ]
    },
    {
      "cell_type": "code",
      "metadata": {
        "colab": {
          "base_uri": "https://localhost:8080/"
        },
        "id": "dfIUty_DJPFH",
        "outputId": "59d2a977-9430-41fc-c603-394eea7024c8"
      },
      "source": [
        "tic()\n",
        "\n",
        "my_data <- list()\n",
        "years<-2007:2019\n",
        "for (i in 1:length(years)) {\n",
        "  my_data[[i]] <- read.csv(gsub(\"%\",years[i],\"content/notas_egresados/egresados%.csv\"))\n",
        "}\n",
        "\n",
        "toc()"
      ],
      "execution_count": null,
      "outputs": [
        {
          "output_type": "stream",
          "name": "stdout",
          "text": [
            "40.589 sec elapsed\n"
          ]
        }
      ]
    },
    {
      "cell_type": "markdown",
      "metadata": {
        "id": "xSiCFtfogi-o"
      },
      "source": [
        "**Pregunta**: ¿Que hace gsub?"
      ]
    },
    {
      "cell_type": "code",
      "metadata": {
        "colab": {
          "base_uri": "https://localhost:8080/"
        },
        "id": "ZO1dPdFILVuf",
        "outputId": "2f12677a-1ae3-47dd-df58-d5ebb55d2dfd"
      },
      "source": [
        "install.packages(\"data.table\")\n",
        "library(data.table)\n"
      ],
      "execution_count": null,
      "outputs": [
        {
          "output_type": "stream",
          "name": "stderr",
          "text": [
            "Installing package into ‘/usr/local/lib/R/site-library’\n",
            "(as ‘lib’ is unspecified)\n",
            "\n"
          ]
        }
      ]
    },
    {
      "cell_type": "code",
      "metadata": {
        "colab": {
          "base_uri": "https://localhost:8080/"
        },
        "id": "DeEmIU-FJ_gS",
        "outputId": "599dff07-5ce6-4a7a-fc43-bcefc1ace059"
      },
      "source": [
        "tic()\n",
        "\n",
        "my_data <- list()\n",
        "years<-2007:2019\n",
        "for (i in 1:length(years)) {\n",
        "  my_data[[i]] <- fread(gsub(\"%\",years[i],\"content/notas_egresados/egresados%.csv\"))\n",
        "}\n",
        "\n",
        "toc()"
      ],
      "execution_count": null,
      "outputs": [
        {
          "output_type": "stream",
          "name": "stdout",
          "text": [
            "2.639 sec elapsed\n"
          ]
        }
      ]
    },
    {
      "cell_type": "markdown",
      "metadata": {
        "id": "_9dMFPYILmu1"
      },
      "source": [
        "Podemos concluir que data.table es mejor que R-base?"
      ]
    },
    {
      "cell_type": "markdown",
      "metadata": {
        "id": "TXV3kJorfCp0"
      },
      "source": [
        "## ¿Que contienen las bases de datos?\n",
        "\n",
        "Podemos resolver estas dudas con algunos comandos que ya vimos: names, summary y str."
      ]
    },
    {
      "cell_type": "code",
      "metadata": {
        "colab": {
          "base_uri": "https://localhost:8080/",
          "height": 1000
        },
        "id": "mrYbQp1ThMbc",
        "outputId": "aeda85ad-e5e3-49fa-a348-5240e0e86c1e"
      },
      "source": [
        "egreso2007 <- my_data[[1]]\n",
        "egreso2007"
      ],
      "execution_count": null,
      "outputs": [
        {
          "output_type": "display_data",
          "data": {
            "text/html": [
              "<table class=\"dataframe\">\n",
              "<caption>A data.table: 966051 × 9</caption>\n",
              "<thead>\n",
              "\t<tr><th scope=col>agno</th><th scope=col>rbd</th><th scope=col>dgv_rbd</th><th scope=col>cod_ense</th><th scope=col>cod_grado</th><th scope=col>mrun</th><th scope=col>prom_notas_alu</th><th scope=col>ense_completa</th><th scope=col>marca_egreso</th></tr>\n",
              "\t<tr><th scope=col>&lt;int&gt;</th><th scope=col>&lt;int&gt;</th><th scope=col>&lt;int&gt;</th><th scope=col>&lt;int&gt;</th><th scope=col>&lt;int&gt;</th><th scope=col>&lt;int&gt;</th><th scope=col>&lt;chr&gt;</th><th scope=col>&lt;int&gt;</th><th scope=col>&lt;int&gt;</th></tr>\n",
              "</thead>\n",
              "<tbody>\n",
              "\t<tr><td>2007</td><td>25591</td><td>2</td><td>410</td><td>4</td><td>  3</td><td>6,2</td><td>1</td><td>1</td></tr>\n",
              "\t<tr><td>2007</td><td>10666</td><td>6</td><td>310</td><td>4</td><td>  4</td><td>5,5</td><td>1</td><td>1</td></tr>\n",
              "\t<tr><td>2007</td><td>10452</td><td>3</td><td>310</td><td>2</td><td>  5</td><td>4,7</td><td>1</td><td>0</td></tr>\n",
              "\t<tr><td>2007</td><td> 1517</td><td>2</td><td>310</td><td>4</td><td> 41</td><td>5,6</td><td>1</td><td>1</td></tr>\n",
              "\t<tr><td>2007</td><td>10635</td><td>6</td><td>310</td><td>3</td><td> 42</td><td>5,1</td><td>1</td><td>0</td></tr>\n",
              "\t<tr><td>2007</td><td> 8892</td><td>7</td><td>310</td><td>3</td><td> 43</td><td>6,6</td><td>1</td><td>0</td></tr>\n",
              "\t<tr><td>2007</td><td> 4555</td><td>1</td><td>310</td><td>3</td><td> 79</td><td>5,3</td><td>1</td><td>0</td></tr>\n",
              "\t<tr><td>2007</td><td>25487</td><td>8</td><td>310</td><td>3</td><td> 80</td><td>6,2</td><td>1</td><td>0</td></tr>\n",
              "\t<tr><td>2007</td><td>10220</td><td>2</td><td>310</td><td>2</td><td>118</td><td>4,9</td><td>1</td><td>0</td></tr>\n",
              "\t<tr><td>2007</td><td> 5465</td><td>8</td><td>310</td><td>4</td><td>201</td><td>5,7</td><td>1</td><td>1</td></tr>\n",
              "\t<tr><td>2007</td><td>10697</td><td>6</td><td>610</td><td>4</td><td>202</td><td>4,8</td><td>1</td><td>1</td></tr>\n",
              "\t<tr><td>2007</td><td> 8656</td><td>8</td><td>410</td><td>1</td><td>291</td><td>4,8</td><td>1</td><td>0</td></tr>\n",
              "\t<tr><td>2007</td><td>11885</td><td>0</td><td>510</td><td>3</td><td>324</td><td>4,9</td><td>1</td><td>0</td></tr>\n",
              "\t<tr><td>2007</td><td>25753</td><td>2</td><td>361</td><td>4</td><td>337</td><td>5,2</td><td>1</td><td>1</td></tr>\n",
              "\t<tr><td>2007</td><td>26087</td><td>8</td><td>361</td><td>4</td><td>340</td><td>5,1</td><td>1</td><td>1</td></tr>\n",
              "\t<tr><td>2007</td><td> 6051</td><td>8</td><td>610</td><td>1</td><td>353</td><td>5,7</td><td>1</td><td>0</td></tr>\n",
              "\t<tr><td>2007</td><td>10686</td><td>0</td><td>310</td><td>2</td><td>369</td><td>4,8</td><td>1</td><td>0</td></tr>\n",
              "\t<tr><td>2007</td><td> 9906</td><td>6</td><td>310</td><td>4</td><td>370</td><td>5,3</td><td>1</td><td>1</td></tr>\n",
              "\t<tr><td>2007</td><td> 3247</td><td>6</td><td>310</td><td>2</td><td>410</td><td>5,2</td><td>1</td><td>0</td></tr>\n",
              "\t<tr><td>2007</td><td> 2486</td><td>4</td><td>510</td><td>2</td><td>411</td><td>5,3</td><td>1</td><td>0</td></tr>\n",
              "\t<tr><td>2007</td><td>  648</td><td>3</td><td>310</td><td>4</td><td>481</td><td>5,4</td><td>1</td><td>1</td></tr>\n",
              "\t<tr><td>2007</td><td> 1590</td><td>3</td><td>510</td><td>3</td><td>522</td><td>5,3</td><td>1</td><td>0</td></tr>\n",
              "\t<tr><td>2007</td><td> 1503</td><td>2</td><td>510</td><td>3</td><td>523</td><td>5  </td><td>1</td><td>0</td></tr>\n",
              "\t<tr><td>2007</td><td> 4166</td><td>1</td><td>610</td><td>3</td><td>565</td><td>6,3</td><td>1</td><td>0</td></tr>\n",
              "\t<tr><td>2007</td><td> 9584</td><td>2</td><td>410</td><td>2</td><td>570</td><td>5,2</td><td>1</td><td>0</td></tr>\n",
              "\t<tr><td>2007</td><td> 9347</td><td>5</td><td>410</td><td>2</td><td>571</td><td>5,2</td><td>1</td><td>0</td></tr>\n",
              "\t<tr><td>2007</td><td>10831</td><td>6</td><td>310</td><td>1</td><td>574</td><td>5,4</td><td>1</td><td>0</td></tr>\n",
              "\t<tr><td>2007</td><td> 8813</td><td>7</td><td>510</td><td>3</td><td>650</td><td>4,8</td><td>1</td><td>0</td></tr>\n",
              "\t<tr><td>2007</td><td> 4166</td><td>1</td><td>610</td><td>2</td><td>676</td><td>5,2</td><td>1</td><td>0</td></tr>\n",
              "\t<tr><td>2007</td><td> 4555</td><td>1</td><td>310</td><td>1</td><td>704</td><td>5,3</td><td>1</td><td>0</td></tr>\n",
              "\t<tr><td>⋮</td><td>⋮</td><td>⋮</td><td>⋮</td><td>⋮</td><td>⋮</td><td>⋮</td><td>⋮</td><td>⋮</td></tr>\n",
              "\t<tr><td>2007</td><td>0</td><td>0</td><td>310</td><td>3</td><td>26101860</td><td>0</td><td>1</td><td>0</td></tr>\n",
              "\t<tr><td>2007</td><td>0</td><td>0</td><td>310</td><td>4</td><td>26101860</td><td>0</td><td>1</td><td>1</td></tr>\n",
              "\t<tr><td>2007</td><td>0</td><td>0</td><td>310</td><td>1</td><td>26102488</td><td>0</td><td>1</td><td>0</td></tr>\n",
              "\t<tr><td>2007</td><td>0</td><td>0</td><td>310</td><td>2</td><td>26102488</td><td>0</td><td>1</td><td>0</td></tr>\n",
              "\t<tr><td>2007</td><td>0</td><td>0</td><td>310</td><td>3</td><td>26102488</td><td>0</td><td>1</td><td>0</td></tr>\n",
              "\t<tr><td>2007</td><td>0</td><td>0</td><td>310</td><td>4</td><td>26102488</td><td>0</td><td>1</td><td>1</td></tr>\n",
              "\t<tr><td>2007</td><td>0</td><td>0</td><td>310</td><td>1</td><td>26102595</td><td>0</td><td>1</td><td>0</td></tr>\n",
              "\t<tr><td>2007</td><td>0</td><td>0</td><td>310</td><td>2</td><td>26102595</td><td>0</td><td>1</td><td>0</td></tr>\n",
              "\t<tr><td>2007</td><td>0</td><td>0</td><td>310</td><td>3</td><td>26102595</td><td>0</td><td>1</td><td>0</td></tr>\n",
              "\t<tr><td>2007</td><td>0</td><td>0</td><td>310</td><td>4</td><td>26102595</td><td>0</td><td>1</td><td>1</td></tr>\n",
              "\t<tr><td>2007</td><td>0</td><td>0</td><td>310</td><td>1</td><td>26102694</td><td>0</td><td>1</td><td>0</td></tr>\n",
              "\t<tr><td>2007</td><td>0</td><td>0</td><td>310</td><td>2</td><td>26102694</td><td>0</td><td>1</td><td>0</td></tr>\n",
              "\t<tr><td>2007</td><td>0</td><td>0</td><td>310</td><td>3</td><td>26102694</td><td>0</td><td>1</td><td>0</td></tr>\n",
              "\t<tr><td>2007</td><td>0</td><td>0</td><td>310</td><td>4</td><td>26102694</td><td>0</td><td>1</td><td>1</td></tr>\n",
              "\t<tr><td>2007</td><td>0</td><td>0</td><td>310</td><td>1</td><td>26103004</td><td>0</td><td>1</td><td>0</td></tr>\n",
              "\t<tr><td>2007</td><td>0</td><td>0</td><td>310</td><td>2</td><td>26103004</td><td>0</td><td>1</td><td>0</td></tr>\n",
              "\t<tr><td>2007</td><td>0</td><td>0</td><td>310</td><td>3</td><td>26103004</td><td>0</td><td>1</td><td>0</td></tr>\n",
              "\t<tr><td>2007</td><td>0</td><td>0</td><td>310</td><td>4</td><td>26103004</td><td>0</td><td>1</td><td>1</td></tr>\n",
              "\t<tr><td>2007</td><td>0</td><td>0</td><td>310</td><td>1</td><td>26103006</td><td>0</td><td>1</td><td>0</td></tr>\n",
              "\t<tr><td>2007</td><td>0</td><td>0</td><td>310</td><td>2</td><td>26103006</td><td>0</td><td>1</td><td>0</td></tr>\n",
              "\t<tr><td>2007</td><td>0</td><td>0</td><td>310</td><td>3</td><td>26103006</td><td>0</td><td>1</td><td>0</td></tr>\n",
              "\t<tr><td>2007</td><td>0</td><td>0</td><td>310</td><td>4</td><td>26103006</td><td>0</td><td>1</td><td>1</td></tr>\n",
              "\t<tr><td>2007</td><td>0</td><td>0</td><td>310</td><td>1</td><td>26103421</td><td>0</td><td>1</td><td>0</td></tr>\n",
              "\t<tr><td>2007</td><td>0</td><td>0</td><td>310</td><td>2</td><td>26103421</td><td>0</td><td>1</td><td>0</td></tr>\n",
              "\t<tr><td>2007</td><td>0</td><td>0</td><td>310</td><td>3</td><td>26103421</td><td>0</td><td>1</td><td>0</td></tr>\n",
              "\t<tr><td>2007</td><td>0</td><td>0</td><td>310</td><td>4</td><td>26103421</td><td>0</td><td>1</td><td>1</td></tr>\n",
              "\t<tr><td>2007</td><td>0</td><td>0</td><td>310</td><td>1</td><td>26103433</td><td>0</td><td>1</td><td>0</td></tr>\n",
              "\t<tr><td>2007</td><td>0</td><td>0</td><td>310</td><td>2</td><td>26103433</td><td>0</td><td>1</td><td>0</td></tr>\n",
              "\t<tr><td>2007</td><td>0</td><td>0</td><td>310</td><td>3</td><td>26103433</td><td>0</td><td>1</td><td>0</td></tr>\n",
              "\t<tr><td>2007</td><td>0</td><td>0</td><td>310</td><td>4</td><td>26103433</td><td>0</td><td>1</td><td>1</td></tr>\n",
              "</tbody>\n",
              "</table>\n"
            ],
            "text/markdown": "\nA data.table: 966051 × 9\n\n| agno &lt;int&gt; | rbd &lt;int&gt; | dgv_rbd &lt;int&gt; | cod_ense &lt;int&gt; | cod_grado &lt;int&gt; | mrun &lt;int&gt; | prom_notas_alu &lt;chr&gt; | ense_completa &lt;int&gt; | marca_egreso &lt;int&gt; |\n|---|---|---|---|---|---|---|---|---|\n| 2007 | 25591 | 2 | 410 | 4 |   3 | 6,2 | 1 | 1 |\n| 2007 | 10666 | 6 | 310 | 4 |   4 | 5,5 | 1 | 1 |\n| 2007 | 10452 | 3 | 310 | 2 |   5 | 4,7 | 1 | 0 |\n| 2007 |  1517 | 2 | 310 | 4 |  41 | 5,6 | 1 | 1 |\n| 2007 | 10635 | 6 | 310 | 3 |  42 | 5,1 | 1 | 0 |\n| 2007 |  8892 | 7 | 310 | 3 |  43 | 6,6 | 1 | 0 |\n| 2007 |  4555 | 1 | 310 | 3 |  79 | 5,3 | 1 | 0 |\n| 2007 | 25487 | 8 | 310 | 3 |  80 | 6,2 | 1 | 0 |\n| 2007 | 10220 | 2 | 310 | 2 | 118 | 4,9 | 1 | 0 |\n| 2007 |  5465 | 8 | 310 | 4 | 201 | 5,7 | 1 | 1 |\n| 2007 | 10697 | 6 | 610 | 4 | 202 | 4,8 | 1 | 1 |\n| 2007 |  8656 | 8 | 410 | 1 | 291 | 4,8 | 1 | 0 |\n| 2007 | 11885 | 0 | 510 | 3 | 324 | 4,9 | 1 | 0 |\n| 2007 | 25753 | 2 | 361 | 4 | 337 | 5,2 | 1 | 1 |\n| 2007 | 26087 | 8 | 361 | 4 | 340 | 5,1 | 1 | 1 |\n| 2007 |  6051 | 8 | 610 | 1 | 353 | 5,7 | 1 | 0 |\n| 2007 | 10686 | 0 | 310 | 2 | 369 | 4,8 | 1 | 0 |\n| 2007 |  9906 | 6 | 310 | 4 | 370 | 5,3 | 1 | 1 |\n| 2007 |  3247 | 6 | 310 | 2 | 410 | 5,2 | 1 | 0 |\n| 2007 |  2486 | 4 | 510 | 2 | 411 | 5,3 | 1 | 0 |\n| 2007 |   648 | 3 | 310 | 4 | 481 | 5,4 | 1 | 1 |\n| 2007 |  1590 | 3 | 510 | 3 | 522 | 5,3 | 1 | 0 |\n| 2007 |  1503 | 2 | 510 | 3 | 523 | 5   | 1 | 0 |\n| 2007 |  4166 | 1 | 610 | 3 | 565 | 6,3 | 1 | 0 |\n| 2007 |  9584 | 2 | 410 | 2 | 570 | 5,2 | 1 | 0 |\n| 2007 |  9347 | 5 | 410 | 2 | 571 | 5,2 | 1 | 0 |\n| 2007 | 10831 | 6 | 310 | 1 | 574 | 5,4 | 1 | 0 |\n| 2007 |  8813 | 7 | 510 | 3 | 650 | 4,8 | 1 | 0 |\n| 2007 |  4166 | 1 | 610 | 2 | 676 | 5,2 | 1 | 0 |\n| 2007 |  4555 | 1 | 310 | 1 | 704 | 5,3 | 1 | 0 |\n| ⋮ | ⋮ | ⋮ | ⋮ | ⋮ | ⋮ | ⋮ | ⋮ | ⋮ |\n| 2007 | 0 | 0 | 310 | 3 | 26101860 | 0 | 1 | 0 |\n| 2007 | 0 | 0 | 310 | 4 | 26101860 | 0 | 1 | 1 |\n| 2007 | 0 | 0 | 310 | 1 | 26102488 | 0 | 1 | 0 |\n| 2007 | 0 | 0 | 310 | 2 | 26102488 | 0 | 1 | 0 |\n| 2007 | 0 | 0 | 310 | 3 | 26102488 | 0 | 1 | 0 |\n| 2007 | 0 | 0 | 310 | 4 | 26102488 | 0 | 1 | 1 |\n| 2007 | 0 | 0 | 310 | 1 | 26102595 | 0 | 1 | 0 |\n| 2007 | 0 | 0 | 310 | 2 | 26102595 | 0 | 1 | 0 |\n| 2007 | 0 | 0 | 310 | 3 | 26102595 | 0 | 1 | 0 |\n| 2007 | 0 | 0 | 310 | 4 | 26102595 | 0 | 1 | 1 |\n| 2007 | 0 | 0 | 310 | 1 | 26102694 | 0 | 1 | 0 |\n| 2007 | 0 | 0 | 310 | 2 | 26102694 | 0 | 1 | 0 |\n| 2007 | 0 | 0 | 310 | 3 | 26102694 | 0 | 1 | 0 |\n| 2007 | 0 | 0 | 310 | 4 | 26102694 | 0 | 1 | 1 |\n| 2007 | 0 | 0 | 310 | 1 | 26103004 | 0 | 1 | 0 |\n| 2007 | 0 | 0 | 310 | 2 | 26103004 | 0 | 1 | 0 |\n| 2007 | 0 | 0 | 310 | 3 | 26103004 | 0 | 1 | 0 |\n| 2007 | 0 | 0 | 310 | 4 | 26103004 | 0 | 1 | 1 |\n| 2007 | 0 | 0 | 310 | 1 | 26103006 | 0 | 1 | 0 |\n| 2007 | 0 | 0 | 310 | 2 | 26103006 | 0 | 1 | 0 |\n| 2007 | 0 | 0 | 310 | 3 | 26103006 | 0 | 1 | 0 |\n| 2007 | 0 | 0 | 310 | 4 | 26103006 | 0 | 1 | 1 |\n| 2007 | 0 | 0 | 310 | 1 | 26103421 | 0 | 1 | 0 |\n| 2007 | 0 | 0 | 310 | 2 | 26103421 | 0 | 1 | 0 |\n| 2007 | 0 | 0 | 310 | 3 | 26103421 | 0 | 1 | 0 |\n| 2007 | 0 | 0 | 310 | 4 | 26103421 | 0 | 1 | 1 |\n| 2007 | 0 | 0 | 310 | 1 | 26103433 | 0 | 1 | 0 |\n| 2007 | 0 | 0 | 310 | 2 | 26103433 | 0 | 1 | 0 |\n| 2007 | 0 | 0 | 310 | 3 | 26103433 | 0 | 1 | 0 |\n| 2007 | 0 | 0 | 310 | 4 | 26103433 | 0 | 1 | 1 |\n\n",
            "text/latex": "A data.table: 966051 × 9\n\\begin{tabular}{lllllllll}\n agno & rbd & dgv\\_rbd & cod\\_ense & cod\\_grado & mrun & prom\\_notas\\_alu & ense\\_completa & marca\\_egreso\\\\\n <int> & <int> & <int> & <int> & <int> & <int> & <chr> & <int> & <int>\\\\\n\\hline\n\t 2007 & 25591 & 2 & 410 & 4 &   3 & 6,2 & 1 & 1\\\\\n\t 2007 & 10666 & 6 & 310 & 4 &   4 & 5,5 & 1 & 1\\\\\n\t 2007 & 10452 & 3 & 310 & 2 &   5 & 4,7 & 1 & 0\\\\\n\t 2007 &  1517 & 2 & 310 & 4 &  41 & 5,6 & 1 & 1\\\\\n\t 2007 & 10635 & 6 & 310 & 3 &  42 & 5,1 & 1 & 0\\\\\n\t 2007 &  8892 & 7 & 310 & 3 &  43 & 6,6 & 1 & 0\\\\\n\t 2007 &  4555 & 1 & 310 & 3 &  79 & 5,3 & 1 & 0\\\\\n\t 2007 & 25487 & 8 & 310 & 3 &  80 & 6,2 & 1 & 0\\\\\n\t 2007 & 10220 & 2 & 310 & 2 & 118 & 4,9 & 1 & 0\\\\\n\t 2007 &  5465 & 8 & 310 & 4 & 201 & 5,7 & 1 & 1\\\\\n\t 2007 & 10697 & 6 & 610 & 4 & 202 & 4,8 & 1 & 1\\\\\n\t 2007 &  8656 & 8 & 410 & 1 & 291 & 4,8 & 1 & 0\\\\\n\t 2007 & 11885 & 0 & 510 & 3 & 324 & 4,9 & 1 & 0\\\\\n\t 2007 & 25753 & 2 & 361 & 4 & 337 & 5,2 & 1 & 1\\\\\n\t 2007 & 26087 & 8 & 361 & 4 & 340 & 5,1 & 1 & 1\\\\\n\t 2007 &  6051 & 8 & 610 & 1 & 353 & 5,7 & 1 & 0\\\\\n\t 2007 & 10686 & 0 & 310 & 2 & 369 & 4,8 & 1 & 0\\\\\n\t 2007 &  9906 & 6 & 310 & 4 & 370 & 5,3 & 1 & 1\\\\\n\t 2007 &  3247 & 6 & 310 & 2 & 410 & 5,2 & 1 & 0\\\\\n\t 2007 &  2486 & 4 & 510 & 2 & 411 & 5,3 & 1 & 0\\\\\n\t 2007 &   648 & 3 & 310 & 4 & 481 & 5,4 & 1 & 1\\\\\n\t 2007 &  1590 & 3 & 510 & 3 & 522 & 5,3 & 1 & 0\\\\\n\t 2007 &  1503 & 2 & 510 & 3 & 523 & 5   & 1 & 0\\\\\n\t 2007 &  4166 & 1 & 610 & 3 & 565 & 6,3 & 1 & 0\\\\\n\t 2007 &  9584 & 2 & 410 & 2 & 570 & 5,2 & 1 & 0\\\\\n\t 2007 &  9347 & 5 & 410 & 2 & 571 & 5,2 & 1 & 0\\\\\n\t 2007 & 10831 & 6 & 310 & 1 & 574 & 5,4 & 1 & 0\\\\\n\t 2007 &  8813 & 7 & 510 & 3 & 650 & 4,8 & 1 & 0\\\\\n\t 2007 &  4166 & 1 & 610 & 2 & 676 & 5,2 & 1 & 0\\\\\n\t 2007 &  4555 & 1 & 310 & 1 & 704 & 5,3 & 1 & 0\\\\\n\t ⋮ & ⋮ & ⋮ & ⋮ & ⋮ & ⋮ & ⋮ & ⋮ & ⋮\\\\\n\t 2007 & 0 & 0 & 310 & 3 & 26101860 & 0 & 1 & 0\\\\\n\t 2007 & 0 & 0 & 310 & 4 & 26101860 & 0 & 1 & 1\\\\\n\t 2007 & 0 & 0 & 310 & 1 & 26102488 & 0 & 1 & 0\\\\\n\t 2007 & 0 & 0 & 310 & 2 & 26102488 & 0 & 1 & 0\\\\\n\t 2007 & 0 & 0 & 310 & 3 & 26102488 & 0 & 1 & 0\\\\\n\t 2007 & 0 & 0 & 310 & 4 & 26102488 & 0 & 1 & 1\\\\\n\t 2007 & 0 & 0 & 310 & 1 & 26102595 & 0 & 1 & 0\\\\\n\t 2007 & 0 & 0 & 310 & 2 & 26102595 & 0 & 1 & 0\\\\\n\t 2007 & 0 & 0 & 310 & 3 & 26102595 & 0 & 1 & 0\\\\\n\t 2007 & 0 & 0 & 310 & 4 & 26102595 & 0 & 1 & 1\\\\\n\t 2007 & 0 & 0 & 310 & 1 & 26102694 & 0 & 1 & 0\\\\\n\t 2007 & 0 & 0 & 310 & 2 & 26102694 & 0 & 1 & 0\\\\\n\t 2007 & 0 & 0 & 310 & 3 & 26102694 & 0 & 1 & 0\\\\\n\t 2007 & 0 & 0 & 310 & 4 & 26102694 & 0 & 1 & 1\\\\\n\t 2007 & 0 & 0 & 310 & 1 & 26103004 & 0 & 1 & 0\\\\\n\t 2007 & 0 & 0 & 310 & 2 & 26103004 & 0 & 1 & 0\\\\\n\t 2007 & 0 & 0 & 310 & 3 & 26103004 & 0 & 1 & 0\\\\\n\t 2007 & 0 & 0 & 310 & 4 & 26103004 & 0 & 1 & 1\\\\\n\t 2007 & 0 & 0 & 310 & 1 & 26103006 & 0 & 1 & 0\\\\\n\t 2007 & 0 & 0 & 310 & 2 & 26103006 & 0 & 1 & 0\\\\\n\t 2007 & 0 & 0 & 310 & 3 & 26103006 & 0 & 1 & 0\\\\\n\t 2007 & 0 & 0 & 310 & 4 & 26103006 & 0 & 1 & 1\\\\\n\t 2007 & 0 & 0 & 310 & 1 & 26103421 & 0 & 1 & 0\\\\\n\t 2007 & 0 & 0 & 310 & 2 & 26103421 & 0 & 1 & 0\\\\\n\t 2007 & 0 & 0 & 310 & 3 & 26103421 & 0 & 1 & 0\\\\\n\t 2007 & 0 & 0 & 310 & 4 & 26103421 & 0 & 1 & 1\\\\\n\t 2007 & 0 & 0 & 310 & 1 & 26103433 & 0 & 1 & 0\\\\\n\t 2007 & 0 & 0 & 310 & 2 & 26103433 & 0 & 1 & 0\\\\\n\t 2007 & 0 & 0 & 310 & 3 & 26103433 & 0 & 1 & 0\\\\\n\t 2007 & 0 & 0 & 310 & 4 & 26103433 & 0 & 1 & 1\\\\\n\\end{tabular}\n",
            "text/plain": [
              "       agno rbd   dgv_rbd cod_ense cod_grado mrun     prom_notas_alu\n",
              "1      2007 25591 2       410      4           3      6,2           \n",
              "2      2007 10666 6       310      4           4      5,5           \n",
              "3      2007 10452 3       310      2           5      4,7           \n",
              "4      2007  1517 2       310      4          41      5,6           \n",
              "5      2007 10635 6       310      3          42      5,1           \n",
              "6      2007  8892 7       310      3          43      6,6           \n",
              "7      2007  4555 1       310      3          79      5,3           \n",
              "8      2007 25487 8       310      3          80      6,2           \n",
              "9      2007 10220 2       310      2         118      4,9           \n",
              "10     2007  5465 8       310      4         201      5,7           \n",
              "11     2007 10697 6       610      4         202      4,8           \n",
              "12     2007  8656 8       410      1         291      4,8           \n",
              "13     2007 11885 0       510      3         324      4,9           \n",
              "14     2007 25753 2       361      4         337      5,2           \n",
              "15     2007 26087 8       361      4         340      5,1           \n",
              "16     2007  6051 8       610      1         353      5,7           \n",
              "17     2007 10686 0       310      2         369      4,8           \n",
              "18     2007  9906 6       310      4         370      5,3           \n",
              "19     2007  3247 6       310      2         410      5,2           \n",
              "20     2007  2486 4       510      2         411      5,3           \n",
              "21     2007   648 3       310      4         481      5,4           \n",
              "22     2007  1590 3       510      3         522      5,3           \n",
              "23     2007  1503 2       510      3         523      5             \n",
              "24     2007  4166 1       610      3         565      6,3           \n",
              "25     2007  9584 2       410      2         570      5,2           \n",
              "26     2007  9347 5       410      2         571      5,2           \n",
              "27     2007 10831 6       310      1         574      5,4           \n",
              "28     2007  8813 7       510      3         650      4,8           \n",
              "29     2007  4166 1       610      2         676      5,2           \n",
              "30     2007  4555 1       310      1         704      5,3           \n",
              "⋮      ⋮    ⋮     ⋮       ⋮        ⋮         ⋮        ⋮             \n",
              "966022 2007 0     0       310      3         26101860 0             \n",
              "966023 2007 0     0       310      4         26101860 0             \n",
              "966024 2007 0     0       310      1         26102488 0             \n",
              "966025 2007 0     0       310      2         26102488 0             \n",
              "966026 2007 0     0       310      3         26102488 0             \n",
              "966027 2007 0     0       310      4         26102488 0             \n",
              "966028 2007 0     0       310      1         26102595 0             \n",
              "966029 2007 0     0       310      2         26102595 0             \n",
              "966030 2007 0     0       310      3         26102595 0             \n",
              "966031 2007 0     0       310      4         26102595 0             \n",
              "966032 2007 0     0       310      1         26102694 0             \n",
              "966033 2007 0     0       310      2         26102694 0             \n",
              "966034 2007 0     0       310      3         26102694 0             \n",
              "966035 2007 0     0       310      4         26102694 0             \n",
              "966036 2007 0     0       310      1         26103004 0             \n",
              "966037 2007 0     0       310      2         26103004 0             \n",
              "966038 2007 0     0       310      3         26103004 0             \n",
              "966039 2007 0     0       310      4         26103004 0             \n",
              "966040 2007 0     0       310      1         26103006 0             \n",
              "966041 2007 0     0       310      2         26103006 0             \n",
              "966042 2007 0     0       310      3         26103006 0             \n",
              "966043 2007 0     0       310      4         26103006 0             \n",
              "966044 2007 0     0       310      1         26103421 0             \n",
              "966045 2007 0     0       310      2         26103421 0             \n",
              "966046 2007 0     0       310      3         26103421 0             \n",
              "966047 2007 0     0       310      4         26103421 0             \n",
              "966048 2007 0     0       310      1         26103433 0             \n",
              "966049 2007 0     0       310      2         26103433 0             \n",
              "966050 2007 0     0       310      3         26103433 0             \n",
              "966051 2007 0     0       310      4         26103433 0             \n",
              "       ense_completa marca_egreso\n",
              "1      1             1           \n",
              "2      1             1           \n",
              "3      1             0           \n",
              "4      1             1           \n",
              "5      1             0           \n",
              "6      1             0           \n",
              "7      1             0           \n",
              "8      1             0           \n",
              "9      1             0           \n",
              "10     1             1           \n",
              "11     1             1           \n",
              "12     1             0           \n",
              "13     1             0           \n",
              "14     1             1           \n",
              "15     1             1           \n",
              "16     1             0           \n",
              "17     1             0           \n",
              "18     1             1           \n",
              "19     1             0           \n",
              "20     1             0           \n",
              "21     1             1           \n",
              "22     1             0           \n",
              "23     1             0           \n",
              "24     1             0           \n",
              "25     1             0           \n",
              "26     1             0           \n",
              "27     1             0           \n",
              "28     1             0           \n",
              "29     1             0           \n",
              "30     1             0           \n",
              "⋮      ⋮             ⋮           \n",
              "966022 1             0           \n",
              "966023 1             1           \n",
              "966024 1             0           \n",
              "966025 1             0           \n",
              "966026 1             0           \n",
              "966027 1             1           \n",
              "966028 1             0           \n",
              "966029 1             0           \n",
              "966030 1             0           \n",
              "966031 1             1           \n",
              "966032 1             0           \n",
              "966033 1             0           \n",
              "966034 1             0           \n",
              "966035 1             1           \n",
              "966036 1             0           \n",
              "966037 1             0           \n",
              "966038 1             0           \n",
              "966039 1             1           \n",
              "966040 1             0           \n",
              "966041 1             0           \n",
              "966042 1             0           \n",
              "966043 1             1           \n",
              "966044 1             0           \n",
              "966045 1             0           \n",
              "966046 1             0           \n",
              "966047 1             1           \n",
              "966048 1             0           \n",
              "966049 1             0           \n",
              "966050 1             0           \n",
              "966051 1             1           "
            ]
          },
          "metadata": {}
        }
      ]
    },
    {
      "cell_type": "code",
      "metadata": {
        "colab": {
          "base_uri": "https://localhost:8080/"
        },
        "id": "-vhVLzdbo9_r",
        "outputId": "553a0f4c-d7d1-4b9c-ba26-9e92d82233ff"
      },
      "source": [
        "str(egreso2007) # no muy distinto a lo que nos entrega Colab al pedir la DF"
      ],
      "execution_count": null,
      "outputs": [
        {
          "output_type": "stream",
          "name": "stdout",
          "text": [
            "Classes ‘data.table’ and 'data.frame':\t966051 obs. of  9 variables:\n",
            " $ agno          : int  2007 2007 2007 2007 2007 2007 2007 2007 2007 2007 ...\n",
            " $ rbd           : int  25591 10666 10452 1517 10635 8892 4555 25487 10220 5465 ...\n",
            " $ dgv_rbd       : int  2 6 3 2 6 7 1 8 2 8 ...\n",
            " $ cod_ense      : int  410 310 310 310 310 310 310 310 310 310 ...\n",
            " $ cod_grado     : int  4 4 2 4 3 3 3 3 2 4 ...\n",
            " $ mrun          : int  3 4 5 41 42 43 79 80 118 201 ...\n",
            " $ prom_notas_alu: chr  \"6,2\" \"5,5\" \"4,7\" \"5,6\" ...\n",
            " $ ense_completa : int  1 1 1 1 1 1 1 1 1 1 ...\n",
            " $ marca_egreso  : int  1 1 0 1 0 0 0 0 0 1 ...\n",
            " - attr(*, \".internal.selfref\")=<externalptr> \n"
          ]
        }
      ]
    },
    {
      "cell_type": "markdown",
      "metadata": {
        "id": "hs_IQGR2kdck"
      },
      "source": [
        "**Actividad**\n",
        "\n",
        "\n",
        "\n",
        "1.   ¿Que contiene especificamente esta dataframe? \n",
        "2.   ¿Que tipo de informacion (analisis) podriamos estudiandola?\n",
        "3.   ¿Que columnas no nos sirven? ¿Que filas no nos sirven? Busquen como podriamos limpiar estas DF para ocuparlas en estudios posteriores.\n",
        "4.   Pensando en el objetivo de esta base de datos, ¿esta es la version más pequeña (MB) que se puede entregar? ¿como cree usted que se encuentran guardados estos datos en los servidores del Ministerio de Educacion?\n",
        "\n",
        "Pueden revisar el esquema relacional(ER) disponible en el sitio: \n",
        "https://datosabiertos.mineduc.cl/notas-y-egresados-de-ensenanza-media/\n"
      ]
    },
    {
      "cell_type": "code",
      "source": [
        ""
      ],
      "metadata": {
        "id": "--pYBUKrWdD1"
      },
      "execution_count": null,
      "outputs": []
    },
    {
      "cell_type": "markdown",
      "metadata": {
        "id": "OWDhXrm5zFct"
      },
      "source": [
        "## Usando los comandos de R\n",
        "\n",
        "Ahora haremos una comparativa entre funcion hecha a mano y otra de un package cualquiera. En particular analizaremos los comandos filter y modify."
      ]
    },
    {
      "cell_type": "code",
      "metadata": {
        "id": "ssHJFcq_VHWj"
      },
      "source": [
        "egreso2007$prom_notas_alu<-as.numeric(sub(\",\", \".\", egreso2007$prom_notas_alu, fixed = TRUE)) \n"
      ],
      "execution_count": null,
      "outputs": []
    },
    {
      "cell_type": "code",
      "metadata": {
        "colab": {
          "base_uri": "https://localhost:8080/",
          "height": 1000
        },
        "id": "c4NiGhPPVZa8",
        "outputId": "c7445a8c-4e3c-4719-e903-5ea78299d4e3"
      },
      "source": [
        "egreso2007"
      ],
      "execution_count": null,
      "outputs": [
        {
          "output_type": "display_data",
          "data": {
            "text/html": [
              "<table class=\"dataframe\">\n",
              "<caption>A data.table: 966051 × 9</caption>\n",
              "<thead>\n",
              "\t<tr><th scope=col>agno</th><th scope=col>rbd</th><th scope=col>dgv_rbd</th><th scope=col>cod_ense</th><th scope=col>cod_grado</th><th scope=col>mrun</th><th scope=col>prom_notas_alu</th><th scope=col>ense_completa</th><th scope=col>marca_egreso</th></tr>\n",
              "\t<tr><th scope=col>&lt;int&gt;</th><th scope=col>&lt;int&gt;</th><th scope=col>&lt;int&gt;</th><th scope=col>&lt;int&gt;</th><th scope=col>&lt;int&gt;</th><th scope=col>&lt;int&gt;</th><th scope=col>&lt;dbl&gt;</th><th scope=col>&lt;int&gt;</th><th scope=col>&lt;int&gt;</th></tr>\n",
              "</thead>\n",
              "<tbody>\n",
              "\t<tr><td>2007</td><td>25591</td><td>2</td><td>410</td><td>4</td><td>  3</td><td>6.2</td><td>1</td><td>1</td></tr>\n",
              "\t<tr><td>2007</td><td>10666</td><td>6</td><td>310</td><td>4</td><td>  4</td><td>5.5</td><td>1</td><td>1</td></tr>\n",
              "\t<tr><td>2007</td><td>10452</td><td>3</td><td>310</td><td>2</td><td>  5</td><td>4.7</td><td>1</td><td>0</td></tr>\n",
              "\t<tr><td>2007</td><td> 1517</td><td>2</td><td>310</td><td>4</td><td> 41</td><td>5.6</td><td>1</td><td>1</td></tr>\n",
              "\t<tr><td>2007</td><td>10635</td><td>6</td><td>310</td><td>3</td><td> 42</td><td>5.1</td><td>1</td><td>0</td></tr>\n",
              "\t<tr><td>2007</td><td> 8892</td><td>7</td><td>310</td><td>3</td><td> 43</td><td>6.6</td><td>1</td><td>0</td></tr>\n",
              "\t<tr><td>2007</td><td> 4555</td><td>1</td><td>310</td><td>3</td><td> 79</td><td>5.3</td><td>1</td><td>0</td></tr>\n",
              "\t<tr><td>2007</td><td>25487</td><td>8</td><td>310</td><td>3</td><td> 80</td><td>6.2</td><td>1</td><td>0</td></tr>\n",
              "\t<tr><td>2007</td><td>10220</td><td>2</td><td>310</td><td>2</td><td>118</td><td>4.9</td><td>1</td><td>0</td></tr>\n",
              "\t<tr><td>2007</td><td> 5465</td><td>8</td><td>310</td><td>4</td><td>201</td><td>5.7</td><td>1</td><td>1</td></tr>\n",
              "\t<tr><td>2007</td><td>10697</td><td>6</td><td>610</td><td>4</td><td>202</td><td>4.8</td><td>1</td><td>1</td></tr>\n",
              "\t<tr><td>2007</td><td> 8656</td><td>8</td><td>410</td><td>1</td><td>291</td><td>4.8</td><td>1</td><td>0</td></tr>\n",
              "\t<tr><td>2007</td><td>11885</td><td>0</td><td>510</td><td>3</td><td>324</td><td>4.9</td><td>1</td><td>0</td></tr>\n",
              "\t<tr><td>2007</td><td>25753</td><td>2</td><td>361</td><td>4</td><td>337</td><td>5.2</td><td>1</td><td>1</td></tr>\n",
              "\t<tr><td>2007</td><td>26087</td><td>8</td><td>361</td><td>4</td><td>340</td><td>5.1</td><td>1</td><td>1</td></tr>\n",
              "\t<tr><td>2007</td><td> 6051</td><td>8</td><td>610</td><td>1</td><td>353</td><td>5.7</td><td>1</td><td>0</td></tr>\n",
              "\t<tr><td>2007</td><td>10686</td><td>0</td><td>310</td><td>2</td><td>369</td><td>4.8</td><td>1</td><td>0</td></tr>\n",
              "\t<tr><td>2007</td><td> 9906</td><td>6</td><td>310</td><td>4</td><td>370</td><td>5.3</td><td>1</td><td>1</td></tr>\n",
              "\t<tr><td>2007</td><td> 3247</td><td>6</td><td>310</td><td>2</td><td>410</td><td>5.2</td><td>1</td><td>0</td></tr>\n",
              "\t<tr><td>2007</td><td> 2486</td><td>4</td><td>510</td><td>2</td><td>411</td><td>5.3</td><td>1</td><td>0</td></tr>\n",
              "\t<tr><td>2007</td><td>  648</td><td>3</td><td>310</td><td>4</td><td>481</td><td>5.4</td><td>1</td><td>1</td></tr>\n",
              "\t<tr><td>2007</td><td> 1590</td><td>3</td><td>510</td><td>3</td><td>522</td><td>5.3</td><td>1</td><td>0</td></tr>\n",
              "\t<tr><td>2007</td><td> 1503</td><td>2</td><td>510</td><td>3</td><td>523</td><td>5.0</td><td>1</td><td>0</td></tr>\n",
              "\t<tr><td>2007</td><td> 4166</td><td>1</td><td>610</td><td>3</td><td>565</td><td>6.3</td><td>1</td><td>0</td></tr>\n",
              "\t<tr><td>2007</td><td> 9584</td><td>2</td><td>410</td><td>2</td><td>570</td><td>5.2</td><td>1</td><td>0</td></tr>\n",
              "\t<tr><td>2007</td><td> 9347</td><td>5</td><td>410</td><td>2</td><td>571</td><td>5.2</td><td>1</td><td>0</td></tr>\n",
              "\t<tr><td>2007</td><td>10831</td><td>6</td><td>310</td><td>1</td><td>574</td><td>5.4</td><td>1</td><td>0</td></tr>\n",
              "\t<tr><td>2007</td><td> 8813</td><td>7</td><td>510</td><td>3</td><td>650</td><td>4.8</td><td>1</td><td>0</td></tr>\n",
              "\t<tr><td>2007</td><td> 4166</td><td>1</td><td>610</td><td>2</td><td>676</td><td>5.2</td><td>1</td><td>0</td></tr>\n",
              "\t<tr><td>2007</td><td> 4555</td><td>1</td><td>310</td><td>1</td><td>704</td><td>5.3</td><td>1</td><td>0</td></tr>\n",
              "\t<tr><td>⋮</td><td>⋮</td><td>⋮</td><td>⋮</td><td>⋮</td><td>⋮</td><td>⋮</td><td>⋮</td><td>⋮</td></tr>\n",
              "\t<tr><td>2007</td><td>0</td><td>0</td><td>310</td><td>3</td><td>26101860</td><td>0</td><td>1</td><td>0</td></tr>\n",
              "\t<tr><td>2007</td><td>0</td><td>0</td><td>310</td><td>4</td><td>26101860</td><td>0</td><td>1</td><td>1</td></tr>\n",
              "\t<tr><td>2007</td><td>0</td><td>0</td><td>310</td><td>1</td><td>26102488</td><td>0</td><td>1</td><td>0</td></tr>\n",
              "\t<tr><td>2007</td><td>0</td><td>0</td><td>310</td><td>2</td><td>26102488</td><td>0</td><td>1</td><td>0</td></tr>\n",
              "\t<tr><td>2007</td><td>0</td><td>0</td><td>310</td><td>3</td><td>26102488</td><td>0</td><td>1</td><td>0</td></tr>\n",
              "\t<tr><td>2007</td><td>0</td><td>0</td><td>310</td><td>4</td><td>26102488</td><td>0</td><td>1</td><td>1</td></tr>\n",
              "\t<tr><td>2007</td><td>0</td><td>0</td><td>310</td><td>1</td><td>26102595</td><td>0</td><td>1</td><td>0</td></tr>\n",
              "\t<tr><td>2007</td><td>0</td><td>0</td><td>310</td><td>2</td><td>26102595</td><td>0</td><td>1</td><td>0</td></tr>\n",
              "\t<tr><td>2007</td><td>0</td><td>0</td><td>310</td><td>3</td><td>26102595</td><td>0</td><td>1</td><td>0</td></tr>\n",
              "\t<tr><td>2007</td><td>0</td><td>0</td><td>310</td><td>4</td><td>26102595</td><td>0</td><td>1</td><td>1</td></tr>\n",
              "\t<tr><td>2007</td><td>0</td><td>0</td><td>310</td><td>1</td><td>26102694</td><td>0</td><td>1</td><td>0</td></tr>\n",
              "\t<tr><td>2007</td><td>0</td><td>0</td><td>310</td><td>2</td><td>26102694</td><td>0</td><td>1</td><td>0</td></tr>\n",
              "\t<tr><td>2007</td><td>0</td><td>0</td><td>310</td><td>3</td><td>26102694</td><td>0</td><td>1</td><td>0</td></tr>\n",
              "\t<tr><td>2007</td><td>0</td><td>0</td><td>310</td><td>4</td><td>26102694</td><td>0</td><td>1</td><td>1</td></tr>\n",
              "\t<tr><td>2007</td><td>0</td><td>0</td><td>310</td><td>1</td><td>26103004</td><td>0</td><td>1</td><td>0</td></tr>\n",
              "\t<tr><td>2007</td><td>0</td><td>0</td><td>310</td><td>2</td><td>26103004</td><td>0</td><td>1</td><td>0</td></tr>\n",
              "\t<tr><td>2007</td><td>0</td><td>0</td><td>310</td><td>3</td><td>26103004</td><td>0</td><td>1</td><td>0</td></tr>\n",
              "\t<tr><td>2007</td><td>0</td><td>0</td><td>310</td><td>4</td><td>26103004</td><td>0</td><td>1</td><td>1</td></tr>\n",
              "\t<tr><td>2007</td><td>0</td><td>0</td><td>310</td><td>1</td><td>26103006</td><td>0</td><td>1</td><td>0</td></tr>\n",
              "\t<tr><td>2007</td><td>0</td><td>0</td><td>310</td><td>2</td><td>26103006</td><td>0</td><td>1</td><td>0</td></tr>\n",
              "\t<tr><td>2007</td><td>0</td><td>0</td><td>310</td><td>3</td><td>26103006</td><td>0</td><td>1</td><td>0</td></tr>\n",
              "\t<tr><td>2007</td><td>0</td><td>0</td><td>310</td><td>4</td><td>26103006</td><td>0</td><td>1</td><td>1</td></tr>\n",
              "\t<tr><td>2007</td><td>0</td><td>0</td><td>310</td><td>1</td><td>26103421</td><td>0</td><td>1</td><td>0</td></tr>\n",
              "\t<tr><td>2007</td><td>0</td><td>0</td><td>310</td><td>2</td><td>26103421</td><td>0</td><td>1</td><td>0</td></tr>\n",
              "\t<tr><td>2007</td><td>0</td><td>0</td><td>310</td><td>3</td><td>26103421</td><td>0</td><td>1</td><td>0</td></tr>\n",
              "\t<tr><td>2007</td><td>0</td><td>0</td><td>310</td><td>4</td><td>26103421</td><td>0</td><td>1</td><td>1</td></tr>\n",
              "\t<tr><td>2007</td><td>0</td><td>0</td><td>310</td><td>1</td><td>26103433</td><td>0</td><td>1</td><td>0</td></tr>\n",
              "\t<tr><td>2007</td><td>0</td><td>0</td><td>310</td><td>2</td><td>26103433</td><td>0</td><td>1</td><td>0</td></tr>\n",
              "\t<tr><td>2007</td><td>0</td><td>0</td><td>310</td><td>3</td><td>26103433</td><td>0</td><td>1</td><td>0</td></tr>\n",
              "\t<tr><td>2007</td><td>0</td><td>0</td><td>310</td><td>4</td><td>26103433</td><td>0</td><td>1</td><td>1</td></tr>\n",
              "</tbody>\n",
              "</table>\n"
            ],
            "text/markdown": "\nA data.table: 966051 × 9\n\n| agno &lt;int&gt; | rbd &lt;int&gt; | dgv_rbd &lt;int&gt; | cod_ense &lt;int&gt; | cod_grado &lt;int&gt; | mrun &lt;int&gt; | prom_notas_alu &lt;dbl&gt; | ense_completa &lt;int&gt; | marca_egreso &lt;int&gt; |\n|---|---|---|---|---|---|---|---|---|\n| 2007 | 25591 | 2 | 410 | 4 |   3 | 6.2 | 1 | 1 |\n| 2007 | 10666 | 6 | 310 | 4 |   4 | 5.5 | 1 | 1 |\n| 2007 | 10452 | 3 | 310 | 2 |   5 | 4.7 | 1 | 0 |\n| 2007 |  1517 | 2 | 310 | 4 |  41 | 5.6 | 1 | 1 |\n| 2007 | 10635 | 6 | 310 | 3 |  42 | 5.1 | 1 | 0 |\n| 2007 |  8892 | 7 | 310 | 3 |  43 | 6.6 | 1 | 0 |\n| 2007 |  4555 | 1 | 310 | 3 |  79 | 5.3 | 1 | 0 |\n| 2007 | 25487 | 8 | 310 | 3 |  80 | 6.2 | 1 | 0 |\n| 2007 | 10220 | 2 | 310 | 2 | 118 | 4.9 | 1 | 0 |\n| 2007 |  5465 | 8 | 310 | 4 | 201 | 5.7 | 1 | 1 |\n| 2007 | 10697 | 6 | 610 | 4 | 202 | 4.8 | 1 | 1 |\n| 2007 |  8656 | 8 | 410 | 1 | 291 | 4.8 | 1 | 0 |\n| 2007 | 11885 | 0 | 510 | 3 | 324 | 4.9 | 1 | 0 |\n| 2007 | 25753 | 2 | 361 | 4 | 337 | 5.2 | 1 | 1 |\n| 2007 | 26087 | 8 | 361 | 4 | 340 | 5.1 | 1 | 1 |\n| 2007 |  6051 | 8 | 610 | 1 | 353 | 5.7 | 1 | 0 |\n| 2007 | 10686 | 0 | 310 | 2 | 369 | 4.8 | 1 | 0 |\n| 2007 |  9906 | 6 | 310 | 4 | 370 | 5.3 | 1 | 1 |\n| 2007 |  3247 | 6 | 310 | 2 | 410 | 5.2 | 1 | 0 |\n| 2007 |  2486 | 4 | 510 | 2 | 411 | 5.3 | 1 | 0 |\n| 2007 |   648 | 3 | 310 | 4 | 481 | 5.4 | 1 | 1 |\n| 2007 |  1590 | 3 | 510 | 3 | 522 | 5.3 | 1 | 0 |\n| 2007 |  1503 | 2 | 510 | 3 | 523 | 5.0 | 1 | 0 |\n| 2007 |  4166 | 1 | 610 | 3 | 565 | 6.3 | 1 | 0 |\n| 2007 |  9584 | 2 | 410 | 2 | 570 | 5.2 | 1 | 0 |\n| 2007 |  9347 | 5 | 410 | 2 | 571 | 5.2 | 1 | 0 |\n| 2007 | 10831 | 6 | 310 | 1 | 574 | 5.4 | 1 | 0 |\n| 2007 |  8813 | 7 | 510 | 3 | 650 | 4.8 | 1 | 0 |\n| 2007 |  4166 | 1 | 610 | 2 | 676 | 5.2 | 1 | 0 |\n| 2007 |  4555 | 1 | 310 | 1 | 704 | 5.3 | 1 | 0 |\n| ⋮ | ⋮ | ⋮ | ⋮ | ⋮ | ⋮ | ⋮ | ⋮ | ⋮ |\n| 2007 | 0 | 0 | 310 | 3 | 26101860 | 0 | 1 | 0 |\n| 2007 | 0 | 0 | 310 | 4 | 26101860 | 0 | 1 | 1 |\n| 2007 | 0 | 0 | 310 | 1 | 26102488 | 0 | 1 | 0 |\n| 2007 | 0 | 0 | 310 | 2 | 26102488 | 0 | 1 | 0 |\n| 2007 | 0 | 0 | 310 | 3 | 26102488 | 0 | 1 | 0 |\n| 2007 | 0 | 0 | 310 | 4 | 26102488 | 0 | 1 | 1 |\n| 2007 | 0 | 0 | 310 | 1 | 26102595 | 0 | 1 | 0 |\n| 2007 | 0 | 0 | 310 | 2 | 26102595 | 0 | 1 | 0 |\n| 2007 | 0 | 0 | 310 | 3 | 26102595 | 0 | 1 | 0 |\n| 2007 | 0 | 0 | 310 | 4 | 26102595 | 0 | 1 | 1 |\n| 2007 | 0 | 0 | 310 | 1 | 26102694 | 0 | 1 | 0 |\n| 2007 | 0 | 0 | 310 | 2 | 26102694 | 0 | 1 | 0 |\n| 2007 | 0 | 0 | 310 | 3 | 26102694 | 0 | 1 | 0 |\n| 2007 | 0 | 0 | 310 | 4 | 26102694 | 0 | 1 | 1 |\n| 2007 | 0 | 0 | 310 | 1 | 26103004 | 0 | 1 | 0 |\n| 2007 | 0 | 0 | 310 | 2 | 26103004 | 0 | 1 | 0 |\n| 2007 | 0 | 0 | 310 | 3 | 26103004 | 0 | 1 | 0 |\n| 2007 | 0 | 0 | 310 | 4 | 26103004 | 0 | 1 | 1 |\n| 2007 | 0 | 0 | 310 | 1 | 26103006 | 0 | 1 | 0 |\n| 2007 | 0 | 0 | 310 | 2 | 26103006 | 0 | 1 | 0 |\n| 2007 | 0 | 0 | 310 | 3 | 26103006 | 0 | 1 | 0 |\n| 2007 | 0 | 0 | 310 | 4 | 26103006 | 0 | 1 | 1 |\n| 2007 | 0 | 0 | 310 | 1 | 26103421 | 0 | 1 | 0 |\n| 2007 | 0 | 0 | 310 | 2 | 26103421 | 0 | 1 | 0 |\n| 2007 | 0 | 0 | 310 | 3 | 26103421 | 0 | 1 | 0 |\n| 2007 | 0 | 0 | 310 | 4 | 26103421 | 0 | 1 | 1 |\n| 2007 | 0 | 0 | 310 | 1 | 26103433 | 0 | 1 | 0 |\n| 2007 | 0 | 0 | 310 | 2 | 26103433 | 0 | 1 | 0 |\n| 2007 | 0 | 0 | 310 | 3 | 26103433 | 0 | 1 | 0 |\n| 2007 | 0 | 0 | 310 | 4 | 26103433 | 0 | 1 | 1 |\n\n",
            "text/latex": "A data.table: 966051 × 9\n\\begin{tabular}{lllllllll}\n agno & rbd & dgv\\_rbd & cod\\_ense & cod\\_grado & mrun & prom\\_notas\\_alu & ense\\_completa & marca\\_egreso\\\\\n <int> & <int> & <int> & <int> & <int> & <int> & <dbl> & <int> & <int>\\\\\n\\hline\n\t 2007 & 25591 & 2 & 410 & 4 &   3 & 6.2 & 1 & 1\\\\\n\t 2007 & 10666 & 6 & 310 & 4 &   4 & 5.5 & 1 & 1\\\\\n\t 2007 & 10452 & 3 & 310 & 2 &   5 & 4.7 & 1 & 0\\\\\n\t 2007 &  1517 & 2 & 310 & 4 &  41 & 5.6 & 1 & 1\\\\\n\t 2007 & 10635 & 6 & 310 & 3 &  42 & 5.1 & 1 & 0\\\\\n\t 2007 &  8892 & 7 & 310 & 3 &  43 & 6.6 & 1 & 0\\\\\n\t 2007 &  4555 & 1 & 310 & 3 &  79 & 5.3 & 1 & 0\\\\\n\t 2007 & 25487 & 8 & 310 & 3 &  80 & 6.2 & 1 & 0\\\\\n\t 2007 & 10220 & 2 & 310 & 2 & 118 & 4.9 & 1 & 0\\\\\n\t 2007 &  5465 & 8 & 310 & 4 & 201 & 5.7 & 1 & 1\\\\\n\t 2007 & 10697 & 6 & 610 & 4 & 202 & 4.8 & 1 & 1\\\\\n\t 2007 &  8656 & 8 & 410 & 1 & 291 & 4.8 & 1 & 0\\\\\n\t 2007 & 11885 & 0 & 510 & 3 & 324 & 4.9 & 1 & 0\\\\\n\t 2007 & 25753 & 2 & 361 & 4 & 337 & 5.2 & 1 & 1\\\\\n\t 2007 & 26087 & 8 & 361 & 4 & 340 & 5.1 & 1 & 1\\\\\n\t 2007 &  6051 & 8 & 610 & 1 & 353 & 5.7 & 1 & 0\\\\\n\t 2007 & 10686 & 0 & 310 & 2 & 369 & 4.8 & 1 & 0\\\\\n\t 2007 &  9906 & 6 & 310 & 4 & 370 & 5.3 & 1 & 1\\\\\n\t 2007 &  3247 & 6 & 310 & 2 & 410 & 5.2 & 1 & 0\\\\\n\t 2007 &  2486 & 4 & 510 & 2 & 411 & 5.3 & 1 & 0\\\\\n\t 2007 &   648 & 3 & 310 & 4 & 481 & 5.4 & 1 & 1\\\\\n\t 2007 &  1590 & 3 & 510 & 3 & 522 & 5.3 & 1 & 0\\\\\n\t 2007 &  1503 & 2 & 510 & 3 & 523 & 5.0 & 1 & 0\\\\\n\t 2007 &  4166 & 1 & 610 & 3 & 565 & 6.3 & 1 & 0\\\\\n\t 2007 &  9584 & 2 & 410 & 2 & 570 & 5.2 & 1 & 0\\\\\n\t 2007 &  9347 & 5 & 410 & 2 & 571 & 5.2 & 1 & 0\\\\\n\t 2007 & 10831 & 6 & 310 & 1 & 574 & 5.4 & 1 & 0\\\\\n\t 2007 &  8813 & 7 & 510 & 3 & 650 & 4.8 & 1 & 0\\\\\n\t 2007 &  4166 & 1 & 610 & 2 & 676 & 5.2 & 1 & 0\\\\\n\t 2007 &  4555 & 1 & 310 & 1 & 704 & 5.3 & 1 & 0\\\\\n\t ⋮ & ⋮ & ⋮ & ⋮ & ⋮ & ⋮ & ⋮ & ⋮ & ⋮\\\\\n\t 2007 & 0 & 0 & 310 & 3 & 26101860 & 0 & 1 & 0\\\\\n\t 2007 & 0 & 0 & 310 & 4 & 26101860 & 0 & 1 & 1\\\\\n\t 2007 & 0 & 0 & 310 & 1 & 26102488 & 0 & 1 & 0\\\\\n\t 2007 & 0 & 0 & 310 & 2 & 26102488 & 0 & 1 & 0\\\\\n\t 2007 & 0 & 0 & 310 & 3 & 26102488 & 0 & 1 & 0\\\\\n\t 2007 & 0 & 0 & 310 & 4 & 26102488 & 0 & 1 & 1\\\\\n\t 2007 & 0 & 0 & 310 & 1 & 26102595 & 0 & 1 & 0\\\\\n\t 2007 & 0 & 0 & 310 & 2 & 26102595 & 0 & 1 & 0\\\\\n\t 2007 & 0 & 0 & 310 & 3 & 26102595 & 0 & 1 & 0\\\\\n\t 2007 & 0 & 0 & 310 & 4 & 26102595 & 0 & 1 & 1\\\\\n\t 2007 & 0 & 0 & 310 & 1 & 26102694 & 0 & 1 & 0\\\\\n\t 2007 & 0 & 0 & 310 & 2 & 26102694 & 0 & 1 & 0\\\\\n\t 2007 & 0 & 0 & 310 & 3 & 26102694 & 0 & 1 & 0\\\\\n\t 2007 & 0 & 0 & 310 & 4 & 26102694 & 0 & 1 & 1\\\\\n\t 2007 & 0 & 0 & 310 & 1 & 26103004 & 0 & 1 & 0\\\\\n\t 2007 & 0 & 0 & 310 & 2 & 26103004 & 0 & 1 & 0\\\\\n\t 2007 & 0 & 0 & 310 & 3 & 26103004 & 0 & 1 & 0\\\\\n\t 2007 & 0 & 0 & 310 & 4 & 26103004 & 0 & 1 & 1\\\\\n\t 2007 & 0 & 0 & 310 & 1 & 26103006 & 0 & 1 & 0\\\\\n\t 2007 & 0 & 0 & 310 & 2 & 26103006 & 0 & 1 & 0\\\\\n\t 2007 & 0 & 0 & 310 & 3 & 26103006 & 0 & 1 & 0\\\\\n\t 2007 & 0 & 0 & 310 & 4 & 26103006 & 0 & 1 & 1\\\\\n\t 2007 & 0 & 0 & 310 & 1 & 26103421 & 0 & 1 & 0\\\\\n\t 2007 & 0 & 0 & 310 & 2 & 26103421 & 0 & 1 & 0\\\\\n\t 2007 & 0 & 0 & 310 & 3 & 26103421 & 0 & 1 & 0\\\\\n\t 2007 & 0 & 0 & 310 & 4 & 26103421 & 0 & 1 & 1\\\\\n\t 2007 & 0 & 0 & 310 & 1 & 26103433 & 0 & 1 & 0\\\\\n\t 2007 & 0 & 0 & 310 & 2 & 26103433 & 0 & 1 & 0\\\\\n\t 2007 & 0 & 0 & 310 & 3 & 26103433 & 0 & 1 & 0\\\\\n\t 2007 & 0 & 0 & 310 & 4 & 26103433 & 0 & 1 & 1\\\\\n\\end{tabular}\n",
            "text/plain": [
              "       agno rbd   dgv_rbd cod_ense cod_grado mrun     prom_notas_alu\n",
              "1      2007 25591 2       410      4           3      6.2           \n",
              "2      2007 10666 6       310      4           4      5.5           \n",
              "3      2007 10452 3       310      2           5      4.7           \n",
              "4      2007  1517 2       310      4          41      5.6           \n",
              "5      2007 10635 6       310      3          42      5.1           \n",
              "6      2007  8892 7       310      3          43      6.6           \n",
              "7      2007  4555 1       310      3          79      5.3           \n",
              "8      2007 25487 8       310      3          80      6.2           \n",
              "9      2007 10220 2       310      2         118      4.9           \n",
              "10     2007  5465 8       310      4         201      5.7           \n",
              "11     2007 10697 6       610      4         202      4.8           \n",
              "12     2007  8656 8       410      1         291      4.8           \n",
              "13     2007 11885 0       510      3         324      4.9           \n",
              "14     2007 25753 2       361      4         337      5.2           \n",
              "15     2007 26087 8       361      4         340      5.1           \n",
              "16     2007  6051 8       610      1         353      5.7           \n",
              "17     2007 10686 0       310      2         369      4.8           \n",
              "18     2007  9906 6       310      4         370      5.3           \n",
              "19     2007  3247 6       310      2         410      5.2           \n",
              "20     2007  2486 4       510      2         411      5.3           \n",
              "21     2007   648 3       310      4         481      5.4           \n",
              "22     2007  1590 3       510      3         522      5.3           \n",
              "23     2007  1503 2       510      3         523      5.0           \n",
              "24     2007  4166 1       610      3         565      6.3           \n",
              "25     2007  9584 2       410      2         570      5.2           \n",
              "26     2007  9347 5       410      2         571      5.2           \n",
              "27     2007 10831 6       310      1         574      5.4           \n",
              "28     2007  8813 7       510      3         650      4.8           \n",
              "29     2007  4166 1       610      2         676      5.2           \n",
              "30     2007  4555 1       310      1         704      5.3           \n",
              "⋮      ⋮    ⋮     ⋮       ⋮        ⋮         ⋮        ⋮             \n",
              "966022 2007 0     0       310      3         26101860 0             \n",
              "966023 2007 0     0       310      4         26101860 0             \n",
              "966024 2007 0     0       310      1         26102488 0             \n",
              "966025 2007 0     0       310      2         26102488 0             \n",
              "966026 2007 0     0       310      3         26102488 0             \n",
              "966027 2007 0     0       310      4         26102488 0             \n",
              "966028 2007 0     0       310      1         26102595 0             \n",
              "966029 2007 0     0       310      2         26102595 0             \n",
              "966030 2007 0     0       310      3         26102595 0             \n",
              "966031 2007 0     0       310      4         26102595 0             \n",
              "966032 2007 0     0       310      1         26102694 0             \n",
              "966033 2007 0     0       310      2         26102694 0             \n",
              "966034 2007 0     0       310      3         26102694 0             \n",
              "966035 2007 0     0       310      4         26102694 0             \n",
              "966036 2007 0     0       310      1         26103004 0             \n",
              "966037 2007 0     0       310      2         26103004 0             \n",
              "966038 2007 0     0       310      3         26103004 0             \n",
              "966039 2007 0     0       310      4         26103004 0             \n",
              "966040 2007 0     0       310      1         26103006 0             \n",
              "966041 2007 0     0       310      2         26103006 0             \n",
              "966042 2007 0     0       310      3         26103006 0             \n",
              "966043 2007 0     0       310      4         26103006 0             \n",
              "966044 2007 0     0       310      1         26103421 0             \n",
              "966045 2007 0     0       310      2         26103421 0             \n",
              "966046 2007 0     0       310      3         26103421 0             \n",
              "966047 2007 0     0       310      4         26103421 0             \n",
              "966048 2007 0     0       310      1         26103433 0             \n",
              "966049 2007 0     0       310      2         26103433 0             \n",
              "966050 2007 0     0       310      3         26103433 0             \n",
              "966051 2007 0     0       310      4         26103433 0             \n",
              "       ense_completa marca_egreso\n",
              "1      1             1           \n",
              "2      1             1           \n",
              "3      1             0           \n",
              "4      1             1           \n",
              "5      1             0           \n",
              "6      1             0           \n",
              "7      1             0           \n",
              "8      1             0           \n",
              "9      1             0           \n",
              "10     1             1           \n",
              "11     1             1           \n",
              "12     1             0           \n",
              "13     1             0           \n",
              "14     1             1           \n",
              "15     1             1           \n",
              "16     1             0           \n",
              "17     1             0           \n",
              "18     1             1           \n",
              "19     1             0           \n",
              "20     1             0           \n",
              "21     1             1           \n",
              "22     1             0           \n",
              "23     1             0           \n",
              "24     1             0           \n",
              "25     1             0           \n",
              "26     1             0           \n",
              "27     1             0           \n",
              "28     1             0           \n",
              "29     1             0           \n",
              "30     1             0           \n",
              "⋮      ⋮             ⋮           \n",
              "966022 1             0           \n",
              "966023 1             1           \n",
              "966024 1             0           \n",
              "966025 1             0           \n",
              "966026 1             0           \n",
              "966027 1             1           \n",
              "966028 1             0           \n",
              "966029 1             0           \n",
              "966030 1             0           \n",
              "966031 1             1           \n",
              "966032 1             0           \n",
              "966033 1             0           \n",
              "966034 1             0           \n",
              "966035 1             1           \n",
              "966036 1             0           \n",
              "966037 1             0           \n",
              "966038 1             0           \n",
              "966039 1             1           \n",
              "966040 1             0           \n",
              "966041 1             0           \n",
              "966042 1             0           \n",
              "966043 1             1           \n",
              "966044 1             0           \n",
              "966045 1             0           \n",
              "966046 1             0           \n",
              "966047 1             1           \n",
              "966048 1             0           \n",
              "966049 1             0           \n",
              "966050 1             0           \n",
              "966051 1             1           "
            ]
          },
          "metadata": {}
        }
      ]
    },
    {
      "cell_type": "code",
      "metadata": {
        "id": "xR3S1Btg0igg"
      },
      "source": [
        "egreso2007_colnames <- names(egreso2007)\n",
        "\n",
        "egreso2007_1ero <- data.frame(matrix(ncol = length(egreso2007_colnames), nrow = 0))\n",
        "\n",
        "colnames(egreso2007_1ero) <- c(egreso2007_colnames)"
      ],
      "execution_count": null,
      "outputs": []
    },
    {
      "cell_type": "code",
      "metadata": {
        "id": "3teUJxjQzE8S",
        "colab": {
          "base_uri": "https://localhost:8080/"
        },
        "outputId": "e2ad36dc-7cf0-45da-f6f8-0154f926ad44"
      },
      "source": [
        "tic()\n",
        "\n",
        "ciclo1 <- 100000\n",
        "n <- 1\n",
        "\n",
        "for(i in 1:ciclo1){\n",
        "  cod <- egreso2007$cod_grado[i]\n",
        "  notas <- egreso2007$prom_notas_alu[i]\n",
        "\n",
        "  if(cod == 1 & notas>=5){\n",
        "    fila <- c(as.character(egreso2007[i,]))\n",
        "    egreso2007_1ero[n, ] <- fila\n",
        "    n <- n+1\n",
        "  }\n",
        "}\n",
        "\n",
        "toc()\n"
      ],
      "execution_count": null,
      "outputs": [
        {
          "output_type": "stream",
          "name": "stdout",
          "text": [
            "47.76 sec elapsed\n"
          ]
        }
      ]
    },
    {
      "cell_type": "code",
      "metadata": {
        "colab": {
          "base_uri": "https://localhost:8080/",
          "height": 34
        },
        "id": "gJB8NS-gR5fO",
        "outputId": "1118cb56-91c5-47b1-e759-3e0cdee5eabe"
      },
      "source": [
        "47.76*966051/100000 # Segundos que tardaria en realizar el filtro aproximadamente"
      ],
      "execution_count": null,
      "outputs": [
        {
          "output_type": "display_data",
          "data": {
            "text/html": [
              "461.3859576"
            ],
            "text/markdown": "461.3859576",
            "text/latex": "461.3859576",
            "text/plain": [
              "[1] 461.386"
            ]
          },
          "metadata": {}
        }
      ]
    },
    {
      "cell_type": "markdown",
      "metadata": {
        "id": "rb8ZMH-5SSpm"
      },
      "source": [
        "Por otro lado existe una forma de lograr esto usando R-base."
      ]
    },
    {
      "cell_type": "code",
      "metadata": {
        "colab": {
          "base_uri": "https://localhost:8080/"
        },
        "id": "qwjFywr0SZg2",
        "outputId": "89c98f41-0ecd-4c55-ee2a-852ef82a325f"
      },
      "source": [
        "tic()\n",
        "\n",
        "egreso2007_1ero_2=egreso2007[egreso2007$cod_grado==1 &egreso2007$prom_notas_alu>=5]\n",
        "\n",
        "toc()"
      ],
      "execution_count": null,
      "outputs": [
        {
          "output_type": "stream",
          "name": "stdout",
          "text": [
            "0.022 sec elapsed\n"
          ]
        }
      ]
    },
    {
      "cell_type": "markdown",
      "metadata": {
        "id": "64iqKl7TeMXF"
      },
      "source": [
        "Usando una libreria llamada dplyr podemos utilizar el comando filter"
      ]
    },
    {
      "cell_type": "code",
      "metadata": {
        "colab": {
          "base_uri": "https://localhost:8080/"
        },
        "id": "CvFEI5SFTiFE",
        "outputId": "bdf288f5-cfaf-4a8c-df9a-ee40a8b583bd"
      },
      "source": [
        "library(dplyr)\n",
        "\n",
        "tic()\n",
        "\n",
        "egreso2007_1ero_2=filter(egreso2007, cod_grado==1& prom_notas_alu>=5)\n",
        "\n",
        "toc()"
      ],
      "execution_count": null,
      "outputs": [
        {
          "output_type": "stream",
          "name": "stderr",
          "text": [
            "\n",
            "Attaching package: ‘dplyr’\n",
            "\n",
            "\n",
            "The following objects are masked from ‘package:data.table’:\n",
            "\n",
            "    between, first, last\n",
            "\n",
            "\n",
            "The following objects are masked from ‘package:stats’:\n",
            "\n",
            "    filter, lag\n",
            "\n",
            "\n",
            "The following objects are masked from ‘package:base’:\n",
            "\n",
            "    intersect, setdiff, setequal, union\n",
            "\n",
            "\n"
          ]
        },
        {
          "output_type": "stream",
          "name": "stdout",
          "text": [
            "0.074 sec elapsed\n"
          ]
        }
      ]
    },
    {
      "cell_type": "markdown",
      "source": [
        "Ahora supongamos que queremos tener nuestras notas en base 100 como porcentaje de logro, eso lo podemos hacer con un loop o con la función modify"
      ],
      "metadata": {
        "id": "VbmPYdPbeHFu"
      }
    },
    {
      "cell_type": "code",
      "source": [
        "\n",
        "egreso2007_base100 <- egreso2007 \n"
      ],
      "metadata": {
        "id": "FwjM0h6whZFc"
      },
      "execution_count": null,
      "outputs": []
    },
    {
      "cell_type": "code",
      "source": [
        "min(egreso2007$prom_notas_alu)"
      ],
      "metadata": {
        "id": "qSM9VaxtiFs3",
        "colab": {
          "base_uri": "https://localhost:8080/",
          "height": 34
        },
        "outputId": "acdab5d3-c7bb-42b4-ec71-8672ce15864c"
      },
      "execution_count": null,
      "outputs": [
        {
          "output_type": "display_data",
          "data": {
            "text/html": [
              "0"
            ],
            "text/markdown": "0",
            "text/latex": "0",
            "text/plain": [
              "[1] 0"
            ]
          },
          "metadata": {}
        }
      ]
    },
    {
      "cell_type": "code",
      "source": [
        "egreso2007_base100"
      ],
      "metadata": {
        "colab": {
          "base_uri": "https://localhost:8080/",
          "height": 1000
        },
        "id": "simZEnJTDPIh",
        "outputId": "edc9f253-6db4-43ea-c759-0bab54c84030"
      },
      "execution_count": null,
      "outputs": [
        {
          "output_type": "display_data",
          "data": {
            "text/html": [
              "<table class=\"dataframe\">\n",
              "<caption>A data.table: 966051 × 9</caption>\n",
              "<thead>\n",
              "\t<tr><th scope=col>agno</th><th scope=col>rbd</th><th scope=col>dgv_rbd</th><th scope=col>cod_ense</th><th scope=col>cod_grado</th><th scope=col>mrun</th><th scope=col>prom_notas_alu</th><th scope=col>ense_completa</th><th scope=col>marca_egreso</th></tr>\n",
              "\t<tr><th scope=col>&lt;int&gt;</th><th scope=col>&lt;int&gt;</th><th scope=col>&lt;int&gt;</th><th scope=col>&lt;int&gt;</th><th scope=col>&lt;int&gt;</th><th scope=col>&lt;int&gt;</th><th scope=col>&lt;dbl&gt;</th><th scope=col>&lt;int&gt;</th><th scope=col>&lt;int&gt;</th></tr>\n",
              "</thead>\n",
              "<tbody>\n",
              "\t<tr><td>2007</td><td>25591</td><td>2</td><td>410</td><td>4</td><td>  3</td><td>6.2</td><td>1</td><td>1</td></tr>\n",
              "\t<tr><td>2007</td><td>10666</td><td>6</td><td>310</td><td>4</td><td>  4</td><td>5.5</td><td>1</td><td>1</td></tr>\n",
              "\t<tr><td>2007</td><td>10452</td><td>3</td><td>310</td><td>2</td><td>  5</td><td>4.7</td><td>1</td><td>0</td></tr>\n",
              "\t<tr><td>2007</td><td> 1517</td><td>2</td><td>310</td><td>4</td><td> 41</td><td>5.6</td><td>1</td><td>1</td></tr>\n",
              "\t<tr><td>2007</td><td>10635</td><td>6</td><td>310</td><td>3</td><td> 42</td><td>5.1</td><td>1</td><td>0</td></tr>\n",
              "\t<tr><td>2007</td><td> 8892</td><td>7</td><td>310</td><td>3</td><td> 43</td><td>6.6</td><td>1</td><td>0</td></tr>\n",
              "\t<tr><td>2007</td><td> 4555</td><td>1</td><td>310</td><td>3</td><td> 79</td><td>5.3</td><td>1</td><td>0</td></tr>\n",
              "\t<tr><td>2007</td><td>25487</td><td>8</td><td>310</td><td>3</td><td> 80</td><td>6.2</td><td>1</td><td>0</td></tr>\n",
              "\t<tr><td>2007</td><td>10220</td><td>2</td><td>310</td><td>2</td><td>118</td><td>4.9</td><td>1</td><td>0</td></tr>\n",
              "\t<tr><td>2007</td><td> 5465</td><td>8</td><td>310</td><td>4</td><td>201</td><td>5.7</td><td>1</td><td>1</td></tr>\n",
              "\t<tr><td>2007</td><td>10697</td><td>6</td><td>610</td><td>4</td><td>202</td><td>4.8</td><td>1</td><td>1</td></tr>\n",
              "\t<tr><td>2007</td><td> 8656</td><td>8</td><td>410</td><td>1</td><td>291</td><td>4.8</td><td>1</td><td>0</td></tr>\n",
              "\t<tr><td>2007</td><td>11885</td><td>0</td><td>510</td><td>3</td><td>324</td><td>4.9</td><td>1</td><td>0</td></tr>\n",
              "\t<tr><td>2007</td><td>25753</td><td>2</td><td>361</td><td>4</td><td>337</td><td>5.2</td><td>1</td><td>1</td></tr>\n",
              "\t<tr><td>2007</td><td>26087</td><td>8</td><td>361</td><td>4</td><td>340</td><td>5.1</td><td>1</td><td>1</td></tr>\n",
              "\t<tr><td>2007</td><td> 6051</td><td>8</td><td>610</td><td>1</td><td>353</td><td>5.7</td><td>1</td><td>0</td></tr>\n",
              "\t<tr><td>2007</td><td>10686</td><td>0</td><td>310</td><td>2</td><td>369</td><td>4.8</td><td>1</td><td>0</td></tr>\n",
              "\t<tr><td>2007</td><td> 9906</td><td>6</td><td>310</td><td>4</td><td>370</td><td>5.3</td><td>1</td><td>1</td></tr>\n",
              "\t<tr><td>2007</td><td> 3247</td><td>6</td><td>310</td><td>2</td><td>410</td><td>5.2</td><td>1</td><td>0</td></tr>\n",
              "\t<tr><td>2007</td><td> 2486</td><td>4</td><td>510</td><td>2</td><td>411</td><td>5.3</td><td>1</td><td>0</td></tr>\n",
              "\t<tr><td>2007</td><td>  648</td><td>3</td><td>310</td><td>4</td><td>481</td><td>5.4</td><td>1</td><td>1</td></tr>\n",
              "\t<tr><td>2007</td><td> 1590</td><td>3</td><td>510</td><td>3</td><td>522</td><td>5.3</td><td>1</td><td>0</td></tr>\n",
              "\t<tr><td>2007</td><td> 1503</td><td>2</td><td>510</td><td>3</td><td>523</td><td>5.0</td><td>1</td><td>0</td></tr>\n",
              "\t<tr><td>2007</td><td> 4166</td><td>1</td><td>610</td><td>3</td><td>565</td><td>6.3</td><td>1</td><td>0</td></tr>\n",
              "\t<tr><td>2007</td><td> 9584</td><td>2</td><td>410</td><td>2</td><td>570</td><td>5.2</td><td>1</td><td>0</td></tr>\n",
              "\t<tr><td>2007</td><td> 9347</td><td>5</td><td>410</td><td>2</td><td>571</td><td>5.2</td><td>1</td><td>0</td></tr>\n",
              "\t<tr><td>2007</td><td>10831</td><td>6</td><td>310</td><td>1</td><td>574</td><td>5.4</td><td>1</td><td>0</td></tr>\n",
              "\t<tr><td>2007</td><td> 8813</td><td>7</td><td>510</td><td>3</td><td>650</td><td>4.8</td><td>1</td><td>0</td></tr>\n",
              "\t<tr><td>2007</td><td> 4166</td><td>1</td><td>610</td><td>2</td><td>676</td><td>5.2</td><td>1</td><td>0</td></tr>\n",
              "\t<tr><td>2007</td><td> 4555</td><td>1</td><td>310</td><td>1</td><td>704</td><td>5.3</td><td>1</td><td>0</td></tr>\n",
              "\t<tr><td>⋮</td><td>⋮</td><td>⋮</td><td>⋮</td><td>⋮</td><td>⋮</td><td>⋮</td><td>⋮</td><td>⋮</td></tr>\n",
              "\t<tr><td>2007</td><td>0</td><td>0</td><td>310</td><td>3</td><td>26101860</td><td>0</td><td>1</td><td>0</td></tr>\n",
              "\t<tr><td>2007</td><td>0</td><td>0</td><td>310</td><td>4</td><td>26101860</td><td>0</td><td>1</td><td>1</td></tr>\n",
              "\t<tr><td>2007</td><td>0</td><td>0</td><td>310</td><td>1</td><td>26102488</td><td>0</td><td>1</td><td>0</td></tr>\n",
              "\t<tr><td>2007</td><td>0</td><td>0</td><td>310</td><td>2</td><td>26102488</td><td>0</td><td>1</td><td>0</td></tr>\n",
              "\t<tr><td>2007</td><td>0</td><td>0</td><td>310</td><td>3</td><td>26102488</td><td>0</td><td>1</td><td>0</td></tr>\n",
              "\t<tr><td>2007</td><td>0</td><td>0</td><td>310</td><td>4</td><td>26102488</td><td>0</td><td>1</td><td>1</td></tr>\n",
              "\t<tr><td>2007</td><td>0</td><td>0</td><td>310</td><td>1</td><td>26102595</td><td>0</td><td>1</td><td>0</td></tr>\n",
              "\t<tr><td>2007</td><td>0</td><td>0</td><td>310</td><td>2</td><td>26102595</td><td>0</td><td>1</td><td>0</td></tr>\n",
              "\t<tr><td>2007</td><td>0</td><td>0</td><td>310</td><td>3</td><td>26102595</td><td>0</td><td>1</td><td>0</td></tr>\n",
              "\t<tr><td>2007</td><td>0</td><td>0</td><td>310</td><td>4</td><td>26102595</td><td>0</td><td>1</td><td>1</td></tr>\n",
              "\t<tr><td>2007</td><td>0</td><td>0</td><td>310</td><td>1</td><td>26102694</td><td>0</td><td>1</td><td>0</td></tr>\n",
              "\t<tr><td>2007</td><td>0</td><td>0</td><td>310</td><td>2</td><td>26102694</td><td>0</td><td>1</td><td>0</td></tr>\n",
              "\t<tr><td>2007</td><td>0</td><td>0</td><td>310</td><td>3</td><td>26102694</td><td>0</td><td>1</td><td>0</td></tr>\n",
              "\t<tr><td>2007</td><td>0</td><td>0</td><td>310</td><td>4</td><td>26102694</td><td>0</td><td>1</td><td>1</td></tr>\n",
              "\t<tr><td>2007</td><td>0</td><td>0</td><td>310</td><td>1</td><td>26103004</td><td>0</td><td>1</td><td>0</td></tr>\n",
              "\t<tr><td>2007</td><td>0</td><td>0</td><td>310</td><td>2</td><td>26103004</td><td>0</td><td>1</td><td>0</td></tr>\n",
              "\t<tr><td>2007</td><td>0</td><td>0</td><td>310</td><td>3</td><td>26103004</td><td>0</td><td>1</td><td>0</td></tr>\n",
              "\t<tr><td>2007</td><td>0</td><td>0</td><td>310</td><td>4</td><td>26103004</td><td>0</td><td>1</td><td>1</td></tr>\n",
              "\t<tr><td>2007</td><td>0</td><td>0</td><td>310</td><td>1</td><td>26103006</td><td>0</td><td>1</td><td>0</td></tr>\n",
              "\t<tr><td>2007</td><td>0</td><td>0</td><td>310</td><td>2</td><td>26103006</td><td>0</td><td>1</td><td>0</td></tr>\n",
              "\t<tr><td>2007</td><td>0</td><td>0</td><td>310</td><td>3</td><td>26103006</td><td>0</td><td>1</td><td>0</td></tr>\n",
              "\t<tr><td>2007</td><td>0</td><td>0</td><td>310</td><td>4</td><td>26103006</td><td>0</td><td>1</td><td>1</td></tr>\n",
              "\t<tr><td>2007</td><td>0</td><td>0</td><td>310</td><td>1</td><td>26103421</td><td>0</td><td>1</td><td>0</td></tr>\n",
              "\t<tr><td>2007</td><td>0</td><td>0</td><td>310</td><td>2</td><td>26103421</td><td>0</td><td>1</td><td>0</td></tr>\n",
              "\t<tr><td>2007</td><td>0</td><td>0</td><td>310</td><td>3</td><td>26103421</td><td>0</td><td>1</td><td>0</td></tr>\n",
              "\t<tr><td>2007</td><td>0</td><td>0</td><td>310</td><td>4</td><td>26103421</td><td>0</td><td>1</td><td>1</td></tr>\n",
              "\t<tr><td>2007</td><td>0</td><td>0</td><td>310</td><td>1</td><td>26103433</td><td>0</td><td>1</td><td>0</td></tr>\n",
              "\t<tr><td>2007</td><td>0</td><td>0</td><td>310</td><td>2</td><td>26103433</td><td>0</td><td>1</td><td>0</td></tr>\n",
              "\t<tr><td>2007</td><td>0</td><td>0</td><td>310</td><td>3</td><td>26103433</td><td>0</td><td>1</td><td>0</td></tr>\n",
              "\t<tr><td>2007</td><td>0</td><td>0</td><td>310</td><td>4</td><td>26103433</td><td>0</td><td>1</td><td>1</td></tr>\n",
              "</tbody>\n",
              "</table>\n"
            ],
            "text/markdown": "\nA data.table: 966051 × 9\n\n| agno &lt;int&gt; | rbd &lt;int&gt; | dgv_rbd &lt;int&gt; | cod_ense &lt;int&gt; | cod_grado &lt;int&gt; | mrun &lt;int&gt; | prom_notas_alu &lt;dbl&gt; | ense_completa &lt;int&gt; | marca_egreso &lt;int&gt; |\n|---|---|---|---|---|---|---|---|---|\n| 2007 | 25591 | 2 | 410 | 4 |   3 | 6.2 | 1 | 1 |\n| 2007 | 10666 | 6 | 310 | 4 |   4 | 5.5 | 1 | 1 |\n| 2007 | 10452 | 3 | 310 | 2 |   5 | 4.7 | 1 | 0 |\n| 2007 |  1517 | 2 | 310 | 4 |  41 | 5.6 | 1 | 1 |\n| 2007 | 10635 | 6 | 310 | 3 |  42 | 5.1 | 1 | 0 |\n| 2007 |  8892 | 7 | 310 | 3 |  43 | 6.6 | 1 | 0 |\n| 2007 |  4555 | 1 | 310 | 3 |  79 | 5.3 | 1 | 0 |\n| 2007 | 25487 | 8 | 310 | 3 |  80 | 6.2 | 1 | 0 |\n| 2007 | 10220 | 2 | 310 | 2 | 118 | 4.9 | 1 | 0 |\n| 2007 |  5465 | 8 | 310 | 4 | 201 | 5.7 | 1 | 1 |\n| 2007 | 10697 | 6 | 610 | 4 | 202 | 4.8 | 1 | 1 |\n| 2007 |  8656 | 8 | 410 | 1 | 291 | 4.8 | 1 | 0 |\n| 2007 | 11885 | 0 | 510 | 3 | 324 | 4.9 | 1 | 0 |\n| 2007 | 25753 | 2 | 361 | 4 | 337 | 5.2 | 1 | 1 |\n| 2007 | 26087 | 8 | 361 | 4 | 340 | 5.1 | 1 | 1 |\n| 2007 |  6051 | 8 | 610 | 1 | 353 | 5.7 | 1 | 0 |\n| 2007 | 10686 | 0 | 310 | 2 | 369 | 4.8 | 1 | 0 |\n| 2007 |  9906 | 6 | 310 | 4 | 370 | 5.3 | 1 | 1 |\n| 2007 |  3247 | 6 | 310 | 2 | 410 | 5.2 | 1 | 0 |\n| 2007 |  2486 | 4 | 510 | 2 | 411 | 5.3 | 1 | 0 |\n| 2007 |   648 | 3 | 310 | 4 | 481 | 5.4 | 1 | 1 |\n| 2007 |  1590 | 3 | 510 | 3 | 522 | 5.3 | 1 | 0 |\n| 2007 |  1503 | 2 | 510 | 3 | 523 | 5.0 | 1 | 0 |\n| 2007 |  4166 | 1 | 610 | 3 | 565 | 6.3 | 1 | 0 |\n| 2007 |  9584 | 2 | 410 | 2 | 570 | 5.2 | 1 | 0 |\n| 2007 |  9347 | 5 | 410 | 2 | 571 | 5.2 | 1 | 0 |\n| 2007 | 10831 | 6 | 310 | 1 | 574 | 5.4 | 1 | 0 |\n| 2007 |  8813 | 7 | 510 | 3 | 650 | 4.8 | 1 | 0 |\n| 2007 |  4166 | 1 | 610 | 2 | 676 | 5.2 | 1 | 0 |\n| 2007 |  4555 | 1 | 310 | 1 | 704 | 5.3 | 1 | 0 |\n| ⋮ | ⋮ | ⋮ | ⋮ | ⋮ | ⋮ | ⋮ | ⋮ | ⋮ |\n| 2007 | 0 | 0 | 310 | 3 | 26101860 | 0 | 1 | 0 |\n| 2007 | 0 | 0 | 310 | 4 | 26101860 | 0 | 1 | 1 |\n| 2007 | 0 | 0 | 310 | 1 | 26102488 | 0 | 1 | 0 |\n| 2007 | 0 | 0 | 310 | 2 | 26102488 | 0 | 1 | 0 |\n| 2007 | 0 | 0 | 310 | 3 | 26102488 | 0 | 1 | 0 |\n| 2007 | 0 | 0 | 310 | 4 | 26102488 | 0 | 1 | 1 |\n| 2007 | 0 | 0 | 310 | 1 | 26102595 | 0 | 1 | 0 |\n| 2007 | 0 | 0 | 310 | 2 | 26102595 | 0 | 1 | 0 |\n| 2007 | 0 | 0 | 310 | 3 | 26102595 | 0 | 1 | 0 |\n| 2007 | 0 | 0 | 310 | 4 | 26102595 | 0 | 1 | 1 |\n| 2007 | 0 | 0 | 310 | 1 | 26102694 | 0 | 1 | 0 |\n| 2007 | 0 | 0 | 310 | 2 | 26102694 | 0 | 1 | 0 |\n| 2007 | 0 | 0 | 310 | 3 | 26102694 | 0 | 1 | 0 |\n| 2007 | 0 | 0 | 310 | 4 | 26102694 | 0 | 1 | 1 |\n| 2007 | 0 | 0 | 310 | 1 | 26103004 | 0 | 1 | 0 |\n| 2007 | 0 | 0 | 310 | 2 | 26103004 | 0 | 1 | 0 |\n| 2007 | 0 | 0 | 310 | 3 | 26103004 | 0 | 1 | 0 |\n| 2007 | 0 | 0 | 310 | 4 | 26103004 | 0 | 1 | 1 |\n| 2007 | 0 | 0 | 310 | 1 | 26103006 | 0 | 1 | 0 |\n| 2007 | 0 | 0 | 310 | 2 | 26103006 | 0 | 1 | 0 |\n| 2007 | 0 | 0 | 310 | 3 | 26103006 | 0 | 1 | 0 |\n| 2007 | 0 | 0 | 310 | 4 | 26103006 | 0 | 1 | 1 |\n| 2007 | 0 | 0 | 310 | 1 | 26103421 | 0 | 1 | 0 |\n| 2007 | 0 | 0 | 310 | 2 | 26103421 | 0 | 1 | 0 |\n| 2007 | 0 | 0 | 310 | 3 | 26103421 | 0 | 1 | 0 |\n| 2007 | 0 | 0 | 310 | 4 | 26103421 | 0 | 1 | 1 |\n| 2007 | 0 | 0 | 310 | 1 | 26103433 | 0 | 1 | 0 |\n| 2007 | 0 | 0 | 310 | 2 | 26103433 | 0 | 1 | 0 |\n| 2007 | 0 | 0 | 310 | 3 | 26103433 | 0 | 1 | 0 |\n| 2007 | 0 | 0 | 310 | 4 | 26103433 | 0 | 1 | 1 |\n\n",
            "text/latex": "A data.table: 966051 × 9\n\\begin{tabular}{lllllllll}\n agno & rbd & dgv\\_rbd & cod\\_ense & cod\\_grado & mrun & prom\\_notas\\_alu & ense\\_completa & marca\\_egreso\\\\\n <int> & <int> & <int> & <int> & <int> & <int> & <dbl> & <int> & <int>\\\\\n\\hline\n\t 2007 & 25591 & 2 & 410 & 4 &   3 & 6.2 & 1 & 1\\\\\n\t 2007 & 10666 & 6 & 310 & 4 &   4 & 5.5 & 1 & 1\\\\\n\t 2007 & 10452 & 3 & 310 & 2 &   5 & 4.7 & 1 & 0\\\\\n\t 2007 &  1517 & 2 & 310 & 4 &  41 & 5.6 & 1 & 1\\\\\n\t 2007 & 10635 & 6 & 310 & 3 &  42 & 5.1 & 1 & 0\\\\\n\t 2007 &  8892 & 7 & 310 & 3 &  43 & 6.6 & 1 & 0\\\\\n\t 2007 &  4555 & 1 & 310 & 3 &  79 & 5.3 & 1 & 0\\\\\n\t 2007 & 25487 & 8 & 310 & 3 &  80 & 6.2 & 1 & 0\\\\\n\t 2007 & 10220 & 2 & 310 & 2 & 118 & 4.9 & 1 & 0\\\\\n\t 2007 &  5465 & 8 & 310 & 4 & 201 & 5.7 & 1 & 1\\\\\n\t 2007 & 10697 & 6 & 610 & 4 & 202 & 4.8 & 1 & 1\\\\\n\t 2007 &  8656 & 8 & 410 & 1 & 291 & 4.8 & 1 & 0\\\\\n\t 2007 & 11885 & 0 & 510 & 3 & 324 & 4.9 & 1 & 0\\\\\n\t 2007 & 25753 & 2 & 361 & 4 & 337 & 5.2 & 1 & 1\\\\\n\t 2007 & 26087 & 8 & 361 & 4 & 340 & 5.1 & 1 & 1\\\\\n\t 2007 &  6051 & 8 & 610 & 1 & 353 & 5.7 & 1 & 0\\\\\n\t 2007 & 10686 & 0 & 310 & 2 & 369 & 4.8 & 1 & 0\\\\\n\t 2007 &  9906 & 6 & 310 & 4 & 370 & 5.3 & 1 & 1\\\\\n\t 2007 &  3247 & 6 & 310 & 2 & 410 & 5.2 & 1 & 0\\\\\n\t 2007 &  2486 & 4 & 510 & 2 & 411 & 5.3 & 1 & 0\\\\\n\t 2007 &   648 & 3 & 310 & 4 & 481 & 5.4 & 1 & 1\\\\\n\t 2007 &  1590 & 3 & 510 & 3 & 522 & 5.3 & 1 & 0\\\\\n\t 2007 &  1503 & 2 & 510 & 3 & 523 & 5.0 & 1 & 0\\\\\n\t 2007 &  4166 & 1 & 610 & 3 & 565 & 6.3 & 1 & 0\\\\\n\t 2007 &  9584 & 2 & 410 & 2 & 570 & 5.2 & 1 & 0\\\\\n\t 2007 &  9347 & 5 & 410 & 2 & 571 & 5.2 & 1 & 0\\\\\n\t 2007 & 10831 & 6 & 310 & 1 & 574 & 5.4 & 1 & 0\\\\\n\t 2007 &  8813 & 7 & 510 & 3 & 650 & 4.8 & 1 & 0\\\\\n\t 2007 &  4166 & 1 & 610 & 2 & 676 & 5.2 & 1 & 0\\\\\n\t 2007 &  4555 & 1 & 310 & 1 & 704 & 5.3 & 1 & 0\\\\\n\t ⋮ & ⋮ & ⋮ & ⋮ & ⋮ & ⋮ & ⋮ & ⋮ & ⋮\\\\\n\t 2007 & 0 & 0 & 310 & 3 & 26101860 & 0 & 1 & 0\\\\\n\t 2007 & 0 & 0 & 310 & 4 & 26101860 & 0 & 1 & 1\\\\\n\t 2007 & 0 & 0 & 310 & 1 & 26102488 & 0 & 1 & 0\\\\\n\t 2007 & 0 & 0 & 310 & 2 & 26102488 & 0 & 1 & 0\\\\\n\t 2007 & 0 & 0 & 310 & 3 & 26102488 & 0 & 1 & 0\\\\\n\t 2007 & 0 & 0 & 310 & 4 & 26102488 & 0 & 1 & 1\\\\\n\t 2007 & 0 & 0 & 310 & 1 & 26102595 & 0 & 1 & 0\\\\\n\t 2007 & 0 & 0 & 310 & 2 & 26102595 & 0 & 1 & 0\\\\\n\t 2007 & 0 & 0 & 310 & 3 & 26102595 & 0 & 1 & 0\\\\\n\t 2007 & 0 & 0 & 310 & 4 & 26102595 & 0 & 1 & 1\\\\\n\t 2007 & 0 & 0 & 310 & 1 & 26102694 & 0 & 1 & 0\\\\\n\t 2007 & 0 & 0 & 310 & 2 & 26102694 & 0 & 1 & 0\\\\\n\t 2007 & 0 & 0 & 310 & 3 & 26102694 & 0 & 1 & 0\\\\\n\t 2007 & 0 & 0 & 310 & 4 & 26102694 & 0 & 1 & 1\\\\\n\t 2007 & 0 & 0 & 310 & 1 & 26103004 & 0 & 1 & 0\\\\\n\t 2007 & 0 & 0 & 310 & 2 & 26103004 & 0 & 1 & 0\\\\\n\t 2007 & 0 & 0 & 310 & 3 & 26103004 & 0 & 1 & 0\\\\\n\t 2007 & 0 & 0 & 310 & 4 & 26103004 & 0 & 1 & 1\\\\\n\t 2007 & 0 & 0 & 310 & 1 & 26103006 & 0 & 1 & 0\\\\\n\t 2007 & 0 & 0 & 310 & 2 & 26103006 & 0 & 1 & 0\\\\\n\t 2007 & 0 & 0 & 310 & 3 & 26103006 & 0 & 1 & 0\\\\\n\t 2007 & 0 & 0 & 310 & 4 & 26103006 & 0 & 1 & 1\\\\\n\t 2007 & 0 & 0 & 310 & 1 & 26103421 & 0 & 1 & 0\\\\\n\t 2007 & 0 & 0 & 310 & 2 & 26103421 & 0 & 1 & 0\\\\\n\t 2007 & 0 & 0 & 310 & 3 & 26103421 & 0 & 1 & 0\\\\\n\t 2007 & 0 & 0 & 310 & 4 & 26103421 & 0 & 1 & 1\\\\\n\t 2007 & 0 & 0 & 310 & 1 & 26103433 & 0 & 1 & 0\\\\\n\t 2007 & 0 & 0 & 310 & 2 & 26103433 & 0 & 1 & 0\\\\\n\t 2007 & 0 & 0 & 310 & 3 & 26103433 & 0 & 1 & 0\\\\\n\t 2007 & 0 & 0 & 310 & 4 & 26103433 & 0 & 1 & 1\\\\\n\\end{tabular}\n",
            "text/plain": [
              "       agno rbd   dgv_rbd cod_ense cod_grado mrun     prom_notas_alu\n",
              "1      2007 25591 2       410      4           3      6.2           \n",
              "2      2007 10666 6       310      4           4      5.5           \n",
              "3      2007 10452 3       310      2           5      4.7           \n",
              "4      2007  1517 2       310      4          41      5.6           \n",
              "5      2007 10635 6       310      3          42      5.1           \n",
              "6      2007  8892 7       310      3          43      6.6           \n",
              "7      2007  4555 1       310      3          79      5.3           \n",
              "8      2007 25487 8       310      3          80      6.2           \n",
              "9      2007 10220 2       310      2         118      4.9           \n",
              "10     2007  5465 8       310      4         201      5.7           \n",
              "11     2007 10697 6       610      4         202      4.8           \n",
              "12     2007  8656 8       410      1         291      4.8           \n",
              "13     2007 11885 0       510      3         324      4.9           \n",
              "14     2007 25753 2       361      4         337      5.2           \n",
              "15     2007 26087 8       361      4         340      5.1           \n",
              "16     2007  6051 8       610      1         353      5.7           \n",
              "17     2007 10686 0       310      2         369      4.8           \n",
              "18     2007  9906 6       310      4         370      5.3           \n",
              "19     2007  3247 6       310      2         410      5.2           \n",
              "20     2007  2486 4       510      2         411      5.3           \n",
              "21     2007   648 3       310      4         481      5.4           \n",
              "22     2007  1590 3       510      3         522      5.3           \n",
              "23     2007  1503 2       510      3         523      5.0           \n",
              "24     2007  4166 1       610      3         565      6.3           \n",
              "25     2007  9584 2       410      2         570      5.2           \n",
              "26     2007  9347 5       410      2         571      5.2           \n",
              "27     2007 10831 6       310      1         574      5.4           \n",
              "28     2007  8813 7       510      3         650      4.8           \n",
              "29     2007  4166 1       610      2         676      5.2           \n",
              "30     2007  4555 1       310      1         704      5.3           \n",
              "⋮      ⋮    ⋮     ⋮       ⋮        ⋮         ⋮        ⋮             \n",
              "966022 2007 0     0       310      3         26101860 0             \n",
              "966023 2007 0     0       310      4         26101860 0             \n",
              "966024 2007 0     0       310      1         26102488 0             \n",
              "966025 2007 0     0       310      2         26102488 0             \n",
              "966026 2007 0     0       310      3         26102488 0             \n",
              "966027 2007 0     0       310      4         26102488 0             \n",
              "966028 2007 0     0       310      1         26102595 0             \n",
              "966029 2007 0     0       310      2         26102595 0             \n",
              "966030 2007 0     0       310      3         26102595 0             \n",
              "966031 2007 0     0       310      4         26102595 0             \n",
              "966032 2007 0     0       310      1         26102694 0             \n",
              "966033 2007 0     0       310      2         26102694 0             \n",
              "966034 2007 0     0       310      3         26102694 0             \n",
              "966035 2007 0     0       310      4         26102694 0             \n",
              "966036 2007 0     0       310      1         26103004 0             \n",
              "966037 2007 0     0       310      2         26103004 0             \n",
              "966038 2007 0     0       310      3         26103004 0             \n",
              "966039 2007 0     0       310      4         26103004 0             \n",
              "966040 2007 0     0       310      1         26103006 0             \n",
              "966041 2007 0     0       310      2         26103006 0             \n",
              "966042 2007 0     0       310      3         26103006 0             \n",
              "966043 2007 0     0       310      4         26103006 0             \n",
              "966044 2007 0     0       310      1         26103421 0             \n",
              "966045 2007 0     0       310      2         26103421 0             \n",
              "966046 2007 0     0       310      3         26103421 0             \n",
              "966047 2007 0     0       310      4         26103421 0             \n",
              "966048 2007 0     0       310      1         26103433 0             \n",
              "966049 2007 0     0       310      2         26103433 0             \n",
              "966050 2007 0     0       310      3         26103433 0             \n",
              "966051 2007 0     0       310      4         26103433 0             \n",
              "       ense_completa marca_egreso\n",
              "1      1             1           \n",
              "2      1             1           \n",
              "3      1             0           \n",
              "4      1             1           \n",
              "5      1             0           \n",
              "6      1             0           \n",
              "7      1             0           \n",
              "8      1             0           \n",
              "9      1             0           \n",
              "10     1             1           \n",
              "11     1             1           \n",
              "12     1             0           \n",
              "13     1             0           \n",
              "14     1             1           \n",
              "15     1             1           \n",
              "16     1             0           \n",
              "17     1             0           \n",
              "18     1             1           \n",
              "19     1             0           \n",
              "20     1             0           \n",
              "21     1             1           \n",
              "22     1             0           \n",
              "23     1             0           \n",
              "24     1             0           \n",
              "25     1             0           \n",
              "26     1             0           \n",
              "27     1             0           \n",
              "28     1             0           \n",
              "29     1             0           \n",
              "30     1             0           \n",
              "⋮      ⋮             ⋮           \n",
              "966022 1             0           \n",
              "966023 1             1           \n",
              "966024 1             0           \n",
              "966025 1             0           \n",
              "966026 1             0           \n",
              "966027 1             1           \n",
              "966028 1             0           \n",
              "966029 1             0           \n",
              "966030 1             0           \n",
              "966031 1             1           \n",
              "966032 1             0           \n",
              "966033 1             0           \n",
              "966034 1             0           \n",
              "966035 1             1           \n",
              "966036 1             0           \n",
              "966037 1             0           \n",
              "966038 1             0           \n",
              "966039 1             1           \n",
              "966040 1             0           \n",
              "966041 1             0           \n",
              "966042 1             0           \n",
              "966043 1             1           \n",
              "966044 1             0           \n",
              "966045 1             0           \n",
              "966046 1             0           \n",
              "966047 1             1           \n",
              "966048 1             0           \n",
              "966049 1             0           \n",
              "966050 1             0           \n",
              "966051 1             1           "
            ]
          },
          "metadata": {}
        }
      ]
    },
    {
      "cell_type": "code",
      "source": [
        "tic()\n",
        "\n",
        "ciclo1 <- 1000\n",
        "\n",
        "for(i in 1:ciclo1){\n",
        "\n",
        "  notas <- egreso2007$prom_notas_alu[i]\n",
        "  egreso2007_base100$prom_notas_alu[i] <- max(c((notas -1)/6 * 100,0))\n",
        "  \n",
        "}\n",
        "\n",
        "toc()"
      ],
      "metadata": {
        "id": "YasVY5qbeFS0",
        "colab": {
          "base_uri": "https://localhost:8080/"
        },
        "outputId": "43820bf9-3a5a-457f-83e6-4631bd05724c"
      },
      "execution_count": null,
      "outputs": [
        {
          "output_type": "stream",
          "name": "stdout",
          "text": [
            "19.059 sec elapsed\n"
          ]
        }
      ]
    },
    {
      "cell_type": "code",
      "source": [
        "19.059*966051/1000 # Segundos que tardaria en realizar el filtro aproximadamente"
      ],
      "metadata": {
        "colab": {
          "base_uri": "https://localhost:8080/",
          "height": 34
        },
        "id": "oqXOrwuZFhBo",
        "outputId": "4757981d-ae29-492d-cea9-bcb57fac0d4c"
      },
      "execution_count": null,
      "outputs": [
        {
          "output_type": "display_data",
          "data": {
            "text/html": [
              "18411.966009"
            ],
            "text/markdown": "18411.966009",
            "text/latex": "18411.966009",
            "text/plain": [
              "[1] 18411.97"
            ]
          },
          "metadata": {}
        }
      ]
    },
    {
      "cell_type": "code",
      "source": [
        "18411/60"
      ],
      "metadata": {
        "id": "Fnt8lELmZqAb",
        "outputId": "e5e58c37-df63-4f80-f45a-111dde90f0c1",
        "colab": {
          "base_uri": "https://localhost:8080/",
          "height": 34
        }
      },
      "execution_count": null,
      "outputs": [
        {
          "output_type": "display_data",
          "data": {
            "text/html": [
              "306.85"
            ],
            "text/markdown": "306.85",
            "text/latex": "306.85",
            "text/plain": [
              "[1] 306.85"
            ]
          },
          "metadata": {}
        }
      ]
    },
    {
      "cell_type": "markdown",
      "source": [
        "Ahora vemos el comando modify"
      ],
      "metadata": {
        "id": "t_7b90VNFn2I"
      }
    },
    {
      "cell_type": "code",
      "source": [
        "egreso2007_colnames <- names(egreso2007)\n",
        "\n",
        "egreso2007_base100_2 <- data.frame(matrix(ncol = length(egreso2007_colnames), nrow = 0))\n",
        "\n",
        "colnames(egreso2007_base100_2) <- c(egreso2007_colnames)"
      ],
      "metadata": {
        "id": "Ebfmmhzwfg-T"
      },
      "execution_count": null,
      "outputs": []
    },
    {
      "cell_type": "code",
      "source": [
        "tic()\n",
        "base100 <- funcion(notas){\n",
        "  (notas-1)/6 * 100\n",
        "}\n",
        "\n",
        "egreso2007_base100_2$prom_notas_alu = modify(egreso2007$prom_notas_alu, base100())\n",
        "toc()"
      ],
      "metadata": {
        "id": "iwRPYmzhfhOK"
      },
      "execution_count": null,
      "outputs": []
    },
    {
      "cell_type": "markdown",
      "metadata": {
        "id": "9NLnII59n8JX"
      },
      "source": [
        "## Segunda base de datos (Actividad)\n",
        "\n",
        "Tenemos tambien la base de datos de rendimiento de todos los niveles para un año especifico. Carguen esa base de datos y asignenla a \"rendim2020\""
      ]
    },
    {
      "cell_type": "code",
      "metadata": {
        "id": "Cx8Na34VpHq1"
      },
      "source": [
        "rendim2020 <- fread(\"/content/content/Datos/20210223_Rendimiento_2020.csv\")"
      ],
      "execution_count": null,
      "outputs": []
    },
    {
      "cell_type": "code",
      "metadata": {
        "colab": {
          "base_uri": "https://localhost:8080/"
        },
        "id": "UInXjKFHpzA0",
        "outputId": "f3cc05cd-73cd-41e8-d3ee-1f4fe0bbb247"
      },
      "source": [
        "#vistazo rapido centrandose en las columnas\n",
        "str(rendim2020)"
      ],
      "execution_count": null,
      "outputs": [
        {
          "output_type": "stream",
          "text": [
            "Classes ‘data.table’ and 'data.frame':\t3164534 obs. of  37 variables:\n",
            " $ AGNO          : int  2020 2020 2020 2020 2020 2020 2020 2020 2020 2020 ...\n",
            " $ RBD           : int  1 1 1 1 1 1 1 1 1 1 ...\n",
            " $ DGV_RBD       : int  9 9 9 9 9 9 9 9 9 9 ...\n",
            " $ NOM_RBD       : chr  \"LICEO POLITECNICO ARICA\" \"LICEO POLITECNICO ARICA\" \"LICEO POLITECNICO ARICA\" \"LICEO POLITECNICO ARICA\" ...\n",
            " $ COD_REG_RBD   : int  15 15 15 15 15 15 15 15 15 15 ...\n",
            " $ NOM_REG_RBD_A : chr  \"AYP\" \"AYP\" \"AYP\" \"AYP\" ...\n",
            " $ COD_PRO_RBD   : int  151 151 151 151 151 151 151 151 151 151 ...\n",
            " $ COD_COM_RBD   : int  15101 15101 15101 15101 15101 15101 15101 15101 15101 15101 ...\n",
            " $ NOM_COM_RBD   : chr  \"ARICA\" \"ARICA\" \"ARICA\" \"ARICA\" ...\n",
            " $ COD_DEPROV_RBD: int  151 151 151 151 151 151 151 151 151 151 ...\n",
            " $ NOM_DEPROV_RBD: chr  \"ARICA\" \"ARICA\" \"ARICA\" \"ARICA\" ...\n",
            " $ COD_DEPE      : int  6 6 6 6 6 6 6 6 6 6 ...\n",
            " $ COD_DEPE2     : int  5 5 5 5 5 5 5 5 5 5 ...\n",
            " $ RURAL_RBD     : int  0 0 0 0 0 0 0 0 0 0 ...\n",
            " $ ESTADO_ESTAB  : int  1 1 1 1 1 1 1 1 1 1 ...\n",
            " $ COD_ENSE      : int  463 463 463 463 463 463 463 463 463 463 ...\n",
            " $ COD_ENSE2     : int  8 8 8 8 8 8 8 8 8 8 ...\n",
            " $ COD_GRADO     : int  3 3 3 3 3 3 3 3 4 4 ...\n",
            " $ LET_CUR       : chr  \"A\" \"A\" \"A\" \"A\" ...\n",
            " $ COD_JOR       : int  4 4 4 4 4 4 4 4 4 4 ...\n",
            " $ COD_TIP_CUR   : int  0 0 0 0 0 0 0 0 0 0 ...\n",
            " $ COD_DES_CUR   : int  1 1 1 1 1 1 1 1 1 1 ...\n",
            " $ MRUN          : int  8598804 14742873 15853074 16201389 19907825 20425606 21661661 25633567 1591930 2655917 ...\n",
            " $ GEN_ALU       : int  1 2 1 2 2 2 2 2 1 1 ...\n",
            " $ FEC_NAC_ALU   : int  197712 199212 200201 198404 200206 199108 199605 199210 196707 199509 ...\n",
            " $ EDAD_ALU      : int  42 27 18 36 18 28 24 27 52 24 ...\n",
            " $ COD_REG_ALU   : int  15 15 15 15 15 15 15 15 15 15 ...\n",
            " $ COD_COM_ALU   : int  15101 15101 15101 15101 15101 15101 15101 15101 15101 15101 ...\n",
            " $ NOM_COM_ALU   : chr  \"ARICA\" \"ARICA\" \"ARICA\" \"ARICA\" ...\n",
            " $ COD_RAMA      : int  400 400 400 400 400 400 400 400 400 400 ...\n",
            " $ COD_SEC       : int  410 410 410 410 410 410 410 410 410 410 ...\n",
            " $ COD_ESPE      : int  41001 41001 41001 41001 41001 41001 41001 41001 41001 41001 ...\n",
            " $ PROM_GRAL     : chr  \"6,7\" \"5,5\" \"0\" \"5,2\" ...\n",
            " $ ASISTENCIA    : int  100 100 0 100 100 100 0 0 0 30 ...\n",
            " $ SIT_FIN       : chr  \"P\" \"P\" \"Y\" \"P\" ...\n",
            " $ SIT_FIN_R     : chr  \"P\" \"P\" \"Y\" \"P\" ...\n",
            " $ COD_MEN       : int  0 0 0 0 0 0 0 0 0 0 ...\n",
            " - attr(*, \".internal.selfref\")=<externalptr> \n"
          ],
          "name": "stdout"
        }
      ]
    },
    {
      "cell_type": "markdown",
      "metadata": {
        "id": "wSELNevzsQmt"
      },
      "source": [
        "Mirando esta tabla\n",
        "* ¿Qué cosas no sabemos?\n",
        "* ¿Qué nos gustaria saber?\n",
        "* ¿Qué problemas podriamos encontrar?"
      ]
    },
    {
      "cell_type": "code",
      "source": [
        ""
      ],
      "metadata": {
        "id": "NdxDUg03FK7V"
      },
      "execution_count": null,
      "outputs": []
    },
    {
      "cell_type": "code",
      "source": [
        ""
      ],
      "metadata": {
        "id": "e27TEoobFKpa"
      },
      "execution_count": null,
      "outputs": []
    },
    {
      "cell_type": "markdown",
      "metadata": {
        "id": "pjwkSsTJHxnu"
      },
      "source": [
        "## **Unir dos bases de datos (Actividad)**\n",
        "Para poder realizar un trabajo más completo, unir bases de datos es fundamental. Para ello uno busca identificadores (llaves) que permitan asociar las distintas bases de datos.\n",
        "\n",
        "Para esta sección deberán usar los comandos de R para programar un \"merge\" según el mrun para las bases de datos de rendimiento del año 2019 y 2020. En otras palabras, buscaremos escribir en una sola base de datos los atributos de \"rendim2019\" y \"rendim2020\" para los valores de mrun que se encuentren en ambas bases de datos.\n",
        "\n",
        "Para ello deberan seguir los siguientes pasos:\n",
        "\n",
        "1) Descargar y asignar las bases de datos de rendimiento escolar de los años 2019 y 2020 a las variables rendim2019 y rendim2020\n",
        "\n",
        "2) Crear un dataframe vacio \"rendim_19_20\" con las columnas de rendim2019 y rendim2020, notese que los atributos se llaman de la misma forma en las dos bases de datos asi que deberán poner un sufijo a cada uno (ej: COD_GRADO_2019, COD_GRADO_2020, etc). Para esto investiguen como se ocupa la funcion \"paste\".\n",
        "\n",
        "3) Elaboren un codigo para llenar la base de datos rendim_19_20 con los atributos de los años 2019 y 2020. Para la solución más sencilla será necesario que usen 2 for-loop y un if. En este codigo recorran solo las 3000 primeras filas de las bases de datos (por temas de tiempo de computo). Tomen el tiempo con la libreria tictoc.\n",
        "\n",
        "4) Busquen como utilizar la funcion \"merge\" de R-base y de dplyr, hagan lo mismo del los pasos 1-3 pero con estas librerias. Tomen el tiempo con la libreria tictoc.\n",
        "\n"
      ]
    },
    {
      "cell_type": "code",
      "metadata": {
        "colab": {
          "base_uri": "https://localhost:8080/"
        },
        "id": "lrXkZnMoOZK6",
        "outputId": "b1c9e3a4-6608-4d8a-d764-cef4f80af053"
      },
      "source": [
        "rendim2019 <- fread(\"/content/content/Datos/20210223_Rendimiento_2019.csv\")\n",
        "str(rendim2019)"
      ],
      "execution_count": null,
      "outputs": [
        {
          "output_type": "stream",
          "text": [
            "Classes ‘data.table’ and 'data.frame':\t3328915 obs. of  37 variables:\n",
            " $ AGNO          : int  2019 2019 2019 2019 2019 2019 2019 2019 2019 2019 ...\n",
            " $ RBD           : int  1 1 1 1 1 1 1 1 1 1 ...\n",
            " $ DGV_RBD       : int  9 9 9 9 9 9 9 9 9 9 ...\n",
            " $ NOM_RBD       : chr  \"LICEO POLITECNICO ARICA\" \"LICEO POLITECNICO ARICA\" \"LICEO POLITECNICO ARICA\" \"LICEO POLITECNICO ARICA\" ...\n",
            " $ COD_REG_RBD   : int  15 15 15 15 15 15 15 15 15 15 ...\n",
            " $ NOM_REG_RBD_A : chr  \"AYP\" \"AYP\" \"AYP\" \"AYP\" ...\n",
            " $ COD_PRO_RBD   : int  151 151 151 151 151 151 151 151 151 151 ...\n",
            " $ COD_COM_RBD   : int  15101 15101 15101 15101 15101 15101 15101 15101 15101 15101 ...\n",
            " $ NOM_COM_RBD   : chr  \"ARICA\" \"ARICA\" \"ARICA\" \"ARICA\" ...\n",
            " $ COD_DEPROV_RBD: int  151 151 151 151 151 151 151 151 151 151 ...\n",
            " $ NOM_DEPROV_RBD: chr  \"ARICA\" \"ARICA\" \"ARICA\" \"ARICA\" ...\n",
            " $ COD_DEPE      : int  6 6 6 6 6 6 6 6 6 6 ...\n",
            " $ COD_DEPE2     : int  5 5 5 5 5 5 5 5 5 5 ...\n",
            " $ RURAL_RBD     : int  0 0 0 0 0 0 0 0 0 0 ...\n",
            " $ ESTADO_ESTAB  : int  1 1 1 1 1 1 1 1 1 1 ...\n",
            " $ COD_ENSE      : int  463 463 463 463 463 463 463 463 463 463 ...\n",
            " $ COD_ENSE2     : int  8 8 8 8 8 8 8 8 8 8 ...\n",
            " $ COD_GRADO     : int  3 3 3 3 3 3 3 3 3 3 ...\n",
            " $ LET_CUR       : chr  \"A\" \"A\" \"A\" \"A\" ...\n",
            " $ COD_JOR       : int  4 4 4 4 4 4 4 4 4 4 ...\n",
            " $ COD_TIP_CUR   : int  0 0 0 0 0 0 0 0 0 0 ...\n",
            " $ COD_DES_CUR   : int  1 1 1 1 1 1 1 1 1 1 ...\n",
            " $ MRUN          : int  2655917 3738782 8598804 9591749 11883473 12831468 18244700 18524996 20670422 22466397 ...\n",
            " $ GEN_ALU       : int  1 2 1 2 2 2 2 2 2 2 ...\n",
            " $ FEC_NAC_ALU   : int  199509 196403 197712 197611 200104 200108 199507 196502 197905 196101 ...\n",
            " $ EDAD_ALU      : int  23 55 41 42 18 17 23 54 40 58 ...\n",
            " $ COD_REG_ALU   : int  15 15 15 15 1 13 15 15 15 15 ...\n",
            " $ COD_COM_ALU   : int  15101 15101 15101 15101 1107 13124 15101 15101 15101 15101 ...\n",
            " $ NOM_COM_ALU   : chr  \"ARICA\" \"ARICA\" \"ARICA\" \"ARICA\" ...\n",
            " $ COD_RAMA      : int  400 400 400 400 400 400 400 400 400 400 ...\n",
            " $ COD_SEC       : int  410 410 410 410 410 410 410 410 410 410 ...\n",
            " $ COD_ESPE      : int  41001 41001 41001 41001 41001 41001 41001 41001 41001 41001 ...\n",
            " $ PROM_GRAL     : chr  \"5\" \"0\" \"4,9\" \"0\" ...\n",
            " $ ASISTENCIA    : int  85 0 89 0 0 89 86 100 0 88 ...\n",
            " $ SIT_FIN       : chr  \"P\" \"Y\" \"R\" \"Y\" ...\n",
            " $ SIT_FIN_R     : chr  \"P\" \"Y\" \"R\" \"Y\" ...\n",
            " $ COD_MEN       : int  0 0 0 0 0 0 0 0 0 0 ...\n",
            " - attr(*, \".internal.selfref\")=<externalptr> \n"
          ],
          "name": "stdout"
        }
      ]
    },
    {
      "cell_type": "markdown",
      "metadata": {
        "id": "nzrNrqbgYspM"
      },
      "source": [
        "Para combinar ambas bases de datos, queremos todos aquellos que tengan el mismo MRUN, por lo que recorreremos la 2019 y crearemos una base de datos a la que sumamos todas las observaciones que esten en ambas bases de datos. Para evaluar nuestro método, medimos cuánto tiempo se demora con la librería tictoc."
      ]
    },
    {
      "cell_type": "code",
      "metadata": {
        "id": "82Cx9pKfRADI"
      },
      "source": [
        "columnas2019 <- paste(names(rendim2019), \"2019\", sep = \"_\")\n",
        "columnas2020 <- paste(names(rendim2020), \"2020\", sep = \"_\")\n",
        "\n",
        "\n",
        "rendim_19_20 <- data.frame(matrix(ncol = 74, nrow = 0))\n",
        "nombres_columnas <- c(columnas2019, columnas2020)\n",
        "colnames(rendim_19_20) <- nombres_columnas"
      ],
      "execution_count": null,
      "outputs": []
    },
    {
      "cell_type": "code",
      "metadata": {
        "colab": {
          "base_uri": "https://localhost:8080/"
        },
        "id": "B468LPgSO_3C",
        "outputId": "e71c5c3f-4cad-4f38-91f6-fca2503ec431"
      },
      "source": [
        "\n"
      ],
      "execution_count": null,
      "outputs": [
        {
          "output_type": "stream",
          "text": [
            "16.398 sec elapsed\n"
          ],
          "name": "stdout"
        }
      ]
    },
    {
      "cell_type": "code",
      "metadata": {
        "colab": {
          "base_uri": "https://localhost:8080/"
        },
        "id": "0LWj4dNWTrTf",
        "outputId": "982ccbe3-053e-441f-be09-f53128975dbf"
      },
      "source": [
        "str(rendim_19_20)"
      ],
      "execution_count": null,
      "outputs": [
        {
          "output_type": "stream",
          "text": [
            "'data.frame':\t3292 obs. of  74 variables:\n",
            " $ AGNO_2019          : chr  \"2019\" \"2019\" \"2019\" \"2019\" ...\n",
            " $ RBD_2019           : chr  \"1\" \"1\" \"1\" \"1\" ...\n",
            " $ DGV_RBD_2019       : chr  \"9\" \"9\" \"9\" \"9\" ...\n",
            " $ NOM_RBD_2019       : chr  \"LICEO POLITECNICO ARICA\" \"LICEO POLITECNICO ARICA\" \"LICEO POLITECNICO ARICA\" \"LICEO POLITECNICO ARICA\" ...\n",
            " $ COD_REG_RBD_2019   : chr  \"15\" \"15\" \"15\" \"15\" ...\n",
            " $ NOM_REG_RBD_A_2019 : chr  \"AYP\" \"AYP\" \"AYP\" \"AYP\" ...\n",
            " $ COD_PRO_RBD_2019   : chr  \"151\" \"151\" \"151\" \"151\" ...\n",
            " $ COD_COM_RBD_2019   : chr  \"15101\" \"15101\" \"15101\" \"15101\" ...\n",
            " $ NOM_COM_RBD_2019   : chr  \"ARICA\" \"ARICA\" \"ARICA\" \"ARICA\" ...\n",
            " $ COD_DEPROV_RBD_2019: chr  \"151\" \"151\" \"151\" \"151\" ...\n",
            " $ NOM_DEPROV_RBD_2019: chr  \"ARICA\" \"ARICA\" \"ARICA\" \"ARICA\" ...\n",
            " $ COD_DEPE_2019      : chr  \"6\" \"6\" \"6\" \"6\" ...\n",
            " $ COD_DEPE2_2019     : chr  \"5\" \"5\" \"5\" \"5\" ...\n",
            " $ RURAL_RBD_2019     : chr  \"0\" \"0\" \"0\" \"0\" ...\n",
            " $ ESTADO_ESTAB_2019  : chr  \"1\" \"1\" \"1\" \"1\" ...\n",
            " $ COD_ENSE_2019      : chr  \"463\" \"463\" \"463\" \"463\" ...\n",
            " $ COD_ENSE2_2019     : chr  \"8\" \"8\" \"8\" \"8\" ...\n",
            " $ COD_GRADO_2019     : chr  \"3\" \"3\" \"3\" \"3\" ...\n",
            " $ LET_CUR_2019       : chr  \"A\" \"A\" \"A\" \"A\" ...\n",
            " $ COD_JOR_2019       : chr  \"4\" \"4\" \"4\" \"4\" ...\n",
            " $ COD_TIP_CUR_2019   : chr  \"0\" \"0\" \"0\" \"0\" ...\n",
            " $ COD_DES_CUR_2019   : chr  \"1\" \"1\" \"1\" \"1\" ...\n",
            " $ MRUN_2019          : chr  \"2655917\" \"8598804\" \"12831468\" \"18244700\" ...\n",
            " $ GEN_ALU_2019       : chr  \"1\" \"1\" \"2\" \"2\" ...\n",
            " $ FEC_NAC_ALU_2019   : chr  \"199509\" \"197712\" \"200108\" \"199507\" ...\n",
            " $ EDAD_ALU_2019      : chr  \"23\" \"41\" \"17\" \"23\" ...\n",
            " $ COD_REG_ALU_2019   : chr  \"15\" \"15\" \"13\" \"15\" ...\n",
            " $ COD_COM_ALU_2019   : chr  \"15101\" \"15101\" \"13124\" \"15101\" ...\n",
            " $ NOM_COM_ALU_2019   : chr  \"ARICA\" \"ARICA\" \"PUDAHUEL\" \"ARICA\" ...\n",
            " $ COD_RAMA_2019      : chr  \"400\" \"400\" \"400\" \"400\" ...\n",
            " $ COD_SEC_2019       : chr  \"410\" \"410\" \"410\" \"410\" ...\n",
            " $ COD_ESPE_2019      : chr  \"41001\" \"41001\" \"41001\" \"41001\" ...\n",
            " $ PROM_GRAL_2019     : chr  \"5\" \"4,9\" \"5,1\" \"5,9\" ...\n",
            " $ ASISTENCIA_2019    : chr  \"85\" \"89\" \"89\" \"86\" ...\n",
            " $ SIT_FIN_2019       : chr  \"P\" \"R\" \"P\" \"P\" ...\n",
            " $ SIT_FIN_R_2019     : chr  \"P\" \"R\" \"P\" \"P\" ...\n",
            " $ COD_MEN_2019       : chr  \"0\" \"0\" \"0\" \"0\" ...\n",
            " $ AGNO_2020          : chr  \"2020\" \"2020\" \"2020\" \"2020\" ...\n",
            " $ RBD_2020           : chr  \"1\" \"1\" \"1\" \"1\" ...\n",
            " $ DGV_RBD_2020       : chr  \"9\" \"9\" \"9\" \"9\" ...\n",
            " $ NOM_RBD_2020       : chr  \"LICEO POLITECNICO ARICA\" \"LICEO POLITECNICO ARICA\" \"LICEO POLITECNICO ARICA\" \"LICEO POLITECNICO ARICA\" ...\n",
            " $ COD_REG_RBD_2020   : chr  \"15\" \"15\" \"15\" \"15\" ...\n",
            " $ NOM_REG_RBD_A_2020 : chr  \"AYP\" \"AYP\" \"AYP\" \"AYP\" ...\n",
            " $ COD_PRO_RBD_2020   : chr  \"151\" \"151\" \"151\" \"151\" ...\n",
            " $ COD_COM_RBD_2020   : chr  \"15101\" \"15101\" \"15101\" \"15101\" ...\n",
            " $ NOM_COM_RBD_2020   : chr  \"ARICA\" \"ARICA\" \"ARICA\" \"ARICA\" ...\n",
            " $ COD_DEPROV_RBD_2020: chr  \"151\" \"151\" \"151\" \"151\" ...\n",
            " $ NOM_DEPROV_RBD_2020: chr  \"ARICA\" \"ARICA\" \"ARICA\" \"ARICA\" ...\n",
            " $ COD_DEPE_2020      : chr  \"6\" \"6\" \"6\" \"6\" ...\n",
            " $ COD_DEPE2_2020     : chr  \"5\" \"5\" \"5\" \"5\" ...\n",
            " $ RURAL_RBD_2020     : chr  \"0\" \"0\" \"0\" \"0\" ...\n",
            " $ ESTADO_ESTAB_2020  : chr  \"1\" \"1\" \"1\" \"1\" ...\n",
            " $ COD_ENSE_2020      : chr  \"463\" \"463\" \"463\" \"463\" ...\n",
            " $ COD_ENSE2_2020     : chr  \"8\" \"8\" \"8\" \"8\" ...\n",
            " $ COD_GRADO_2020     : chr  \"4\" \"3\" \"4\" \"4\" ...\n",
            " $ LET_CUR_2020       : chr  \"A\" \"A\" \"A\" \"A\" ...\n",
            " $ COD_JOR_2020       : chr  \"4\" \"4\" \"4\" \"4\" ...\n",
            " $ COD_TIP_CUR_2020   : chr  \"0\" \"0\" \"0\" \"0\" ...\n",
            " $ COD_DES_CUR_2020   : chr  \"1\" \"1\" \"1\" \"1\" ...\n",
            " $ MRUN_2020          : chr  \"2655917\" \"8598804\" \"12831468\" \"18244700\" ...\n",
            " $ GEN_ALU_2020       : chr  \"1\" \"1\" \"2\" \"2\" ...\n",
            " $ FEC_NAC_ALU_2020   : chr  \"199509\" \"197712\" \"200108\" \"199507\" ...\n",
            " $ EDAD_ALU_2020      : chr  \"24\" \"42\" \"18\" \"24\" ...\n",
            " $ COD_REG_ALU_2020   : chr  \"15\" \"15\" \"15\" \"15\" ...\n",
            " $ COD_COM_ALU_2020   : chr  \"15101\" \"15101\" \"15101\" \"15101\" ...\n",
            " $ NOM_COM_ALU_2020   : chr  \"ARICA\" \"ARICA\" \"ARICA\" \"ARICA\" ...\n",
            " $ COD_RAMA_2020      : chr  \"400\" \"400\" \"400\" \"400\" ...\n",
            " $ COD_SEC_2020       : chr  \"410\" \"410\" \"410\" \"410\" ...\n",
            " $ COD_ESPE_2020      : chr  \"41001\" \"41001\" \"41001\" \"41001\" ...\n",
            " $ PROM_GRAL_2020     : chr  \"3,1\" \"6,7\" \"5,1\" \"6,5\" ...\n",
            " $ ASISTENCIA_2020    : chr  \"30\" \"100\" \"100\" \"100\" ...\n",
            " $ SIT_FIN_2020       : chr  \"R\" \"P\" \"P\" \"P\" ...\n",
            " $ SIT_FIN_R_2020     : chr  \"R\" \"P\" \"P\" \"P\" ...\n",
            " $ COD_MEN_2020       : chr  \"0\" \"0\" \"0\" \"0\" ...\n"
          ],
          "name": "stdout"
        }
      ]
    },
    {
      "cell_type": "markdown",
      "metadata": {
        "id": "XB-Af-dvZdef"
      },
      "source": [
        "Se demoró casi 20 segundos recorriendo solo los primeros 3.000 elementos de cada base de datos. Por suerte R incluye una función para realizar este trabajo de forma más eficiente"
      ]
    },
    {
      "cell_type": "code",
      "metadata": {
        "colab": {
          "base_uri": "https://localhost:8080/"
        },
        "id": "pBwlvcBKZeMc",
        "outputId": "49093622-7a5c-44f2-bb7d-ea8dd431f31b"
      },
      "source": [
        "tic()\n",
        "rendim_19_20 <- merge(rendim2019, rendim2020, by = \"MRUN\", all = FALSE)\n",
        "toc()"
      ],
      "execution_count": null,
      "outputs": [
        {
          "output_type": "stream",
          "text": [
            "7.539 sec elapsed\n"
          ],
          "name": "stdout"
        }
      ]
    },
    {
      "cell_type": "code",
      "metadata": {
        "colab": {
          "base_uri": "https://localhost:8080/"
        },
        "id": "wXcQHd2jbGRz",
        "outputId": "127b1c24-241c-4c6e-a01b-50be26aa1667"
      },
      "source": [
        "str(rendim_19_20)"
      ],
      "execution_count": null,
      "outputs": [
        {
          "output_type": "stream",
          "text": [
            "Classes ‘data.table’ and 'data.frame':\t3040321 obs. of  73 variables:\n",
            " $ AGNO.x          : int  2019 2019 2019 2019 2019 2019 2019 2019 2019 2019 ...\n",
            " $ RBD.x           : int  1 1 1 1 1 1 1 1 1 1 ...\n",
            " $ DGV_RBD.x       : int  9 9 9 9 9 9 9 9 9 9 ...\n",
            " $ NOM_RBD.x       : chr  \"LICEO POLITECNICO ARICA\" \"LICEO POLITECNICO ARICA\" \"LICEO POLITECNICO ARICA\" \"LICEO POLITECNICO ARICA\" ...\n",
            " $ COD_REG_RBD.x   : int  15 15 15 15 15 15 15 15 15 15 ...\n",
            " $ NOM_REG_RBD_A.x : chr  \"AYP\" \"AYP\" \"AYP\" \"AYP\" ...\n",
            " $ COD_PRO_RBD.x   : int  151 151 151 151 151 151 151 151 151 151 ...\n",
            " $ COD_COM_RBD.x   : int  15101 15101 15101 15101 15101 15101 15101 15101 15101 15101 ...\n",
            " $ NOM_COM_RBD.x   : chr  \"ARICA\" \"ARICA\" \"ARICA\" \"ARICA\" ...\n",
            " $ COD_DEPROV_RBD.x: int  151 151 151 151 151 151 151 151 151 151 ...\n",
            " $ NOM_DEPROV_RBD.x: chr  \"ARICA\" \"ARICA\" \"ARICA\" \"ARICA\" ...\n",
            " $ COD_DEPE.x      : int  6 6 6 6 6 6 6 6 6 6 ...\n",
            " $ COD_DEPE2.x     : int  5 5 5 5 5 5 5 5 5 5 ...\n",
            " $ RURAL_RBD.x     : int  0 0 0 0 0 0 0 0 0 0 ...\n",
            " $ ESTADO_ESTAB.x  : int  1 1 1 1 1 1 1 1 1 1 ...\n",
            " $ COD_ENSE.x      : int  463 463 463 463 463 463 463 463 463 463 ...\n",
            " $ COD_ENSE2.x     : int  8 8 8 8 8 8 8 8 8 8 ...\n",
            " $ COD_GRADO.x     : int  3 3 3 3 3 3 3 3 3 3 ...\n",
            " $ LET_CUR.x       : chr  \"A\" \"A\" \"A\" \"A\" ...\n",
            " $ COD_JOR.x       : int  4 4 4 4 4 4 4 4 4 4 ...\n",
            " $ COD_TIP_CUR.x   : int  0 0 0 0 0 0 0 0 0 0 ...\n",
            " $ COD_DES_CUR.x   : int  1 1 1 1 1 1 1 1 1 1 ...\n",
            " $ MRUN            : int  2655917 8598804 12831468 18244700 18524996 20670422 22466397 24655799 24655799 25599165 ...\n",
            " $ GEN_ALU.x       : int  1 1 2 2 2 2 2 2 2 1 ...\n",
            " $ FEC_NAC_ALU.x   : int  199509 197712 200108 199507 196502 197905 196101 197710 197710 198212 ...\n",
            " $ EDAD_ALU.x      : int  23 41 17 23 54 40 58 41 41 36 ...\n",
            " $ COD_REG_ALU.x   : int  15 15 13 15 15 15 15 15 15 15 ...\n",
            " $ COD_COM_ALU.x   : int  15101 15101 13124 15101 15101 15101 15101 15101 15101 15101 ...\n",
            " $ NOM_COM_ALU.x   : chr  \"ARICA\" \"ARICA\" \"PUDAHUEL\" \"ARICA\" ...\n",
            " $ COD_RAMA.x      : int  400 400 400 400 400 400 400 400 400 400 ...\n",
            " $ COD_SEC.x       : int  410 410 410 410 410 410 410 410 410 410 ...\n",
            " $ COD_ESPE.x      : int  41001 41001 41001 41001 41001 41001 41001 41001 41001 41001 ...\n",
            " $ PROM_GRAL.x     : chr  \"5\" \"4,9\" \"5,1\" \"5,9\" ...\n",
            " $ ASISTENCIA.x    : int  85 89 89 86 100 0 88 87 87 93 ...\n",
            " $ SIT_FIN.x       : chr  \"P\" \"R\" \"P\" \"P\" ...\n",
            " $ SIT_FIN_R.x     : chr  \"P\" \"R\" \"P\" \"P\" ...\n",
            " $ COD_MEN.x       : int  0 0 0 0 0 0 0 0 0 0 ...\n",
            " $ AGNO.y          : int  2020 2020 2020 2020 2020 2020 2020 2020 2020 2020 ...\n",
            " $ RBD.y           : int  1 1 1 1 1 28 1 1 1 1 ...\n",
            " $ DGV_RBD.y       : int  9 9 9 9 9 0 9 9 9 9 ...\n",
            " $ NOM_RBD.y       : chr  \"LICEO POLITECNICO ARICA\" \"LICEO POLITECNICO ARICA\" \"LICEO POLITECNICO ARICA\" \"LICEO POLITECNICO ARICA\" ...\n",
            " $ COD_REG_RBD.y   : int  15 15 15 15 15 15 15 15 15 15 ...\n",
            " $ NOM_REG_RBD_A.y : chr  \"AYP\" \"AYP\" \"AYP\" \"AYP\" ...\n",
            " $ COD_PRO_RBD.y   : int  151 151 151 151 151 151 151 151 151 151 ...\n",
            " $ COD_COM_RBD.y   : int  15101 15101 15101 15101 15101 15101 15101 15101 15101 15101 ...\n",
            " $ NOM_COM_RBD.y   : chr  \"ARICA\" \"ARICA\" \"ARICA\" \"ARICA\" ...\n",
            " $ COD_DEPROV_RBD.y: int  151 151 151 151 151 151 151 151 151 151 ...\n",
            " $ NOM_DEPROV_RBD.y: chr  \"ARICA\" \"ARICA\" \"ARICA\" \"ARICA\" ...\n",
            " $ COD_DEPE.y      : int  6 6 6 6 6 6 6 6 6 6 ...\n",
            " $ COD_DEPE2.y     : int  5 5 5 5 5 5 5 5 5 5 ...\n",
            " $ RURAL_RBD.y     : int  0 0 0 0 0 0 0 0 0 0 ...\n",
            " $ ESTADO_ESTAB.y  : int  1 1 1 1 1 1 1 1 1 1 ...\n",
            " $ COD_ENSE.y      : int  463 463 463 463 463 363 463 463 863 463 ...\n",
            " $ COD_ENSE2.y     : int  8 8 8 8 8 6 8 8 8 8 ...\n",
            " $ COD_GRADO.y     : int  4 3 4 4 4 3 4 4 4 4 ...\n",
            " $ LET_CUR.y       : chr  \"A\" \"A\" \"A\" \"A\" ...\n",
            " $ COD_JOR.y       : int  4 4 4 4 4 2 4 4 4 4 ...\n",
            " $ COD_TIP_CUR.y   : int  0 0 0 0 0 0 0 0 0 0 ...\n",
            " $ COD_DES_CUR.y   : int  1 1 1 1 1 0 1 1 1 1 ...\n",
            " $ GEN_ALU.y       : int  1 1 2 2 2 2 2 2 2 1 ...\n",
            " $ FEC_NAC_ALU.y   : int  199509 197712 200108 199507 196502 197905 196101 197710 197710 198212 ...\n",
            " $ EDAD_ALU.y      : int  24 42 18 24 55 41 59 42 42 37 ...\n",
            " $ COD_REG_ALU.y   : int  15 15 15 15 15 15 15 15 15 15 ...\n",
            " $ COD_COM_ALU.y   : int  15101 15101 15101 15101 15101 15101 15101 15101 15101 15101 ...\n",
            " $ NOM_COM_ALU.y   : chr  \"ARICA\" \"ARICA\" \"ARICA\" \"ARICA\" ...\n",
            " $ COD_RAMA.y      : int  400 400 400 400 400 0 400 400 800 400 ...\n",
            " $ COD_SEC.y       : int  410 410 410 410 410 0 410 410 810 410 ...\n",
            " $ COD_ESPE.y      : int  41001 41001 41001 41001 41001 0 41001 41001 81004 41001 ...\n",
            " $ PROM_GRAL.y     : chr  \"3,1\" \"6,7\" \"5,1\" \"6,5\" ...\n",
            " $ ASISTENCIA.y    : int  30 100 100 100 100 80 100 0 100 100 ...\n",
            " $ SIT_FIN.y       : chr  \"R\" \"P\" \"P\" \"P\" ...\n",
            " $ SIT_FIN_R.y     : chr  \"R\" \"P\" \"P\" \"P\" ...\n",
            " $ COD_MEN.y       : int  0 0 0 0 0 0 0 0 0 0 ...\n",
            " - attr(*, \".internal.selfref\")=<externalptr> \n"
          ],
          "name": "stdout"
        }
      ]
    },
    {
      "cell_type": "markdown",
      "metadata": {
        "id": "LSOoJuTbbEiG"
      },
      "source": [
        "Vemos como el tiempo se redujo a la mitad, al mismo tiempo que realizamos un análisis de la base completa.\n",
        "\n",
        "Y esto lo podemos realizar de forma aún más rápida utilizando librerías, como hemos visto anteriormente."
      ]
    },
    {
      "cell_type": "code",
      "metadata": {
        "colab": {
          "base_uri": "https://localhost:8080/"
        },
        "id": "lDkBkC32bhXI",
        "outputId": "ae8eb483-edbb-4734-b8f5-6975a12da5c8"
      },
      "source": [
        "tic()\n",
        "rendim_19_20 <- inner_join(rendim2019, rendim2020, by = \"MRUN\")\n",
        "toc()"
      ],
      "execution_count": null,
      "outputs": [
        {
          "output_type": "stream",
          "text": [
            "5.736 sec elapsed\n"
          ],
          "name": "stdout"
        }
      ]
    },
    {
      "cell_type": "code",
      "metadata": {
        "colab": {
          "base_uri": "https://localhost:8080/"
        },
        "id": "KPHYy_5MbhE-",
        "outputId": "5482050b-0895-47a7-9f70-7d096dae53fb"
      },
      "source": [
        "str(rendim_19_20)"
      ],
      "execution_count": null,
      "outputs": [
        {
          "output_type": "stream",
          "text": [
            "Classes ‘data.table’ and 'data.frame':\t3040321 obs. of  73 variables:\n",
            " $ AGNO.x          : int  2019 2019 2019 2019 2019 2019 2019 2019 2019 2019 ...\n",
            " $ RBD.x           : int  1 1 1 1 1 1 1 1 1 1 ...\n",
            " $ DGV_RBD.x       : int  9 9 9 9 9 9 9 9 9 9 ...\n",
            " $ NOM_RBD.x       : chr  \"LICEO POLITECNICO ARICA\" \"LICEO POLITECNICO ARICA\" \"LICEO POLITECNICO ARICA\" \"LICEO POLITECNICO ARICA\" ...\n",
            " $ COD_REG_RBD.x   : int  15 15 15 15 15 15 15 15 15 15 ...\n",
            " $ NOM_REG_RBD_A.x : chr  \"AYP\" \"AYP\" \"AYP\" \"AYP\" ...\n",
            " $ COD_PRO_RBD.x   : int  151 151 151 151 151 151 151 151 151 151 ...\n",
            " $ COD_COM_RBD.x   : int  15101 15101 15101 15101 15101 15101 15101 15101 15101 15101 ...\n",
            " $ NOM_COM_RBD.x   : chr  \"ARICA\" \"ARICA\" \"ARICA\" \"ARICA\" ...\n",
            " $ COD_DEPROV_RBD.x: int  151 151 151 151 151 151 151 151 151 151 ...\n",
            " $ NOM_DEPROV_RBD.x: chr  \"ARICA\" \"ARICA\" \"ARICA\" \"ARICA\" ...\n",
            " $ COD_DEPE.x      : int  6 6 6 6 6 6 6 6 6 6 ...\n",
            " $ COD_DEPE2.x     : int  5 5 5 5 5 5 5 5 5 5 ...\n",
            " $ RURAL_RBD.x     : int  0 0 0 0 0 0 0 0 0 0 ...\n",
            " $ ESTADO_ESTAB.x  : int  1 1 1 1 1 1 1 1 1 1 ...\n",
            " $ COD_ENSE.x      : int  463 463 463 463 463 463 463 463 463 463 ...\n",
            " $ COD_ENSE2.x     : int  8 8 8 8 8 8 8 8 8 8 ...\n",
            " $ COD_GRADO.x     : int  3 3 3 3 3 3 3 3 3 3 ...\n",
            " $ LET_CUR.x       : chr  \"A\" \"A\" \"A\" \"A\" ...\n",
            " $ COD_JOR.x       : int  4 4 4 4 4 4 4 4 4 4 ...\n",
            " $ COD_TIP_CUR.x   : int  0 0 0 0 0 0 0 0 0 0 ...\n",
            " $ COD_DES_CUR.x   : int  1 1 1 1 1 1 1 1 1 1 ...\n",
            " $ MRUN            : int  2655917 8598804 12831468 18244700 18524996 20670422 22466397 24655799 24655799 25599165 ...\n",
            " $ GEN_ALU.x       : int  1 1 2 2 2 2 2 2 2 1 ...\n",
            " $ FEC_NAC_ALU.x   : int  199509 197712 200108 199507 196502 197905 196101 197710 197710 198212 ...\n",
            " $ EDAD_ALU.x      : int  23 41 17 23 54 40 58 41 41 36 ...\n",
            " $ COD_REG_ALU.x   : int  15 15 13 15 15 15 15 15 15 15 ...\n",
            " $ COD_COM_ALU.x   : int  15101 15101 13124 15101 15101 15101 15101 15101 15101 15101 ...\n",
            " $ NOM_COM_ALU.x   : chr  \"ARICA\" \"ARICA\" \"PUDAHUEL\" \"ARICA\" ...\n",
            " $ COD_RAMA.x      : int  400 400 400 400 400 400 400 400 400 400 ...\n",
            " $ COD_SEC.x       : int  410 410 410 410 410 410 410 410 410 410 ...\n",
            " $ COD_ESPE.x      : int  41001 41001 41001 41001 41001 41001 41001 41001 41001 41001 ...\n",
            " $ PROM_GRAL.x     : chr  \"5\" \"4,9\" \"5,1\" \"5,9\" ...\n",
            " $ ASISTENCIA.x    : int  85 89 89 86 100 0 88 87 87 93 ...\n",
            " $ SIT_FIN.x       : chr  \"P\" \"R\" \"P\" \"P\" ...\n",
            " $ SIT_FIN_R.x     : chr  \"P\" \"R\" \"P\" \"P\" ...\n",
            " $ COD_MEN.x       : int  0 0 0 0 0 0 0 0 0 0 ...\n",
            " $ AGNO.y          : int  2020 2020 2020 2020 2020 2020 2020 2020 2020 2020 ...\n",
            " $ RBD.y           : int  1 1 1 1 1 28 1 1 1 1 ...\n",
            " $ DGV_RBD.y       : int  9 9 9 9 9 0 9 9 9 9 ...\n",
            " $ NOM_RBD.y       : chr  \"LICEO POLITECNICO ARICA\" \"LICEO POLITECNICO ARICA\" \"LICEO POLITECNICO ARICA\" \"LICEO POLITECNICO ARICA\" ...\n",
            " $ COD_REG_RBD.y   : int  15 15 15 15 15 15 15 15 15 15 ...\n",
            " $ NOM_REG_RBD_A.y : chr  \"AYP\" \"AYP\" \"AYP\" \"AYP\" ...\n",
            " $ COD_PRO_RBD.y   : int  151 151 151 151 151 151 151 151 151 151 ...\n",
            " $ COD_COM_RBD.y   : int  15101 15101 15101 15101 15101 15101 15101 15101 15101 15101 ...\n",
            " $ NOM_COM_RBD.y   : chr  \"ARICA\" \"ARICA\" \"ARICA\" \"ARICA\" ...\n",
            " $ COD_DEPROV_RBD.y: int  151 151 151 151 151 151 151 151 151 151 ...\n",
            " $ NOM_DEPROV_RBD.y: chr  \"ARICA\" \"ARICA\" \"ARICA\" \"ARICA\" ...\n",
            " $ COD_DEPE.y      : int  6 6 6 6 6 6 6 6 6 6 ...\n",
            " $ COD_DEPE2.y     : int  5 5 5 5 5 5 5 5 5 5 ...\n",
            " $ RURAL_RBD.y     : int  0 0 0 0 0 0 0 0 0 0 ...\n",
            " $ ESTADO_ESTAB.y  : int  1 1 1 1 1 1 1 1 1 1 ...\n",
            " $ COD_ENSE.y      : int  463 463 463 463 463 363 463 463 863 463 ...\n",
            " $ COD_ENSE2.y     : int  8 8 8 8 8 6 8 8 8 8 ...\n",
            " $ COD_GRADO.y     : int  4 3 4 4 4 3 4 4 4 4 ...\n",
            " $ LET_CUR.y       : chr  \"A\" \"A\" \"A\" \"A\" ...\n",
            " $ COD_JOR.y       : int  4 4 4 4 4 2 4 4 4 4 ...\n",
            " $ COD_TIP_CUR.y   : int  0 0 0 0 0 0 0 0 0 0 ...\n",
            " $ COD_DES_CUR.y   : int  1 1 1 1 1 0 1 1 1 1 ...\n",
            " $ GEN_ALU.y       : int  1 1 2 2 2 2 2 2 2 1 ...\n",
            " $ FEC_NAC_ALU.y   : int  199509 197712 200108 199507 196502 197905 196101 197710 197710 198212 ...\n",
            " $ EDAD_ALU.y      : int  24 42 18 24 55 41 59 42 42 37 ...\n",
            " $ COD_REG_ALU.y   : int  15 15 15 15 15 15 15 15 15 15 ...\n",
            " $ COD_COM_ALU.y   : int  15101 15101 15101 15101 15101 15101 15101 15101 15101 15101 ...\n",
            " $ NOM_COM_ALU.y   : chr  \"ARICA\" \"ARICA\" \"ARICA\" \"ARICA\" ...\n",
            " $ COD_RAMA.y      : int  400 400 400 400 400 0 400 400 800 400 ...\n",
            " $ COD_SEC.y       : int  410 410 410 410 410 0 410 410 810 410 ...\n",
            " $ COD_ESPE.y      : int  41001 41001 41001 41001 41001 0 41001 41001 81004 41001 ...\n",
            " $ PROM_GRAL.y     : chr  \"3,1\" \"6,7\" \"5,1\" \"6,5\" ...\n",
            " $ ASISTENCIA.y    : int  30 100 100 100 100 80 100 0 100 100 ...\n",
            " $ SIT_FIN.y       : chr  \"R\" \"P\" \"P\" \"P\" ...\n",
            " $ SIT_FIN_R.y     : chr  \"R\" \"P\" \"P\" \"P\" ...\n",
            " $ COD_MEN.y       : int  0 0 0 0 0 0 0 0 0 0 ...\n",
            " - attr(*, \".internal.selfref\")=<externalptr> \n"
          ],
          "name": "stdout"
        }
      ]
    },
    {
      "cell_type": "markdown",
      "metadata": {
        "id": "uWogJRVvl6AS"
      },
      "source": [
        "# **Graficando en R**"
      ]
    },
    {
      "cell_type": "markdown",
      "metadata": {
        "id": "ujaUPdAwmXVb"
      },
      "source": [
        "La librería más utilizada para graficar en R es ggplot, que entrega una gran cantidad de funcionalidades. Al igual que las otras librerías, hay que llamarla."
      ]
    },
    {
      "cell_type": "code",
      "metadata": {
        "id": "xtKUVHcMmrMS"
      },
      "source": [
        "library(ggplot2)"
      ],
      "execution_count": null,
      "outputs": []
    },
    {
      "cell_type": "markdown",
      "metadata": {
        "id": "sMMtas7TnuK9"
      },
      "source": [
        "Para utilizar la librería, se sigue la siguiente sintaxis\n",
        "\n",
        "\n",
        "\n",
        "```\n",
        "# ggplot(data = <DATA>) + \n",
        "  <GEOM_FUNCTION>(\n",
        "     mapping = aes(<MAPPINGS>, <STATS>),\n",
        "     position = <POSITION>\n",
        "  ) +\n",
        "  <COORDINATE_FUNCTION> +\n",
        "  <FACET_FUNCTION>\n",
        "```\n",
        "\n",
        "Siguiendo paso a paso, observemos que en primer lugar uno debe cargar los datos en el gráfico, con lo que se genera un cuadro en blanco que va a ser la base con la que vamos a trabajar.\n",
        "\n"
      ]
    },
    {
      "cell_type": "code",
      "metadata": {
        "colab": {
          "base_uri": "https://localhost:8080/",
          "height": 437
        },
        "id": "sv_q7Nk1m-n8",
        "outputId": "1a5c97b8-7bf2-446e-aeb1-249fe4c051ff"
      },
      "source": [
        "ggplot(data = rendim2020)"
      ],
      "execution_count": null,
      "outputs": [
        {
          "output_type": "display_data",
          "data": {
            "image/png": "[encoded data removed]",
            "text/plain": [
              "plot without title"
            ]
          },
          "metadata": {
            "tags": [],
            "image/png": {
              "width": 420,
              "height": 420
            }
          }
        }
      ]
    },
    {
      "cell_type": "markdown",
      "metadata": {
        "id": "90dTHTUbpKHp"
      },
      "source": [
        "Para obtener información, uno debe decidir que tipo de gráfico quiere hacer, usualmente asociado al tipo de dato con el que quiere trabajar. Esos son los geomas y los más importantes son los siguientes:\n",
        "\n",
        "*   **geom_bar()**, nos entrega un gráfico de barras.\n",
        "*   **geom_point()**, observamos un gráfico de puntos.\n",
        "*   **geom_line()**, nos entrega un gráfico de lineas.\n",
        "*   **geom_boxplot()**, un gráfico de cajas.\n",
        "*   Entre otros.\n",
        "\n",
        "Una vez seleccionado el  tipo de gráfico que queremos ver, mapeamos la variable que nos interesa.\n",
        "\n"
      ]
    },
    {
      "cell_type": "code",
      "metadata": {
        "colab": {
          "base_uri": "https://localhost:8080/",
          "height": 437
        },
        "id": "zfoDqSLEm-_I",
        "outputId": "ff2efd8a-1698-4b38-da22-005d758555b9"
      },
      "source": [
        "ggplot(data = rendim) + geom_bar( mapping = aes(x = GEN_ALU))"
      ],
      "execution_count": null,
      "outputs": [
        {
          "output_type": "display_data",
          "data": {
            "image/png": "[encoded data removed]",
            "text/plain": [
              "plot without title"
            ]
          },
          "metadata": {
            "tags": [],
            "image/png": {
              "width": 420,
              "height": 420
            }
          }
        }
      ]
    },
    {
      "cell_type": "markdown",
      "metadata": {
        "id": "CFJzc8pVuwHi"
      },
      "source": [
        "Como vemos, al seleccionar un gráfico de barras automaticamente obtengo la cantidad de alumnos que tiene cada variable. Pero, ¿Es necesariamente esta la forma en que queremos presentar esta variable?\n",
        "\n",
        "Ante la necesidad de decir más cosas con los gráficos, aparecen los estadísticos (stats). La modificación de estos, y su combinación con geomas, amplian nuestras opciones para graficar y visualizar la información de nuestra base de datos. Por ejemplo, podemos ver la proporción de cada sexo."
      ]
    },
    {
      "cell_type": "code",
      "metadata": {
        "colab": {
          "base_uri": "https://localhost:8080/",
          "height": 437
        },
        "id": "OPnGTk43m_MZ",
        "outputId": "ca6abbdf-6afe-41d7-b536-bc5c57448366"
      },
      "source": [
        "ggplot(data = rendim) + geom_bar( mapping = aes(x = GEN_ALU, y = after_stat(prop)))"
      ],
      "execution_count": null,
      "outputs": [
        {
          "output_type": "display_data",
          "data": {
            "image/png": "[encoded data removed]",
            "text/plain": [
              "plot without title"
            ]
          },
          "metadata": {
            "tags": [],
            "image/png": {
              "width": 420,
              "height": 420
            }
          }
        }
      ]
    },
    {
      "cell_type": "markdown",
      "metadata": {
        "id": "I2OJtmwfxS2U"
      },
      "source": [
        "Parte importante del trabajo de gráficos, es que el sistema de coordenadas sea el correcto para poder hacer un análisis o presentar la información. para lograrlo, en ggplot agregamos la capa de funciones de coordenadas.\n",
        "\n",
        "Dentro de las opciones que tienen estas funciones está el elegir los límites de los ejes, invertir el eje x y el eje y, seleccionar coordenadas polares o hasta trabajar con mapas de acuerdo a latitud y longitud.\n",
        "\n",
        "\n"
      ]
    },
    {
      "cell_type": "code",
      "metadata": {
        "colab": {
          "base_uri": "https://localhost:8080/",
          "height": 437
        },
        "id": "TgIznmAkxTtY",
        "outputId": "a37f5eee-336b-4e32-8902-3e4682bfbf0c"
      },
      "source": [
        "ggplot(data = rendim2020) + geom_bar( mapping = aes(x = GEN_ALU, y = after_stat(prop), ))+\n",
        "  coord_cartesian(xlim = c(0.5, 2.5))  "
      ],
      "execution_count": null,
      "outputs": [
        {
          "output_type": "display_data",
          "data": {
            "image/png": "[encoded data removed]",
            "text/plain": [
              "plot without title"
            ]
          },
          "metadata": {
            "tags": [],
            "image/png": {
              "width": 420,
              "height": 420
            }
          }
        }
      ]
    },
    {
      "cell_type": "markdown",
      "metadata": {
        "id": "iJchrn36xUag"
      },
      "source": [
        "Una vez obtenido el gráfico, podemos buscar tener más información. Por ejemplo, ¿Cómo sería la distribución de genero por tipo de establecimiento?\n",
        "\n",
        "Ante la necesidad de agregar una nueva variable, tenemos tres alternativas para lograr mejores visualizaciones, los comandos de posición, las estéticas (aes) y las facetas.\n",
        "\n",
        "Los comandos de posición y las estéticas son formas de incluir más información dentro del mismo gráfico, cambiando los tamaños, colores y formas de los geomas. Por ejemplo, podemos ver la proporción de hombres y mujeres de acuerdo al tipo de establecimiento."
      ]
    },
    {
      "cell_type": "code",
      "metadata": {
        "id": "eSMVQbdOF3GV"
      },
      "source": [
        "rendim2020$COD_DEPE2 <- as.character(rendim2020$COD_DEPE2)"
      ],
      "execution_count": null,
      "outputs": []
    },
    {
      "cell_type": "code",
      "metadata": {
        "colab": {
          "base_uri": "https://localhost:8080/",
          "height": 437
        },
        "id": "iLNSIcPuNiKe",
        "outputId": "8406cfda-6ed7-491b-84b8-61cdfe7e640f"
      },
      "source": [
        "ggplot(data = rendim2020) + geom_bar( mapping = aes(x = GEN_ALU, fill = COD_DEPE2))+\n",
        "  coord_cartesian(xlim = c(0.5, 2.5)) "
      ],
      "execution_count": null,
      "outputs": [
        {
          "output_type": "display_data",
          "data": {
            "image/png": "[encoded data removed]",
            "text/plain": [
              "plot without title"
            ]
          },
          "metadata": {
            "tags": [],
            "image/png": {
              "width": 420,
              "height": 420
            }
          }
        }
      ]
    },
    {
      "cell_type": "code",
      "metadata": {
        "colab": {
          "base_uri": "https://localhost:8080/",
          "height": 437
        },
        "id": "fQokpYz1xU7E",
        "outputId": "2a8f94c1-7417-4e59-8209-a277b3fe9021"
      },
      "source": [
        "ggplot(data = rendim2020) + geom_bar( mapping = aes(x = GEN_ALU, y = after_stat(prop), fill = COD_DEPE2))+\n",
        "  coord_cartesian(xlim = c(0.5, 2.5))  "
      ],
      "execution_count": null,
      "outputs": [
        {
          "output_type": "display_data",
          "data": {
            "image/png": "[encoded data removed]",
            "text/plain": [
              "plot without title"
            ]
          },
          "metadata": {
            "tags": [],
            "image/png": {
              "width": 420,
              "height": 420
            }
          }
        }
      ]
    },
    {
      "cell_type": "code",
      "metadata": {
        "colab": {
          "base_uri": "https://localhost:8080/",
          "height": 437
        },
        "id": "Sta4B7yFPNid",
        "outputId": "b9f63c79-6fb0-496a-8035-ca6cb002665a"
      },
      "source": [
        "ggplot(data = rendim2020) + geom_bar( mapping = aes(x = GEN_ALU, y = after_stat(prop), fill = COD_DEPE2), position = \"dodge\")+\n",
        "  coord_cartesian(xlim = c(0.5, 2.5))  "
      ],
      "execution_count": null,
      "outputs": [
        {
          "output_type": "display_data",
          "data": {
            "image/png": "[encoded data removed]",
            "text/plain": [
              "plot without title"
            ]
          },
          "metadata": {
            "tags": [],
            "image/png": {
              "width": 420,
              "height": 420
            }
          }
        }
      ]
    },
    {
      "cell_type": "markdown",
      "metadata": {
        "id": "NUa8NkTgNs9w"
      },
      "source": [
        "Ahora, las facetas implican generar subgráficos que entregan la información fijada respecto a un valor Con ello, podemos comparar valores de acuerdo a una variable de control."
      ]
    },
    {
      "cell_type": "code",
      "metadata": {
        "colab": {
          "base_uri": "https://localhost:8080/",
          "height": 437
        },
        "id": "NAohKFEXG43A",
        "outputId": "5186dc7d-7652-4d96-d362-28d34b376be0"
      },
      "source": [
        "ggplot(data = rendim2020) + geom_bar( mapping = aes(x = GEN_ALU, y = after_stat(prop), ))+\n",
        "  coord_cartesian(xlim = c(0.5, 2.5))  + facet_wrap(~ COD_DEPE2, nrow = 2)"
      ],
      "execution_count": null,
      "outputs": [
        {
          "output_type": "display_data",
          "data": {
            "image/png": "[encoded data removed]",
            "text/plain": [
              "plot without title"
            ]
          },
          "metadata": {
            "tags": [],
            "image/png": {
              "width": 420,
              "height": 420
            }
          }
        }
      ]
    },
    {
      "cell_type": "markdown",
      "source": [
        "## **Actividad grafica**\n",
        "\n",
        "Utilizando la base de datos unida en la actividad anterior, y realice 2 gráficos distintos que le permitan conocer de mejor forma la data con la que cuenta. El tema es libre, pero debe generar información que no pueda conseguir con solo una de las dos bases de datos."
      ],
      "metadata": {
        "id": "c-db_aXo31No"
      }
    },
    {
      "cell_type": "code",
      "source": [
        ""
      ],
      "metadata": {
        "id": "pH4Fimyd3sFx"
      },
      "execution_count": null,
      "outputs": []
    }
  ]
}