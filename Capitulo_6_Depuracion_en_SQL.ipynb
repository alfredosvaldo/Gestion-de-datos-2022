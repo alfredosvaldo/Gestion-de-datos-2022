{
  "nbformat": 4,
  "nbformat_minor": 0,
  "metadata": {
    "colab": {
      "name": "Capitulo_6 - Depuracion en SQL.ipynb",
      "provenance": [],
      "authorship_tag": "ABX9TyMc8JE5TmG6uC2LPw+JB1eX",
      "include_colab_link": true
    },
    "kernelspec": {
      "display_name": "R",
      "name": "ir"
    },
    "language_info": {
      "name": "R"
    }
  },
  "cells": [
    {
      "cell_type": "markdown",
      "metadata": {
        "id": "view-in-github",
        "colab_type": "text"
      },
      "source": [
        "<a href=\"https://colab.research.google.com/github/maxigaarp/Gestion-de-datos-2022/blob/main/Capitulo_6_Depuracion_en_SQL.ipynb\" target=\"_parent\"><img src=\"https://colab.research.google.com/assets/colab-badge.svg\" alt=\"Open In Colab\"/></a>"
      ]
    },
    {
      "cell_type": "code",
      "source": [
        ""
      ],
      "metadata": {
        "id": "nTtBURrqBp0V"
      },
      "execution_count": null,
      "outputs": []
    },
    {
      "cell_type": "markdown",
      "metadata": {
        "id": "vqdaDwR5TyVl"
      },
      "source": [
        "# En R"
      ]
    },
    {
      "cell_type": "code",
      "metadata": {
        "id": "lY_1RBBj0d0p"
      },
      "source": [
        "library(tidyverse)"
      ],
      "execution_count": null,
      "outputs": []
    },
    {
      "cell_type": "markdown",
      "metadata": {
        "id": "994Ak2qKeVnW"
      },
      "source": [
        "## Strings"
      ]
    },
    {
      "cell_type": "code",
      "metadata": {
        "id": "WDL16P8svX5O"
      },
      "source": [
        "adist(\"Francisca\", \"Francisc\")"
      ],
      "execution_count": null,
      "outputs": []
    },
    {
      "cell_type": "code",
      "metadata": {
        "id": "twn7LnOFTyFL"
      },
      "source": [
        "Nominanombres=c(\"Maximiliano\", \"Ruth\", \"Luis\", \"Agata\", \"Flor\", \"Gabriel\", \"Elena\", \"Alberto\")"
      ],
      "execution_count": null,
      "outputs": []
    },
    {
      "cell_type": "code",
      "metadata": {
        "id": "Od69JY9kUo5j"
      },
      "source": [
        "adist(c(\"Maximilano\", \"Rut\", \"Louis\", \"Agatha\"), Nominanombres)"
      ],
      "execution_count": null,
      "outputs": []
    },
    {
      "cell_type": "code",
      "metadata": {
        "id": "elRYIdD8wGuN"
      },
      "source": [
        "adist(c(\"Maximiliaño\"), Nominanombres)"
      ],
      "execution_count": null,
      "outputs": []
    },
    {
      "cell_type": "code",
      "metadata": {
        "id": "QLFPl2vwZH-W"
      },
      "source": [
        "which.min(adist(c(\"Louis\"), Nominanombres))"
      ],
      "execution_count": null,
      "outputs": []
    },
    {
      "cell_type": "code",
      "metadata": {
        "id": "B3q0Inv-ZPgy"
      },
      "source": [
        "which.min(adist(c(\"Maximilaño\", \"Rut\", \"Louis\", \"Agatha\"), Nominanombres))"
      ],
      "execution_count": null,
      "outputs": []
    },
    {
      "cell_type": "markdown",
      "metadata": {
        "id": "TyyDW-Q-U8eR"
      },
      "source": [
        "La funcion Which.min no esta hecha para aplicarse sobre matrices, solo vectores. Acá se vuelve necesario aplicar funciones a las filas, lo que podriamos hacer con un \"for\" pero es lento y poco elegante para el ligero cambio que queremos pedirle a R. \n",
        "\n",
        "Para estos casos existen las funciones (funcionales) de la familia apply. "
      ]
    },
    {
      "cell_type": "code",
      "metadata": {
        "id": "7w5O3PHLS34K"
      },
      "source": [
        "b <- Nominanombres[apply(adist(c(\"Maximilaño\", \"Rut\", \"Louis\", \"Agatha\"), Nominanombres), 1, which.min)]\n",
        "\n"
      ],
      "execution_count": null,
      "outputs": []
    },
    {
      "cell_type": "code",
      "metadata": {
        "id": "viX6beiaUmVq"
      },
      "source": [
        "b"
      ],
      "execution_count": null,
      "outputs": []
    },
    {
      "cell_type": "markdown",
      "metadata": {
        "id": "0A4aMxxbeuMl"
      },
      "source": [
        "#Missing Data"
      ]
    },
    {
      "cell_type": "code",
      "metadata": {
        "id": "xLwZPsQpetrg"
      },
      "source": [
        "install.packages(\"missForest\")\n",
        "library(missForest)"
      ],
      "execution_count": null,
      "outputs": []
    },
    {
      "cell_type": "code",
      "metadata": {
        "id": "ri4fVsxKdDEH"
      },
      "source": [
        "library(datasets)\n",
        "\n",
        "df <- as.data.frame(Nile)\n"
      ],
      "execution_count": null,
      "outputs": []
    },
    {
      "cell_type": "code",
      "metadata": {
        "id": "JhVGWrSCiOCO"
      },
      "source": [
        "nile.mis <- prodNA(df, noNA = 0.2)\n"
      ],
      "execution_count": null,
      "outputs": []
    },
    {
      "cell_type": "code",
      "metadata": {
        "id": "hf4VK7pRkxs7"
      },
      "source": [
        "nile.mis"
      ],
      "execution_count": null,
      "outputs": []
    },
    {
      "cell_type": "code",
      "metadata": {
        "id": "7RJJ8vs2fWlM"
      },
      "source": [
        "nile.mis %>% mutate(id = row_number())%>%\n",
        "          ggplot()+\n",
        "          geom_line(aes(x=id, y=x))"
      ],
      "execution_count": null,
      "outputs": []
    },
    {
      "cell_type": "code",
      "metadata": {
        "id": "-gnwOIFskFTo"
      },
      "source": [
        "nile.mis %>% drop_na() %>%\n",
        "          mutate(id = row_number())%>%\n",
        "          ggplot()+\n",
        "          geom_line(aes(x=id, y=x))"
      ],
      "execution_count": null,
      "outputs": []
    },
    {
      "cell_type": "code",
      "metadata": {
        "id": "Rja3Y9gIl0ja"
      },
      "source": [
        "nile.mis %>% mutate_at(\"x\", function(x) replace(x, is.na(x), mean(x, na.rm = TRUE)))%>%\n",
        "            mutate(id = row_number())%>%\n",
        "          ggplot()+\n",
        "          geom_line(aes(x=id, y=x),linetype = \"dashed\")+\n",
        "          geom_line(aes(x=1:100,y=nile.mis$x))\n"
      ],
      "execution_count": null,
      "outputs": []
    },
    {
      "cell_type": "code",
      "metadata": {
        "id": "XpMBLaXipen1"
      },
      "source": [
        "install.packages(\"zoo\")\n",
        "library(zoo)\n"
      ],
      "execution_count": null,
      "outputs": []
    },
    {
      "cell_type": "code",
      "metadata": {
        "id": "rH5gx7EvoVkG"
      },
      "source": [
        "nile.mis %>% mutate(x2 = na.fill(x,\"extend\"))%>%\n",
        "            mutate(id = row_number())%>%\n",
        "          ggplot()+\n",
        "          geom_line(aes(x=id, y=x2),linetype = \"dashed\")+\n",
        "          geom_line(aes(x=1:100,y=nile.mis$x))\n"
      ],
      "execution_count": null,
      "outputs": []
    },
    {
      "cell_type": "code",
      "source": [
        ""
      ],
      "metadata": {
        "id": "ARsRo2kDHxBd"
      },
      "execution_count": null,
      "outputs": []
    },
    {
      "cell_type": "markdown",
      "metadata": {
        "id": "_-eOdBp-XAtG"
      },
      "source": [
        "# Uniformidad"
      ]
    },
    {
      "cell_type": "code",
      "source": [
        "a <-(10+rnorm(200))*1.4\n",
        "b <-(10+rnorm(100))"
      ],
      "metadata": {
        "id": "_X3f9c1NILM5"
      },
      "execution_count": null,
      "outputs": []
    },
    {
      "cell_type": "code",
      "source": [
        "hist(a, breaks=50)"
      ],
      "metadata": {
        "id": "WWLgweOkIF3v"
      },
      "execution_count": null,
      "outputs": []
    },
    {
      "cell_type": "code",
      "source": [
        "hist(b, breaks=50)"
      ],
      "metadata": {
        "id": "BpoObzGrIauP"
      },
      "execution_count": null,
      "outputs": []
    },
    {
      "cell_type": "code",
      "metadata": {
        "id": "tTOf1BC4Or1t"
      },
      "source": [
        "hist(c(a,b), breaks=50)"
      ],
      "execution_count": null,
      "outputs": []
    },
    {
      "cell_type": "code",
      "source": [
        "sqrt((lat1-lat2)**2+(lon1-lon2)**2)"
      ],
      "metadata": {
        "id": "3EpHRy9hgTV8"
      },
      "execution_count": null,
      "outputs": []
    },
    {
      "cell_type": "code",
      "metadata": {
        "id": "LMhIE094Wc-s"
      },
      "source": [
        "a <- scale(a)\n",
        "b <- scale(b)\n",
        "hist(c(a,b), breaks=25)"
      ],
      "execution_count": null,
      "outputs": []
    },
    {
      "cell_type": "markdown",
      "source": [
        "# En SQL"
      ],
      "metadata": {
        "id": "leBk4YzEBhpD"
      }
    },
    {
      "cell_type": "code",
      "metadata": {
        "id": "keQCe2LDzbyJ"
      },
      "source": [
        "system(\"gdown https://drive.google.com/uc?id=1q089qSqKr7Ak29lUkzKSWjm2pcb_jzX0\")\n",
        "unzip(\"/content/matriculas_y_notas_anual.zip\")"
      ],
      "execution_count": null,
      "outputs": []
    },
    {
      "cell_type": "code",
      "metadata": {
        "id": "lW3dpbxj0CPE"
      },
      "source": [
        "install.packages(\"RSQLite\")\n",
        "install.packages(\"data.table\")"
      ],
      "execution_count": null,
      "outputs": []
    },
    {
      "cell_type": "code",
      "metadata": {
        "id": "Q4FkIYK-ZoAq"
      },
      "source": [
        "library(data.table)\n",
        "library(RSQLite)\n",
        "library(tidyverse)"
      ],
      "execution_count": null,
      "outputs": []
    },
    {
      "cell_type": "code",
      "metadata": {
        "id": "FN7pcFHmtFUi"
      },
      "source": [
        "system(\"gdown https://drive.google.com/uc?id=1bxebySwiYquw1B72xi1E_YrELXzDS4cC\")\n"
      ],
      "execution_count": null,
      "outputs": []
    },
    {
      "cell_type": "code",
      "metadata": {
        "id": "qyKrtC3AFBkL"
      },
      "source": [
        "system(\"mv /content/Rendimiento2013.csv /content/content/Datos/20210223_Rendimiento_2013.csv\")"
      ],
      "execution_count": null,
      "outputs": []
    },
    {
      "cell_type": "code",
      "metadata": {
        "id": "qkvJINK2Zj4U"
      },
      "source": [
        "conn <- dbConnect(RSQLite::SQLite(), \"mineduc.db\")\n"
      ],
      "execution_count": null,
      "outputs": []
    },
    {
      "cell_type": "markdown",
      "metadata": {
        "id": "iM4LyT71B4Bj"
      },
      "source": [
        "Supongamos que queremos ver la cantidad de años que tiene cada alumno registrado a lo largo de los 18 años de datos disponibles en MINEDUC.\n",
        "\n",
        "Filtrando la información me quedo con una tabla de alumnos con su informacion relevante y otra con los colegios.\n"
      ]
    },
    {
      "cell_type": "markdown",
      "metadata": {
        "id": "Ud1R74_hheWH"
      },
      "source": [
        "# Cargando bases en SQL\n"
      ]
    },
    {
      "cell_type": "code",
      "metadata": {
        "id": "ZRwa-qfqcfbB"
      },
      "source": [
        "colenames <- c(\"RBD\",\"AGNO\",\"NOM_RBD\",\"COD_REG_RBD\",\"NOM_COM_RBD\", \"COD_DEPE\",\"RURAL_RBD\")\n",
        "alnames <- c(\"MRUN\",\"AGNO\",\"RBD\",\"COD_ENSE\",\"COD_GRADO\",\"LET_CUR\",\"GEN_ALU\", \"FEC_NAC_ALU\",\"COD_COM_ALU\", \"SIT_FIN_R\",                      \"PROM_GRAL\", \"ASISTENCIA\")\n",
        "\n",
        "\n",
        "years<-2010:2020\n",
        "for (i in 1:length(years)) {\n",
        "  name=gsub(\"%\",years[i],\"/content/content/Datos/20210223_Rendimiento_%.csv\")\n",
        "  data=fread(name)\n",
        "  names(data) <- toupper(names(data))\n",
        "\n",
        "\n",
        "  coles <- data %>% \n",
        "    select(colenames)%>% \n",
        "    distinct()\n",
        "  \n",
        "  alus <- data %>%\n",
        "        select(c(\"MRUN\",\"AGNO\",\"RBD\",\"COD_ENSE\",\"COD_GRADO\",\"LET_CUR\",\n",
        "                    \"GEN_ALU\", \"FEC_NAC_ALU\",\"COD_COM_ALU\", if (years[i]!=2014) \"SIT_FIN_R\" else \"SIT_FINAL_R\",\n",
        "                      \"PROM_GRAL\", \"ASISTENCIA\")) %>% \n",
        "        distinct()\n",
        "        \n",
        "  names(alus)=alnames\n",
        "\n",
        "  apnd=if (i==1) FALSE else TRUE\n",
        "\n",
        "  dbWriteTable(conn , name = \"colegios\", \n",
        "                  value = coles,\n",
        "                  row.names = FALSE, header = !apnd, sep=',',append=apnd,\n",
        "                  colClasses='character')\n",
        "\n",
        "  dbWriteTable(conn , name = \"alumnos\", \n",
        "                  value = alus,\n",
        "                  row.names = FALSE, header = !apnd, sep=',',append=apnd,\n",
        "                  colClasses='character')\n",
        "}"
      ],
      "execution_count": null,
      "outputs": []
    },
    {
      "cell_type": "markdown",
      "metadata": {
        "id": "-1XT5utEDRgP"
      },
      "source": [
        "En particular podemos hacer consultas complicadas de manera rapida y sin preocuparnos por si el computador podrá darnos una respuesta antes de acabarse la memoria RAM.\n",
        "\n",
        "\n",
        "\n"
      ]
    },
    {
      "cell_type": "code",
      "metadata": {
        "id": "kZ5xpNT3nYWd"
      },
      "source": [
        "conn"
      ],
      "execution_count": null,
      "outputs": []
    },
    {
      "cell_type": "markdown",
      "metadata": {
        "id": "dD9m7EH2D3Sn"
      },
      "source": [
        "Queremos ver los cambios de nombre para por ejemplo consolidar una base de datos de colegios.\n",
        "\n",
        "\n",
        "```\n",
        "select\n",
        "tabla1.atributo1 as A1,\n",
        "tabla2.atributo2 as A2,\n",
        "...,\n",
        "tabla1.atributon as AN,\n",
        "AVG(tablan.atributon2) as avgatributon\n",
        "\n",
        "From tabla1, tabla2,...,tablan\n",
        "\n",
        "where tabla1.atributo1=tabla3.atributo1      \n",
        "\n",
        "Group by tabla1.atributo1 \n",
        "\n",
        "Having AVG(tablan.atributon2)>3\n",
        "\n",
        "ORDER BY A1 DESC\n",
        "\n",
        "Limit 1000\n",
        "\n",
        "```\n",
        "\n"
      ]
    },
    {
      "cell_type": "code",
      "metadata": {
        "id": "GMA4D34c5bUh"
      },
      "source": [
        "dbExecute(conn,\"CREATE TABLE COLESCAMBIO AS\n",
        "select \n",
        "RBD,\n",
        "AGNO,\n",
        "NOM_RBD,\n",
        "LAST_VALUE(NOM_RBD) OVER(PARTITION BY RBD) AS LNAME\n",
        "from colegios;\")"
      ],
      "execution_count": null,
      "outputs": []
    },
    {
      "cell_type": "code",
      "metadata": {
        "id": "KpiPVmzF6Pgy"
      },
      "source": [
        "dbListTables(conn)"
      ],
      "execution_count": null,
      "outputs": []
    },
    {
      "cell_type": "code",
      "metadata": {
        "id": "TGsuZwRO6hN-"
      },
      "source": [
        "dbGetQuery(conn, \"select * from COLESCAMBIO limit 20\")"
      ],
      "execution_count": null,
      "outputs": []
    },
    {
      "cell_type": "code",
      "metadata": {
        "id": "7HAoeQslqTFa"
      },
      "source": [
        "system(\"wget https://sqlite.org/2016/sqlite-src-3110100.zip\")\n",
        "unzip(\"sqlite-src-3110100.zip\")\n",
        "system(\"gcc -shared -fPIC -Wall -Isqlite-src-3110100 sqlite-src-3110100/ext/misc/spellfix.c -o spellfix.so\")\n",
        "dbExecute(conn,\"select load_extension('./spellfix')\")"
      ],
      "execution_count": null,
      "outputs": []
    },
    {
      "cell_type": "code",
      "metadata": {
        "id": "-HItGRLjuavK"
      },
      "source": [
        "dbGetQuery(conn,\"\n",
        "select \n",
        "RBD,\n",
        "AGNO,\n",
        "NOM_RBD,\n",
        "LNAME,\n",
        "EDITDIST3(NOM_RBD, LNAME) AS EDIT\n",
        "FROM COLESCAMBIO\")"
      ],
      "execution_count": null,
      "outputs": []
    },
    {
      "cell_type": "code",
      "metadata": {
        "id": "rlT8vaFno3sY"
      },
      "source": [
        "dbGetQuery(conn,\"\n",
        "select \n",
        "RBD,\n",
        "NOM_RBD,\n",
        "LNAME,\n",
        "EDITDIST3(NOM_RBD, LNAME) AS EDIT\n",
        "FROM COLESCAMBIO\n",
        "GROUP BY RBD\n",
        "HAVING EDIT=MAX(EDIT)\n",
        "ORDER BY EDIT\")"
      ],
      "execution_count": null,
      "outputs": []
    },
    {
      "cell_type": "markdown",
      "metadata": {
        "id": "EKfogjRn6ax_"
      },
      "source": [
        "# Consolidando una base de datos"
      ]
    },
    {
      "cell_type": "markdown",
      "metadata": {
        "id": "lh7T_n1MYpvU"
      },
      "source": [
        "Supongamos que estamos interesados en ocupar nuevamente los datos de los alumnos, en particular por ahora: \n",
        " * Asistencia\n",
        " * Promedio\n",
        "\n",
        "Para asegurar que los datos tengan buena calidad debemos testearlos:\n",
        " * Cantidad de nulos (Completitud)\n",
        " * Revisar como se guardan los datos, ver que se cumplan estas relaciones (Validez)\n",
        " * Eliminar duplicados, datos con inconsistencias entre tablas (Consistencia)\n",
        " * Datos en un solo formato con escala adecuada para el problema (Uniformidad)"
      ]
    },
    {
      "cell_type": "code",
      "metadata": {
        "id": "pVwQXuqAcckm"
      },
      "source": [
        "dbGetQuery(conn,\"select *\n",
        "from alumnos \n",
        "limit 10\")"
      ],
      "execution_count": null,
      "outputs": []
    },
    {
      "cell_type": "markdown",
      "metadata": {
        "id": "53i4ibfnjsNs"
      },
      "source": [
        "#Nulos y completitud"
      ]
    },
    {
      "cell_type": "code",
      "metadata": {
        "id": "aqtZ4EmdNt8f"
      },
      "source": [
        "dbGetQuery(conn,\"select \n",
        "  sum(case when MRUN is null then 1 else 0 end) MRUN,\n",
        "  sum(case when AGNO is null then 1 else 0 end) AGNO,\n",
        "  sum(case when RBD is null then 1 else 0 end) RBD,\n",
        "  sum(case when COD_ENSE is null then 1 else 0 end) COD_ENSE,\n",
        "  sum(case when LET_CUR is null then 1 else 0 end) LET_CUR,\n",
        "  sum(case when GEN_ALU is null then 1 else 0 end) GEN_ALU,\n",
        "  sum(case when FEC_NAC_ALU is null then 1 else 0 end) FEC_NAC_ALU,\n",
        "  sum(case when COD_COM_ALU is null then 1 else 0 end) COD_COM_ALU,\n",
        "  sum(case when SIT_FIN_R is null then 1 else 0 end) SIT_FIN_R,\n",
        "  sum(case when PROM_GRAL is null then 1 else 0 end) PROM_GRAL,\n",
        "  sum(case when ASISTENCIA is null then 1 else 0 end) ASISTENCIA\n",
        "from alumnos\")"
      ],
      "execution_count": null,
      "outputs": []
    },
    {
      "cell_type": "markdown",
      "metadata": {
        "id": "NoWDu6T5jkFc"
      },
      "source": [
        "## Definiendo bien los nulos"
      ]
    },
    {
      "cell_type": "markdown",
      "metadata": {
        "id": "3tUBk8ubkJQI"
      },
      "source": [
        "### Situacion final"
      ]
    },
    {
      "cell_type": "markdown",
      "metadata": {
        "id": "t_pjaTKv-hJR"
      },
      "source": [
        "\n",
        "\n",
        "```\n",
        "UPDATE <NOMBRETABLA>\n",
        "SET ATRIBUTO=#VALUE#\n",
        "WHERE <<CONDICION>>\n",
        "```\n",
        "\n"
      ]
    },
    {
      "cell_type": "code",
      "metadata": {
        "id": "zIniSjoefmts"
      },
      "source": [
        "dbGetQuery(conn, \"\n",
        "select *\n",
        "from alumnos \n",
        "where SIT_FIN_R='' \")"
      ],
      "execution_count": null,
      "outputs": []
    },
    {
      "cell_type": "code",
      "metadata": {
        "id": "w0KzC0HrjxEg"
      },
      "source": [
        "dbExecute(conn,\"UPDATE alumnos\n",
        "SET SIT_FIN_R = NULL\n",
        "WHERE SIT_FIN_R=''\")"
      ],
      "execution_count": null,
      "outputs": []
    },
    {
      "cell_type": "code",
      "metadata": {
        "id": "DrzV6LPoj5ob"
      },
      "source": [
        "dbGetQuery(conn,\"select\n",
        "  sum(case when SIT_FIN_R is null then 1 else 0 end) SIT_FIN_R\n",
        "from alumnos\")"
      ],
      "execution_count": null,
      "outputs": []
    },
    {
      "cell_type": "markdown",
      "metadata": {
        "id": "ajYTxinWkNu2"
      },
      "source": [
        "### Genero"
      ]
    },
    {
      "cell_type": "code",
      "metadata": {
        "id": "KqUPDjWJkT9V"
      },
      "source": [
        "dbExecute(conn,\"UPDATE alumnos\n",
        "SET GEN_ALU = NULL\n",
        "WHERE GEN_ALU=0\")"
      ],
      "execution_count": null,
      "outputs": []
    },
    {
      "cell_type": "markdown",
      "metadata": {
        "id": "uoLJlwHOkVbf"
      },
      "source": [
        "### Promedio y asistencia\n"
      ]
    },
    {
      "cell_type": "code",
      "metadata": {
        "id": "hphpOL3YzYhh"
      },
      "source": [
        "dbGetQuery(conn,\"\n",
        "select SIT_FIN_R,\n",
        "count(),\n",
        "AVG(PROM_GRAL),\n",
        "MIN(PROM_GRAL),\n",
        "MAX(PROM_GRAL),\n",
        "AVG(ASISTENCIA),\n",
        "MIN(ASISTENCIA),\n",
        "MAX(ASISTENCIA)\n",
        "FROM alumnos\n",
        "group by SIT_FIN_R\")"
      ],
      "execution_count": null,
      "outputs": []
    },
    {
      "cell_type": "markdown",
      "metadata": {
        "id": "37FhrK-Kqfar"
      },
      "source": [
        "Primero pequeña capsula de arreglar problemas de validez, el promedio esta como character, esto lo arreglamos con el siguiente comando."
      ]
    },
    {
      "cell_type": "code",
      "metadata": {
        "id": "oVxGQ4AKq0H2"
      },
      "source": [
        "dbExecute(conn, \" UPDATE alumnos\n",
        "SET PROM_GRAL = CAST(replace(PROM_GRAL, ',', '.') AS NUMERIC);\")"
      ],
      "execution_count": null,
      "outputs": []
    },
    {
      "cell_type": "code",
      "metadata": {
        "id": "bBdIL89KkkES"
      },
      "source": [
        "dbExecute(conn,\"UPDATE alumnos\n",
        "SET PROM_GRAL = NULL, ASISTENCIA = NULL\n",
        "WHERE SIT_FIN_R='Y' or SIT_FIN_R='T'\")"
      ],
      "execution_count": null,
      "outputs": []
    },
    {
      "cell_type": "markdown",
      "metadata": {
        "id": "X_bY3_49q03L"
      },
      "source": [
        "Luego\n"
      ]
    },
    {
      "cell_type": "code",
      "metadata": {
        "id": "_FdlkUjgq3qr"
      },
      "source": [
        "dbGetQuery(conn,\"\n",
        "select SIT_FIN_R,\n",
        "count(),\n",
        "AVG(PROM_GRAL),\n",
        "MIN(PROM_GRAL),\n",
        "MAX(PROM_GRAL),\n",
        "AVG(ASISTENCIA),\n",
        "MIN(ASISTENCIA),\n",
        "MAX(ASISTENCIA)\n",
        "FROM alumnos\n",
        "group by SIT_FIN_R\")"
      ],
      "execution_count": null,
      "outputs": []
    },
    {
      "cell_type": "markdown",
      "metadata": {
        "id": "cZksuYIwrGeC"
      },
      "source": [
        "Notemos que hay alumnos aprobados con nota 0, consideraré eso como informacion faltante por lo que lo asignare a nulo.\n"
      ]
    },
    {
      "cell_type": "code",
      "metadata": {
        "id": "zklc2eoMrqG2"
      },
      "source": [
        "dbExecute(conn,\"UPDATE alumnos\n",
        "SET PROM_GRAL = NULL\n",
        "WHERE PROM_GRAL=0\")"
      ],
      "execution_count": null,
      "outputs": []
    },
    {
      "cell_type": "code",
      "metadata": {
        "id": "jmLgkFfFOYsm"
      },
      "source": [
        "dbGetQuery(conn, \"\n",
        "select *\n",
        "from alumnos \n",
        "where PROM_GRAL!=0 and ASISTENCIA=0\n",
        "limit 10\")"
      ],
      "execution_count": null,
      "outputs": []
    },
    {
      "cell_type": "code",
      "metadata": {
        "id": "x4M6_lCd2A_f"
      },
      "source": [
        "dbGetQuery(conn,\"\n",
        "select SIT_FIN_R,\n",
        "count(),\n",
        "AVG(PROM_GRAL),\n",
        "MIN(PROM_GRAL),\n",
        "MAX(PROM_GRAL),\n",
        "AVG(ASISTENCIA),\n",
        "MIN(ASISTENCIA),\n",
        "MAX(ASISTENCIA)\n",
        "FROM alumnos\n",
        "group by SIT_FIN_R\")"
      ],
      "execution_count": null,
      "outputs": []
    },
    {
      "cell_type": "code",
      "metadata": {
        "id": "OtyjqFA-DfuA"
      },
      "source": [
        "dbExecute(conn,\"UPDATE alumnos\n",
        "SET COD_COM_ALU\t = NULL\n",
        "WHERE COD_COM_ALU\t=0\")"
      ],
      "execution_count": null,
      "outputs": []
    },
    {
      "cell_type": "markdown",
      "metadata": {
        "id": "jQUhtsIZ2FOz"
      },
      "source": [
        "##¿Que eliminamos?"
      ]
    },
    {
      "cell_type": "code",
      "metadata": {
        "id": "XNmikLgx2eLq"
      },
      "source": [
        "dbExecute(conn,\"\n",
        "DELETE FROM alumnos \n",
        "WHERE MRUN IS NULL\")"
      ],
      "execution_count": null,
      "outputs": []
    },
    {
      "cell_type": "code",
      "metadata": {
        "id": "eaCq5jsv27bt"
      },
      "source": [
        "dbExecute(conn,\"\n",
        "DELETE FROM alumnos \n",
        "WHERE SIT_FIN_R IS NULL\")"
      ],
      "execution_count": null,
      "outputs": []
    },
    {
      "cell_type": "markdown",
      "metadata": {
        "id": "QqkOyEh64Vl-"
      },
      "source": [
        "### ¿Que pasa con la fecha de nacimiento?"
      ]
    },
    {
      "cell_type": "code",
      "metadata": {
        "id": "iUEmp0j8iGBZ"
      },
      "source": [
        "dbGetQuery(conn, \"\n",
        "select *\n",
        "from alumnos \n",
        "where FEC_NAC_ALU is null limit 5\")"
      ],
      "execution_count": null,
      "outputs": []
    },
    {
      "cell_type": "code",
      "metadata": {
        "id": "1cef0bLb3XBX"
      },
      "source": [
        "dbGetQuery(conn, \"\n",
        "select *\n",
        "from alumnos \n",
        "where MRUN=2849761\n",
        "limit 10\")"
      ],
      "execution_count": null,
      "outputs": []
    },
    {
      "cell_type": "markdown",
      "metadata": {
        "id": "-DsY0bab4cAx"
      },
      "source": [
        "Solo falta el registro pero el valor existe y puede extraerse"
      ]
    },
    {
      "cell_type": "markdown",
      "metadata": {
        "id": "Xz4e0YMt5fXg"
      },
      "source": [
        "# Consistencia"
      ]
    },
    {
      "cell_type": "code",
      "metadata": {
        "id": "q6Y2Bxta4lkQ"
      },
      "source": [
        "dbGetQuery(conn,\"\n",
        "  select MRUN,\n",
        "  FEC_NAC_ALU,\n",
        "  count() as N\n",
        "  from alumnos\n",
        "  group by MRUN,FEC_NAC_ALU\n",
        "  order by N DESC\n",
        "\")"
      ],
      "execution_count": null,
      "outputs": []
    },
    {
      "cell_type": "code",
      "metadata": {
        "id": "RgMVLg5RJtcH"
      },
      "source": [
        "dbGetQuery(conn,\"\n",
        "select *\n",
        "FROM alumnos \n",
        "where MRUN=9014208\n",
        "\")"
      ],
      "execution_count": null,
      "outputs": []
    },
    {
      "cell_type": "markdown",
      "metadata": {
        "id": "EKm-CC7E5K7_"
      },
      "source": [
        "Parece todo bien pero no es asi"
      ]
    },
    {
      "cell_type": "code",
      "metadata": {
        "id": "bO5ZiN8T4btu"
      },
      "source": [
        "dbGetQuery(conn,\"\n",
        "select\n",
        "MRUN,\n",
        "FEC_NAC_ALU\n",
        "from (\n",
        "  select MRUN,\n",
        "  FEC_NAC_ALU,\n",
        "  count() as N\n",
        "  from alumnos\n",
        "  group by MRUN,FEC_NAC_ALU\n",
        ")\n",
        "GROUP BY MRUN\n",
        "having N=MAX(N) and \n",
        "  sum(case when FEC_NAC_ALU is null then 1 else 0 end) >0\n",
        "\")"
      ],
      "execution_count": null,
      "outputs": []
    },
    {
      "cell_type": "code",
      "metadata": {
        "id": "j2hH5WWx79gS"
      },
      "source": [
        "dbGetQuery(conn,\"\n",
        "update alumnos\n",
        "set FEC_NAC_ALU= fchs\n",
        "from (\n",
        "select\n",
        "MRUN as mrns,\n",
        "FEC_NAC_ALU as fchs\n",
        "from (\n",
        "  select MRUN,\n",
        "  FEC_NAC_ALU,\n",
        "  count() as N\n",
        "  from alumnos\n",
        "  group by MRUN,FEC_NAC_ALU\n",
        ")\n",
        "GROUP BY MRUN\n",
        "having N=MAX(N) and \n",
        "  sum(case when FEC_NAC_ALU is null then 1 else 0 end) >0)\n",
        "where MRUN=mrns\n",
        "\n",
        "\")"
      ],
      "execution_count": null,
      "outputs": []
    },
    {
      "cell_type": "code",
      "metadata": {
        "id": "wJx0d4Rz_nLl"
      },
      "source": [
        "dbGetQuery(conn, \"\n",
        "select *\n",
        "from alumnos \n",
        "where MRUN=2849761\")"
      ],
      "execution_count": null,
      "outputs": []
    },
    {
      "cell_type": "code",
      "metadata": {
        "id": "Ic8jdxgwN7lP"
      },
      "source": [
        "dbExecute(conn, \"\n",
        "UPDATE alumnos\n",
        "SET FEC_NAC_ALU=SUBSTRING(FEC_NAC_ALU,1,6)\")"
      ],
      "execution_count": null,
      "outputs": []
    },
    {
      "cell_type": "markdown",
      "metadata": {
        "id": "1PAGIvuD43-x"
      },
      "source": [
        "# Validez"
      ]
    },
    {
      "cell_type": "markdown",
      "metadata": {
        "id": "grLRPPZN5PL5"
      },
      "source": [
        "Lo mas importante es verificar la unicidad de lo que creamos que sea la llave"
      ]
    },
    {
      "cell_type": "code",
      "metadata": {
        "id": "BbbMfZ0X3I53"
      },
      "source": [
        "a<-dbGetQuery(conn,\"\n",
        "select \n",
        "MRUN,\n",
        "AGNO, \n",
        "count() as n\n",
        "from alumnos\n",
        "where SIT_FIN_R='P'\n",
        "group by MRUN, AGNO\n",
        "having n>1 \n",
        "order by n\n",
        "\")\n",
        "a"
      ],
      "execution_count": null,
      "outputs": []
    },
    {
      "cell_type": "code",
      "metadata": {
        "id": "4w0m5q_UYIqG"
      },
      "source": [
        "dbGetQuery(conn,\"\n",
        "select *\n",
        "from alumnos\n",
        "where MRUN=951\n",
        "limit 100\")"
      ],
      "execution_count": null,
      "outputs": []
    },
    {
      "cell_type": "code",
      "metadata": {
        "id": "FO3ubKdJ2dE8"
      },
      "source": [
        "a %>% filter(n==3)"
      ],
      "execution_count": null,
      "outputs": []
    },
    {
      "cell_type": "code",
      "metadata": {
        "id": "tK2RWGY7VhtV"
      },
      "source": [
        "dbGetQuery(conn,\"select * from alumnos where MRUN=3138123\")"
      ],
      "execution_count": null,
      "outputs": []
    },
    {
      "cell_type": "code",
      "metadata": {
        "id": "a-wgFMhHN7Ti"
      },
      "source": [
        "dbGetQuery(conn,\"\n",
        "select MRUN,\n",
        "AGNO, \n",
        "COD_ENSE, \n",
        "COD_GRADO,\n",
        "COUNT() AS N\n",
        "from alumnos\n",
        "WHERE SIT_FIN_R='P'\n",
        "group by MRUN,COD_ENSE, COD_GRADO\n",
        "ORDER BY N\")"
      ],
      "execution_count": null,
      "outputs": []
    },
    {
      "cell_type": "code",
      "metadata": {
        "id": "T-gHnyKVRAQR"
      },
      "source": [
        "dbGetQuery(conn,\"\n",
        "select *\n",
        "from alumnos\n",
        "WHERE MRUN=9098462\")"
      ],
      "execution_count": null,
      "outputs": []
    },
    {
      "cell_type": "code",
      "metadata": {
        "id": "VhggyE-JVCOl"
      },
      "source": [
        "dbExecute(conn,\"DELETE FROM alumnos \n",
        "WHERE MRUN IN (\n",
        "select \n",
        "MRUN\n",
        "from alumnos\n",
        "where SIT_FIN_R='P'\n",
        "group by MRUN, AGNO\n",
        "having count()>1 )\n",
        "\")"
      ],
      "execution_count": null,
      "outputs": []
    },
    {
      "cell_type": "markdown",
      "metadata": {
        "id": "HKaz5AwjgTOQ"
      },
      "source": [
        "OPCION 1:"
      ]
    },
    {
      "cell_type": "code",
      "metadata": {
        "id": "kkAfm_tBTcNk"
      },
      "source": [
        "dbGetQuery(conn,\"\n",
        "select alumnos.* \n",
        "from alumnos, (select\n",
        "MRUN,\n",
        "FEC_NAC_ALU\n",
        "from (\n",
        "  select MRUN,\n",
        "  FEC_NAC_ALU,\n",
        "  count() as N\n",
        "  from alumnos\n",
        "  group by MRUN,FEC_NAC_ALU\n",
        ")\n",
        "GROUP BY MRUN\n",
        "having N=MAX(N)) as cumples\n",
        "\n",
        "where alumnos.MRUN=cumples.MRUN and\n",
        "alumnos.FEC_NAC_ALU!=cumples.FEC_NAC_ALU\n",
        "\")"
      ],
      "execution_count": null,
      "outputs": []
    },
    {
      "cell_type": "markdown",
      "metadata": {
        "id": "HYHzjN1TgYIX"
      },
      "source": [
        "OPCION 2:"
      ]
    },
    {
      "cell_type": "code",
      "metadata": {
        "id": "tqxttVD4gw4l"
      },
      "source": [
        "dbExecute(conn,\"DELETE FROM alumnos \n",
        "WHERE MRUN IN (\n",
        "select \n",
        "MRUN\n",
        "from alumnos\n",
        "group by MRUN\n",
        "having count(DISTINCT FEC_NAC_ALU)>1 )\")"
      ],
      "execution_count": null,
      "outputs": []
    },
    {
      "cell_type": "code",
      "metadata": {
        "id": "ASPQ8-tQ3Iti"
      },
      "source": [
        "dbGetQuery(conn, \"\n",
        "select * from alumnos \")"
      ],
      "execution_count": null,
      "outputs": []
    },
    {
      "cell_type": "markdown",
      "metadata": {
        "id": "onRDLiwqQChM"
      },
      "source": [
        "## Testeo de algunas relaciones"
      ]
    },
    {
      "cell_type": "markdown",
      "metadata": {
        "id": "IeXoQsgLuUX0"
      },
      "source": [
        "Suponemos que los alumnos para pasar de curso deben tner el promedio azul. Podemos testear esta hipotesis sobre los datos"
      ]
    },
    {
      "cell_type": "code",
      "metadata": {
        "id": "DXbf-rn0o6QU"
      },
      "source": [
        "dbGetQuery(conn,\"select * from alumnos where PROM_GRAL<4 and SIT_FIN_R='P'\")"
      ],
      "execution_count": null,
      "outputs": []
    },
    {
      "cell_type": "markdown",
      "metadata": {
        "id": "Ly7kpVcaulhU"
      },
      "source": [
        "Por el otro lado los reprobados deberian tener notas o asistencia baja"
      ]
    },
    {
      "cell_type": "code",
      "metadata": {
        "id": "nkRNYLuppttA"
      },
      "source": [
        "dbGetQuery(conn, \"select * from alumnos where PROM_GRAL>5.5 and ASISTENCIA>60 and SIT_FIN_R='R'\")"
      ],
      "execution_count": null,
      "outputs": []
    },
    {
      "cell_type": "markdown",
      "metadata": {
        "id": "yOGQyEAFQT_t"
      },
      "source": [
        "# Preguntas"
      ]
    },
    {
      "cell_type": "markdown",
      "metadata": {
        "id": "m0dK7LPdXo3S"
      },
      "source": [
        "Tenemos listos los datos para ser utilizados pero dependerá del uso que vamos a querer darles. Ej:\n",
        "\n"
      ]
    },
    {
      "cell_type": "markdown",
      "metadata": {
        "id": "7AoinMyEwWz8"
      },
      "source": [
        " * Las notas por nivel"
      ]
    },
    {
      "cell_type": "code",
      "metadata": {
        "id": "KlA89JsBUGGD"
      },
      "source": [
        "resp <- dbGetQuery(conn, \"\n",
        "SELECT \n",
        "COD_ENSE,\n",
        "COD_GRADO,\n",
        "AVG(PROM_GRAL) AS MPROM\n",
        "FROM alumnos\n",
        "Where (COD_ENSE==110 OR COD_ENSE==310) and (SIT_FIN_R=='P')\n",
        "GROUP BY COD_ENSE, COD_GRADO\")"
      ],
      "execution_count": null,
      "outputs": []
    },
    {
      "cell_type": "code",
      "metadata": {
        "id": "yMCD5d6_7KW-"
      },
      "source": [
        "resp %>% arrange(COD_ENSE,COD_GRADO)%>%\n",
        "        ggplot(aes(x=1:12,y=MPROM)) + \n",
        "            geom_bar(stat=\"identity\", position=\"stack\")\n"
      ],
      "execution_count": null,
      "outputs": []
    },
    {
      "cell_type": "markdown",
      "metadata": {
        "id": "UfeGwua9xUki"
      },
      "source": [
        " * Promedio de un alumno durante su enseñanza (completa)"
      ]
    },
    {
      "cell_type": "code",
      "metadata": {
        "id": "0eNSCGpv9ant"
      },
      "source": [
        "resp <- dbGetQuery(conn, \"\n",
        "SELECT \n",
        "MRUN,\n",
        "COUNT() AS N,\n",
        "AVG(ASISTENCIA) AS MASIS, \n",
        "AVG(PROM_GRAL) AS MPROM\n",
        "FROM alumnos\n",
        "Where (COD_ENSE==110 OR COD_ENSE==310) and (SIT_FIN_R=='P')\n",
        "GROUP BY MRUN\n",
        "HAVING N=12\"\n",
        ")"
      ],
      "execution_count": null,
      "outputs": []
    },
    {
      "cell_type": "code",
      "metadata": {
        "id": "lX295ClX2gWw"
      },
      "source": [
        "ggplot(resp, aes(x=`MASIS`, y=`MPROM`)) +  geom_point(size=2, shape=23)"
      ],
      "execution_count": null,
      "outputs": []
    },
    {
      "cell_type": "markdown",
      "metadata": {
        "id": "cLVSfmjh1tHC"
      },
      "source": [
        " * Comunas con mejor promedio"
      ]
    },
    {
      "cell_type": "code",
      "metadata": {
        "id": "nlV5DOt3B0xd"
      },
      "source": [
        "resp <- dbGetQuery(conn, \"\n",
        "SELECT \n",
        "COD_COM_ALU,\n",
        "COUNT() AS N,\n",
        "AVG(ASISTENCIA) AS MASIS, \n",
        "AVG(PROM_GRAL) AS MPROM\n",
        "FROM alumnos\n",
        "Where (COD_ENSE==110 OR COD_ENSE==310) and (SIT_FIN_R=='P')\n",
        "GROUP BY COD_COM_ALU\n",
        "\")"
      ],
      "execution_count": null,
      "outputs": []
    },
    {
      "cell_type": "code",
      "metadata": {
        "id": "CXP0rQnK2Xu_"
      },
      "source": [
        "arrange(resp, MPROM)"
      ],
      "execution_count": null,
      "outputs": []
    },
    {
      "cell_type": "markdown",
      "metadata": {
        "id": "jvvTenWO1F0a"
      },
      "source": [
        "* "
      ]
    },
    {
      "cell_type": "markdown",
      "metadata": {
        "id": "XxM6EQqm2huk"
      },
      "source": [
        "# Muestreo"
      ]
    },
    {
      "cell_type": "code",
      "metadata": {
        "id": "9_WBgO618r47"
      },
      "source": [
        "dbGetQuery(conn, \"\n",
        "SELECT *\n",
        "FROM alumnos\n",
        "LIMIT 1000\n",
        "\")"
      ],
      "execution_count": null,
      "outputs": []
    },
    {
      "cell_type": "markdown",
      "metadata": {
        "id": "VGr-supEHSWB"
      },
      "source": [
        "Muestreo aleatorio simple"
      ]
    },
    {
      "cell_type": "code",
      "metadata": {
        "id": "rF1cLo8bD7dt"
      },
      "source": [
        "dbGetQuery(conn, \"\n",
        "SELECT *\n",
        "FROM alumnos\n",
        "ORDER BY RANDOM()\n",
        "LIMIT 1000\n",
        "\")"
      ],
      "execution_count": null,
      "outputs": []
    },
    {
      "cell_type": "markdown",
      "metadata": {
        "id": "UMR2ZMzVHw65"
      },
      "source": [
        "Muestreo Aleatorio Estratificado"
      ]
    },
    {
      "cell_type": "code",
      "metadata": {
        "id": "wOclZhHo9T8R"
      },
      "source": [
        "dbGetQuery(conn, \"\n",
        "  SELECT DISTINCT MRUN\n",
        "  FROM alumnos\n",
        "  ORDER BY RANDOM()\n",
        "  LIMIT 1000\n",
        "\")"
      ],
      "execution_count": null,
      "outputs": []
    },
    {
      "cell_type": "code",
      "metadata": {
        "id": "dehHh8MX9TyC"
      },
      "source": [
        "dbGetQuery(conn, \"\n",
        "SELECT *\n",
        "FROM alumnos\n",
        "WHERE MRUN IN (\n",
        "  SELECT DISTINCT MRUN\n",
        "  FROM alumnos\n",
        "  ORDER BY RANDOM()\n",
        "  LIMIT 1000)\n",
        "\")"
      ],
      "execution_count": null,
      "outputs": []
    },
    {
      "cell_type": "code",
      "metadata": {
        "id": "5VI6KLJ2KFhh"
      },
      "source": [
        "sample.int(3,1)-1\n"
      ],
      "execution_count": null,
      "outputs": []
    },
    {
      "cell_type": "code",
      "metadata": {
        "id": "1hkpKxxt8_dN"
      },
      "source": [
        "a=3002\n",
        "b=sample.int(a,1)-1\n",
        "\n",
        "dbGetQuery(conn, \"\n",
        "select * \n",
        "FROM alumnos\n",
        "WHERE MRUN %? =?\n",
        "limit 10\n",
        "\",  params = c(a,b))"
      ],
      "execution_count": null,
      "outputs": []
    },
    {
      "cell_type": "markdown",
      "metadata": {
        "id": "kdapD42C88KN"
      },
      "source": [
        "## Estratificado"
      ]
    },
    {
      "cell_type": "code",
      "metadata": {
        "id": "RUKLf6RlLZfD"
      },
      "source": [
        "dbGetQuery(conn, \"\n",
        "select COD_COM_ALU, count() as n\n",
        "FROM alumnos\n",
        "group by COD_COM_ALU\n",
        "\")"
      ],
      "execution_count": null,
      "outputs": []
    },
    {
      "cell_type": "code",
      "metadata": {
        "id": "pbNtHyCWM2k-"
      },
      "source": [
        "sample <- 10000\n",
        "\n",
        "a <- dbGetQuery(conn, \"\n",
        "select COD_COM_ALU, ?*count(*)/ CAST( SUM(count(*)) over () as float) as PERC\n",
        "FROM alumnos\n",
        "group by COD_COM_ALU\n",
        "\", params=c(sample))"
      ],
      "execution_count": null,
      "outputs": []
    },
    {
      "cell_type": "code",
      "metadata": {
        "id": "e1AFAXEgQznz"
      },
      "source": [
        "sample <- 10000\n",
        "\n",
        "for (row in 1:2) {\n",
        "\n",
        "  sub <- dbGetQuery(conn, \"\n",
        "  select * \n",
        "  from alumnos\n",
        "  where COD_COM_ALU=?\n",
        "  order by RANDOM()\n",
        "  limit ?\n",
        "  \", params=c(a[row, \"COD_COM_ALU\"],ceiling(a[row, \"PERC\"])))\n",
        "\n",
        "   out=if(row==1) sub else rbind(out,sub)\n",
        "\n",
        "}"
      ],
      "execution_count": null,
      "outputs": []
    },
    {
      "cell_type": "code",
      "metadata": {
        "id": "vG-mZnt5UxwM"
      },
      "source": [
        "out"
      ],
      "execution_count": null,
      "outputs": []
    },
    {
      "cell_type": "code",
      "metadata": {
        "id": "nzuhui5qTW9D"
      },
      "source": [
        "rbind(sub,sub)"
      ],
      "execution_count": null,
      "outputs": []
    },
    {
      "cell_type": "markdown",
      "metadata": {
        "id": "wYO3f8VHAuru"
      },
      "source": [
        "# Clasificacion"
      ]
    },
    {
      "cell_type": "markdown",
      "metadata": {
        "id": "CkFGgvOTAR_0"
      },
      "source": [
        "Ir a https://www.cr2.cl/datos-de-precipitacion/?cp_Precipitacion=2\n",
        "\n",
        "Descargar datos del 2019"
      ]
    },
    {
      "cell_type": "code",
      "metadata": {
        "id": "3sAhBvF1PM5G"
      },
      "source": [
        "library(tidyverse)\n",
        "library(data.table)"
      ],
      "execution_count": null,
      "outputs": []
    },
    {
      "cell_type": "code",
      "metadata": {
        "id": "-MZrldO37ccy"
      },
      "source": [
        "unzip(\"/content/cr2_prDaily_2018.zip\")\n",
        "unzip(\"/content/cr2_tasDaily_2020_ghcn.zip\")"
      ],
      "execution_count": null,
      "outputs": []
    },
    {
      "cell_type": "code",
      "metadata": {
        "id": "YefmQA32OxzT"
      },
      "source": [
        "pp <- read.csv(\"/content/cr2_prDaily_2018/cr2_prDaily_2018.txt\", na = \"-9999\", header =F)\n",
        "tm <- read.csv(\"/content/cr2_tasDaily_2020_ghcn/cr2_tasDaily_2020_ghcn.txt\", na = \"-9999\", header =F)\n"
      ],
      "execution_count": null,
      "outputs": []
    },
    {
      "cell_type": "code",
      "metadata": {
        "id": "uSqHQhYMPkJI"
      },
      "source": [
        "head(pp)"
      ],
      "execution_count": null,
      "outputs": []
    },
    {
      "cell_type": "code",
      "metadata": {
        "id": "W5BVFIuJPP45"
      },
      "source": [
        "tm <- setNames(as.data.frame(t(tm[,-1])),as.character(tm[,1]))\n",
        "pp <- setNames(as.data.frame(t(pp[,-1])),as.character(pp[,1]))\n"
      ],
      "execution_count": null,
      "outputs": []
    },
    {
      "cell_type": "code",
      "metadata": {
        "id": "Qu0XhsqaOu07"
      },
      "source": [
        "ppp <- pp %>% select( c(\"codigo_estacion\",\"nombre\", \"latitud\",\"longitud\") | \"2000-01-01\":\"2017-12-31\")%>%\n",
        "        pivot_longer(cols = \"2000-01-01\":\"2017-12-31\",\n",
        "        values_to = \"Precipitacion\",\n",
        "        names_to = c(\"Año\", \"Mes\", \"Dia\"),\n",
        "        names_pattern = \"(....)-(..)-(..)\")\n",
        "\n",
        "ppp"
      ],
      "execution_count": null,
      "outputs": []
    },
    {
      "cell_type": "code",
      "metadata": {
        "id": "aKgEr9XXS0U3"
      },
      "source": [
        "tmp <- tm %>% select( c(\"codigo_estacion\") | \"2000-01-01\":\"2017-12-31\")%>%\n",
        "        pivot_longer(cols = \"2000-01-01\":\"2017-12-31\",\n",
        "        values_to = \"Temperatura\",\n",
        "        names_to = c(\"Año\", \"Mes\", \"Dia\"),\n",
        "        names_pattern = \"(....)-(..)-(..)\")\n",
        "\n",
        "tmp"
      ],
      "execution_count": null,
      "outputs": []
    },
    {
      "cell_type": "code",
      "metadata": {
        "id": "s2ha39_weMq-"
      },
      "source": [
        ""
      ],
      "execution_count": null,
      "outputs": []
    },
    {
      "cell_type": "code",
      "metadata": {
        "id": "4lkHlNtRAm_l"
      },
      "source": [
        "X_full <- ppp %>%\n",
        "        inner_join(tmp, by=c(\"codigo_estacion\",\"Año\",\t\"Mes\",\"Dia\"))%>%\n",
        "        mutate(Precipitacion=as.double(Precipitacion),\n",
        "               Temperatura=as.double(Temperatura),        \n",
        "               BPrecipitacion=ifelse(Precipitacion>0,1, 0)) %>%        \n",
        "        group_by(codigo_estacion)%>%\n",
        "        mutate(YPrecipitacion=shift(Precipitacion,1),\n",
        "               YTemperatura=shift(Temperatura,1)) %>%\n",
        "        ungroup()%>%\n",
        "        group_by(codigo_estacion,Mes,Dia )%>%\n",
        "        mutate(MPrecipitacion=mean(Precipitacion,na.rm=TRUE),\n",
        "               MTemperatura=mean(Temperatura,na.rm=TRUE)) %>%        \n",
        "        ungroup()\n",
        "              \n"
      ],
      "execution_count": null,
      "outputs": []
    },
    {
      "cell_type": "code",
      "metadata": {
        "id": "JvXCaRAlBQdC"
      },
      "source": [
        "df <-apply(X = is.na(X_full), MARGIN = 2, FUN = mean)\n",
        "print(df*100)\n"
      ],
      "execution_count": null,
      "outputs": []
    },
    {
      "cell_type": "markdown",
      "metadata": {
        "id": "BzyN4zihiqzR"
      },
      "source": [
        "## KNN"
      ]
    },
    {
      "cell_type": "code",
      "metadata": {
        "id": "Zlgq_4vpmGS7"
      },
      "source": [
        "install.packages(\"caTools\")"
      ],
      "execution_count": null,
      "outputs": []
    },
    {
      "cell_type": "code",
      "metadata": {
        "id": "RDY3Dfx-iqRg"
      },
      "source": [
        "library(class)\n",
        "library(caTools)"
      ],
      "execution_count": null,
      "outputs": []
    },
    {
      "cell_type": "code",
      "metadata": {
        "id": "T5_1PjicjVMK"
      },
      "source": [
        "X<- X_full%>%\n",
        "        filter(Año==2017& Mes==12 & Dia==14)%>%\n",
        "        select(\"latitud\", \"longitud\",\"BPrecipitacion\")%>%\n",
        "        drop_na()%>%\n",
        "        select(\"latitud\", \"longitud\")\n"
      ],
      "execution_count": null,
      "outputs": []
    },
    {
      "cell_type": "code",
      "metadata": {
        "id": "AurjSQjLmpT8"
      },
      "source": [
        "Y<- X_full%>%\n",
        "        filter(Año==2017& Mes==12 & Dia==14)%>%\n",
        "        select(\"latitud\", \"longitud\",\"BPrecipitacion\")%>%\n",
        "        drop_na()%>%\n",
        "        select(\"BPrecipitacion\")\n"
      ],
      "execution_count": null,
      "outputs": []
    },
    {
      "cell_type": "code",
      "metadata": {
        "id": "oqIJq_FRkkPP"
      },
      "source": [
        "set.seed(101) \n",
        "sample = sample.split(X$longitud, SplitRatio = .75)\n",
        "\n",
        "X_train = subset(X, sample == TRUE)\n",
        "X_test  = subset(X, sample == FALSE)\n",
        "Y_train = subset(Y, sample == TRUE)\n",
        "Y_test  = subset(Y, sample == FALSE)"
      ],
      "execution_count": null,
      "outputs": []
    },
    {
      "cell_type": "code",
      "metadata": {
        "id": "cO8uD0yGjNvT"
      },
      "source": [
        "knn.prd=knn(X_train,X_test,Y_train[[\"BPrecipitacion\"]],k=5,prob=TRUE)\n",
        "table(knn.prd,Y_test[[\"BPrecipitacion\"]])"
      ],
      "execution_count": null,
      "outputs": []
    },
    {
      "cell_type": "markdown",
      "metadata": {
        "id": "IcUGl504zDLD"
      },
      "source": [
        "Acá calculamos los indicadores."
      ]
    },
    {
      "cell_type": "markdown",
      "metadata": {
        "id": "nzCA9H38q6Tw"
      },
      "source": [
        "# Regresion Logistica"
      ]
    },
    {
      "cell_type": "code",
      "metadata": {
        "id": "ZWUB7BIJ09Xb"
      },
      "source": [
        "head(X_full)"
      ],
      "execution_count": null,
      "outputs": []
    },
    {
      "cell_type": "code",
      "metadata": {
        "id": "sqBsBSFa03mJ"
      },
      "source": [
        "datax <- X_full%>% \n",
        "        select(c(\"BPrecipitacion\", \"Temperatura\", \"YPrecipitacion\", \"YTemperatura\", \"MPrecipitacion\", \"MTemperatura\"))%>%\n",
        "        drop_na()\n",
        "\n",
        "set.seed(101) \n",
        "sample = sample.split(datax$BPrecipitacion, SplitRatio = .75)\n",
        "\n",
        "train = subset(datax, sample == TRUE)\n",
        "test  = subset(datax, sample == FALSE)"
      ],
      "execution_count": null,
      "outputs": []
    },
    {
      "cell_type": "code",
      "metadata": {
        "id": "om6RERspq5_d"
      },
      "source": [
        "m1 <- glm(BPrecipitacion ~ YPrecipitacion+YTemperatura+MPrecipitacion , family = binomial,data=train)\n",
        "summary(m1)"
      ],
      "execution_count": null,
      "outputs": []
    },
    {
      "cell_type": "code",
      "metadata": {
        "id": "asnbvy3k2Oic"
      },
      "source": [
        "pred<- predict.glm(m1,newdata = test, type=\"response\")\n",
        "result1<- table(test$BPrecipitacion, floor(pred+0.5))\n",
        "result1"
      ],
      "execution_count": null,
      "outputs": []
    }
  ]
}