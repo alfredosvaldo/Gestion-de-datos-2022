{
  "nbformat": 4,
  "nbformat_minor": 0,
  "metadata": {
    "colab": {
      "name": "Taller 2 Gestión de datos 2022",
      "provenance": [],
      "collapsed_sections": [],
      "include_colab_link": true
    },
    "kernelspec": {
      "name": "ir",
      "display_name": "R"
    },
    "language_info": {
      "name": "R"
    }
  },
  "cells": [
    {
      "cell_type": "markdown",
      "metadata": {
        "id": "view-in-github",
        "colab_type": "text"
      },
      "source": [
        "<a href=\"https://colab.research.google.com/github/maxigaarp/Gestion-de-datos-2022/blob/main/Taller_2_Gesti%C3%B3n_de_datos_2022.ipynb\" target=\"_parent\"><img src=\"https://colab.research.google.com/assets/colab-badge.svg\" alt=\"Open In Colab\"/></a>"
      ]
    },
    {
      "cell_type": "markdown",
      "metadata": {
        "id": "Dc46RIDrdOSd"
      },
      "source": [
        "# **Modelo relacional**\n",
        "\n",
        "\n"
      ]
    },
    {
      "cell_type": "markdown",
      "metadata": {
        "id": "X81Z5MTiNUjb"
      },
      "source": [
        "Para esta parte del taller vamos a trabajar con la base de datos de la matricula de estudiantes de Educación superior del año 2020\n",
        "\n",
        "Para ello, vamos a descargar la base de datos y, al mismo tiempo, vamos a descargar el esquema de registro de la tabla, que uno puede encontrar en los siguientes link\n",
        "\n",
        "https://datosabiertos.mineduc.cl/matricula-en-educacion-superior/\n",
        "\n",
        "https://datosabiertos.mineduc.cl/wp-content/uploads/2021/12/Matricula-Educacion-Superior-2020.rar"
      ]
    },
    {
      "cell_type": "code",
      "metadata": {
        "id": "vp4HPzDxK3Oy"
      },
      "source": [
        "install.packages(\"tictoc\")\n",
        "install.packages(\"data.table\")\n",
        "library(\"tictoc\")\n",
        "library(tidyverse)\n",
        "library(data.table)\n",
        "library(dplyr)"
      ],
      "execution_count": null,
      "outputs": []
    },
    {
      "cell_type": "code",
      "source": [
        "system(\"gdown --id 1jDBPog5TrYaYgcnXTvyWecI90uccuWU2\")"
      ],
      "metadata": {
        "id": "2bAS3KobCWIB"
      },
      "execution_count": null,
      "outputs": []
    },
    {
      "cell_type": "code",
      "source": [
        "unzip(\"/content/20200706_Matrcula_Ed_Superior_2020_PUBL_MRUN.zip\")"
      ],
      "metadata": {
        "id": "6jGub4UECb6C"
      },
      "execution_count": null,
      "outputs": []
    },
    {
      "cell_type": "code",
      "source": [
        "matricula <- fread(\"/content/20200706_Matrcula_Ed_Superior_2020_PUBL_MRUN.csv\", \"encoding\" =\"UTF-8\")"
      ],
      "metadata": {
        "id": "ib4gDVu-CmwU"
      },
      "execution_count": null,
      "outputs": []
    },
    {
      "cell_type": "markdown",
      "metadata": {
        "id": "UZg-VH9IsCSv"
      },
      "source": [
        "Lo primero que haremos con este trabajo, será elaborar un modelo entidad-relación. Para ello, debemos investigar el esquema de registro y responder una serie de preguntas:\n",
        "\n",
        "\n",
        "\n",
        "1.   ¿Qué entidades existen?\n",
        "2.   ¿Cómo se relacionan estas entidades?\n",
        "3.   ¿Cuáles son los atributos de cada entidad?\n",
        "4.   ¿Cuál es la llave de cada entidad?\n",
        "\n"
      ]
    },
    {
      "cell_type": "code",
      "metadata": {
        "id": "IpSDuye37a-1"
      },
      "source": [
        "str(matricula)"
      ],
      "execution_count": null,
      "outputs": []
    },
    {
      "cell_type": "code",
      "source": [
        "#Escribir las bases de datos de acuerdo a nuestro modelo relacional\n",
        "alumnos <- matricula[, c(\"MRUN\", \"GEN_ALU\", \"FEC_NAC_ALU\")]\n",
        "estudia_en <- matricula[,c(\"MRUN\", \"cod_inst\", \"cat_periodo\", \"rango_edad\")] \n",
        "cursa <- matricula[,c(\"MRUN\",\"codigo_unico\", \"cat_periodo\", \"rango_edad\", \"anio_ing_carr_ori\", \"sem_ing_carr_ori\", \"anio_ing_carr_act\", \"sem_ing_carr_act\", \"forma_ingreso\")] \n",
        "carrera <- matricula[, c(\"codigo_unico\", \"cod_sede\", \"nomb_sede\", \"cod_carrera\", \"nomb_carrera\", \"modalidad\", \"jornada\", \"version\", \"tipo_plan_carr\", \"dur_estudio_carr\", \"dur_proceso_tit\", \"dur_total_carr\", \"region_sede\", \"provincia_sede\", \"comuna_sede\", \"nivel_global\", \"nivel_carrera_1\", \"nivel_carrera_2\", \"requisito_ingreso\",  \"vigencia_carrera\", \"valor_matricula\", \"valor_arancel\", \"codigo_demre\", \"area_conocimiento\", \"oecd_area\",  \"oecd_subarea\", \"area_carrera_generica\", \"acreditada_carr\", \"costo_proceso_titulacion\",  \"costo_obtencion_titulo_diploma\" )]\n",
        "IES <- matricula[, c(\"cod_inst\",\"tipo_inst_1\", \"tipo_inst_2\", \"tipo_inst_3\", \"nomb_inst\", \"acreditada_inst\", \"acre_inst_desde_hasta\", \"acre_inst_anio\")]\n",
        "pertenece_a <- matricula[,c( \"codigo_unico\",\"cod_inst\")]\n"
      ],
      "metadata": {
        "id": "5bCfCAQSs8G0"
      },
      "execution_count": null,
      "outputs": []
    },
    {
      "cell_type": "code",
      "source": [
        "alumnos <- unique(alumnos)\n",
        "estudia_en <- unique(estudia_en)\n",
        "cursa <- unique(cursa)\n",
        "carrera <- unique(carrera)\n",
        "IES <- unique(IES)\n",
        "pertenece_a <- unique(pertenece_a)"
      ],
      "metadata": {
        "id": "LlnfkuFbBVcT"
      },
      "execution_count": null,
      "outputs": []
    },
    {
      "cell_type": "code",
      "source": [
        "alumnos"
      ],
      "metadata": {
        "id": "m89JMBmXC0l1"
      },
      "execution_count": null,
      "outputs": []
    },
    {
      "cell_type": "markdown",
      "source": [
        "## Unir dos bases de datos"
      ],
      "metadata": {
        "id": "4To1-u0vJlUT"
      }
    },
    {
      "cell_type": "code",
      "metadata": {
        "id": "lDkBkC32bhXI"
      },
      "source": [
        "tic()\n",
        "alumno_universidad <- inner_join(alumnos, estudia_en, by = \"MRUN\", suffix = c(\".a\", \".b\"))\n",
        "\n",
        "toc()"
      ],
      "execution_count": null,
      "outputs": []
    },
    {
      "cell_type": "code",
      "metadata": {
        "id": "KPHYy_5MbhE-"
      },
      "source": [
        "str(alumno_universidad)"
      ],
      "execution_count": null,
      "outputs": []
    },
    {
      "cell_type": "markdown",
      "metadata": {
        "id": "LkUYYpz3BZ8c"
      },
      "source": [
        "La unión que hemos realizado hasta aquí es una unión del tipo inner join o intersección. Este tipo de unión entrega todos los valores que se encuentren en ambas bases de datos.\n",
        "\n",
        "![Inner join.PNG](data:image/png;base64,iVBORw0KGgoAAAANSUhEUgAAAPcAAADmCAYAAAAJBhNtAAAAAXNSR0IArs4c6QAAAARnQU1BAACxjwv8YQUAAAAJcEhZcwAADsMAAA7DAcdvqGQAACWgSURBVHhe7Z17tBxVlcYvLl1r1jj+4TijiSODjDoCI8u5IEKYgeGlCMMgL3lNRjDyjiKJYsDIK8CQRYIgIChkJAjhHYW8Ie/3DUluDARiMA9IgGBICCTADYSwZ3/VVberq/ep56nu6ur9W2svyO2qrqrT9Z2zzzn77NNBiqKUEhW3opQUFbeilBQVt6KUFBW3opQUFbeilBQVt6KUFBW3opQUFbeilBQVt6KUFBW3opQUFbeilBQVt6KUFBW3opQUFbeilBQVt6KUFBW3opQUFbeilBQVt6KUFBW3opQUFbeilBQVt6KUFBW3opQUFbeilBQVt6KUFEvi7qE3np5G02dMd2zZZvfPfjY91/v5tBnP0yb3z7HxnT9l8UZ6x/1zldp7mPFij/v3uCR7hrgm3mus71lAy1/bSu/udM9pGLXlsPDlpOUIemj72m56csztNPLGkT4bRWO6VtKG7e5hsYnx29BWWj096pgwqudPm9FN63e4f25hLIl7I004oYM6Oip27iL3z37mXdP7eUdHH/ryQ+vcD2LiP/+0MfSi++cqtffQ0e86mvy2+1Eskj5DTJPuNdH39KGOM6+j0SvedE/Om0A5PrTR/XsMdm6khbdcSCf+k+980ZI+U4zfhhbSbf5rnDWGVrifxMN//ol00yvun1uYJombre+Z9JskBZhU3LDh3UILb6Ko4vaMBTF8QXKPJzHpxP3+7GF00t/5zotlXMkPHkNLIyvhFOLm797jsdfcz+Kg4jaQUhhnjRVEaiCNuDv60feXxvWvEj7DyaOo+803aevWrREmuLUxvgdu7eyxo+hnp+xRPRZ23YIEFVYakoq7h1aP+AZ9zn+PffemY64dQ2P/uM55FnQt3uP/vrXxeZo7ZgQNPvofq8fC+g2kB0JfhDTiZkvUgKi4DaQUd5LaNZW42dg9nxVL3wmfQbyHmCT8ns33nOoTTz+6eLn7QS4kE/fr9/nvrdISd8fwtt+aFmjpQ7tRKcUNi92AqLgNJBRG58H0H592/z9u7ZpQ3P0O6lc9PpZ7XlxxY7Bn3rnu8TBuvfMjgbjnD6PDvONY2F+5P+E4yqbpdMPXfNcyCjGpuDvp4IP6uv8ftwFRcRtILoxlo0+o/jtO7ZpQ3IOmLKTh+3j/juOeF1nczORLqud8c1TCwaIkxBX3MrprP99xabsLa++n/t53sBCPmiA1+0nFfSKNmvdg9XtjNSAqbgNphLHOd47pR/WRUNzOPcy+nA7yzuk3kmZUDjRQcHH7z9ntWhrn/tk+8cT94aNnVY/pvJYmvud+kIItdx5V/a5+t1F90ScXN8S5+Z7je8/pGDgxYjBSxW0gpTD8tXbfi+jeLc6RMmnETT303OV7Vc+7pds5UkbFXSGOuAPHjE7ojgfpmUHXeN/FLnX9mEKM30YUZ5IGRMVtIL0wYteuqcTNbFtQ456bB6PSP0NiUnzPljv/rXpOklmGxASEK4n7jYl0mfe5FSH00JJBvmvWVcJpxc3EbkBU3AayCGMdPXqkd25I7ZpW3ID7q70jukb3vMDirqmg2LK2lKHEEPeiYdXy7BwR0d2Jx7v3/Vf1mnWVVwZxMzVuv7EBUXEbyCiMVXfTyd5npto1i7gjWwaQ8Bk6z6Sf1oRW1tuV49e6JwZIIu43uunXx/yN77rZ+rfRRIv7nQdPrX6epZLz4y+TugHDbOKO14CouA1kFDdTU7sOmV4/8ppJ3My26XT1x73Pj6Fha9y/95LwGeKYacrK/z0hlcRlZx9E/+z/Pu5WnLco76DnaHHXtLJ5iLtuTCGruJmaBmQwPVL3gqm4DWQXd7B2PX5a4CXOKm7gd8+PTdE65CHuuPalk+jKpREzClYoqbiZ8AZExW3AhriZpTdWgyKCtasNcQeDQUb53WZLzxCHBOL+woCRNGrm2gbElHtEi7tmzv3kpAs0DPi/s65s7Yi7dm4+2ICouA3YE8bqEftVj/PXrlbEzWyaSEM+4R3nd8+bJO7g9/QsoFv3dj+DJVr8YoMY4mYX91jv890G00MWxgBWj9i7es2rgh6PLXEzxgZExW3ApjD8tWsnnTbfrV1tiZvZ9Yfzq+45f1el5SmIuJma+xPHB/IkhrghhI96x/QJLet4+LtkHcKAl0VxMzUNCFckFX2ruA1YFoa/du0cWllQYFHcQff8r5yY6OKIu05gWa6VmMC1RXH30OJLP1I9RhoATQL/3r2RhLsNoF/VzZbE+W2TiFNqQFTcBmwLo4fWDOusHg83bf6wiPPjvAA+1j9G53zSO/5EuuWlFy0/QwhxvsdfwYXN/8dmHc0cfqM7Ej+Kphi/Lo64mZr7y7JSzR9FxjZUqihsi5tZ5Fv0wg3IlLe7VNwytsXN9HTTL/f3vrOThl4xMOL8hOJmMF9bdc+H0nXfjji/keLmCm7FVb7QWc+DSY3/5T88xNVnsR3nHddRP2vRSyC0N3Hmmwq1S0ZNospB3HUNyBWWo+6aT3HFDfy1q98siRvnTDvd970+a764mZrBP7bQ2PgoAs9aM1PgY9NY+pF3TGglwGxb4KuA2Y4YSmNj5y7roQ13BtaCG1Nv5SFupqYB8ZuK20dO4g7WrqHnpxE3U+OeR5zfaHEzNbH3GQfXalZy9T2Trl8VaJV3rqXxZ3y0eoy4QivA2vtry6/vETTgngX00gfu5wLvPD+B7jzps9VzYKFLRnMSNxAbEBW3j7zEzQRbB+P5KcXN1LqGIef7nyFG+Cnsen7R6+aoE5VFYN10pkUjge/q2JO+NOAnzn3e+pMBdOgX/J/5ZiqiWPsYXXqA/1zYnrTvqQNrygjXOPpfPhM4rg/9PXsk4QNyOYrb6f74Rs8Tn19cii9uUJPxw3R+enGjn1nTYpnO9z9DXJPuNWlZ+Nel1wVfJGTtBEGIQduTDk2anXbnRlo0/NuBcNkIO+LHdHusDKh5ipupa0BU3D5yFnewdrUubibgXhZK3MHIuqyDayzEruFnB1pqmIU0ypueo6n/N5gGfn33wHe71ndvOuSikfSbLin3vImcxQ1qGhAVt1ICkJXUy7hqfQOEnT29312xNBscKGlRcStKSVFxK0pJUXErSklRcStKSVFxK0pJUXErSklRcStKSVFxK0pJUXErSklRcStKSVFxK0pJUXErSklRcStKSVFxK0pJUXErSklRcStKSVFx+9i0g2jm60QTNhI9vIHoty8S3bqG6LpVREOeJ7roGaL+y4iOW0x08EKiPeYRHbaI6PRuoh/wZ1etJLp5NdE9fN7jr/B3bap8pxLNrg+J3nqf6NUeotVvEy1/k2j+ZqKV24m2204i0Sa0rbjf4BdpDgsZYoRYO55iezwnm0p00hKi29YSzeUXFi9xu/DuBxWhPsCVJSpIVIods9lmsKHMJ7GNZ5PKzW8T2ficA/n8AX+sVLj3ryeazb/hGq4MduxyL6j00hbifodr/oVbiO5cR/Q9fjE6ZrovTLPsCTZ+wc/he4GHUIaWyRPxwy8TXf0nouNRYULA0vPnZbOIhnIFggp0J3sC7U6pxT3tL5VavmOy7wUook2p3Ofk19wbbyEmcRfmu9xVcVpg6dmaZewNHN5V6VYt3erebJtROnGjv3bjn/nBuBYXf/Si23SiS5+r9DeLyhIWC1rIhrfMWYy7RhgbwTjKhky7FrYOpRA3XLDH2B10+s5weaUftxWNK6hfc1fi/QL0J196tzJm8MV5wn3asgls7MV0TGPjrtNn5vJ/ubKL1SdPYnwdeEoYcykzLS3uZdzH+ym3cs7LIP2IaYy/q3M+0dHuKPiFyysDQf+7qvJyj+aaf+wrRE+yyz99U6XPfDv/HSPl5/OxqGAcAaBfjxd1nPu9WYxbSLiXzeibT+XndPrPWQSGc7miOovdd5QhRNXNv90L7GVhdHzb+0RRXeS/8HGL3iB6hCvx4eyZYbxivwX8vRnFvy//1qNfIuoJ2f6oVWlJcW95z3ULswqHhXzCEqJfrK68cHmNYq/cVpkec/qmWVxZvl90OTbz8+cN7tm5X+k+wozd30O5r3s5/z4PccX37Fss3AYMbj3H93s3ezmnLa3cg3hvYcZlewVX0H/a7n5hCWg5cY/iH9CpraUfKMzYFUNrfC23wJNeI3qF3cxm8Spfe9yrFQHswy2H445K92yyp4iu4ed4M4fKCK0oRrudqSfp2pKxlwJhoGUtCmu5X43KBbEJicZfuFt3Clf4rTi4GaRlxI2R76/CDZN+kBD71ByiW9ilLfIgyus7iO5gd9XpYwrPYDQWFYJlbAHvIrZnwcehS4Rpp1bgZa5Q8Xx7JihjBCbBS2xVCi/uF9hNcuamhcI3Gvd10f9FgEOrgag253kTtJzn8rOiT5oW9Kud/qvw3TXGruuPnq2MNbQyaJWdcQTpGYPGlRjGWFqRwop7xwdE17/AN5hg/hQv6Ciunbe2cG3rgZYG0XNONJfwrHXGwoMbmgRE6cXqV08muon7+mUD899oneO8Y+dwBbqxxbY6K6S4McebJIoMoZ2Yey0r4zcSfSymyBH7jmmrKDBaHafigBeB8M4yg4r0BjQkUWM5KSrQZlI4cY9ZzzcVd4CJX87fl2Cr1ThgxHk4XsA47jq/hGGuM9zMqKg9TOdNKcGgUhLe21WZcoxqyeHttEIgTKHEjZFsqTDrjAsfU0JYSdRuYMrnO5jukcrFb+Mq0VhBnOg96XjPniS6jV/wdmYFl/G3nhbKxm9Ti9+KF0bccedU4SYixLTdcVrfGF0XTFF5OHH2wjGeXcD9zzgufbuA6EAnEEkoK89GFHgsohDi3itGSCOOQVSYUgVRVc6ctFBeftt9bsWkzxwbL7fySmW2BmM6Yrm5hrn0ItJUcSMmPE40EfqaihmEdErlFsu49W+Vuepm4sQAhKz5/8Yi98AC0TRxYwQ2cpHHhMoAmxINYq6TLppBxB4i0pR4vPhOxPz4LPfAgtAUcS/YEigUyaZXEiwo8cFgW9y161exO6+kA0FDUpk6xn30PMKC09BwcWPARiwUnyHeWklP5HztuEp2GiU9P18plKvPirAApaHiRgy1VBB+w6i5kp7IKRzPuK+tZMOJIJTK1rWuJnueDRM3Woqo4AAkvFPS44TrCuVqsjOWuicqqZm2SS5bz5q58KQh4kasSdScrM6vZgPRZFK5RllRp3FaidfgkZoaronuQU2gIeJGbm/xwV3TEdtsbOrhcky6JtxnWFeuZMfUgCFGoxnkLm6k1pEe2DNk/FCyETWA9uUZRJ+POAbzuEp2ENcvle/gFe4BDSRXcTvL6YQH9QwJGJRsOEkhhbL1DMIetnSXY39tePEcm6IVrQ2cwCypfNmQNKSR5CZuJBWUHtAzJBpUsoGQUalsPfML27OwiMAjChhl1Ypg4YlUvjDsvNIochF3VDjkMA2gsEJYwIokbM+w8ks6B1bkhRCthLOwRyhfWKM8VuviRrrasJcOq7qU7Pxn2Hw2i1cStWcXL2KBm9IBP1HsDRFaCeMSZv59kJY7b6yLG3On4gOxHbCgPddg2wY5z4xx5OOIzlv4oShqvx06+0P5fDYkaizCRghlwLSiDPnS88aquJGgX3oQx2bqXLYtwvrNB86KFrZnYauckNlUyY4TlWmYIsPGlHliTdxIShiWFveJV90DlUyEZoKNcMeDhhY+bGOHMuTuLgJOTkCpG8SVK3LY54U1cWMer+7mXdMoKDsglNHYV47pjgdt/5lm9xz9esUOIw1x6D981j0gB6yIG8n4pBt3jFvzzeyaKNkJG89I4o4HLSyVULMXP5QJ0yaKeW1IaEXce4SkScLum0p2kJnT2GondMeD9t0F5tYbedcUO2AKTCrjgxe6B1gms7iddLvCDcP0xbBH2NTXSfPSt9qeGQfp2N1fVaLN8ZqNKWoTm2nYJpO4lyOxvWnBwrTK9qxKdtCtMQ58sUstiTWpDQhpvRFtqNgB2z6J8ef8N4ys2ySTuDEYUHeTrj2oa7OtgV1EpDKGHTc3e6vtmXFqjCuQTTpuYg0n2aJQzpdann5MLW4M4ZvWsPbvdg9SrGBcKzzZTqvtWf+Q1lvDUu2CbKlSOdtcvJNa3MadK/iF02AVe9yM7W2kcmY7Zo69VtszY9z5DKL3NbrQGtiEUOpqIQ+9LVKJ28msYghYGZTjvF07YgwMstxqe3bGfHPr3cgVTe2AuKEE/962SCVuZ7O+4E25ht0jFTs4QSuGGPIjZ9tvtT0ztd4nLHFvTLECMqRK5WxrP/BU4v6qYaN2jWiyi3HAckI+rbZnp8wztN4TK/nCFHtImxzY0lFicc8MiUbDPtKKPYxzz9PyFTfMtFWwJtmwC9ZcSOVsY2AtsbjP7K6/EcdmuwcoVnj2LaGMXTvVQtBKlP2tISUTtiBS7CKtGrMxsJZI3KhNTH3AO9a6BylWONkUR56zS+7Zf5sG1sa1xsbzrcQNUpSnhYG1ROJGCty6m4A9SfSGpie2ijGbTQNccs9MrvldOa9DbjecTTGFabGsA2uJxG2altGF/XZZ/IZczrBGuOSe/YMhHfIhOS10aGdOEzy1rANrscW9GrVL4OKereD+oWKP80wJGRrkknt2dkjE2hp1za0yybBjzMYM6zNii9s4t60DadYxBq400CX3zBT6qvum2wf7ewfLGaJPS2xxI5tK8MKwPDNJtCumlXaNdMk9Q4pk6V5sL3JQiM4R9v3OkgY8trilWgX2sCZjsMqL7O5K5Qz76dOyAPM0rDqT7gWZbBW7YKAyWM6Hd7kfpiCWuN96v/6inumabbsYc11PbLxLDrugy9DvnuzesGKNLmkg9Un3wxTEEveThvQwmHxX7LLnXKGcYU81R9wwU6IIXf1nF2efMaFLho0+0hBL3FesrL8g7FzuIyh2Mc1vf31m4/vbnpkG1TTc2D4dc+rLOe3gZSxxY3/h4AVhtlavKFVMEYBIYigJrxFmytByDXchFLtIg2rIu5aGWOI2jd5ufs89QLGCKTsm7MolsvAaYfAapHvanbsQil1Gv1RfzmmnmyPF7SRBDF4Mpv1t6yBbrFjWTRpM88yYwIHddcUuz0nb/45zP0xIpLjHGZak6fy2faT+lmNTmytuTMGJ98WGQSDFLpKnnGZX0Ehx3y3MvcFuXu0eoFjDFJn2r00cTPPMNBbwpi4Yso40Y4IZq6REits073ov9w0Uu5gGrg7JsFWQLTNNh63XOAfrYM18sJx/n2LwOlLcprDTCa08DTL5EvpcRwd1wIZ3U+QaiG0LaPg+7vGdQ2lyynnHKEzTYHlkOU1qpkFVm6l4lQpnCXnq70vRmEaK+zghxxNsYUtvELeRpp3uirWjH10cMV+/esR+7rF96Php+SURM62ftrFdUFYzzXVjeapiFyyhDpZzmr28I8Vt2uQPmRtbmrX3U3+v9T52FK1w/1yH/7izxlKeKcRMru//zC+AuA1eBXZ4Vewi7QmQZlOISHF3GBbsl2F7mS13HuW2yGwPSf2MrTTvXPfzjhPp5pzHGUyDVmn23bZtpnTH9yeOnlpHjx7pluluA+hXsTzAZXT3Xu45fQfTIyVfS/5bYbuhq1KsDosWt8EdK8fuE8vorv28l+Yiujf4os2+nA5yhM02Kv8kcVI5wy5eJAuukWYa7EMrk5ipl1XHPEZG7z314aNnVY6FiZVwufiDMP082OhamgkV9y4Esgcu4tgE94Ay4BfwkOm+wTWf8PuNJAv56kJBDjqxrNmGLJYF10hDogjp3tLtMLORJpzglq1Uqdbg+x06r6WJbRAVic34g+V8TortsEPFjRQvwYs4xrV4eeihJYPcl6ejk06bX+lvbL7n+Lq/5cm6kHXczQw99cyUTw2zKamYP6xaqd5ibr13/eH83lb+gMe3un8tN0hbFizn7yx1P0xAqLifMeXOLlvo6aaJNOQT7ovGrfTC1yZX/13TmucHtmESy5rtGkFsjTaTuC9LnZHFN55h7Ef7+ucN8J6KwivYQTdQztgVNCmh4sZ0V/Aijs1xDygR1Za6g/r06eO+dFEuoz26TGXNdkUBWm6TW37LGvcB0rD0RjrMLXNxTKM3HqEPHTWhfTah6/mgvpw757sfJiBU3E4+5cBFHJvqHlAqfK2EZw0cvFkb4pZfVoQ+t2FA7XeZEiX6ukR9f0YP1fSnfb9H2FRlCdm+s76c06S1ChX3NuEijo13DygbU4dUhb33iIa6gdIP6tlPmpA7LWimqTDsdZWJVXfTyV6Zj/ZFavSOqOcbOFREpDTiJ6XYYTVU3ABCDl4Ihrxq5cIftVZ5qRrtCprmuS8pwlRYbkEsPbT40o9Uyry39W7fVhvM3VxfzhekGLiMFrfBHVvV6hFqAfyjsr2WYxy5hKki/WGXLLhGWq7hp+t9UYDoCvWOpHfSeYvaq9UGj7xcX85IdZaUaHEbUhpjLq40bJtOV3/cfbkGTqR1j19UFXqchSWWMAkIGUglwTXS8l44suaGvdwKdSANOsUt+9PG5BruW1QwSBks5zQDl5HiPnhh/YVgqF3KQQ+tGdZZeZl6Q0yTLSyxhclL+n4Rwk/zXvLpn450rLNh5V40pIUjuawK62/YjzvTFEiR8E/H+IMp/AM9Der3mZI1NDM5omeNSNZQXX3Hxh5Uu65JkTYFTJNpNlLcUi0CK8fOnr6BG6F/7V/qucdjGTZtismnDGmWsOuHJLhGWcPSLM27piruNoghN7Hv/Ppynr/Z/TABkeJGOqXghWCoXVqddx48NTxIoqebfrm/+7I1IKAF0x1SWX+BW3RJdI0y40b809wbt4WK20Hy4JA4MSmR4n5gQ/2FYGkiZgqFv4932hiz2+3P2pJzKOp1pq2EuC8uia5RdvAsWdxZ94+uQ8XtIA2sptm2K1LcmMcMXsgxvoHWxb9YJGrAzL+mO9+pmUn8Potl3eTUxohIlO7r+hfcG7eFitsZw5DKGiGpSYkUd9gmgCtaNX/W/GHVQbSrFkS3xusfo3M+6R7fbyTNTFHQcXh/l1zOsKubGF9uCmCZYnsYQsUtpxJPGe4dKW6AVWB1F2S7I0VeJyUcUx61ZmZjMU2DWd/hVcXt7AcQLGdsVpGGWOL+MXdIgxeEWe9zKcaKtFkZUAebRsq5NbeOilv8/dOkNQaxxD2J3a/gBR2b4h6gWENKawv79PTm9LtPnScPpu2Xx+b7bS7uV4V13LC/pPSQYokbG/5JF4UhyYBijweFuGLHnmyOuPc3bAJYjjiHYvGY9NvPcj9MQSxxA+w0WHdhttvzzxvYVmwIWdctiS9vg3cm3Ut5wo+LA7bqDZbz5c+7H6YgtrhNkWonLHYPUKxhWh12SoM3J0CSCOk+YMivp9hF6m+jS5yW2OLGovzghR0rVbLEYvAZYSM4xxq82ycG8cT7yOAqKjIvSFmPniDakiHba2xxGzOhsi3SLWWscgd3daRyxpSUJMK8zLRKDZF0il2kTfcRY56F2OIGHzcsbPiR7tVtlR0hwSwYvZaEaNvCXPKl7ZFhuKF86+n6ck6zy4ifROK+xDDfjTnPtMP1ioyp1cRiDUmMts3okms3zDrLDWmtp6bYk9tPInF3sfst3QTsF7oZv1VMWycjI4okRttmqlxSb0KgGBEHq2e7H2YgkbiB5D44VraNCprMS4aABljerrnjkhtCTrGPlWIPJ8OwUJHaSIaSWNzYdD94I55hEl6xh2k1Vt6j5kfONrjk44m2tsFeXY1k1DqhnCfZidtPLG6wu2Gq5tAu9wDFCkhnK5Uzpkh+kGO6Y9MqsMP197XOXsL+9+dayh2XStz3CPsHe4ZtcRQ7dG+Vyxj2+ZxizU8yxJLD7tZVgFaZKezmCbOVWTiVuJ11x4aN4c5v04yVeYF92aRyhoucxzZDpp1FkPrnPf7dFXt874/15YyW3BapxA2G/7n+xhybWImPVuxgzM7CduAsuwNryLIqXQemsyF2cQZMhVzw6IPbIrW40eE39c00qMUuxoG1SXZdc+N1ntKBNNsMEpIywGuyuU1XanGDwaagFja0OIodkKtMKmPY0ZaSOFzYZW61h2WMlFJqQXoqqZyhJ5tkEvezps35YbOI3tnpHqhkxpR+CUsyJbEmNSSDEL+fvbOX2YVU7IBxC3H5NP++z7CebJJJ3ADxr3U36tqluqDfGhcul8sYhhFuSbBxbdAidskNy0z1N7QLNvSTynlkDmMamcW960Oiz5pGdNmyxscqVUwbBeLvV2bIjmrsa7Pgy7abazORtuaF5ZKyisksbjDTlNuc7WPsgmDqTMmOKVElLO2uJCfONfe1dVrTLvsI2wQhIGlhTrEhVsQNkA6m7sZd+3mKvYUVGVPaI9jZCTcMvIJbe6M3wK02VispdrjRMHWc52ClNXE7a5ANedZgiMZRsiPGInuWMIkiotzE72HTEXJ7IImoNKeNjDs291EMYk3cwDTED9uTH0SxQ1glGjewpX9IwApmOlBZK3Y4YpFQxmzYqitPrIobhPULv1OCnUGLwIuIbjIsyYQ7PbBLFrTfwtz7sSmT4Cv1mPLQNyI1tHVxb8f6VMOuGbC0W6MotXzX8NI49lS4e/41w66dsDJszVwUMI0olTH00YgYEOviBuND4qFhSNekZCes9f3KTNk9d3YQeUI+B4EUK1t1c8eCMTwkqhD6aAS5iBsMDRk9h2EyX8kGlmBKZetZsP+NzQRNwSowvJBKdrBhg1S+sNsauIlHbuIGcMGlB/RM1wdnp1+XXLaeHTa7IvAhSJ1kCmGFzcl35LZdgOcjli9bo6P9chU3ONowUugZAmCUbBjXYLt2LAJVDCv4PGuUq1h2TJ7RKUvcAxpI7uIGxh00XFun678zsRb7i4W421F2s67VtoKpkt3DYgKGJDRE3MCUucUzJRsPbJDLNcqw+ZySHdOGHcgz3ywaJu6eD/hiEa7hczpSmwnjphEG04SH2cFeXsb3mr2pZqamapi4Qdh+Y55peuRsfHWBXK511sQWpSwsDtmkA9bsdGMNFTd4YXt9IQRNp8myYVzC6dk490AlNVHdIAi/2TRc3GBJSMpezzDKrnm7koGByaiRc8+GZNjUvd25OiRBCQKEbGwoYIOmiBv8KUYLjkE47E+mROOsqTdFnhkMsf5vWkzIV3bQv8aUllSWsC82aVTcRNPEDZz85yFx6J5h72LFTFSkWphhtZ6GnEaDFVxhq/GK2JVsqrg9sH2KVGB+wzGr33ZPUBwwQGncDdRn2LwxdKCN++h5Lz9sVV59tzJdKJaba/cVtPEphLjBr+O0PsjTzf0dm7mdWxVnS6eogTO2O30hvqNCtoHCINuIP7sHKg534Z00bGXs2ORiR1gWRtwgajVZr3FfvF3j0pduJfqmaRvlgI1mMQcJ26UVhmCMdg9FRSLDAxfK5eMZNsPEuFGRKZS4AV7eOP1wGAYw2uVFxPjENav4uWOGmT60wT1RwJmtmFF/jt/6L6tMW7YTr+8ITzbiWf/uyr7aRadw4gaYSvj3iNVOfjt+MdGiEo+qOx5NyGCO37CRHFqeKBBggZS60nf0GneD2sFVh6jRfUFgj1gOnnGj00pBVoUUt8dNyBgZEbLqN7irD3OLVYbdKDfzC3f7Wn6ukJzwNcZ9Zmw7lASUkzFbiM/K6qrP4UoQ6ZvjvGNIi9QKrbWfQosbYIT8e2EphSSbWvkx4H62Gk/zPWMjxbAsK0FD/zBLRNR8fskPiehjOsYt13XcNWjlqTOvlcYUoPiMAdt3vr39shtN4cXtgcyqWDon/QBhBtcTo8RFj3Z7mN09LOSQnsFoE+1urevMl8cYgYcho+eY9a2zH1ySVtox7pK0+lLYlhG3x61r+KZjhljWGLeE+HHxQmIDw2aCqbzJXFkhjNEZW0jQSjvGLjjm/W1vHAcwd/5DaXtZkz1VOR6tf5GA14aURojCi1puHDREoRV9JDwOLSdugI3LnVpY+GFiGwuqk10ujI4i51WeCSMweIXRaydYJ+ZMgGgTKkJqxNJYbCKB8hHvw2Qs9IPZvUeX6H6uRBu5hHfBlsqYA66fZJym1/h9uOCZeIORrUJLitsDUVUYKTfm8E5q/AOj/4oW9QZ+UeDyYlAL7uq9L1UE+vtXKnPF2OBwNgsAA02/ZbcfyQWxnhqpgQ/AKPQsNgRAZMiQ0mvsIkIwzYjQg0hNSfVjGXcdsF8cKjZ0j9DCY5uiNVzhvcb937c/cC8UAtJlv8DPjr4vBkzxu2Av6xO4hXX6zglj6v2GPjV+X8SNl42WFrcHWl30jz4Vd2S5VYz7v1etbP66YLCS3VQMpmXyPMIMyRvR3YILzRWjM76CqSlhG57MxpUuKuKyL0oqhbj9wD1zMpLEHBgqnLFLiSCJca8S7SxoOlJ4LU5m2zTub7OMKwl4ZfDA4Am0A6UTtwfmcNGXtuq252V8f1jcARe4ldaww5VFl8QJ1Sya0LlMEcGIHWYx07KtDdcjlFbcfuC2/46Fg8EoJxNrHq5eEkMfkd1b9M/Rp8cAYRlAXxotI8rZ6QuH5UnPwfDb/ozFPG0T0Y4Yffmy0xbiDgJ3F+GqENYZmCrJqx8JQ0Uyh+ic5ZVVRl3cbWiVuWEboK+OlESDPMFjoBH9avSvsTd4HK8Kx+B4Phej4dgnDfvBY6oL3hkG2nRDhXraUtwS73JNj2kQjMTClUNYJiLFMOWGnRpP534wRmfhPh/aVRkRRxy36WVbxS+1pomKB7pQKKuX2YNBuWHxkJZhdlTcilJSVNyKUlJU3IpSUlTcilJSVNyKUlJU3IpSUlTcilJSVNyKUlJU3IpSUlTcilJSVNyKUlJU3IpSUlTcilJSVNyKUlJU3IpSUlTcilJSVNyKUlJU3IpSUlTcilJSVNyKUlJU3IpSUlTcilJSVNyKUkqI/h81947vtNfF0AAAAABJRU5ErkJggg==)"
      ]
    },
    {
      "cell_type": "markdown",
      "metadata": {
        "id": "gnK10be-Duol"
      },
      "source": [
        "La librería dplyr nos permite una gran variedad de uniones, mediante comandos esencialmente iguales: **inner_join()**, **full_join()**, **left_join()**, **right_join()** \n",
        "\n",
        "\n",
        "El comando debe ser utilizado de la siguiente forma:\n",
        "\n",
        "inner_join(x, y, by = NULL, copy = FALSE, suffix = c(\".x\", \".y\"))\n",
        "\n",
        "con $x, y$ las bases de datos.\n",
        "\n",
        "$by$ es la(s) llave(s) con las que uno une ambas bases de datos. En caso de que las llaves se llamen diferente en cada base de datos, se utiliza un vector $by = c($\"llave x\" $=$ \"llave y\"$)$\n",
        "\n",
        "$suffix$ uno determina el sufijo que deban llevar las columnas repetidas, en caso de que las haya."
      ]
    },
    {
      "cell_type": "markdown",
      "metadata": {
        "id": "-p7AA6nvF7Yx"
      },
      "source": [
        "Los outer join, que en la librería se obtienen con el comando full_join(), nos entregan todos los elementos de ambas bases de datos, uniendo aquellos en que se intersecten\n",
        "\n",
        "![Outer join.PNG](data:image/png;base64,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)"
      ]
    },
    {
      "cell_type": "code",
      "metadata": {
        "id": "iIdAMB3lF6I7"
      },
      "source": [
        "tic()\n",
        "alumno_universidad <- full_join(alumnos, estudia_en, by = \"MRUN\")\n",
        "toc()"
      ],
      "execution_count": null,
      "outputs": []
    },
    {
      "cell_type": "code",
      "metadata": {
        "id": "VJvc-9W8GWfv"
      },
      "source": [
        "str(alumno_universidad)"
      ],
      "execution_count": null,
      "outputs": []
    },
    {
      "cell_type": "markdown",
      "metadata": {
        "id": "Z7JD0RZUGaeJ"
      },
      "source": [
        "Por su parte, left_join() nos retorna la intersección de las bases, y todas las filas de la base x que no tienen fila correspondiente en la base y, como vemos en la imagen.\n",
        "\n",
        "![Left join.PNG](data:image/png;base64,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)\n",
        "\n",
        "\n"
      ]
    },
    {
      "cell_type": "code",
      "metadata": {
        "id": "R7p9UXJ-IzTz"
      },
      "source": [
        "tic()\n",
        "alumno_universidad <- left_join(alumnos, estudia_en, by = \"MRUN\")\n",
        "toc()"
      ],
      "execution_count": null,
      "outputs": []
    },
    {
      "cell_type": "code",
      "metadata": {
        "id": "M7Iqu3l6IzFx"
      },
      "source": [
        "str(alumno_universidad)"
      ],
      "execution_count": null,
      "outputs": []
    },
    {
      "cell_type": "markdown",
      "metadata": {
        "id": "NnKrbJT4I4fU"
      },
      "source": [
        "Finalmente, right_join() nos entrega la intersección de las bases, y todas las filas de la base y que no tienen fila correspondiente en la base x.\n",
        "\n",
        "![Right join.PNG](data:image/png;base64,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)"
      ]
    },
    {
      "cell_type": "code",
      "metadata": {
        "id": "nYxmHwC_I5yt"
      },
      "source": [
        "tic()\n",
        "alumno_universidad <- right_join(alumnos, estudia_en, by = \"MRUN\")\n",
        "toc()"
      ],
      "execution_count": null,
      "outputs": []
    },
    {
      "cell_type": "code",
      "metadata": {
        "id": "_LFAAdLMI6i9"
      },
      "source": [
        "str(alumno_universidad)"
      ],
      "execution_count": null,
      "outputs": []
    },
    {
      "cell_type": "markdown",
      "source": [
        "## **Operadores**\n",
        "\n",
        "Aquí repasaremos algunos de los operadores básicos vistos en clases y su uso en R, siguiendo la estructura del álgebra relacional gracias a la librería tidyverse"
      ],
      "metadata": {
        "id": "XDDZrylvs1lC"
      }
    },
    {
      "cell_type": "markdown",
      "source": [
        "Proyección\n",
        "\n",
        "La proyección, tal como vimos en clases, toma solamente los atributos que uno quiere de nuestra relación.\n",
        "\n",
        "Para hacer esto en R utilizamos el comando select(), de la siguiente forma:\n",
        "\n",
        "df %>% select(a1,a2,...,an)"
      ],
      "metadata": {
        "id": "zUQ5mGvft9NY"
      }
    },
    {
      "cell_type": "markdown",
      "source": [
        "Por ejemplo: Liste todas las instituciones de educación superior"
      ],
      "metadata": {
        "id": "T9mckltTAWVs"
      }
    },
    {
      "cell_type": "code",
      "source": [
        "IES %>% select(\"nomb_inst\")"
      ],
      "metadata": {
        "id": "cv6TWyUy_FMJ"
      },
      "execution_count": null,
      "outputs": []
    },
    {
      "cell_type": "code",
      "source": [
        ""
      ],
      "metadata": {
        "id": "r8j_Lx8l294R"
      },
      "execution_count": null,
      "outputs": []
    },
    {
      "cell_type": "markdown",
      "source": [
        "Renombrar\n",
        "\n",
        "Con esta operación uno cambia el nombre de nuestros atributos, en R se utiliza el comando rename(), de la misma forma que select():\n",
        "\n",
        "df %>% rename(a1=nuevo_a1)"
      ],
      "metadata": {
        "id": "BkZ3pPblt-F7"
      }
    },
    {
      "cell_type": "code",
      "source": [
        "carrera %>% rename(\"sede\"= \"nomb_sede\")"
      ],
      "metadata": {
        "id": "Cri0VyS02-vM"
      },
      "execution_count": null,
      "outputs": []
    },
    {
      "cell_type": "markdown",
      "source": [
        "Selección\n",
        "\n",
        "Deja todas las tuplas que cumplan una condición, para ello utilizamos el comando filter()\n",
        "\n",
        "df %>% filter( x<=y )"
      ],
      "metadata": {
        "id": "6oOkmx5yt9re"
      }
    },
    {
      "cell_type": "code",
      "source": [
        "estudia_en %>% filter(cod_inst == 86)"
      ],
      "metadata": {
        "id": "7wKI_qFSNw3Y"
      },
      "execution_count": null,
      "outputs": []
    },
    {
      "cell_type": "code",
      "source": [
        "IES %>% filter(acre_inst_anio >= 5) %>% select(\"nomb_inst\")\n"
      ],
      "metadata": {
        "id": "-GH-GFDIOM08"
      },
      "execution_count": null,
      "outputs": []
    },
    {
      "cell_type": "code",
      "source": [
        "Acreditadas <-IES %>% filter(acre_inst_anio >= 5) %>% select(\"nomb_inst\")"
      ],
      "metadata": {
        "id": "aGgebS4yRw7a"
      },
      "execution_count": null,
      "outputs": []
    },
    {
      "cell_type": "code",
      "source": [
        "Universidades <-IES %>% filter(tipo_inst_1 == \"Universidades\") %>% select(\"nomb_inst\")"
      ],
      "metadata": {
        "id": "gkpOVutGONSf"
      },
      "execution_count": null,
      "outputs": []
    },
    {
      "cell_type": "markdown",
      "source": [
        "Unión\n",
        "\n",
        "Con este operador obtenemos las tuplas que cumplan una condición de dos relaciones diferentes, para ello usamos el comando union o en este caso tambien full_join():\n",
        "\n",
        "df %>% full_join(df2,by= atributo)"
      ],
      "metadata": {
        "id": "u36hzOeDt-eo"
      }
    },
    {
      "cell_type": "code",
      "source": [
        "Acreditadas %>% full_join(Universidades, by =\"nomb_inst\")"
      ],
      "metadata": {
        "id": "TFZIIGFvSEcr"
      },
      "execution_count": null,
      "outputs": []
    },
    {
      "cell_type": "markdown",
      "source": [
        "Intersección\n",
        "\n",
        "Con este operador obtenemos las tuplas que pertenecen a ambas relaciones, podemos usar el comando semi_join()\n",
        "\n",
        "df %>% semi_join(df2,by= atributo)"
      ],
      "metadata": {
        "id": "7PRUAxcLSFqe"
      }
    },
    {
      "cell_type": "code",
      "source": [
        "Acreditadas %>% semi_join(Universidades, by =\"nomb_inst\")"
      ],
      "metadata": {
        "id": "U5I_H1TzSEHw"
      },
      "execution_count": null,
      "outputs": []
    },
    {
      "cell_type": "markdown",
      "source": [
        "Diferencia\n",
        "\n",
        "Tal como se vio en clases, se obtienen las tuplas que pertenecen a una relación, pero no a otra. Para ello usaremos el comando anti_join()\n",
        "\n",
        "df %>% anti_join(df2,by= atributo)"
      ],
      "metadata": {
        "id": "ZV4cdVsrSHCh"
      }
    },
    {
      "cell_type": "code",
      "source": [
        "Acreditadas %>% anti_join(Universidades, by =\"nomb_inst\")"
      ],
      "metadata": {
        "id": "l0W0Bu_6VyAL"
      },
      "execution_count": null,
      "outputs": []
    },
    {
      "cell_type": "markdown",
      "source": [
        "Agregación\n",
        "\n",
        "Además de las consultas básicas, es muy utilizada la agregación o agrupación de tuplas que compartan un factor común. Esta agregación debe utilizarse en conjunto con operaciones aritmeticas, como la cuenta, el promedio, la suma, entre otras.\n",
        "\n",
        "El comando en R para realizar este trabajo es groupby\n"
      ],
      "metadata": {
        "id": "3WNwZjoY29Nr"
      }
    },
    {
      "cell_type": "code",
      "source": [
        "IES %>% group_by(tipo_inst_1) %>% summarize(acreditacion_promedio = mean(acre_inst_anio, na.rm=TRUE)) "
      ],
      "metadata": {
        "id": "EhxDIsSSV2Sd"
      },
      "execution_count": null,
      "outputs": []
    },
    {
      "cell_type": "markdown",
      "source": [
        "## Actividad\n",
        "\n",
        "Realice las siguientes consultas a sus bases de datos:\n",
        "\n",
        "\n",
        "\n",
        "1.   Entregue el MRUN de todos los alumnos menores a 30 años\n",
        "2.   Liste cuantas carreras existen para cada sub área OCDE\n",
        "3.   Entregue la acreditación promedio para cada tipo de universidad (Privada, Estatal y Tradicional)\n",
        "4.   Enumere la cantidad de alumnos que estudian en cada institución, agrupados por año de acreditación\n",
        "\n"
      ],
      "metadata": {
        "id": "1ZvIV3rP2_MN"
      }
    },
    {
      "cell_type": "code",
      "source": [
        ""
      ],
      "metadata": {
        "id": "X2paqeBw3Awu"
      },
      "execution_count": null,
      "outputs": []
    },
    {
      "cell_type": "markdown",
      "metadata": {
        "id": "uWogJRVvl6AS"
      },
      "source": [
        "# **Graficando en R**"
      ]
    },
    {
      "cell_type": "markdown",
      "metadata": {
        "id": "ujaUPdAwmXVb"
      },
      "source": [
        "La librería más utilizada para graficar en R es ggplot, que entrega una gran cantidad de funcionalidades. Al igual que las otras librerías, hay que llamarla."
      ]
    },
    {
      "cell_type": "code",
      "metadata": {
        "id": "xtKUVHcMmrMS"
      },
      "source": [
        "library(ggplot2)"
      ],
      "execution_count": null,
      "outputs": []
    },
    {
      "cell_type": "code",
      "source": [
        "system(\"gdown https://drive.google.com/uc?id=1q089qSqKr7Ak29lUkzKSWjm2pcb_jzX0\")"
      ],
      "metadata": {
        "id": "-R_eqYBLICUt"
      },
      "execution_count": null,
      "outputs": []
    },
    {
      "cell_type": "code",
      "source": [
        "unzip(\"/content/matriculas_y_notas_anual.zip\")"
      ],
      "metadata": {
        "id": "Tvko1CFrI_xh"
      },
      "execution_count": null,
      "outputs": []
    },
    {
      "cell_type": "code",
      "source": [
        "rendim2020 <- fread(\"/content/content/Datos/20210223_Rendimiento_2020.csv\")"
      ],
      "metadata": {
        "id": "z_zAIloTJI1_"
      },
      "execution_count": null,
      "outputs": []
    },
    {
      "cell_type": "markdown",
      "metadata": {
        "id": "sMMtas7TnuK9"
      },
      "source": [
        "Para utilizar la librería, se sigue la siguiente sintaxis\n",
        "\n",
        "\n",
        "\n",
        "```\n",
        "# ggplot(data = <DATA>) + \n",
        "  <GEOM_FUNCTION>(\n",
        "     mapping = aes(<MAPPINGS>, <STATS>),\n",
        "     position = <POSITION>\n",
        "  ) +\n",
        "  <COORDINATE_FUNCTION> +\n",
        "  <FACET_FUNCTION>\n",
        "```\n",
        "\n",
        "Siguiendo paso a paso, observemos que en primer lugar uno debe cargar los datos en el gráfico, con lo que se genera un cuadro en blanco que va a ser la base con la que vamos a trabajar.\n",
        "\n"
      ]
    },
    {
      "cell_type": "code",
      "metadata": {
        "id": "sv_q7Nk1m-n8"
      },
      "source": [
        "ggplot(data = rendim2020)"
      ],
      "execution_count": null,
      "outputs": []
    },
    {
      "cell_type": "markdown",
      "metadata": {
        "id": "90dTHTUbpKHp"
      },
      "source": [
        "Para obtener información, uno debe decidir que tipo de gráfico quiere hacer, usualmente asociado al tipo de dato con el que quiere trabajar. Esos son los geomas y los más importantes son los siguientes:\n",
        "\n",
        "*   **geom_bar()**, nos entrega un gráfico de barras.\n",
        "*   **geom_point()**, observamos un gráfico de puntos.\n",
        "*   **geom_line()**, nos entrega un gráfico de lineas.\n",
        "*   **geom_boxplot()**, un gráfico de cajas.\n",
        "*   Entre otros.\n",
        "\n",
        "Una vez seleccionado el  tipo de gráfico que queremos ver, mapeamos la variable que nos interesa.\n",
        "\n"
      ]
    },
    {
      "cell_type": "code",
      "metadata": {
        "id": "zfoDqSLEm-_I"
      },
      "source": [
        "ggplot(data = rendim) + geom_bar( mapping = aes(x = GEN_ALU))"
      ],
      "execution_count": null,
      "outputs": []
    },
    {
      "cell_type": "markdown",
      "metadata": {
        "id": "CFJzc8pVuwHi"
      },
      "source": [
        "Como vemos, al seleccionar un gráfico de barras automaticamente obtengo la cantidad de alumnos que tiene cada variable. Pero, ¿Es necesariamente esta la forma en que queremos presentar esta variable?\n",
        "\n",
        "Ante la necesidad de decir más cosas con los gráficos, aparecen los estadísticos (stats). La modificación de estos, y su combinación con geomas, amplian nuestras opciones para graficar y visualizar la información de nuestra base de datos. Por ejemplo, podemos ver la proporción de cada sexo."
      ]
    },
    {
      "cell_type": "code",
      "metadata": {
        "id": "OPnGTk43m_MZ"
      },
      "source": [
        "ggplot(data = rendim) + geom_bar( mapping = aes(x = GEN_ALU, y = after_stat(prop)))"
      ],
      "execution_count": null,
      "outputs": []
    },
    {
      "cell_type": "markdown",
      "metadata": {
        "id": "I2OJtmwfxS2U"
      },
      "source": [
        "Parte importante del trabajo de gráficos, es que el sistema de coordenadas sea el correcto para poder hacer un análisis o presentar la información. para lograrlo, en ggplot agregamos la capa de funciones de coordenadas.\n",
        "\n",
        "Dentro de las opciones que tienen estas funciones está el elegir los límites de los ejes, invertir el eje x y el eje y, seleccionar coordenadas polares o hasta trabajar con mapas de acuerdo a latitud y longitud.\n",
        "\n",
        "\n"
      ]
    },
    {
      "cell_type": "code",
      "metadata": {
        "id": "TgIznmAkxTtY"
      },
      "source": [
        "ggplot(data = rendim2020) + geom_bar( mapping = aes(x = GEN_ALU, y = after_stat(prop), ))+\n",
        "  coord_cartesian(xlim = c(0.5, 2.5))  "
      ],
      "execution_count": null,
      "outputs": []
    },
    {
      "cell_type": "markdown",
      "metadata": {
        "id": "iJchrn36xUag"
      },
      "source": [
        "Una vez obtenido el gráfico, podemos buscar tener más información. Por ejemplo, ¿Cómo sería la distribución de genero por tipo de establecimiento?\n",
        "\n",
        "Ante la necesidad de agregar una nueva variable, tenemos tres alternativas para lograr mejores visualizaciones, los comandos de posición, las estéticas (aes) y las facetas.\n",
        "\n",
        "Los comandos de posición y las estéticas son formas de incluir más información dentro del mismo gráfico, cambiando los tamaños, colores y formas de los geomas. Por ejemplo, podemos ver la proporción de hombres y mujeres de acuerdo al tipo de establecimiento."
      ]
    },
    {
      "cell_type": "code",
      "metadata": {
        "id": "eSMVQbdOF3GV"
      },
      "source": [
        "rendim2020$COD_DEPE2 <- as.character(rendim2020$COD_DEPE2)"
      ],
      "execution_count": null,
      "outputs": []
    },
    {
      "cell_type": "code",
      "metadata": {
        "id": "iLNSIcPuNiKe"
      },
      "source": [
        "ggplot(data = rendim2020) + geom_bar( mapping = aes(x = GEN_ALU, fill = COD_DEPE2))+\n",
        "  coord_cartesian(xlim = c(0.5, 2.5)) "
      ],
      "execution_count": null,
      "outputs": []
    },
    {
      "cell_type": "code",
      "metadata": {
        "id": "fQokpYz1xU7E"
      },
      "source": [
        "ggplot(data = rendim2020) + geom_bar( mapping = aes(x = GEN_ALU, y = after_stat(prop), fill = COD_DEPE2))+\n",
        "  coord_cartesian(xlim = c(0.5, 2.5))  "
      ],
      "execution_count": null,
      "outputs": []
    },
    {
      "cell_type": "code",
      "metadata": {
        "id": "Sta4B7yFPNid"
      },
      "source": [
        "ggplot(data = rendim2020) + geom_bar( mapping = aes(x = GEN_ALU, y = after_stat(prop), fill = COD_DEPE2), position = \"dodge\")+\n",
        "  coord_cartesian(xlim = c(0.5, 2.5))  "
      ],
      "execution_count": null,
      "outputs": []
    },
    {
      "cell_type": "markdown",
      "metadata": {
        "id": "NUa8NkTgNs9w"
      },
      "source": [
        "Ahora, las facetas implican generar subgráficos que entregan la información fijada respecto a un valor Con ello, podemos comparar valores de acuerdo a una variable de control."
      ]
    },
    {
      "cell_type": "code",
      "metadata": {
        "id": "NAohKFEXG43A"
      },
      "source": [
        "ggplot(data = rendim2020) + geom_bar( mapping = aes(x = GEN_ALU, y = after_stat(prop), ))+\n",
        "  coord_cartesian(xlim = c(0.5, 2.5))  + facet_wrap(~ COD_DEPE2, nrow = 2)"
      ],
      "execution_count": null,
      "outputs": []
    },
    {
      "cell_type": "markdown",
      "source": [
        "## **Actividad grafica**\n",
        "\n",
        "Utilizando la base de datos unida en la actividad anterior, y realice 2 gráficos distintos que le permitan conocer de mejor forma la data con la que cuenta. El tema es libre, pero debe generar información que no pueda conseguir con solo una de las dos bases de datos."
      ],
      "metadata": {
        "id": "c-db_aXo31No"
      }
    },
    {
      "cell_type": "code",
      "source": [
        ""
      ],
      "metadata": {
        "id": "pH4Fimyd3sFx"
      },
      "execution_count": null,
      "outputs": []
    }
  ]
}