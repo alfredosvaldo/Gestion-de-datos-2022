{
  "nbformat": 4,
  "nbformat_minor": 0,
  "metadata": {
    "colab": {
      "name": "Taller 4 Gestión de datos 2022",
      "provenance": [],
      "collapsed_sections": [],
      "include_colab_link": true
    },
    "kernelspec": {
      "name": "ir",
      "display_name": "R"
    },
    "language_info": {
      "name": "R"
    }
  },
  "cells": [
    {
      "cell_type": "markdown",
      "metadata": {
        "id": "view-in-github",
        "colab_type": "text"
      },
      "source": [
        "<a href=\"https://colab.research.google.com/github/maxigaarp/Gestion-de-datos-2022/blob/main/Taller_4_Gesti%C3%B3n_de_datos_2022.ipynb\" target=\"_parent\"><img src=\"https://colab.research.google.com/assets/colab-badge.svg\" alt=\"Open In Colab\"/></a>"
      ]
    },
    {
      "cell_type": "code",
      "source": [
        "library(stringr)\n",
        "install.packages(\"RSQLite\")\n",
        "library(RSQLite)\n",
        "library(data.table)"
      ],
      "metadata": {
        "id": "roTRyzCjwhKz"
      },
      "execution_count": null,
      "outputs": []
    },
    {
      "cell_type": "markdown",
      "metadata": {
        "id": "LWc-odkAVHM4"
      },
      "source": [
        "# Vectorizacion\n",
        "\n",
        "Hay operaciones que, si las aplicamos a un vector, son aplicadas a todos sus elementos.\n",
        "\n"
      ]
    },
    {
      "cell_type": "code",
      "metadata": {
        "id": "yzQ5lSsEVG8I"
      },
      "source": [
        "mi_vector <- 1:10\n",
        "\n",
        "mi_vector"
      ],
      "execution_count": null,
      "outputs": []
    },
    {
      "cell_type": "code",
      "metadata": {
        "id": "stRKw8RHVeOW"
      },
      "source": [
        "mi_vector ^ 2"
      ],
      "execution_count": null,
      "outputs": []
    },
    {
      "cell_type": "markdown",
      "metadata": {
        "id": "dYFbuUTLVp8F"
      },
      "source": [
        "Esto es mucho mas facil y rapido que a aplicar el exponente a cada elemento del vector. \n",
        "\n",
        "Como todo lo que ocurre en R es una función, podemos decir que al vectorizar estamos aplicando una función a cada elemento de un vector. La familia de funciones apply nos permite implementar esto en estructuras de datos distintas a los vectores."
      ]
    },
    {
      "cell_type": "markdown",
      "metadata": {
        "id": "_AjKkGjwXZ9V"
      },
      "source": [
        "## Funciones\n",
        "\n",
        "\n",
        "Recordemos que en R podemos definir funciones, es decir\n",
        "area_cuad <- function(lado1, lado2) {\n",
        "  lado1 * lado2\n",
        "}"
      ]
    },
    {
      "cell_type": "code",
      "metadata": {
        "id": "Q1mhc2B6Zrwe"
      },
      "source": [
        "es_primo <-function(numero){\n",
        "  if(numero<2){\n",
        "    return(FALSE)\n",
        "  }\n",
        "  if(numero == 2){\n",
        "    return(TRUE)\n",
        "  }\n",
        "  for(i in 2:(numero-1)){\n",
        "    if(numero%%i == 0){\n",
        "      return(FALSE)\n",
        "    }\n",
        "  }\n",
        "  return(TRUE)\n",
        "}\n",
        "\n",
        "print(es_primo(123121))\n",
        "print(es_primo(123121231))"
      ],
      "execution_count": null,
      "outputs": []
    },
    {
      "cell_type": "code",
      "metadata": {
        "id": "sMCNv7w-azlQ"
      },
      "source": [
        "es_primo(2)"
      ],
      "execution_count": null,
      "outputs": []
    },
    {
      "cell_type": "markdown",
      "metadata": {
        "id": "ceSEVtz8qStO"
      },
      "source": [
        "Sin embargo, si queremos aplicar esta función a un vector o serie de elementos, empezamos a observar problemas"
      ]
    },
    {
      "cell_type": "code",
      "metadata": {
        "id": "upfhMFDpZtnZ"
      },
      "source": [
        "print(es_primo(mi_vector))"
      ],
      "execution_count": null,
      "outputs": []
    },
    {
      "cell_type": "code",
      "metadata": {
        "id": "FrVDntEPtF5V"
      },
      "source": [
        "for(c in mi_vector){\n",
        "  print(es_primo(c))\n",
        "}"
      ],
      "execution_count": null,
      "outputs": []
    },
    {
      "cell_type": "markdown",
      "metadata": {
        "id": "Dar0mJ9puL7G"
      },
      "source": [
        "El problema de esta solución es adaptarlo a data frames (consumo de memoria) y tiempo de ejecución. "
      ]
    },
    {
      "cell_type": "markdown",
      "metadata": {
        "id": "XwRJFqT1WUhp"
      },
      "source": [
        "## Apply\n",
        "Existen muchas funciones de la familia apply y todas tienen alguna aplicacion especifica, \n",
        " * apply()\n",
        " * eapply()\n",
        " * lapply()\n",
        " * mapply() \n",
        " * rapply()\n",
        " * sapply()\n",
        " * tapply()\n",
        " * vapply()\n",
        "\n",
        "Como caracteristica general, todas las funciones de esta familia tienen una característica en común: reciben como argumentos a un objeto y al menos una función.\n",
        "\n",
        "Veremos las principales que son apply y lapply\n"
      ]
    },
    {
      "cell_type": "markdown",
      "metadata": {
        "id": "3TG83s8YXYMG"
      },
      "source": [
        "Apply: es la función central de esta familia, lo que hace es aplicar funciones **vectoriales** sobre matrices (o data frames). \n",
        "\n",
        "Esta función se aplica sobre la matriz de la siguiente forma:\n",
        "\n",
        "apply(MATRIX, MARGIN, FUN)\n",
        "\n",
        "MATRIX en la que uno quiere aplicar la función, por ejemplo nuestra BBDD\n",
        "\n",
        "MARGIN es la dimensión en que uno quiere aplicar la función. Si el valor es 1 la función se aplica en cada fila, si el valor es 2, se aplica en cada columna. si el valor es c(1,2) se aplica en cada elemento, mientras que si el valor es c(2,1) se devuelve la matriz transpuesta. En los dos últimos casos se retorna siempre una matriz, no una bbdd.\n",
        "\n",
        "FUN es la función que uno determina.\n",
        "\n",
        "Es especialmente importante conocer bien la función y entender que va  a retornar apply."
      ]
    },
    {
      "cell_type": "code",
      "metadata": {
        "id": "5--mBsXL4OQB"
      },
      "source": [
        "apply(mi_vector, MARGIN = 1, FUN = es_primo)"
      ],
      "execution_count": null,
      "outputs": []
    },
    {
      "cell_type": "code",
      "metadata": {
        "id": "5mFhooYz4UQb"
      },
      "source": [
        "mi_matriz = matrix(mi_vector, nrow = 2)\n",
        "mi_matriz\n",
        "apply(mi_matriz, MARGIN = 2, FUN = es_primo)"
      ],
      "execution_count": null,
      "outputs": []
    },
    {
      "cell_type": "code",
      "metadata": {
        "id": "B4WGDFdT4Txa"
      },
      "source": [
        "mi_matriz = matrix(mi_vector, nrow = 2)\n",
        "mi_matriz\n",
        "apply(mi_matriz, MARGIN = 2, FUN = sum)"
      ],
      "execution_count": null,
      "outputs": []
    },
    {
      "cell_type": "code",
      "metadata": {
        "id": "EcQHGbKfVoqL"
      },
      "source": [
        "mi_matriz = matrix(mi_vector, nrow = 2)\n",
        "mi_matriz\n",
        "apply(mi_matriz, MARGIN = c(1,2), FUN = es_primo)"
      ],
      "execution_count": null,
      "outputs": []
    },
    {
      "cell_type": "code",
      "metadata": {
        "id": "SBUNq-0r4fbw"
      },
      "source": [
        "mi_matriz = matrix(mi_vector, nrow = 2)\n",
        "mi_matriz\n",
        "apply(mi_matriz, MARGIN = c(2,1), FUN = es_primo)"
      ],
      "execution_count": null,
      "outputs": []
    },
    {
      "cell_type": "markdown",
      "metadata": {
        "id": "ZX8cRSP_4nbX"
      },
      "source": [
        "Por otra parte, lapply es un caso especial de apply, diseñado para aplicar funciones a todos los elementos de una lista, retornando una lista.\n",
        "\n",
        "lapply(LIST, FUN)\n",
        "\n",
        "LIST es la lista que entregamos\n",
        "\n",
        "FUN es nuestra función\n",
        "\n",
        "Siempre retorna una lista\n",
        "\n"
      ]
    },
    {
      "cell_type": "code",
      "metadata": {
        "id": "ZKxQJtKO7Z3n"
      },
      "source": [
        "lapply(mi_vector, es_primo)"
      ],
      "execution_count": null,
      "outputs": []
    },
    {
      "cell_type": "markdown",
      "metadata": {
        "id": "wL0k3sL6IHeR"
      },
      "source": [
        "Uno puede crear funciones sabiendo con que tipo de elementos va a trabajar, y apply() permite resolver los problemas de forma muy eficiente."
      ]
    },
    {
      "cell_type": "code",
      "metadata": {
        "id": "n2JSCzlT7ru9"
      },
      "source": [
        "suma_es_primo <-function(x){\n",
        "  numero <- sum(x)\n",
        "  if(numero<2){\n",
        "    return(FALSE)\n",
        "  }\n",
        "  if(numero == 2){\n",
        "    return(TRUE)\n",
        "  }\n",
        "  for(i in 2:(numero-1)){\n",
        "    if(numero%%i == 0){\n",
        "      return(FALSE)\n",
        "    }\n",
        "  }\n",
        "  return(TRUE)\n",
        "}\n"
      ],
      "execution_count": null,
      "outputs": []
    },
    {
      "cell_type": "code",
      "metadata": {
        "id": "Wbxv1i568Lb_"
      },
      "source": [
        "mi_matriz = matrix(mi_vector, nrow = 5)\n",
        "mi_matriz\n",
        "apply(mi_matriz,MARGIN = 1, FUN = suma_es_primo)"
      ],
      "execution_count": null,
      "outputs": []
    },
    {
      "cell_type": "code",
      "metadata": {
        "id": "K8azEH4l8LDx"
      },
      "source": [
        ""
      ],
      "execution_count": null,
      "outputs": []
    },
    {
      "cell_type": "markdown",
      "metadata": {
        "id": "44J1KbhXGFz2"
      },
      "source": [
        ""
      ]
    },
    {
      "cell_type": "code",
      "metadata": {
        "id": "w0F8wa0XGFQk"
      },
      "source": [
        ""
      ],
      "execution_count": null,
      "outputs": []
    },
    {
      "cell_type": "code",
      "source": [
        ""
      ],
      "metadata": {
        "id": "1m7NYXkmbhsh"
      },
      "execution_count": null,
      "outputs": []
    },
    {
      "cell_type": "code",
      "source": [
        ""
      ],
      "metadata": {
        "id": "iiwbzjv_pUih"
      },
      "execution_count": null,
      "outputs": []
    },
    {
      "cell_type": "markdown",
      "metadata": {
        "id": "CkFGgvOTAR_0"
      },
      "source": [
        "# Ajustar Base de datos\n",
        "\n",
        "Ir a https://www.cr2.cl/datos-de-precipitacion/?cp_Precipitacion=2\n",
        "\n",
        "Descargar datos del 2019"
      ]
    },
    {
      "cell_type": "code",
      "metadata": {
        "id": "3sAhBvF1PM5G"
      },
      "source": [
        "library(tidyverse)"
      ],
      "execution_count": null,
      "outputs": []
    },
    {
      "cell_type": "code",
      "metadata": {
        "id": "-MZrldO37ccy"
      },
      "source": [
        "unzip(\"/content/cr2_prAmon_2019.zip\")"
      ],
      "execution_count": null,
      "outputs": []
    },
    {
      "cell_type": "code",
      "metadata": {
        "id": "X10sOTMU7ls-"
      },
      "source": [
        "x <- read.csv(\"/content/cr2_prAmon_2019/cr2_prAmon_2019.txt\", na = \"-9999\", header =F)\n"
      ],
      "execution_count": null,
      "outputs": []
    },
    {
      "cell_type": "code",
      "metadata": {
        "id": "OqstQi7tC458"
      },
      "source": [
        "x"
      ],
      "execution_count": null,
      "outputs": []
    },
    {
      "cell_type": "code",
      "metadata": {
        "id": "4lkHlNtRAm_l"
      },
      "source": [
        "y <- setNames(as.data.frame(t(x[,-1])),as.character(x[,1]))\n",
        "\n",
        "y[,1:20]"
      ],
      "execution_count": null,
      "outputs": []
    },
    {
      "cell_type": "code",
      "metadata": {
        "id": "MHiimzLhSJbI"
      },
      "source": [
        "y"
      ],
      "execution_count": null,
      "outputs": []
    },
    {
      "cell_type": "code",
      "metadata": {
        "id": "JvXCaRAlBQdC"
      },
      "source": [
        "y10 <- y %>% select(c(1,6,7,tail(names(y), 12*10)))\n",
        "y10\n"
      ],
      "execution_count": null,
      "outputs": []
    },
    {
      "cell_type": "code",
      "metadata": {
        "id": "38UZ2Ua1LBZ0"
      },
      "source": [
        "plot(1:120,y[\"V878\",tail(names(y), 12*10)])\n",
        "lines(1:120,y[\"V878\",tail(names(y), 12*10)])"
      ],
      "execution_count": null,
      "outputs": []
    },
    {
      "cell_type": "code",
      "metadata": {
        "id": "dy0oDPmHArAj"
      },
      "source": [
        "y10 %>%\n",
        "  mutate(count = rowSums(is.na(y10)))%>%\n",
        "  filter(count<5)\n"
      ],
      "execution_count": null,
      "outputs": []
    },
    {
      "cell_type": "code",
      "metadata": {
        "id": "bgrjKvC1MYIT"
      },
      "source": [
        "plot(1:120,y[\"V6\",tail(names(y), 12*10)])\n",
        "lines(1:120,y[\"V6\",tail(names(y), 12*10)])"
      ],
      "execution_count": null,
      "outputs": []
    },
    {
      "cell_type": "code",
      "source": [
        "y10"
      ],
      "metadata": {
        "id": "TvlxlTKHqPUr"
      },
      "execution_count": null,
      "outputs": []
    },
    {
      "cell_type": "code",
      "metadata": {
        "id": "uxrsGit3EJsR"
      },
      "source": [
        "y10_pivot <- data.frame(apply(y10, 2, function(x) as.numeric(as.character(x)))) %>%\n",
        "        pivot_longer(cols = X2010.01:X2019.12,\n",
        "        names_to = c(\"Año\", \"Mes\"),\n",
        "        names_pattern = \"X(....).(..)\")\n",
        "\n",
        "y10_pivot"
      ],
      "execution_count": null,
      "outputs": []
    },
    {
      "cell_type": "code",
      "metadata": {
        "id": "t3Lf2rIkMlBi"
      },
      "source": [
        "y10_pivot %>% filter(codigo_estacion==1201010)%>%\n",
        "              group_by(Mes)%>%\n",
        "              summarise(pp_aprox=mean(value, na.rm=T))%>%\n",
        "              ggplot() + geom_line(aes(x=Mes, y=pp_aprox, group = 1))\n",
        "\n"
      ],
      "execution_count": null,
      "outputs": []
    },
    {
      "cell_type": "markdown",
      "metadata": {
        "id": "h72674MaWuC7"
      },
      "source": [
        "Actividad:\n",
        "\n",
        " * Elija una posicion geografica que sea de su interes (para eso vaya a google maps busque un lugar y luego le extrae la latitud y longitud). Busque las 5 estaciones más cercanas a ese punto y calcule la interpolacion (inversa) en el punto para los 12 años de historia."
      ]
    },
    {
      "cell_type": "code",
      "metadata": {
        "id": "Wjjm0zkoWtIH"
      },
      "source": [
        ""
      ],
      "execution_count": null,
      "outputs": []
    },
    {
      "cell_type": "markdown",
      "metadata": {
        "id": "u63A2Od9SvqM"
      },
      "source": [
        ""
      ]
    },
    {
      "cell_type": "markdown",
      "source": [
        "# Cargar datos a SQL"
      ],
      "metadata": {
        "id": "fvlTMXcVq25I"
      }
    },
    {
      "cell_type": "code",
      "source": [
        "system(\"gdown --id 1-q1ydcu6afA3LQ9uxlh9J9B9kvEJvrRs\")\n",
        "unzip(\"/content/DatosProyecto.zip\")"
      ],
      "metadata": {
        "id": "HKz1OwWrq7LY"
      },
      "execution_count": null,
      "outputs": []
    },
    {
      "cell_type": "code",
      "source": [
        "conn <- dbConnect(RSQLite::SQLite(), \"mineduc.db\")"
      ],
      "metadata": {
        "id": "a90KMLDzq9A7"
      },
      "execution_count": null,
      "outputs": []
    },
    {
      "cell_type": "code",
      "source": [
        "lista <- list.files(\"/content/content/drive/MyDrive/Gestion de Datos/Datos Proyecto/Datos asistencia\")\n",
        "directorio <- \"/content/content/drive/MyDrive/Gestion de Datos/Datos Proyecto/Datos asistencia/\"\n",
        "\n",
        "for (name in lista){\n",
        "  if (str_detect(name, \".rar\")){\n",
        "    foldername<-substr(name, 1, nchar(name)-4)\n",
        "    system(paste(\"mkdir 'Asistencia/\",foldername,\"'\",sep=\"\"))\n",
        "    system(paste(\"unrar x '\",directorio,name,\"' 'Asistencia/\",substr(name, 1, nchar(name)-4),\"/'\", sep=\"\"),intern = T)\n",
        "  }\n",
        "  else {\n",
        "    unzip(paste(directorio,name,sep=\"\"), exdir=\"Asistencia\")\n",
        "  }\n",
        "}\n"
      ],
      "metadata": {
        "id": "eLG6Zfd3rJRp"
      },
      "execution_count": null,
      "outputs": []
    },
    {
      "cell_type": "code",
      "source": [
        "lista_de_csvs <- list.files(\"Asistencia\",pattern = \".(CSV|csv)$\", recursive = TRUE)"
      ],
      "metadata": {
        "id": "wTa5-n2arJOC"
      },
      "execution_count": null,
      "outputs": []
    },
    {
      "cell_type": "code",
      "source": [
        "lista_de_csvs"
      ],
      "metadata": {
        "id": "wCWHgGrcrJLI"
      },
      "execution_count": null,
      "outputs": []
    },
    {
      "cell_type": "code",
      "source": [
        "aux1 <- NULL\n",
        "cont <- 1\n",
        "cod_ense1_ense2 <- fread(paste0(\"/content/Asistencia/\",lista_de_csvs[1]))%>% select(COD_ENSE,COD_ENSE2)%>% unique"
      ],
      "metadata": {
        "id": "bM0A-QWkzvZs"
      },
      "execution_count": null,
      "outputs": []
    },
    {
      "cell_type": "code",
      "source": [
        "\n",
        "for (i in lista_de_csvs) {\n",
        "  if (grepl(\"_2015_\",i)){\n",
        " aux1 =\n",
        "fread(paste0(\"/content/Asistencia/\",i)) %>%\n",
        "left_join(cod_ense1_ense2, by = \"COD_ENSE\") %>%\n",
        "select(AGNO, MES_ESCOLAR, RBD, RURAL_RBD, COD_DEPE, COD_DEPE2, COD_ENSE2, COD_ENSE, COD_GRADO, MRUN,\n",
        "GEN_ALU, FEC_NAC_ALU, DIAS_ASISTIDOS, DIAS_TRABAJADOS, ASIS_PROMEDIO)%>% mutate(EDAD = AGNO-(FEC_NAC_ALU%/%100))\n",
        "\n",
        "  apnd=if (i==lista_de_csvs[1]) FALSE else TRUE\n",
        "\n",
        "  dbWriteTable(conn , name = \"Asistencia_MRUN_RBD\", \n",
        "                  value = aux1,\n",
        "                  row.names = FALSE, header = !apnd, sep=',',append=apnd,\n",
        "                  colClasses='character')\n",
        "                  aux1 = NULL\n",
        "  }\n",
        "   if (!grepl(\"_2015_\",i)){\n",
        " aux1 =\n",
        "fread(paste0(\"/content/Asistencia/\",i)) %>%\n",
        "select(AGNO, MES_ESCOLAR, RBD, RURAL_RBD, COD_DEPE, COD_DEPE2, COD_ENSE2, COD_ENSE, COD_GRADO, MRUN,\n",
        "GEN_ALU, FEC_NAC_ALU, DIAS_ASISTIDOS, DIAS_TRABAJADOS, ASIS_PROMEDIO)%>% mutate(EDAD = AGNO-(FEC_NAC_ALU%/%100))\n",
        "\n",
        "apnd=if (i==lista_de_csvs[1]) FALSE else TRUE\n",
        "\n",
        "  dbWriteTable(conn , name = \"Asistencia_MRUN_RBD\", \n",
        "                  value = aux1,\n",
        "                  row.names = FALSE, header = !apnd, sep=',',append=apnd,\n",
        "                  colClasses='character')\n",
        "                  aux1 = NULL\n",
        "\n",
        "  }\n",
        "\n",
        "  print(2)\n",
        "\n",
        "\n",
        "}"
      ],
      "metadata": {
        "id": "lm2qOl45rJHs"
      },
      "execution_count": null,
      "outputs": []
    },
    {
      "cell_type": "code",
      "source": [
        "dbGetQuery(conn, 'SELECT * FROM Asistencia_MRUN_RBD LIMIT 5')"
      ],
      "metadata": {
        "id": "dQMYCd8JrJED"
      },
      "execution_count": null,
      "outputs": []
    },
    {
      "cell_type": "code",
      "source": [
        "dbGetQuery(conn, 'SELECT count(MRUN) FROM Asistencia_MRUN_RBD \n",
        "                  Group by AGNO')"
      ],
      "metadata": {
        "id": "_gC9kHl5ORSu"
      },
      "execution_count": null,
      "outputs": []
    },
    {
      "cell_type": "code",
      "source": [
        ""
      ],
      "metadata": {
        "id": "kGPBhKs2RJWm"
      },
      "execution_count": null,
      "outputs": []
    }
  ]
}