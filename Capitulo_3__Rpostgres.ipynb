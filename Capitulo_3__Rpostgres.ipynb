{
  "nbformat": 4,
  "nbformat_minor": 0,
  "metadata": {
    "colab": {
      "name": "Rpostgres.ipynb",
      "provenance": [],
      "toc_visible": true,
      "authorship_tag": "ABX9TyOUncdBuFTJjj7hXOIp0xFY",
      "include_colab_link": true
    },
    "kernelspec": {
      "display_name": "R",
      "name": "ir"
    },
    "language_info": {
      "name": "R"
    }
  },
  "cells": [
    {
      "cell_type": "markdown",
      "metadata": {
        "id": "view-in-github",
        "colab_type": "text"
      },
      "source": [
        "<a href=\"https://colab.research.google.com/github/maxigaarp/Gestion-de-datos-2022/blob/main/Rpostgres.ipynb\" target=\"_parent\"><img src=\"https://colab.research.google.com/assets/colab-badge.svg\" alt=\"Open In Colab\"/></a>"
      ]
    },
    {
      "cell_type": "markdown",
      "source": [
        "#Rpostgres setup"
      ],
      "metadata": {
        "id": "9k1dW7qhdvUB"
      }
    },
    {
      "cell_type": "markdown",
      "source": [
        "Para iniciar el servidor virtual, instalar la base de datos postgres, y descargar los datos e importarlos, debe correr los siguientes bloques."
      ],
      "metadata": {
        "id": "96y54yhmajwh"
      }
    },
    {
      "cell_type": "code",
      "source": [
        "install.packages(\"RPostgres\")"
      ],
      "metadata": {
        "id": "tXk_CEq2OsgW"
      },
      "execution_count": null,
      "outputs": []
    },
    {
      "cell_type": "code",
      "metadata": {
        "id": "uJ-JzpFoOerL"
      },
      "source": [
        "library(\"DBI\")\n",
        "library(\"RPostgres\")\n"
      ],
      "execution_count": null,
      "outputs": []
    },
    {
      "cell_type": "code",
      "source": [
        "system(\"sudo apt install postgresql postgresql-contrib &>log\", intern=T)"
      ],
      "metadata": {
        "id": "KMuv8G64d9TN"
      },
      "execution_count": null,
      "outputs": []
    },
    {
      "cell_type": "code",
      "source": [
        "system(\"service postgresql start\", intern = T)"
      ],
      "metadata": {
        "id": "PKGMZFtXb9sq"
      },
      "execution_count": null,
      "outputs": []
    },
    {
      "cell_type": "code",
      "source": [
        "system(\"sudo -u postgres psql -c \\\"CREATE USER root WITH SUPERUSER\\\"\", intern=T)\n"
      ],
      "metadata": {
        "id": "8PS1iorvVFE7"
      },
      "execution_count": null,
      "outputs": []
    },
    {
      "cell_type": "code",
      "source": [
        "system(\"sudo -u postgres createdb clase\", intern=T)"
      ],
      "metadata": {
        "id": "qAsVLTIcfQ3M"
      },
      "execution_count": null,
      "outputs": []
    },
    {
      "cell_type": "code",
      "source": [
        "system(\"wget -cO - https://drive.google.com/uc\\\\?export\\\\=download\\\\&id\\\\=1g7UsolqIt5CatIUiWKQNiQ4sT6zsCZnk > /content/guia2.sql\")"
      ],
      "metadata": {
        "id": "oiVchtpZk8Uq"
      },
      "execution_count": null,
      "outputs": []
    },
    {
      "cell_type": "code",
      "source": [
        "system(\"sudo -u postgres psql clase < /content/guia2.sql\", intern=T)"
      ],
      "metadata": {
        "id": "wpry3WBElN5x"
      },
      "execution_count": null,
      "outputs": []
    },
    {
      "cell_type": "markdown",
      "source": [
        "\n",
        "Se presentan los datos de películas extraídos de IMDb. El esquema de los datos es el siguiente:\n",
        "\n",
        "* $\\color{green}{\\textbf{pelicula}}(\\color{blue}{\\underline{\\text{nombre}}}, \\color{blue}{\\underline{\\text{anho}}}, \\color{blue}{\\text{calificacion}})$ \n",
        "* $\\color{green}{\\textbf{actor}}(\\color{blue}{\\underline{\\text{nombre}}}, \\color{blue}{\\text{genero}})$\n",
        "* $\\color{green}{\\textbf{personaje}}(\\color{blue}{\\underline{\\text{p_nombre}}}, \\color{blue}{\\underline{\\text{p_anho}}},  \\color{blue}{\\underline{\\text{a_nombre}}}, \\color{blue}{\\underline{\\text{personaje}}})$\n",
        "\n",
        "La tabla $\\color{green}{\\textbf{personaje}}$ usa llaves foráneas que hacen referencia a las tablas de $\\color{green}{\\textbf{actor}}(\\color{blue}{\\underline{\\text{a_nombre}}})$ y $\\color{green}{\\textbf{pelicula}}(\\color{blue}{\\underline{\\text{p_nombre}}}, \\color{blue}{\\underline{\\text{p_anho}}})$.\n",
        "\n"
      ],
      "metadata": {
        "id": "odcLd1EGYip5"
      }
    },
    {
      "cell_type": "markdown",
      "source": [
        "# Connect"
      ],
      "metadata": {
        "id": "ixeK2ciOZjLo"
      }
    },
    {
      "cell_type": "code",
      "source": [
        "con <- dbConnect(RPostgres::Postgres(),dbname = 'clase', user=\"root\", password = 'PASSWORD', options=\"-c search_path=guia\")\n"
      ],
      "metadata": {
        "id": "Hk1mwREsd5Lz"
      },
      "execution_count": null,
      "outputs": []
    },
    {
      "cell_type": "code",
      "source": [
        "con"
      ],
      "metadata": {
        "id": "5bkWLJPfZxHD"
      },
      "execution_count": null,
      "outputs": []
    },
    {
      "cell_type": "code",
      "source": [
        "dbDisconnect(con)"
      ],
      "metadata": {
        "id": "5-YWyZthZoSO"
      },
      "execution_count": null,
      "outputs": []
    },
    {
      "cell_type": "code",
      "source": [
        "con"
      ],
      "metadata": {
        "id": "w8dCPFS-ZrXa"
      },
      "execution_count": null,
      "outputs": []
    },
    {
      "cell_type": "code",
      "source": [
        "dbListTables(con) #lista de tablas"
      ],
      "metadata": {
        "id": "11KlNFhmiNak"
      },
      "execution_count": null,
      "outputs": []
    },
    {
      "cell_type": "code",
      "source": [
        "dbListFields(con, \"personaje\")"
      ],
      "metadata": {
        "id": "7eg-kgrIZ15D"
      },
      "execution_count": null,
      "outputs": []
    },
    {
      "cell_type": "code",
      "source": [
        "dbReadTable(con, \"pelicula\")"
      ],
      "metadata": {
        "id": "9obqlcNLaHzW"
      },
      "execution_count": null,
      "outputs": []
    },
    {
      "cell_type": "markdown",
      "metadata": {
        "id": "ydn64zTV5o9m"
      },
      "source": [
        "Ejecute la siguiente consulta para probar que todo ande bien:"
      ]
    },
    {
      "cell_type": "code",
      "source": [
        "head(dbReadTable(con, \"actor\"))"
      ],
      "metadata": {
        "id": "B34iQQ7FCpP6"
      },
      "execution_count": null,
      "outputs": []
    },
    {
      "cell_type": "markdown",
      "source": [
        "# Cargar base de datos a Rpostgre"
      ],
      "metadata": {
        "id": "1Tt-xVrNa16b"
      }
    },
    {
      "cell_type": "markdown",
      "source": [
        "Creemos nueva conexión a una base de datos limpia."
      ],
      "metadata": {
        "id": "A_Mu58aVbGmP"
      }
    },
    {
      "cell_type": "code",
      "source": [
        "system(\"sudo -u postgres createdb EjemploCarga\", intern=T)"
      ],
      "metadata": {
        "id": "PI8ooHaXbS-U"
      },
      "execution_count": null,
      "outputs": []
    },
    {
      "cell_type": "code",
      "source": [
        "con2 <- dbConnect(RPostgres::Postgres(),dbname = 'EjemploCarga', user=\"root\", password = 'PASSWORD')\n"
      ],
      "metadata": {
        "id": "U-upmUFjbedY"
      },
      "execution_count": null,
      "outputs": []
    },
    {
      "cell_type": "code",
      "source": [
        "dbListTables(con2)"
      ],
      "metadata": {
        "id": "4teX2i-Scckx"
      },
      "execution_count": null,
      "outputs": []
    },
    {
      "cell_type": "code",
      "source": [
        "con2"
      ],
      "metadata": {
        "id": "JmQXN7uqcErW"
      },
      "execution_count": null,
      "outputs": []
    },
    {
      "cell_type": "code",
      "source": [
        "mtcars"
      ],
      "metadata": {
        "id": "U3V26fU9cSTe"
      },
      "execution_count": null,
      "outputs": []
    },
    {
      "cell_type": "code",
      "source": [
        "dbWriteTable(con2, \"cars\", mtcars)"
      ],
      "metadata": {
        "id": "_1MeAczkcHOu"
      },
      "execution_count": null,
      "outputs": []
    },
    {
      "cell_type": "markdown",
      "source": [
        "#Consultas"
      ],
      "metadata": {
        "id": "9ogxCL56gyp3"
      }
    },
    {
      "cell_type": "code",
      "source": [
        "mtcars"
      ],
      "metadata": {
        "id": "W1b8SNbKfsqO"
      },
      "execution_count": null,
      "outputs": []
    },
    {
      "cell_type": "code",
      "source": [
        "mtcars$name=rownames(mtcars)"
      ],
      "metadata": {
        "id": "-1mixzT-e4oD"
      },
      "execution_count": null,
      "outputs": []
    },
    {
      "cell_type": "code",
      "source": [
        "rownames(mtcars) <- 1:nrow(mtcars)\n"
      ],
      "metadata": {
        "id": "VLMNf2W9gST_"
      },
      "execution_count": null,
      "outputs": []
    },
    {
      "cell_type": "code",
      "source": [
        "mtcars"
      ],
      "metadata": {
        "id": "WJBKM3qvgSKc"
      },
      "execution_count": null,
      "outputs": []
    },
    {
      "cell_type": "code",
      "source": [
        "dbExecute(con2, \"DROP TABLE cars\")"
      ],
      "metadata": {
        "id": "2vhJtFe6g5hy"
      },
      "execution_count": null,
      "outputs": []
    },
    {
      "cell_type": "code",
      "source": [
        "dbListTables(con2)"
      ],
      "metadata": {
        "id": "IWwj1FdgcmXQ"
      },
      "execution_count": null,
      "outputs": []
    },
    {
      "cell_type": "code",
      "source": [
        "dbWriteTable(con2, \"cars\", mtcars)"
      ],
      "metadata": {
        "id": "OFP5zs42gijc"
      },
      "execution_count": null,
      "outputs": []
    },
    {
      "cell_type": "code",
      "source": [
        "dbReadTable(con2,\"cars\")"
      ],
      "metadata": {
        "id": "S58g_DUvd7Qj"
      },
      "execution_count": null,
      "outputs": []
    },
    {
      "cell_type": "code",
      "source": [
        "dbGetQuery(con2, \"select * from cars where cyl=6;\")"
      ],
      "metadata": {
        "id": "ZqH2_auNeBhe"
      },
      "execution_count": null,
      "outputs": []
    },
    {
      "cell_type": "code",
      "source": [
        "dbAppendTable(con2, \"cars\", mtcars)"
      ],
      "metadata": {
        "id": "mSx_2skoj9yC"
      },
      "execution_count": null,
      "outputs": []
    },
    {
      "cell_type": "code",
      "source": [
        "dbReadTable(con2, \"cars\")"
      ],
      "metadata": {
        "id": "JP1I8r_9kKe9"
      },
      "execution_count": null,
      "outputs": []
    },
    {
      "cell_type": "code",
      "source": [
        "\n",
        "dbGetQuery(con2, \"SELECT * FROM information_schema.columns WHERE TABLE_NAME = 'cars';\")"
      ],
      "metadata": {
        "id": "FRmZsiATGmrz"
      },
      "execution_count": null,
      "outputs": []
    },
    {
      "cell_type": "markdown",
      "source": [
        "---\n",
        "Volvamos a base de datos de imdb"
      ],
      "metadata": {
        "id": "9YDQPFIQjkin"
      }
    },
    {
      "cell_type": "code",
      "metadata": {
        "id": "YswMeCEv2NKP"
      },
      "source": [
        "dbGetQuery(con,\"SELECT * FROM pelicula;\")"
      ],
      "execution_count": null,
      "outputs": []
    },
    {
      "cell_type": "code",
      "source": [
        "dbSendQuery(con, \"select  * from actor\")"
      ],
      "metadata": {
        "id": "ZbJ1TJxuGB-M"
      },
      "execution_count": null,
      "outputs": []
    },
    {
      "cell_type": "code",
      "source": [
        ""
      ],
      "metadata": {
        "id": "djqfaUUkrdDv"
      },
      "execution_count": null,
      "outputs": []
    },
    {
      "cell_type": "markdown",
      "metadata": {
        "id": "3jebBz5VWWPr"
      },
      "source": [
        "\n",
        "## Pregunta 1\n",
        "Las películas de los 80s, ordenadas por calificación de mayor a menor."
      ]
    },
    {
      "cell_type": "code",
      "metadata": {
        "id": "-dmw_2es6Lq-"
      },
      "source": [
        "dbGetQuery(con, \n",
        "\"SELECT * FROM pelicula\n",
        "WHERE anho BETWEEN 1980 AND 1989\n",
        "ORDER BY calificacion DESC;\")\n"
      ],
      "execution_count": null,
      "outputs": []
    },
    {
      "cell_type": "markdown",
      "metadata": {
        "id": "bXx5ydBH6LDW"
      },
      "source": [
        "## Pregunta 2\n",
        "Los nombres de los personajes que ha interpretado su actriz/actor favorito en los datos, ordenados por año."
      ]
    },
    {
      "cell_type": "code",
      "metadata": {
        "id": "i7eXykyM6e7b"
      },
      "source": [
        ""
      ],
      "execution_count": null,
      "outputs": []
    },
    {
      "cell_type": "markdown",
      "metadata": {
        "id": "VBzPnV1u7MKd"
      },
      "source": [
        "## Pregunta 3\n",
        "Las películas en las que participó su actriz/actor favorito en los datos, ordenadas por calificación de mayor a menor."
      ]
    },
    {
      "cell_type": "code",
      "metadata": {
        "id": "A_NE2bZC7Mcj"
      },
      "source": [
        "dbGetQuery(con, \n",
        "\"SELECT p_nombre, p_anho, calificacion\n",
        "FROM pelicula P, personaje J\n",
        "WHERE P.nombre = p_nombre\n",
        "  AND P.anho = p_anho\n",
        "  AND a_nombre='Waltz, Christoph'\n",
        "  ORDER BY P.calificacion DESC;\")"
      ],
      "execution_count": null,
      "outputs": []
    },
    {
      "cell_type": "markdown",
      "metadata": {
        "id": "AHqOm3zw6fR2"
      },
      "source": [
        "## Pregunta 4\n",
        "Los nombres de los personajes interpretados por mujeres, en películas de los 90s, con calificación mayor a 8,7."
      ]
    },
    {
      "cell_type": "code",
      "metadata": {
        "id": "VXaANhCX6foK"
      },
      "source": [
        "dbGetQuery(con, \n",
        "\"SELECT personaje\n",
        "FROM pelicula P, actor A, personaje J\n",
        "WHERE a_nombre=A.nombre\n",
        "  AND P.nombre = p_nombre\n",
        "  AND P.anho = p_anho\n",
        "  AND p_anho > 1990 AND p_anho < 2000\n",
        "  AND P.calificacion > 8.7\n",
        "  AND A.genero = 'F';\")"
      ],
      "execution_count": null,
      "outputs": []
    },
    {
      "cell_type": "markdown",
      "metadata": {
        "id": "tXZVP8PZ6gF4"
      },
      "source": [
        "## Pregunta 5\n",
        "Las películas de la saga \"The Lord of The Rings\" (usando el prefijo de su nombre) ordenadas por calificación y por año."
      ]
    },
    {
      "cell_type": "code",
      "metadata": {
        "id": "0OssDcFm6gYJ"
      },
      "source": [
        "dbGetQuery(con, \n",
        "\"SELECT * FROM pelicula\n",
        "WHERE nombre LIKE 'The Lord of the Rings%'\n",
        "ORDER BY calificacion, anho;\")\""
      ],
      "execution_count": null,
      "outputs": []
    },
    {
      "cell_type": "markdown",
      "metadata": {
        "id": "Nw-zj04q6glX"
      },
      "source": [
        "## Pregunta 6\n",
        "Los nombres de los actores que interpretan más de un personaje en la misma película."
      ]
    },
    {
      "cell_type": "code",
      "metadata": {
        "id": "WRWEHceB6g7h"
      },
      "source": [
        ""
      ],
      "execution_count": null,
      "outputs": []
    },
    {
      "cell_type": "markdown",
      "metadata": {
        "id": "S_ENc-C36iNZ"
      },
      "source": [
        "## Pregunta 7\n",
        "Las películas en que actúan juntos Uma Thurman y Samuel L. Jackson."
      ]
    },
    {
      "cell_type": "code",
      "metadata": {
        "id": "myoT76rT6igC"
      },
      "source": [
        "dbGetQuery(con, \n",
        "\"SELECT p_nombre, p_anho FROM personaje\n",
        "WHERE a_nombre='Thurman, Uma'\n",
        "INTERSECT\n",
        "SELECT p_nombre, p_anho FROM personaje\n",
        "WHERE a_nombre='Jackson, Samuel L.';\")"
      ],
      "execution_count": null,
      "outputs": []
    },
    {
      "cell_type": "markdown",
      "metadata": {
        "id": "I1Y2G_UC6i69"
      },
      "source": [
        "## Pregunta 8\n",
        "Las películas en que actúa Uma Thurman y **no** Samuel L. Jackson."
      ]
    },
    {
      "cell_type": "code",
      "metadata": {
        "id": "Lmi0vKF-6jPr"
      },
      "source": [
        ""
      ],
      "execution_count": null,
      "outputs": []
    },
    {
      "cell_type": "markdown",
      "metadata": {
        "id": "xPxloTWK6kOb"
      },
      "source": [
        "## Pregunta 9\n",
        "La película con calificación más alta."
      ]
    },
    {
      "cell_type": "code",
      "metadata": {
        "id": "Xuvi8hCO6kpU"
      },
      "source": [
        ""
      ],
      "execution_count": null,
      "outputs": []
    },
    {
      "cell_type": "markdown",
      "source": [
        "# Consultas por lotes "
      ],
      "metadata": {
        "id": "_7vsDngzvB6F"
      }
    },
    {
      "cell_type": "markdown",
      "metadata": {
        "id": "v1dev-7A6jpV"
      },
      "source": [
        "## Pregunta 10\n",
        "\n",
        "Los pares de actores que aparecen juntos en más de una película. Cada par debe aparecer una sola vez, es decir, si $(A,B)$ aparece, no debe aparecer $(B,A)$, pues es el mismo par. Tampoco se deben incluir pares de la forma $(A,A)$."
      ]
    },
    {
      "cell_type": "code",
      "metadata": {
        "id": "4qPtyZBU6j7z"
      },
      "source": [
        "query <- dbSendQuery(con, \n",
        "\"SELECT DISTINCT p1.a_nombre,p2.a_nombre\n",
        "FROM personaje p1,personaje p2,personaje p3,personaje p4\n",
        "WHERE p1.p_nombre = p2.p_nombre\n",
        "  AND p1.p_anho = p2.p_anho\n",
        "  AND p1.a_nombre < p2.a_nombre\n",
        "  AND p3.p_nombre = p4.p_nombre\n",
        "  AND p3.p_anho = p4.p_anho\n",
        "  AND p1.a_nombre = p3.a_nombre\n",
        "  AND p2.a_nombre = p4.a_nombre\n",
        "  AND p1.p_nombre <> p3.p_nombre\n",
        "  AND p1.p_anho <> p3.p_anho;\")"
      ],
      "execution_count": null,
      "outputs": []
    },
    {
      "cell_type": "code",
      "source": [
        "dbFetch(query, 10)"
      ],
      "metadata": {
        "id": "SnV0orOTv8JP"
      },
      "execution_count": null,
      "outputs": []
    },
    {
      "cell_type": "code",
      "source": [
        "dbFetch(query, 10)"
      ],
      "metadata": {
        "id": "I1OdukLowCDO"
      },
      "execution_count": null,
      "outputs": []
    },
    {
      "cell_type": "code",
      "source": [
        "while (!dbHasCompleted(query)) {\n",
        "  df <- dbFetch(query, n = 500)\n",
        "  print(nrow(df))\n",
        "}"
      ],
      "metadata": {
        "id": "TNmvEaDXwG0i"
      },
      "execution_count": null,
      "outputs": []
    },
    {
      "cell_type": "code",
      "source": [
        "dbClearResult(query)"
      ],
      "metadata": {
        "id": "nrFWAtjWwTkz"
      },
      "execution_count": null,
      "outputs": []
    },
    {
      "cell_type": "code",
      "source": [
        "query"
      ],
      "metadata": {
        "id": "wH2k2VU9wad-"
      },
      "execution_count": null,
      "outputs": []
    },
    {
      "cell_type": "markdown",
      "source": [
        "# Consultas parametrizadas"
      ],
      "metadata": {
        "id": "-85iX3MCvPEk"
      }
    },
    {
      "cell_type": "markdown",
      "metadata": {
        "id": "kirN-nYbvex8"
      },
      "source": [
        "## Pregunta 11\n",
        "Los nombres de los personajes interpretados por mujeres, en peliculas del año X, con calificación mayor a Y."
      ]
    },
    {
      "cell_type": "code",
      "metadata": {
        "id": "wsxPCFBjvex9"
      },
      "source": [
        "query <- dbSendQuery(con, \n",
        "\"SELECT personaje\n",
        "FROM pelicula P, actor A, personaje J\n",
        "WHERE a_nombre=A.nombre\n",
        "  AND P.nombre = p_nombre\n",
        "  AND P.anho = p_anho\n",
        "  AND p_anho = $1\n",
        "  AND P.calificacion > $2\n",
        "  AND A.genero = 'F';\")"
      ],
      "execution_count": null,
      "outputs": []
    },
    {
      "cell_type": "code",
      "source": [
        "dbFetch(query)"
      ],
      "metadata": {
        "id": "dUnuaiHIFLfJ"
      },
      "execution_count": null,
      "outputs": []
    },
    {
      "cell_type": "code",
      "source": [
        "dbBind(query, list(1990, 8))"
      ],
      "metadata": {
        "id": "cbQ6hFobFRWH"
      },
      "execution_count": null,
      "outputs": []
    },
    {
      "cell_type": "code",
      "source": [
        "dbFetch(query)"
      ],
      "metadata": {
        "id": "f5QvfQXWFYSh"
      },
      "execution_count": null,
      "outputs": []
    },
    {
      "cell_type": "markdown",
      "source": [
        "#Agrupando"
      ],
      "metadata": {
        "id": "cqQHad2FF_vT"
      }
    },
    {
      "cell_type": "markdown",
      "source": [
        ""
      ],
      "metadata": {
        "id": "DOCBL84IZs0Z"
      }
    },
    {
      "cell_type": "markdown",
      "source": [
        "¿Cual seria la base de datos que contiene todos los cruces de informacion?"
      ],
      "metadata": {
        "id": "j33hetYiJf3j"
      }
    },
    {
      "cell_type": "code",
      "source": [
        "dbGetQuery(con, \"\n",
        "SELECT pelicula.nombre as pelicula_nombre,pelicula.calificacion, anho, a_nombre as actor_nombre, personaje, genero as actor_genero\n",
        "FROM pelicula JOIN personaje ON\n",
        "pelicula.nombre= personaje.p_nombre \n",
        "AND   pelicula.anho=personaje.p_anho JOIN actor\n",
        "ON personaje.a_nombre=actor.nombre\n",
        "\")"
      ],
      "metadata": {
        "id": "mCJi7qoEIOJ3"
      },
      "execution_count": null,
      "outputs": []
    },
    {
      "cell_type": "code",
      "source": [
        "imdb <- dbGetQuery(con, \"\n",
        "SELECT pelicula.nombre as pelicula_nombre,pelicula.calificacion, anho, a_nombre as actor_nombre, personaje, genero as actor_genero\n",
        "FROM pelicula, personaje, actor\n",
        "WHERE pelicula.nombre= personaje.p_nombre \n",
        "AND   pelicula.anho=personaje.p_anho\n",
        "AND   personaje.a_nombre=actor.nombre\n",
        "\")"
      ],
      "metadata": {
        "id": "letj73aRF_Ea"
      },
      "execution_count": null,
      "outputs": []
    },
    {
      "cell_type": "markdown",
      "source": [
        "## Pregunta 12\n",
        "\n",
        "Contar el numero de actores de cada pelicula"
      ],
      "metadata": {
        "id": "YJe-p_szJWZG"
      }
    },
    {
      "cell_type": "code",
      "source": [
        "dbGetQuery(con, \"\n",
        "SELECT pelicula.nombre as pelicula_nombre, anho, count(actor.nombre)\n",
        "FROM pelicula, personaje, actor\n",
        "WHERE pelicula.nombre= personaje.p_nombre \n",
        "AND   pelicula.anho=personaje.p_anho\n",
        "AND   personaje.a_nombre=actor.nombre\n",
        "GROUP BY  pelicula.nombre, pelicula.anho\n",
        "\")"
      ],
      "metadata": {
        "id": "LeYoWd_RJF_p"
      },
      "execution_count": null,
      "outputs": []
    },
    {
      "cell_type": "markdown",
      "source": [
        "¿como lograriamos esto en R?"
      ],
      "metadata": {
        "id": "oFxf4_VRKT4d"
      }
    },
    {
      "cell_type": "code",
      "source": [
        "library(tidyverse)"
      ],
      "metadata": {
        "id": "vX1OJKYJLJto"
      },
      "execution_count": null,
      "outputs": []
    },
    {
      "cell_type": "code",
      "source": [
        "imdb %>% group_by(pelicula_nombre, anho)%>% # esto me genera una serie de grupos segun los atributos \n",
        "         summarise(count=n())"
      ],
      "metadata": {
        "id": "Ic96TeyBKS5d"
      },
      "execution_count": null,
      "outputs": []
    },
    {
      "cell_type": "code",
      "source": [
        "imdb %>% group_by(pelicula_nombre, anho)%>% # esto me genera una serie de grupos segun los atributos \n",
        "         summarise(count=n_distinct(actor_nombre))"
      ],
      "metadata": {
        "id": "Hp6kkbctLmI3"
      },
      "execution_count": null,
      "outputs": []
    },
    {
      "cell_type": "markdown",
      "source": [
        "## Pregunta 13\n",
        "\n",
        "Contar en numero de personajes distintos para cada actor:"
      ],
      "metadata": {
        "id": "RDEOWvUCaA0P"
      }
    },
    {
      "cell_type": "markdown",
      "source": [
        "##Pregunta 14\n",
        "Obtener nombre de las actrices con un promedio de peliculas superior a 8.5"
      ],
      "metadata": {
        "id": "xBY38mI6MgGp"
      }
    },
    {
      "cell_type": "code",
      "source": [
        "dbGetQuery(con,\"\n",
        "SELECT actor.nombre, AVG(pelicula.calificacion), actor.genero\n",
        "FROM personaje \n",
        "JOIN pelicula ON\n",
        "pelicula.nombre= personaje.p_nombre \n",
        "AND  pelicula.anho=personaje.p_anho \n",
        "JOIN actor ON\n",
        "personaje.a_nombre=actor.nombre\n",
        "WHERE actor.genero = 'F'\n",
        "GROUP BY actor.nombre\n",
        "HAVING AVG(pelicula.calificacion)>8.5\n",
        "\")"
      ],
      "metadata": {
        "id": "6sZY70gmMcoc"
      },
      "execution_count": null,
      "outputs": []
    },
    {
      "cell_type": "code",
      "source": [
        "imdb %>% filter(actor_genero==\"F\") %>% \n",
        "         group_by(actor_nombre) %>%\n",
        "         mutate(calificacion_prom=mean(calificacion),\n",
        "                   genero=actor_genero) %>%\n",
        "         filter(calificacion_prom>8.5) \n"
      ],
      "metadata": {
        "id": "VjxUrEDTPuHx"
      },
      "execution_count": null,
      "outputs": []
    },
    {
      "cell_type": "markdown",
      "metadata": {
        "id": "xlRGVIxjJWSY"
      },
      "source": [
        "#Riiid DB\n",
        "\n",
        "\n"
      ]
    },
    {
      "cell_type": "code",
      "source": [
        "install.packages(RSQLite)"
      ],
      "metadata": {
        "id": "MJ_cGwF_bGHL"
      },
      "execution_count": null,
      "outputs": []
    },
    {
      "cell_type": "code",
      "source": [
        "system(\"gdown https://drive.google.com/uc?id=1-4yIBsv8Z1aAz8kMRbMC4OXEe7kVZ_td\")\n",
        "system(\"gdown https://drive.google.com/uc?id=1-OqMYeOe-f4u1VbU1H0sCSGSK5PsAh30\")\n",
        "system(\"gdown https://drive.google.com/uc?id=1-IbkHHJyxxnhlKb7dCbw5nOq_imr4qrg\")"
      ],
      "metadata": {
        "id": "fSeZmXl5llm1"
      },
      "execution_count": null,
      "outputs": []
    },
    {
      "cell_type": "code",
      "metadata": {
        "id": "GPGboFNQqqbG"
      },
      "source": [
        "conn <- dbConnect(RSQLite::SQLite(), \"riiid.db\")\n",
        "dbListTables(conn)"
      ],
      "execution_count": null,
      "outputs": []
    },
    {
      "cell_type": "code",
      "metadata": {
        "id": "9vRmLMJKPsJa"
      },
      "source": [
        "dbWriteTable(conn , name = \"train\", \n",
        "                  value = \"/content/train.csv\",\n",
        "                  row.names = FALSE, header = T, sep=',',\n",
        "                  colClasses='character')\n"
      ],
      "execution_count": null,
      "outputs": []
    },
    {
      "cell_type": "code",
      "metadata": {
        "id": "u_LX-NeBDwTR"
      },
      "source": [
        "dbWriteTable(conn , name = \"questions\", \n",
        "                  value = \"/content/questions.csv\",\n",
        "                  row.names = FALSE, header = T, sep=',',\n",
        "                  colClasses='character')\n"
      ],
      "execution_count": null,
      "outputs": []
    },
    {
      "cell_type": "code",
      "metadata": {
        "id": "RHWttyWrD0Wf"
      },
      "source": [
        "dbWriteTable(conn , name = \"lectures\", \n",
        "                  value = \"/content/lectures.csv\",\n",
        "                  row.names = FALSE, header = T, sep=',',\n",
        "                  colClasses='character')"
      ],
      "execution_count": null,
      "outputs": []
    },
    {
      "cell_type": "code",
      "source": [
        "dbListTables(conn)"
      ],
      "metadata": {
        "id": "XrKG8EEap4vO"
      },
      "execution_count": null,
      "outputs": []
    },
    {
      "cell_type": "code",
      "metadata": {
        "id": "M8mWrloTLo1G"
      },
      "source": [
        "dbGetQuery(conn,\"select * from train limit 100\")"
      ],
      "execution_count": null,
      "outputs": []
    },
    {
      "cell_type": "code",
      "metadata": {
        "id": "AVAYGIutNbMr"
      },
      "source": [
        "dbGetQuery(conn, \"SELECT\n",
        "    user_id,\n",
        "    content_id,\n",
        "    answered_correctly, \n",
        "    LAG(answered_correctly) OVER (\n",
        "        PARTITION BY user_id \n",
        "        ORDER BY (timestamp)) as prev_answered_correctly,\n",
        "    AVG(answered_correctly) OVER (PARTITION BY user_id) \n",
        "        AS mean_answered,\n",
        "    count(answered_correctly) OVER (PARTITION BY user_id)\n",
        "FROM\n",
        "    train\n",
        "    Limit 1000;\") # esto toma aproximadamente 10 min"
      ],
      "execution_count": null,
      "outputs": []
    },
    {
      "cell_type": "code",
      "metadata": {
        "id": "tpNJaG_NOQIp"
      },
      "source": [
        "install.packages(\"tictoc\")\n",
        "library(tictoc)"
      ],
      "execution_count": null,
      "outputs": []
    },
    {
      "cell_type": "code",
      "metadata": {
        "id": "PygYVfLhWgh9"
      },
      "source": [
        "tic()\n",
        "query <- dbSendQuery(conn, \"\n",
        "SELECT\n",
        "    user_id,\n",
        "    content_id,\n",
        "    answered_correctly, \n",
        "    LAG(answered_correctly) OVER (\n",
        "        PARTITION BY user_id \n",
        "        ORDER BY (timestamp)) as prev_answered_correctly,\n",
        "    AVG(answered_correctly) OVER (PARTITION BY user_id) \n",
        "        AS mean_answered,\n",
        "    count(answered_correctly) OVER (PARTITION BY user_id)\n",
        "FROM\n",
        "  train\")\n",
        "toc()"
      ],
      "execution_count": null,
      "outputs": []
    },
    {
      "cell_type": "code",
      "metadata": {
        "id": "KgkGMMthRFHi"
      },
      "source": [
        "tic()\n",
        "query <- dbSendQuery(conn, \"SELECT * FROM train;\")\n",
        "toc()"
      ],
      "execution_count": null,
      "outputs": []
    },
    {
      "cell_type": "code",
      "metadata": {
        "id": "rXab-5L0Go6u"
      },
      "source": [
        "dbFetch(query,n=100)"
      ],
      "execution_count": null,
      "outputs": []
    },
    {
      "cell_type": "code",
      "metadata": {
        "id": "vRKXsuKoPvsj"
      },
      "source": [
        "DBI::dbHasCompleted(query)"
      ],
      "execution_count": null,
      "outputs": []
    },
    {
      "cell_type": "code",
      "metadata": {
        "id": "i1Say2pmQmHm"
      },
      "source": [
        "DBI::dbDisconnect(conn)"
      ],
      "execution_count": null,
      "outputs": []
    }
  ]
}
