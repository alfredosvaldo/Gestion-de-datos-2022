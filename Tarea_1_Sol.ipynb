{
  "nbformat": 4,
  "nbformat_minor": 0,
  "metadata": {
    "colab": {
      "name": "Tarea_1_Sol.ipynb",
      "provenance": [],
      "collapsed_sections": [],
      "include_colab_link": true
    },
    "kernelspec": {
      "name": "ir",
      "display_name": "R"
    },
    "language_info": {
      "name": "R"
    }
  },
  "cells": [
    {
      "cell_type": "markdown",
      "metadata": {
        "id": "view-in-github",
        "colab_type": "text"
      },
      "source": [
        "<a href=\"https://colab.research.google.com/github/maxigaarp/Gestion-de-datos-2022/blob/main/Tarea_1_Sol.ipynb\" target=\"_parent\"><img src=\"https://colab.research.google.com/assets/colab-badge.svg\" alt=\"Open In Colab\"/></a>"
      ]
    },
    {
      "cell_type": "markdown",
      "metadata": {
        "id": "O2vZlgQIqkLL"
      },
      "source": [
        "# **Tarea 1** (fecha de entrega: 18 de Junio 2021)\n"
      ]
    },
    {
      "cell_type": "markdown",
      "metadata": {
        "id": "sKzfHzvtb_rG"
      },
      "source": [
        "Esta tarea consiste en 7 preguntas, de las cuales solo se considerarán las 6 mejores para el cálculo de la nota. **Se espera el codigo asociado a la respuesta y comentarios que hagan comprensible la lectura de la solución**. Puede entregar la tarea en el formato que estime conveniente (doc, pdf, script de R, url de Colab) pero tenga en cuenta que debe adjuntar el código utilizado. Se recomienda el uso de Colab R (recordar dejar el notebook compartido con el ayudante para que este pueda abrirlo).\n",
        "\n",
        "\n"
      ]
    },
    {
      "cell_type": "markdown",
      "source": [
        "#Enunciado"
      ],
      "metadata": {
        "id": "B4hwoL79fqcO"
      }
    },
    {
      "cell_type": "markdown",
      "source": [
        "Tu empresa fue contratada por la Asociación de Navegación Marítima de Chile para manejar la información de buques, navieras, y distintas rutas que bueques realizan para las navieras. Similarmente, se guardará la información de personal marino, y en cuales buques estos trabajan. Por ahora, tu desarrollo te ha llevado definir el siguiente esquema:\n",
        "\n",
        "* $\\color{green}{\\textbf{Buques}}(\\color{red}{\\underline{\\text{buqueId}}}, \\color{red}{\\text{nombre}}, \\color{red}{\\text{capacidad}}, \\color{red}{\\text{capitanId}})$ \n",
        "* $\\color{green}{\\textbf{Navieras}}(\\color{red}{\\underline{\\text{navieraId}}}, \\color{red}{\\text{nombre}}, \\color{red}{\\text{pais}})$\n",
        "* $\\color{green}{\\textbf{Navegaciones}}(\\color{red}{\\underline{\\text{buqueId}}}, \\color{red}{\\underline{\\text{navieraId}}},  \\color{red}{{\\text{ruta}}})$\n",
        "* $\\color{green}{\\textbf{Personal}}(\\color{red}{\\underline{\\text{peronalId}}}, \n",
        "\\color{red}{{\\text{nombre}}}, \\color{red}{{\\text{edad}}},  \\color{red}{\\text{nacionalidad}})$\n",
        "* $\\color{green}{\\textbf{TrabajaEn}}(\\color{red}{\\underline{\\text{personalId}}}, \n",
        "\\color{red}{\\underline{\\text{buqueId}}})$\n",
        "\n",
        "Cómo un ejemplo, a continuación se muestra una instancia válida de tu esquema. Es importante entender que un mismo buque puede ser contratado por varias naveras para realizar distintas rutas de trasbordo. Similarmente, una persona puede trabajar en más de un buque.\n"
      ],
      "metadata": {
        "id": "FwitH8cjO9TY"
      }
    },
    {
      "cell_type": "markdown",
      "source": [
        "#Reglas: \n",
        " - Las tablas que se entreguen como respuestas **no deben contener tuplas ni atributos adicionales a lo que se pregunta**.\n",
        " - No deben permitir que R modifique el nombre de un atributo por su cuenta (al hacer un inner_join de una tabla con ella misma por ejemplo), para evitar esto usen el comando rename.\n",
        " - Solo se debe responder usando los operadores vistos durante la segunda parte de la clase 2:\n",
        "  - select\n",
        "  - filter\n",
        "  - union\n",
        "  - rename\n",
        "  - crossing\n",
        "  - join\n",
        "  - setdiff\n",
        "  - anti_join"
      ],
      "metadata": {
        "id": "ISXM4xT1TMP8"
      }
    },
    {
      "cell_type": "markdown",
      "source": [
        "#Bases de datos"
      ],
      "metadata": {
        "id": "VS7BKzPjfuc9"
      }
    },
    {
      "cell_type": "code",
      "execution_count": null,
      "metadata": {
        "id": "88UivwhCOPje",
        "colab": {
          "base_uri": "https://localhost:8080/"
        },
        "outputId": "df934e8f-fb2a-466f-d49e-690257466d6f"
      },
      "outputs": [
        {
          "output_type": "stream",
          "name": "stderr",
          "text": [
            "Warning message in system(\"timedatectl\", intern = TRUE):\n",
            "“running command 'timedatectl' had status 1”\n",
            "── \u001b[1mAttaching packages\u001b[22m ─────────────────────────────────────── tidyverse 1.3.1 ──\n",
            "\n",
            "\u001b[32m✔\u001b[39m \u001b[34mggplot2\u001b[39m 3.3.6     \u001b[32m✔\u001b[39m \u001b[34mpurrr  \u001b[39m 0.3.4\n",
            "\u001b[32m✔\u001b[39m \u001b[34mtibble \u001b[39m 3.1.7     \u001b[32m✔\u001b[39m \u001b[34mdplyr  \u001b[39m 1.0.9\n",
            "\u001b[32m✔\u001b[39m \u001b[34mtidyr  \u001b[39m 1.2.0     \u001b[32m✔\u001b[39m \u001b[34mstringr\u001b[39m 1.4.0\n",
            "\u001b[32m✔\u001b[39m \u001b[34mreadr  \u001b[39m 2.1.2     \u001b[32m✔\u001b[39m \u001b[34mforcats\u001b[39m 0.5.1\n",
            "\n",
            "── \u001b[1mConflicts\u001b[22m ────────────────────────────────────────── tidyverse_conflicts() ──\n",
            "\u001b[31m✖\u001b[39m \u001b[34mdplyr\u001b[39m::\u001b[32mfilter()\u001b[39m masks \u001b[34mstats\u001b[39m::filter()\n",
            "\u001b[31m✖\u001b[39m \u001b[34mdplyr\u001b[39m::\u001b[32mlag()\u001b[39m    masks \u001b[34mstats\u001b[39m::lag()\n",
            "\n"
          ]
        }
      ],
      "source": [
        "library(tidyverse)"
      ]
    },
    {
      "cell_type": "code",
      "source": [
        "buques <- tribble(\n",
        "  ~buqueId, ~nombre, ~capacidad, ~capitanId,\n",
        "  #-------/---------/----------/-----------\n",
        "  \"b1\", \"El Inundado\", 4000, \"p22\",\n",
        "  \"b2\", \"Gotas Saladas\", 2010, \"p1\",\n",
        "  \"b3\", \"Falucho\", 4085, \"p21\",\n",
        "  \"b4\", \"Lento\", 2989, \"p33\"\n",
        ")\n",
        "\n",
        "navieras <- tribble(\n",
        "  ~navieraId, ~nombre, ~pais,\n",
        "  #-------/---------/----------\n",
        "  \"n1\", \"Lagos del Sur\", \"Chile\",\n",
        "  \"n2\", \"Somarco\", \"Chile\",\n",
        "  \"n3\", \"Ultramar\", \"Argentina\",\n",
        "  \"n4\", \"Broom\", \"Chile\"\n",
        ")\n",
        "\n",
        "navegaciones <- tribble(\n",
        "  ~buqueId, ~navieraId, ~ruta,\n",
        "  #-------/---------/----------\n",
        "  \"b1\", \"n1\", \"Chiloe Norte\",\n",
        "  \"b2\", \"n1\", \"Cruce Lago General Carrera\",\n",
        "  \"b1\", \"n2\", \"Puerto Murta - Chile Chico\",\n",
        "  \"b3\", \"n3\", \"Chaiten - Hornopiren\"\n",
        ")\n",
        "\n",
        "personal <- tribble(\n",
        "  ~personalId, ~nombre, ~edad, ~nacionalidad,\n",
        "  #-------/---------/----------/-----------\n",
        "  \"p1\", \"Ian McIntosh\", 32, \"Escocia\",\n",
        "  \"p2\", \"Christian Rutter\", 24, \"Alemania\",\n",
        "  \"p3\", \"Mark Boyle\", 33, \"EE.UU.\",\n",
        "  \"p4\", \"Victoria Kostylev\", 48, \"Chile\",\n",
        "  \"p5\", \"Ian Stolberg\", 44, \"Suecia\"\n",
        ")\n",
        "\n",
        "trabajaEn <- tribble(\n",
        "  ~personalId, ~buqueId,\n",
        "  #-------/---------\n",
        "  \"p1\", \"b2\",\n",
        "  \"p1\", \"b4\",\n",
        "  \"p3\", \"b4\",\n",
        "  \"p4\", \"b4\",\n",
        "  \"p2\", \"b3\",\n",
        "  \"p2\", \"b2\",\n",
        "  \"p3\", \"b3\"\n",
        ")"
      ],
      "metadata": {
        "id": "ruWROIxuRTmR"
      },
      "execution_count": null,
      "outputs": []
    },
    {
      "cell_type": "markdown",
      "source": [
        "#Pregunta 1\n",
        "Encuentre los nombres de todo el personal con edad menor a 25, o que son de nacionalidad Chilena."
      ],
      "metadata": {
        "id": "F3gv4wEpU2FD"
      }
    },
    {
      "cell_type": "code",
      "source": [
        "filter(personal, (edad<25)|(nacionalidad==\"Chile\"))%>%\n",
        "select(\"nombre\")"
      ],
      "metadata": {
        "id": "oeWG2sc6UNa5",
        "colab": {
          "base_uri": "https://localhost:8080/",
          "height": 161
        },
        "outputId": "f427210e-64f0-4329-d2f4-17761984d9a5"
      },
      "execution_count": null,
      "outputs": [
        {
          "output_type": "display_data",
          "data": {
            "text/html": [
              "<table class=\"dataframe\">\n",
              "<caption>A tibble: 2 × 1</caption>\n",
              "<thead>\n",
              "\t<tr><th scope=col>nombre</th></tr>\n",
              "\t<tr><th scope=col>&lt;chr&gt;</th></tr>\n",
              "</thead>\n",
              "<tbody>\n",
              "\t<tr><td>Christian Rutter </td></tr>\n",
              "\t<tr><td>Victoria Kostylev</td></tr>\n",
              "</tbody>\n",
              "</table>\n"
            ],
            "text/markdown": "\nA tibble: 2 × 1\n\n| nombre &lt;chr&gt; |\n|---|\n| Christian Rutter  |\n| Victoria Kostylev |\n\n",
            "text/latex": "A tibble: 2 × 1\n\\begin{tabular}{l}\n nombre\\\\\n <chr>\\\\\n\\hline\n\t Christian Rutter \\\\\n\t Victoria Kostylev\\\\\n\\end{tabular}\n",
            "text/plain": [
              "  nombre           \n",
              "1 Christian Rutter \n",
              "2 Victoria Kostylev"
            ]
          },
          "metadata": {}
        }
      ]
    },
    {
      "cell_type": "markdown",
      "source": [
        "#Pregunta 2\n",
        "Encuentre los identificadores (personalId) de todo el personal que trabaja en algun buque de la naviera \"Lagos del Sur\"."
      ],
      "metadata": {
        "id": "LfBQlYdWURwf"
      }
    },
    {
      "cell_type": "code",
      "source": [
        "inner_join(trabajaEn, navegaciones, by=\"buqueId\") %>% inner_join(navieras, by=\"navieraId\") %>% filter(nombre==\"Lagos del Sur\") %>% select(\"personalId\")"
      ],
      "metadata": {
        "id": "-1mVAyJHUaVB",
        "colab": {
          "base_uri": "https://localhost:8080/",
          "height": 161
        },
        "outputId": "7f9bc7d6-c096-4d8a-c50b-3fe878cbfc0e"
      },
      "execution_count": null,
      "outputs": [
        {
          "output_type": "display_data",
          "data": {
            "text/html": [
              "<table class=\"dataframe\">\n",
              "<caption>A tibble: 2 × 1</caption>\n",
              "<thead>\n",
              "\t<tr><th scope=col>personalId</th></tr>\n",
              "\t<tr><th scope=col>&lt;chr&gt;</th></tr>\n",
              "</thead>\n",
              "<tbody>\n",
              "\t<tr><td>p1</td></tr>\n",
              "\t<tr><td>p2</td></tr>\n",
              "</tbody>\n",
              "</table>\n"
            ],
            "text/markdown": "\nA tibble: 2 × 1\n\n| personalId &lt;chr&gt; |\n|---|\n| p1 |\n| p2 |\n\n",
            "text/latex": "A tibble: 2 × 1\n\\begin{tabular}{l}\n personalId\\\\\n <chr>\\\\\n\\hline\n\t p1\\\\\n\t p2\\\\\n\\end{tabular}\n",
            "text/plain": [
              "  personalId\n",
              "1 p1        \n",
              "2 p2        "
            ]
          },
          "metadata": {}
        }
      ]
    },
    {
      "cell_type": "code",
      "source": [
        "trabajaEn %>% \n",
        "inner_join(navegaciones, by=\"buqueId\") %>%\n",
        "filter(navieraId==\"n1\") %>%\n",
        "select(\"personalId\")"
      ],
      "metadata": {
        "colab": {
          "base_uri": "https://localhost:8080/",
          "height": 161
        },
        "id": "Z2H7gYDxO5ds",
        "outputId": "74ce4f23-a6f6-4474-92cb-16eeda61b25a"
      },
      "execution_count": null,
      "outputs": [
        {
          "output_type": "display_data",
          "data": {
            "text/html": [
              "<table class=\"dataframe\">\n",
              "<caption>A tibble: 2 × 1</caption>\n",
              "<thead>\n",
              "\t<tr><th scope=col>personalId</th></tr>\n",
              "\t<tr><th scope=col>&lt;chr&gt;</th></tr>\n",
              "</thead>\n",
              "<tbody>\n",
              "\t<tr><td>p1</td></tr>\n",
              "\t<tr><td>p2</td></tr>\n",
              "</tbody>\n",
              "</table>\n"
            ],
            "text/markdown": "\nA tibble: 2 × 1\n\n| personalId &lt;chr&gt; |\n|---|\n| p1 |\n| p2 |\n\n",
            "text/latex": "A tibble: 2 × 1\n\\begin{tabular}{l}\n personalId\\\\\n <chr>\\\\\n\\hline\n\t p1\\\\\n\t p2\\\\\n\\end{tabular}\n",
            "text/plain": [
              "  personalId\n",
              "1 p1        \n",
              "2 p2        "
            ]
          },
          "metadata": {}
        }
      ]
    },
    {
      "cell_type": "markdown",
      "source": [
        "#Pregunta 3\n",
        "Para validar si sus datos son consistente, asegure que cada capitan de un bote también está registrado en la tabla $\\texttt{Personal}$. Para esto, escriba la operación que encuentre todos los id de los capitanes que no aparecen en la tabla de personal."
      ],
      "metadata": {
        "id": "6DZxb3CZUals"
      }
    },
    {
      "cell_type": "markdown",
      "source": [
        "Opcion 1 con antijoin"
      ],
      "metadata": {
        "id": "rsn_UhS-eDDq"
      }
    },
    {
      "cell_type": "code",
      "source": [
        "buques %>%\n",
        "anti_join(personal, c(\"capitanId\"=\"personalId\")) %>%\n",
        "select(\"capitanId\")"
      ],
      "metadata": {
        "id": "YTUrZs_SUohv",
        "colab": {
          "base_uri": "https://localhost:8080/",
          "height": 192
        },
        "outputId": "35f93d25-aa95-4ee8-f811-2a8d6e4a14a9"
      },
      "execution_count": null,
      "outputs": [
        {
          "output_type": "display_data",
          "data": {
            "text/html": [
              "<table class=\"dataframe\">\n",
              "<caption>A tibble: 3 × 1</caption>\n",
              "<thead>\n",
              "\t<tr><th scope=col>capitanId</th></tr>\n",
              "\t<tr><th scope=col>&lt;chr&gt;</th></tr>\n",
              "</thead>\n",
              "<tbody>\n",
              "\t<tr><td>p22</td></tr>\n",
              "\t<tr><td>p21</td></tr>\n",
              "\t<tr><td>p33</td></tr>\n",
              "</tbody>\n",
              "</table>\n"
            ],
            "text/markdown": "\nA tibble: 3 × 1\n\n| capitanId &lt;chr&gt; |\n|---|\n| p22 |\n| p21 |\n| p33 |\n\n",
            "text/latex": "A tibble: 3 × 1\n\\begin{tabular}{l}\n capitanId\\\\\n <chr>\\\\\n\\hline\n\t p22\\\\\n\t p21\\\\\n\t p33\\\\\n\\end{tabular}\n",
            "text/plain": [
              "  capitanId\n",
              "1 p22      \n",
              "2 p21      \n",
              "3 p33      "
            ]
          },
          "metadata": {}
        }
      ]
    },
    {
      "cell_type": "markdown",
      "source": [
        "Opcion 2 con setdiff"
      ],
      "metadata": {
        "id": "46NvX_w-eC4M"
      }
    },
    {
      "cell_type": "code",
      "source": [
        "buques %>%\n",
        "select(\"capitanId\")%>%\n",
        "rename(c(\"personalId\"=\"capitanId\"))%>%\n",
        "setdiff(personal[\"personalId\"])\n",
        "\n"
      ],
      "metadata": {
        "colab": {
          "base_uri": "https://localhost:8080/",
          "height": 192
        },
        "id": "CxiMt4ptdfKO",
        "outputId": "d9228772-7968-4b6e-9de5-4c77cdfa0b17"
      },
      "execution_count": null,
      "outputs": [
        {
          "output_type": "display_data",
          "data": {
            "text/html": [
              "<table class=\"dataframe\">\n",
              "<caption>A tibble: 3 × 1</caption>\n",
              "<thead>\n",
              "\t<tr><th scope=col>personalId</th></tr>\n",
              "\t<tr><th scope=col>&lt;chr&gt;</th></tr>\n",
              "</thead>\n",
              "<tbody>\n",
              "\t<tr><td>p22</td></tr>\n",
              "\t<tr><td>p21</td></tr>\n",
              "\t<tr><td>p33</td></tr>\n",
              "</tbody>\n",
              "</table>\n"
            ],
            "text/markdown": "\nA tibble: 3 × 1\n\n| personalId &lt;chr&gt; |\n|---|\n| p22 |\n| p21 |\n| p33 |\n\n",
            "text/latex": "A tibble: 3 × 1\n\\begin{tabular}{l}\n personalId\\\\\n <chr>\\\\\n\\hline\n\t p22\\\\\n\t p21\\\\\n\t p33\\\\\n\\end{tabular}\n",
            "text/plain": [
              "  personalId\n",
              "1 p22       \n",
              "2 p21       \n",
              "3 p33       "
            ]
          },
          "metadata": {}
        }
      ]
    },
    {
      "cell_type": "markdown",
      "source": [
        "#Pregunta 4\n",
        "Encuentre los **nombres** de buques con el nombre de su naviera que han operado en la ruta \"Chiloe Norte\" o \"Puerto Murta - Chile Chico\"."
      ],
      "metadata": {
        "id": "vTIsD6wU39j7"
      }
    },
    {
      "cell_type": "code",
      "source": [
        " bigjoin <- navegaciones %>% inner_join(rename(navieras, c(\"n_nombre\"=\"nombre\")), by=\"navieraId\") %>% inner_join(rename(buques, c(\"b_nombre\"=\"nombre\")), by=\"buqueId\")\n",
        " filter(bigjoin, ruta==\"Chiloe Norte\") %>% union(filter(bigjoin, ruta==\"Puerto Murta - Chile Chico\")) %>% select(c(\"n_nombre\", \"b_nombre\"))\n"
      ],
      "metadata": {
        "colab": {
          "base_uri": "https://localhost:8080/",
          "height": 161
        },
        "id": "mgbK-Gl94fKB",
        "outputId": "705e2496-3e90-4f21-9f23-b005338bd0b4"
      },
      "execution_count": null,
      "outputs": [
        {
          "output_type": "display_data",
          "data": {
            "text/html": [
              "<table class=\"dataframe\">\n",
              "<caption>A tibble: 2 × 2</caption>\n",
              "<thead>\n",
              "\t<tr><th scope=col>n_nombre</th><th scope=col>b_nombre</th></tr>\n",
              "\t<tr><th scope=col>&lt;chr&gt;</th><th scope=col>&lt;chr&gt;</th></tr>\n",
              "</thead>\n",
              "<tbody>\n",
              "\t<tr><td>Lagos del Sur</td><td>El Inundado</td></tr>\n",
              "\t<tr><td>Somarco      </td><td>El Inundado</td></tr>\n",
              "</tbody>\n",
              "</table>\n"
            ],
            "text/markdown": "\nA tibble: 2 × 2\n\n| n_nombre &lt;chr&gt; | b_nombre &lt;chr&gt; |\n|---|---|\n| Lagos del Sur | El Inundado |\n| Somarco       | El Inundado |\n\n",
            "text/latex": "A tibble: 2 × 2\n\\begin{tabular}{ll}\n n\\_nombre & b\\_nombre\\\\\n <chr> & <chr>\\\\\n\\hline\n\t Lagos del Sur & El Inundado\\\\\n\t Somarco       & El Inundado\\\\\n\\end{tabular}\n",
            "text/plain": [
              "  n_nombre      b_nombre   \n",
              "1 Lagos del Sur El Inundado\n",
              "2 Somarco       El Inundado"
            ]
          },
          "metadata": {}
        }
      ]
    },
    {
      "cell_type": "markdown",
      "source": [
        "#Pregunta 5\n",
        "Encuentre los nombres de los buques operando para más de una naviera.\n",
        "\n",
        "Hint: Puede hacer un join de una tabla consigo misma por algún atributo en común, y luego filtrar los resultados con el operador \"<\" otros dos atributosque se desea que sean distintos.\n"
      ],
      "metadata": {
        "id": "qtV-e3OiUo1T"
      }
    },
    {
      "cell_type": "code",
      "source": [
        "navegaciones %>% \n",
        "rename(c(\"navieraId2\"=\"navieraId\",\"ruta2\"=\"ruta\"))%>%\n",
        "inner_join(navegaciones, by=\"buqueId\") %>%\n",
        "filter(navieraId2<navieraId)%>%  #trampa comparacion entre strings\n",
        "select(buqueId)\n"
      ],
      "metadata": {
        "id": "rItXG17vUrNP",
        "colab": {
          "base_uri": "https://localhost:8080/",
          "height": 147
        },
        "outputId": "d6b78ae6-4528-40c5-e1d1-199337088e8d"
      },
      "execution_count": null,
      "outputs": [
        {
          "output_type": "display_data",
          "data": {
            "text/html": [
              "<table class=\"dataframe\">\n",
              "<caption>A tibble: 1 × 1</caption>\n",
              "<thead>\n",
              "\t<tr><th scope=col>buqueId</th></tr>\n",
              "\t<tr><th scope=col>&lt;chr&gt;</th></tr>\n",
              "</thead>\n",
              "<tbody>\n",
              "\t<tr><td>b1</td></tr>\n",
              "</tbody>\n",
              "</table>\n"
            ],
            "text/markdown": "\nA tibble: 1 × 1\n\n| buqueId &lt;chr&gt; |\n|---|\n| b1 |\n\n",
            "text/latex": "A tibble: 1 × 1\n\\begin{tabular}{l}\n buqueId\\\\\n <chr>\\\\\n\\hline\n\t b1\\\\\n\\end{tabular}\n",
            "text/plain": [
              "  buqueId\n",
              "1 b1     "
            ]
          },
          "metadata": {}
        }
      ]
    },
    {
      "cell_type": "markdown",
      "source": [
        "#Pregunta 6\n",
        "Encuentre el nombre del buque con la capacidad más grande.\n",
        "\n",
        "Hint: Primero encuentre todos los buques que son menores a alguien. Luego use ese resultado para calcular los que **siempre** son mayores. "
      ],
      "metadata": {
        "id": "fWeNx_TxUrY9"
      }
    },
    {
      "cell_type": "code",
      "source": [
        "db_aux <- buques %>%\n",
        "rename(c(\"buqueid2\"=\"buqueId\",\"nombre2\"=\"nombre\",\"capacidad2\"=\"capacidad\",\"capitanId2\"=\"capitanId\"))%>%\n",
        "crossing(buques)%>%\n",
        "filter(capacidad2>capacidad)%>%\n",
        "select(\"buqueId\",\"nombre\")"
      ],
      "metadata": {
        "id": "x-WkZpsPUwBA"
      },
      "execution_count": null,
      "outputs": []
    },
    {
      "cell_type": "code",
      "source": [
        "db_aux"
      ],
      "metadata": {
        "colab": {
          "base_uri": "https://localhost:8080/",
          "height": 286
        },
        "id": "O44lM1_xc6p1",
        "outputId": "74af2270-39d8-47ef-87c6-0e56c9ea221c"
      },
      "execution_count": null,
      "outputs": [
        {
          "output_type": "display_data",
          "data": {
            "text/html": [
              "<table class=\"dataframe\">\n",
              "<caption>A tibble: 6 × 2</caption>\n",
              "<thead>\n",
              "\t<tr><th scope=col>buqueId</th><th scope=col>nombre</th></tr>\n",
              "\t<tr><th scope=col>&lt;chr&gt;</th><th scope=col>&lt;chr&gt;</th></tr>\n",
              "</thead>\n",
              "<tbody>\n",
              "\t<tr><td>b2</td><td>Gotas Saladas</td></tr>\n",
              "\t<tr><td>b4</td><td>Lento        </td></tr>\n",
              "\t<tr><td>b1</td><td>El Inundado  </td></tr>\n",
              "\t<tr><td>b2</td><td>Gotas Saladas</td></tr>\n",
              "\t<tr><td>b4</td><td>Lento        </td></tr>\n",
              "\t<tr><td>b2</td><td>Gotas Saladas</td></tr>\n",
              "</tbody>\n",
              "</table>\n"
            ],
            "text/markdown": "\nA tibble: 6 × 2\n\n| buqueId &lt;chr&gt; | nombre &lt;chr&gt; |\n|---|---|\n| b2 | Gotas Saladas |\n| b4 | Lento         |\n| b1 | El Inundado   |\n| b2 | Gotas Saladas |\n| b4 | Lento         |\n| b2 | Gotas Saladas |\n\n",
            "text/latex": "A tibble: 6 × 2\n\\begin{tabular}{ll}\n buqueId & nombre\\\\\n <chr> & <chr>\\\\\n\\hline\n\t b2 & Gotas Saladas\\\\\n\t b4 & Lento        \\\\\n\t b1 & El Inundado  \\\\\n\t b2 & Gotas Saladas\\\\\n\t b4 & Lento        \\\\\n\t b2 & Gotas Saladas\\\\\n\\end{tabular}\n",
            "text/plain": [
              "  buqueId nombre       \n",
              "1 b2      Gotas Saladas\n",
              "2 b4      Lento        \n",
              "3 b1      El Inundado  \n",
              "4 b2      Gotas Saladas\n",
              "5 b4      Lento        \n",
              "6 b2      Gotas Saladas"
            ]
          },
          "metadata": {}
        }
      ]
    },
    {
      "cell_type": "markdown",
      "source": [
        "Opcion1 (antijoin)"
      ],
      "metadata": {
        "id": "PyD5Tv1NdNMH"
      }
    },
    {
      "cell_type": "code",
      "source": [
        "buques %>% anti_join(db_aux, by=\"buqueId\") %>%\n",
        "      select(\"nombre\")"
      ],
      "metadata": {
        "colab": {
          "base_uri": "https://localhost:8080/",
          "height": 147
        },
        "id": "6ZpTENfZZLrM",
        "outputId": "7ebad4ab-bc2a-496d-c592-866e1edfc846"
      },
      "execution_count": null,
      "outputs": [
        {
          "output_type": "display_data",
          "data": {
            "text/html": [
              "<table class=\"dataframe\">\n",
              "<caption>A tibble: 1 × 1</caption>\n",
              "<thead>\n",
              "\t<tr><th scope=col>nombre</th></tr>\n",
              "\t<tr><th scope=col>&lt;chr&gt;</th></tr>\n",
              "</thead>\n",
              "<tbody>\n",
              "\t<tr><td>Falucho</td></tr>\n",
              "</tbody>\n",
              "</table>\n"
            ],
            "text/markdown": "\nA tibble: 1 × 1\n\n| nombre &lt;chr&gt; |\n|---|\n| Falucho |\n\n",
            "text/latex": "A tibble: 1 × 1\n\\begin{tabular}{l}\n nombre\\\\\n <chr>\\\\\n\\hline\n\t Falucho\\\\\n\\end{tabular}\n",
            "text/plain": [
              "  nombre \n",
              "1 Falucho"
            ]
          },
          "metadata": {}
        }
      ]
    },
    {
      "cell_type": "markdown",
      "source": [
        "Opcion2 setdiff"
      ],
      "metadata": {
        "id": "gYvobt0sdPAP"
      }
    },
    {
      "cell_type": "code",
      "source": [
        "setdiff(buques[c(\"buqueId\",\"nombre\")],db_aux) %>% select(\"nombre\")"
      ],
      "metadata": {
        "colab": {
          "base_uri": "https://localhost:8080/",
          "height": 129
        },
        "id": "xTaS_tQCbiYd",
        "outputId": "0e5b07a5-cf2c-46b2-cf48-a467be6b509a"
      },
      "execution_count": null,
      "outputs": [
        {
          "output_type": "display_data",
          "data": {
            "text/html": [
              "<table class=\"dataframe\">\n",
              "<caption>A tibble: 1 × 2</caption>\n",
              "<thead>\n",
              "\t<tr><th scope=col>buqueId</th><th scope=col>nombre</th></tr>\n",
              "\t<tr><th scope=col>&lt;chr&gt;</th><th scope=col>&lt;chr&gt;</th></tr>\n",
              "</thead>\n",
              "<tbody>\n",
              "\t<tr><td>b3</td><td>Falucho</td></tr>\n",
              "</tbody>\n",
              "</table>\n"
            ],
            "text/markdown": "\nA tibble: 1 × 2\n\n| buqueId &lt;chr&gt; | nombre &lt;chr&gt; |\n|---|---|\n| b3 | Falucho |\n\n",
            "text/latex": "A tibble: 1 × 2\n\\begin{tabular}{ll}\n buqueId & nombre\\\\\n <chr> & <chr>\\\\\n\\hline\n\t b3 & Falucho\\\\\n\\end{tabular}\n",
            "text/plain": [
              "  buqueId nombre \n",
              "1 b3      Falucho"
            ]
          },
          "metadata": {}
        }
      ]
    },
    {
      "cell_type": "markdown",
      "source": [
        "#Pregunta 7\n",
        "Encuentre los nombres de todo el personal que trabaja para dos o más buques distintos."
      ],
      "metadata": {
        "id": "G5bRkUl3Uwja"
      }
    },
    {
      "cell_type": "code",
      "source": [
        "trabajaEn %>% \n",
        "rename(c(\"buqueId2\"=\"buqueId\")) %>%\n",
        "inner_join(trabajaEn, by=\"personalId\")%>%\n",
        "filter(buqueId2<buqueId) %>% # trampa denuevo, comparacion entre strings\n",
        "inner_join(personal, by=\"personalId\")%>%\n",
        "select(\"nombre\")"
      ],
      "metadata": {
        "id": "52jjtxLuUylt",
        "colab": {
          "base_uri": "https://localhost:8080/",
          "height": 192
        },
        "outputId": "dc2e253d-dbf3-45da-f092-c466c24d4310"
      },
      "execution_count": null,
      "outputs": [
        {
          "output_type": "display_data",
          "data": {
            "text/html": [
              "<table class=\"dataframe\">\n",
              "<caption>A tibble: 3 × 1</caption>\n",
              "<thead>\n",
              "\t<tr><th scope=col>nombre</th></tr>\n",
              "\t<tr><th scope=col>&lt;chr&gt;</th></tr>\n",
              "</thead>\n",
              "<tbody>\n",
              "\t<tr><td>Ian McIntosh    </td></tr>\n",
              "\t<tr><td>Christian Rutter</td></tr>\n",
              "\t<tr><td>Mark Boyle      </td></tr>\n",
              "</tbody>\n",
              "</table>\n"
            ],
            "text/markdown": "\nA tibble: 3 × 1\n\n| nombre &lt;chr&gt; |\n|---|\n| Ian McIntosh     |\n| Christian Rutter |\n| Mark Boyle       |\n\n",
            "text/latex": "A tibble: 3 × 1\n\\begin{tabular}{l}\n nombre\\\\\n <chr>\\\\\n\\hline\n\t Ian McIntosh    \\\\\n\t Christian Rutter\\\\\n\t Mark Boyle      \\\\\n\\end{tabular}\n",
            "text/plain": [
              "  nombre          \n",
              "1 Ian McIntosh    \n",
              "2 Christian Rutter\n",
              "3 Mark Boyle      "
            ]
          },
          "metadata": {}
        }
      ]
    }
  ]
}