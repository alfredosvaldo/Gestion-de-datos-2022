{
  "nbformat": 4,
  "nbformat_minor": 0,
  "metadata": {
    "colab": {
      "name": "Capitulo 2 .- Operaciones en bases de datos.ipynb",
      "provenance": [],
      "authorship_tag": "ABX9TyND+qwcjJje1yaQl7V8q+hU",
      "include_colab_link": true
    },
    "kernelspec": {
      "name": "ir",
      "display_name": "R"
    },
    "language_info": {
      "name": "R"
    }
  },
  "cells": [
    {
      "cell_type": "markdown",
      "metadata": {
        "id": "view-in-github",
        "colab_type": "text"
      },
      "source": [
        "<a href=\"https://colab.research.google.com/github/maxigaarp/Gestion-de-datos-2022/blob/main/Capitulo_2_Operaciones_en_bases_de_datos.ipynb\" target=\"_parent\"><img src=\"https://colab.research.google.com/assets/colab-badge.svg\" alt=\"Open In Colab\"/></a>"
      ]
    },
    {
      "cell_type": "code",
      "source": [
        "library(tidyverse)"
      ],
      "metadata": {
        "id": "CwI1zysAhur9"
      },
      "execution_count": null,
      "outputs": []
    },
    {
      "cell_type": "code",
      "source": [
        "library(dplyr)"
      ],
      "metadata": {
        "id": "IvBvG8B60r5J"
      },
      "execution_count": null,
      "outputs": []
    },
    {
      "cell_type": "markdown",
      "source": [
        "Leemos la base de datos de IMDB (https://www.imdb.com/interfaces/). Usemos la función download.file:\n",
        " - download.file(URL, direccion_descarga)"
      ],
      "metadata": {
        "id": "uQpxPz8lgmcS"
      }
    },
    {
      "cell_type": "code",
      "source": [
        "download.file(\"https://datasets.imdbws.com/title.basics.tsv.gz\", \"title.basics.tsv.gz\")"
      ],
      "metadata": {
        "id": "HPV0Yer-gmNG"
      },
      "execution_count": null,
      "outputs": []
    },
    {
      "cell_type": "markdown",
      "source": [
        "Notemos que es un archivo \".tsv.gz\". "
      ],
      "metadata": {
        "id": "cIExJkd5haH8"
      }
    },
    {
      "cell_type": "code",
      "execution_count": null,
      "metadata": {
        "id": "a4rOuaD2gq7n"
      },
      "outputs": [],
      "source": [
        "peliculas <- as.data.frame(read_tsv(gzfile(\"title.basics.tsv.gz\")))"
      ]
    },
    {
      "cell_type": "code",
      "source": [
        "head(peliculas)"
      ],
      "metadata": {
        "id": "HYLa5LYbiD2Q"
      },
      "execution_count": null,
      "outputs": []
    },
    {
      "cell_type": "markdown",
      "source": [
        "#Proyección"
      ],
      "metadata": {
        "id": "CY8lENz3X-2v"
      }
    },
    {
      "cell_type": "markdown",
      "source": [
        "Objetivo1 armar la base de datos descrita en las diapositivas:"
      ],
      "metadata": {
        "id": "GO76zgz_YG2p"
      }
    },
    {
      "cell_type": "code",
      "source": [
        "nombres <- c(\"tconst\",\"primaryTitle\",\"startYear\",\"genres\")"
      ],
      "metadata": {
        "id": "viWVwDaMh16y"
      },
      "execution_count": null,
      "outputs": []
    },
    {
      "cell_type": "code",
      "source": [
        "select(peliculas, nombres)"
      ],
      "metadata": {
        "id": "JXzA-KLXiDyy"
      },
      "execution_count": null,
      "outputs": []
    },
    {
      "cell_type": "markdown",
      "source": [
        "#Filtros"
      ],
      "metadata": {
        "id": "YYn4ASHrZwiX"
      }
    },
    {
      "cell_type": "markdown",
      "source": [
        "Necesitamos filtrar los datos que no deberian estar dentro de la base de datos de peliculas\n",
        "\n",
        "Importante conocer los datos dentro de las DB"
      ],
      "metadata": {
        "id": "LKapOt7daRrr"
      }
    },
    {
      "cell_type": "code",
      "source": [
        "unique(peliculas[[\"titleType\"]])\n",
        "\n",
        "#que tal distinct?"
      ],
      "metadata": {
        "id": "IDkk0nyCa7HO"
      },
      "execution_count": null,
      "outputs": []
    },
    {
      "cell_type": "code",
      "source": [
        "filter(peliculas,titleType==\"movie\")"
      ],
      "metadata": {
        "id": "ZBzuFtgSiDvW"
      },
      "execution_count": null,
      "outputs": []
    },
    {
      "cell_type": "code",
      "source": [
        "filter(peliculas,titleType==\"tvMovie\")"
      ],
      "metadata": {
        "id": "sg0b6mSDiDrr"
      },
      "execution_count": null,
      "outputs": []
    },
    {
      "cell_type": "markdown",
      "source": [
        "Otra opcion es condiciones mediante vectores booleanos, lo bueno es que se pueden usar filtros en los nombres de las columnas tambien (como una proyección)"
      ],
      "metadata": {
        "id": "Sq7lB9rlkDC8"
      }
    },
    {
      "cell_type": "code",
      "source": [
        "peliculas[peliculas[\"titleType\"]==\"movie\",]"
      ],
      "metadata": {
        "id": "9JgdGWaDgZgz"
      },
      "execution_count": null,
      "outputs": []
    },
    {
      "cell_type": "code",
      "source": [
        "peliculas[peliculas[\"titleType\"]==\"movie\",nombres]"
      ],
      "metadata": {
        "id": "DSeh40y-kCps"
      },
      "execution_count": null,
      "outputs": []
    },
    {
      "cell_type": "markdown",
      "source": [
        "Finalmente"
      ],
      "metadata": {
        "id": "Mgk2NeDNkjjE"
      }
    },
    {
      "cell_type": "code",
      "source": [
        "filter(peliculas,(titleType==\"movie\")| (titleType==\"tvMovie\"))"
      ],
      "metadata": {
        "id": "f8Go2qYpiDoV"
      },
      "execution_count": null,
      "outputs": []
    },
    {
      "cell_type": "markdown",
      "source": [
        "#Union\n",
        "\n",
        "Otra manera de hacer esto seria unir las dos consultas filtradas."
      ],
      "metadata": {
        "id": "o8LNQ_usdjKC"
      }
    },
    {
      "cell_type": "code",
      "source": [
        "union(filter(peliculas,titleType==\"movie\"), filter(peliculas,titleType==\"tvMovie\"))"
      ],
      "metadata": {
        "id": "n-yXgCqEiDWV"
      },
      "execution_count": null,
      "outputs": []
    },
    {
      "cell_type": "markdown",
      "source": [
        "Tambien existe la funcion cbind en R que nos permite unir las bases de datos por las columnas, es decir, agregar atributos."
      ],
      "metadata": {
        "id": "kAEepD4Leepm"
      }
    },
    {
      "cell_type": "markdown",
      "source": [
        "## Agregar operaciones"
      ],
      "metadata": {
        "id": "u3uIP-NIf8Qe"
      }
    },
    {
      "cell_type": "markdown",
      "source": [
        "Como agrupar lo que llevamos hasta el momento?\n",
        "Recordar operador %>%"
      ],
      "metadata": {
        "id": "ULgz5Z1rb0dp"
      }
    },
    {
      "cell_type": "code",
      "source": [
        "peliculas %>% select(c(\"tconst\",\"primaryTitle\",\"startYear\",\"genres\")) %>%\n",
        "              filter((titleType==\"movie\")| (titleType==\"tvMovie\"))"
      ],
      "metadata": {
        "id": "J5UQYZ1hiDkk"
      },
      "execution_count": null,
      "outputs": []
    },
    {
      "cell_type": "code",
      "source": [
        "peliculas %>% select(c(\"tconst\",\"primaryTitle\",\"startYear\",\"genres\", \"titleType\")) %>%\n",
        "              filter((titleType==\"movie\")| (titleType==\"tvMovie\"))"
      ],
      "metadata": {
        "id": "NFxllByFiDhF"
      },
      "execution_count": null,
      "outputs": []
    },
    {
      "cell_type": "markdown",
      "source": [
        "Ahora deberiamos eliminar la columna titleType, podriamos seleccionar todas las columnas que nos interesan, sin embargo existe una forma mas facil en R"
      ],
      "metadata": {
        "id": "xeJwvc1ycoPx"
      }
    },
    {
      "cell_type": "code",
      "source": [
        "peliculas2 <- peliculas %>% \n",
        "              select(c(\"tconst\",\"primaryTitle\",\"startYear\",\"genres\", \"titleType\")) %>%\n",
        "              filter((titleType==\"movie\")| (titleType==\"tvMovie\")) %>%\n",
        "              select(-c( \"titleType\"))"
      ],
      "metadata": {
        "id": "JoHds--7cnGQ"
      },
      "execution_count": null,
      "outputs": []
    },
    {
      "cell_type": "code",
      "source": [
        "peliculas2"
      ],
      "metadata": {
        "id": "TDRhm-RLIhrg"
      },
      "execution_count": null,
      "outputs": []
    },
    {
      "cell_type": "markdown",
      "source": [
        "#Renombrar"
      ],
      "metadata": {
        "id": "E7gm85zDfcEb"
      }
    },
    {
      "cell_type": "code",
      "source": [
        ""
      ],
      "metadata": {
        "id": "QmAaoA3fqp9-"
      },
      "execution_count": null,
      "outputs": []
    },
    {
      "cell_type": "code",
      "source": [
        "names(peliculas2)"
      ],
      "metadata": {
        "id": "jeO7wzO4gOBk"
      },
      "execution_count": null,
      "outputs": []
    },
    {
      "cell_type": "code",
      "source": [
        "peliculas2 <- rename(peliculas2,c('ID'='tconst', 'Nombre'='primaryTitle'))\n"
      ],
      "metadata": {
        "id": "Pm4mX6Ygd2Kq"
      },
      "execution_count": null,
      "outputs": []
    },
    {
      "cell_type": "code",
      "source": [
        "names(peliculas2) <- c(\"ID\", \"Nombre\", \"Agno\", \"Categoria\")"
      ],
      "metadata": {
        "id": "0-BEQn8XgSYa"
      },
      "execution_count": null,
      "outputs": []
    },
    {
      "cell_type": "code",
      "source": [
        "head(peliculas2)"
      ],
      "metadata": {
        "id": "rbRfQs2nd2E4"
      },
      "execution_count": null,
      "outputs": []
    },
    {
      "cell_type": "markdown",
      "source": [
        "#Producto Cruz\n",
        "\n",
        "Necesitamos unir la base de datos de peliculas con los ratings de ellas. Por esto tenemos que leer la base ratings"
      ],
      "metadata": {
        "id": "vF9gIAfgrm-t"
      }
    },
    {
      "cell_type": "code",
      "source": [
        "download.file(\"https://datasets.imdbws.com/title.ratings.tsv.gz\", \"ratings.tsv.gz\")"
      ],
      "metadata": {
        "id": "2gkdK-k_sAsM"
      },
      "execution_count": null,
      "outputs": []
    },
    {
      "cell_type": "code",
      "execution_count": null,
      "metadata": {
        "id": "hNUoQzQosAsP"
      },
      "outputs": [],
      "source": [
        "ratings <- as.data.frame(read_tsv(gzfile(\"ratings.tsv.gz\")))"
      ]
    },
    {
      "cell_type": "code",
      "source": [
        "ratings"
      ],
      "metadata": {
        "id": "TPtXK3X_I0KT"
      },
      "execution_count": null,
      "outputs": []
    },
    {
      "cell_type": "code",
      "source": [
        "peliculas2[1:1000,]"
      ],
      "metadata": {
        "id": "ybzw4Izi9FKJ"
      },
      "execution_count": null,
      "outputs": []
    },
    {
      "cell_type": "markdown",
      "source": [
        "Usamos la funcion crossing podemos obtener el producto cruz de las bases de datos, si luego filtramos podemos obtener el comando join."
      ],
      "metadata": {
        "id": "61OJNLLC_UNn"
      }
    },
    {
      "cell_type": "code",
      "source": [
        "crossing(peliculas2[1:1000,], ratings[1:1000,]) %>% filter(ID==tconst)"
      ],
      "metadata": {
        "id": "XfBnhGHVd1-V"
      },
      "execution_count": null,
      "outputs": []
    },
    {
      "cell_type": "markdown",
      "source": [
        "#Joins\n",
        "\n",
        "Existen 4 tipos de join\n",
        " - Inner/natural join\n",
        " - Outer/full join\n",
        " - Left join\n",
        " - Right join\n",
        "\n",
        "![image.png](data:image/png;base64,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)"
      ],
      "metadata": {
        "id": "PY0wUA4Y_C_I"
      }
    },
    {
      "cell_type": "code",
      "source": [
        "peliculas2<-inner_join(peliculas2, ratings, c(\"ID\"=\"tconst\"))"
      ],
      "metadata": {
        "id": "Nj20fUCsd1yR"
      },
      "execution_count": null,
      "outputs": []
    },
    {
      "cell_type": "code",
      "source": [
        "full_join(peliculas2, ratings, c(\"ID\"=\"tconst\"))"
      ],
      "metadata": {
        "id": "CxjN4naqd1t4"
      },
      "execution_count": null,
      "outputs": []
    },
    {
      "cell_type": "code",
      "source": [
        "left_join(peliculas2, ratings, c(\"ID\"=\"tconst\"))"
      ],
      "metadata": {
        "id": "UNTrWxuPd1pi"
      },
      "execution_count": null,
      "outputs": []
    },
    {
      "cell_type": "code",
      "source": [
        "right_join(peliculas2, ratings, c(\"ID\"=\"tconst\"))"
      ],
      "metadata": {
        "id": "oLWAIi3AEcdQ"
      },
      "execution_count": null,
      "outputs": []
    },
    {
      "cell_type": "markdown",
      "source": [
        "¿Por que el join por la derecha tiene muchas mas filas que el de la izquierda?"
      ],
      "metadata": {
        "id": "qK95NMrTFBja"
      }
    },
    {
      "cell_type": "markdown",
      "source": [
        "Finalmente hacemos los ajustes necesarios para la columna"
      ],
      "metadata": {
        "id": "3deIv9v8VJOT"
      }
    },
    {
      "cell_type": "code",
      "source": [
        "peliculas2<-inner_join(peliculas2, ratings, c(\"ID\"=\"tconst\"))"
      ],
      "metadata": {
        "id": "COxu5u84VItl"
      },
      "execution_count": null,
      "outputs": []
    },
    {
      "cell_type": "code",
      "source": [
        "peliculas2"
      ],
      "metadata": {
        "id": "_dQZ7CkvVbFN"
      },
      "execution_count": null,
      "outputs": []
    },
    {
      "cell_type": "code",
      "source": [
        "peliculas2 <- peliculas2 %>% select(-c(\"numVotes\")) %>% rename(c(\"Calificacion\"=\"averageRating\"))"
      ],
      "metadata": {
        "id": "nkjOmrhWVWgA"
      },
      "execution_count": null,
      "outputs": []
    },
    {
      "cell_type": "markdown",
      "source": [
        "#Interseccion y Diferencia\n",
        "\n",
        "Supongamos que queremos una lista de peliculas que sean de comedia y romanticas, esto seria una interseccion.\n",
        "\n",
        "Si queremos la lista de peliculas que sean de comedia pero no de romance, seria diferencia.\n",
        "\n",
        "Para hacer esto necesitamos modificar nuestras bases de datos"
      ],
      "metadata": {
        "id": "6FVgmbNuJLJy"
      }
    },
    {
      "cell_type": "markdown",
      "source": [
        "Necesitamos poder leer las categorias del film, lo cual no es posible tal como esta. Recordemos:\n",
        " - separate: permite separar una columna en varias según un caracter separador, ejemplo:\n",
        "  - \"hola; como; estan\"-> \"hola\", \" como\", \" estan\"  \n",
        " - pivot_longer: convierte columnas de una fila a una sola columna distribuida en multiples filas\n",
        "\n",
        "¿Como podemos obtener todas las peliculas de comedia? ¿y las de comedia romantica?\n"
      ],
      "metadata": {
        "id": "CMrXIPenJlTW"
      }
    },
    {
      "cell_type": "markdown",
      "source": [
        "Necesario: \n",
        " - semi_join(x, y) mantiene todas las observaciones en x con coincidencias en y.\n",
        " - anti_join(x, y) descarta todas las observaciones en x con coincidencias en y."
      ],
      "metadata": {
        "id": "OCkkzh59gWM4"
      }
    },
    {
      "cell_type": "code",
      "source": [
        "peliculas2$Categoria[peliculas2$Categoria==\"\\\\N\"] <- NA "
      ],
      "metadata": {
        "id": "rwPg2Ot81hBg"
      },
      "execution_count": null,
      "outputs": []
    },
    {
      "cell_type": "code",
      "source": [
        "peliculas2[1:100,] %>% \n",
        "select(c(\"ID\", \"Categoria\"))"
      ],
      "metadata": {
        "id": "0IvatUOtzb6f"
      },
      "execution_count": null,
      "outputs": []
    },
    {
      "cell_type": "code",
      "source": [
        "peliculas2[1:100,] %>% \n",
        "select(c(\"ID\", \"Categoria\"))%>%\n",
        "separate(\"Categoria\",c(\"C1\",\"C2\",\"C3\"),  sep=\",\")"
      ],
      "metadata": {
        "id": "N9AtQtfGuxKY"
      },
      "execution_count": null,
      "outputs": []
    },
    {
      "cell_type": "code",
      "source": [
        "peliculas2[1:100,] %>% \n",
        "select(c(\"ID\", \"Categoria\"))%>%\n",
        "separate(\"Categoria\",c(\"C1\",\"C2\",\"C3\"),  sep=\",\")%>%\n",
        "pivot_longer(C1:C3,values_to = \"Categoria\") \n"
      ],
      "metadata": {
        "id": "NK4T-kxggmxT"
      },
      "execution_count": null,
      "outputs": []
    },
    {
      "cell_type": "code",
      "source": [
        "peliculas2[1:100,] %>% \n",
        "select(c(\"ID\", \"Categoria\"))%>%\n",
        "separate(\"Categoria\",c(\"C1\",\"C2\",\"C3\"),  sep=\",\")%>%\n",
        "pivot_longer(C1:C3,values_to = \"Categoria\")%>%\n",
        "drop_na(\"Categoria\")"
      ],
      "metadata": {
        "id": "CcrnisyOJ6an"
      },
      "execution_count": null,
      "outputs": []
    },
    {
      "cell_type": "code",
      "source": [
        "ID_romance <- peliculas2[1:100,] %>% \n",
        "              select(c(\"ID\", \"Categoria\"))%>%\n",
        "              separate(\"Categoria\",c(\"C1\",\"C2\",\"C3\"),  sep=\",\")%>%\n",
        "              pivot_longer(C1:C3,values_to = \"Categoria\")%>%\n",
        "              drop_na(\"Categoria\")\n",
        "              filter(Categoria==\"Romance\") %>%\n",
        "              select(c(\"ID\"))\n"
      ],
      "metadata": {
        "id": "5a1n5kwALrRN"
      },
      "execution_count": null,
      "outputs": []
    },
    {
      "cell_type": "markdown",
      "source": [
        "# Interseccion"
      ],
      "metadata": {
        "id": "YOeahkBNgfz9"
      }
    },
    {
      "cell_type": "code",
      "source": [
        "peliculas2 %>% semi_join(ID_comedy, by=\"ID\")%>%\n",
        "               semi_join(ID_romance, by=\"ID\")"
      ],
      "metadata": {
        "id": "mSRlmrzEJKks"
      },
      "execution_count": null,
      "outputs": []
    },
    {
      "cell_type": "code",
      "source": [
        "peliculas2 %>% semi_join(ID_comedy, by=\"ID\")%>%\n",
        "               anti_join(ID_romance, by=\"ID\")"
      ],
      "metadata": {
        "id": "qp0hHlpShcRM"
      },
      "execution_count": null,
      "outputs": []
    },
    {
      "cell_type": "markdown",
      "source": [
        "#Adicional"
      ],
      "metadata": {
        "id": "UNz34rcc4SLy"
      }
    },
    {
      "cell_type": "markdown",
      "source": [
        "Nos gustaria descargar todos los links, además leer las bases de datos y asignarles un nombre. \n",
        "\n",
        "Un primer nombre puede ser el nombre del archivo en cuestion."
      ],
      "metadata": {
        "id": "07LtCxAT6Z_W"
      }
    },
    {
      "cell_type": "code",
      "source": [
        "library(xml2)\n",
        "library(rvest)\n",
        "\n",
        "URL <- \"https://datasets.imdbws.com/\"\n",
        "\n",
        "pg <- read_html(URL)\n",
        "\n",
        "links <- html_attr(html_nodes(pg, \"a\"), \"href\")\n",
        "\n",
        "##Con esto extraemos todos los links de la pagina dicha\n",
        "\n",
        "links<-as.data.frame(links[2:length(links)])\n",
        "colnames(links)<-c(\"links\")\n",
        "\n",
        "names <- separate(links, \"links\",c(\"http\",\"x\",\"datasets\", \"name\"),  sep=\"/\")[[\"name\"]]\n",
        "\n",
        "dbs=list()\n",
        "for(i in 1:length(names)){\n",
        "  download.file(links[[\"links\"]][i], names[i])\n",
        "  dbs[[gsub(\".tsv.gz\", \"\",names[i])]]<-as.data.frame(read_tsv(gzfile(names[i])))\n",
        "}"
      ],
      "metadata": {
        "id": "lJjbgC2C2l3n"
      },
      "execution_count": null,
      "outputs": []
    },
    {
      "cell_type": "code",
      "source": [
        ""
      ],
      "metadata": {
        "id": "g7tvuZ1j4Lq-"
      },
      "execution_count": null,
      "outputs": []
    },
    {
      "cell_type": "code",
      "source": [
        "#eliminamos tsv.gz para volverlo un nombre\n",
        "gsub(\".tsv.gz\", \"\", \"name.basics.tsv.gz\")"
      ],
      "metadata": {
        "id": "SJ3GJ9Nm5UPM"
      },
      "execution_count": null,
      "outputs": []
    },
    {
      "cell_type": "code",
      "source": [
        ""
      ],
      "metadata": {
        "id": "DLS8ewE4g8De"
      },
      "execution_count": null,
      "outputs": []
    },
    {
      "cell_type": "code",
      "source": [
        "nombres<-as.data.frame(read_tsv(gzfile(\"name.basics.tsv.gz\")))"
      ],
      "metadata": {
        "id": "wdKRIbs5-yKj"
      },
      "execution_count": null,
      "outputs": []
    },
    {
      "cell_type": "code",
      "source": [
        "titulos<-as.data.frame(read_tsv(gzfile(\"title.basics.tsv.gz\")))"
      ],
      "metadata": {
        "id": "XYYluV4c-eF0"
      },
      "execution_count": null,
      "outputs": []
    },
    {
      "cell_type": "code",
      "source": [
        "titulos3<-as.data.frame(read_tsv(gzfile(\"title.principals.tsv.gz\")))"
      ],
      "metadata": {
        "id": "YvEaeTFvHFC8"
      },
      "execution_count": null,
      "outputs": []
    },
    {
      "cell_type": "code",
      "source": [
        "titulos3"
      ],
      "metadata": {
        "id": "IaZj4FZKKZq3"
      },
      "execution_count": null,
      "outputs": []
    },
    {
      "cell_type": "code",
      "source": [
        "read_tsv(gzfile(\"name.basics.tsv.gz\"))"
      ],
      "metadata": {
        "id": "ndodYxWRjTkK"
      },
      "execution_count": null,
      "outputs": []
    },
    {
      "cell_type": "code",
      "source": [
        "read_t"
      ],
      "metadata": {
        "id": "ps9_lDq0jVaB"
      },
      "execution_count": null,
      "outputs": []
    }
  ]
}